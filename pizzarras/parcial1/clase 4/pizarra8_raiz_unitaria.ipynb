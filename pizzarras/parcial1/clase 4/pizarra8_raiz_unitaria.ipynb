{
 "cells": [
  {
   "cell_type": "markdown",
   "id": "9f8a254f",
   "metadata": {},
   "source": [
    "# ***Procesos de raíz unitaria***"
   ]
  },
  {
   "cell_type": "markdown",
   "id": "93e382b9",
   "metadata": {},
   "source": [
    "### Considere el siguiente proceso:\n",
    "\n",
    "$$\n",
    "Y_t = \\rho Y_{t-1} + \\mu_t \\quad ; \\quad \\mu_t \\sim \\text{wn}(0, \\sigma_\\mu^2)\n",
    "$$\n",
    "\n",
    "---\n",
    "\n",
    "Si $\\rho = 1$, entonces:\n",
    "\n",
    "$$\n",
    "Y_t - Y_{t-1} = \\mu_t \\\\\n",
    "(1 - B) Y_t = \\mu_t\n",
    "$$\n",
    "\n",
    "---\n",
    "\n",
    "El polinomio característico de $(1 - B)$ será:\n",
    "\n",
    "$$\n",
    "1 - x = 0 \\quad\\\\ \\\\ \\text{cuya raíz será }\\\\ x = 1\n",
    "$$\n",
    "\n",
    "---\n",
    "\n",
    "Si $|\\rho| < 1$, entonces el proceso es **estacionario**.\n",
    "\n",
    "En este caso (cuando $\\rho = 1$), decimos que el proceso es de **raíz unitaria**  \n",
    "y **no cumple** con la condición de estacionariedad.\n"
   ]
  }
 ],
 "metadata": {
  "language_info": {
   "name": "python"
  }
 },
 "nbformat": 4,
 "nbformat_minor": 5
}
