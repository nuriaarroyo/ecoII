{
 "cells": [
  {
   "cell_type": "markdown",
   "id": "69b0570c",
   "metadata": {},
   "source": [
    "# ***Proceso media móvil de orden 1 (MA(1))***\n",
    "\n",
    "Considere un proceso MA(1):\n",
    "\n",
    "$$\n",
    "\\tilde{X}_t = (1 - \\Theta B)\\Z_t \\quad ; \\quad \\{\\Z_t\\} \\sim \\text{WN}(0, \\sigma^2)\n",
    "$$\n",
    "\n",
    "$$\n",
    "\\tilde{X}_t = X_t - \\mu\n",
    "$$\n",
    "\n",
    "Sin pérdida de generalidad, suponga que $\\mu = 0$:\n",
    "\n",
    "$$\n",
    "X_t = (1 - \\Theta B)\\Z_t\n",
    "$$\n",
    "\n",
    "$$\n",
    "X_t = \\Z_t - \\Theta \\Z_{t-1}\n",
    "$$\n",
    "---\n",
    "**Recuerde**:\n",
    "\n",
    "$$\n",
    "\\mathrm{Var}(X) = \\mathrm{Var}(-X)\n",
    "$$\n"
   ]
  },
  {
   "cell_type": "markdown",
   "id": "3e899140",
   "metadata": {},
   "source": [
    "i) \n",
    "$$\n",
    "\\mu_X(t) = \\mathbb{E}(X_t) = \\mathbb{E}(\\Z_t - \\Theta \\Z_{t-1}) = 0\n",
    "$$\n",
    "\n",
    "ii) \n",
    "$$\n",
    "\\mathrm{Var}(X_t) = \\mathrm{Var}(\\Z_t - \\Theta \\Z_{t-1}) = \\mathrm{Var}(\\Z_t) + \\Theta^2 \\, \\mathrm{Var}(\\Z_{t-1})\n",
    "$$\n",
    "$$\n",
    "= \\sigma_{\\Z}^2 + \\Theta^2 \\sigma_{\\Z}^2 = (1 + \\Theta^2)\\sigma_{\\Z}^2\n",
    "$$\n",
    "iii) \n",
    "$$\n",
    "\\gamma_X(t+h, t) = \\mathrm{Cov}(X_{t+h}, X_t)\n",
    "$$\n",
    "---"
   ]
  },
  {
   "cell_type": "markdown",
   "id": "a2932d32",
   "metadata": {},
   "source": [
    "### Calculemos la función de autocovarianza del proceso MA(1)."
   ]
  },
  {
   "cell_type": "markdown",
   "id": "2ba94a10",
   "metadata": {},
   "source": [
    "**Caso 1: $h = 1$ o $h = -1$**\n",
    "\n",
    "$$\n",
    "\\gamma_X(t+1, t) = \\mathrm{Cov}(X_{t+1}, X_t) = \\mathrm{Cov}(Z_{t+1} - \\Theta Z_t,\\; Z_t - \\Theta Z_{t-1})\n",
    "$$\n",
    "\n",
    "$$\n",
    "= \\mathrm{Cov}(Z_{t+1}, Z_t - \\Theta Z_{t-1}) - \\Theta\\, \\mathrm{Cov}(Z_t, Z_t - \\Theta Z_{t-1})\n",
    "$$\n",
    "\n",
    "$$\n",
    "= \\mathrm{Cov}(Z_{t+1}, Z_t) - \\Theta\\, \\mathrm{Cov}(Z_{t+1}, Z_{t-1}) - \\Theta \\left[ \\mathrm{Cov}(Z_t, Z_t) - \\Theta\\, \\mathrm{Cov}(Z_t, Z_{t-1}) \\right]\n",
    "$$\n",
    "\n",
    "Como las variables de ruido blanco son no correlacionadas salvo cuando los tiempos coinciden:\n",
    "\n",
    "- $\\mathrm{Cov}(Z_{t+1}, Z_t) = 0$\n",
    "- $\\mathrm{Cov}(Z_{t+1}, Z_{t-1}) = 0$\n",
    "- $\\mathrm{Cov}(Z_t, Z_t) = \\mathrm{Var}(Z_t) = \\sigma_{Z}^2$\n",
    "- $\\mathrm{Cov}(Z_t, Z_{t-1}) = 0$\n",
    "\n",
    "Entonces:\n",
    "\n",
    "$$\n",
    "\\gamma_X(t+1, t) = -\\Theta \\sigma_{Z}^2\n",
    "$$\n"
   ]
  },
  {
   "cell_type": "markdown",
   "id": "883107bc",
   "metadata": {},
   "source": [
    "**Caso 2: $|h| > 1$**\n",
    "\n",
    "\n",
    "\n",
    "$$\n",
    "\\gamma_X(t+h, t) = \\mathrm{Cov}(X_{t+h}, X_t)\n",
    "$$\n",
    "\n",
    "Las variables de ruido blanco $\\{Z_t\\}$ son no correlacionadas salvo cuando los tiempos coinciden, por lo tanto, todos los términos de covarianza serán cero:\n",
    "\n",
    "$$\n",
    "\\gamma_X(t+h, t) = 0 \\quad \\text{para} \\quad |h| > 1\n",
    "$$"
   ]
  },
  {
   "cell_type": "markdown",
   "id": "b6b54381",
   "metadata": {},
   "source": [
    "Por lo tanto,\n",
    "\n",
    "$$\n",
    "\\gamma_X(t+h, t) =\n",
    "\\begin{cases}\n",
    "(1 + \\Theta^2)\\, \\sigma_{\\Z}^2 & \\text{si } h = 0 \\\\\n",
    "-\\Theta\\, \\sigma_{\\Z}^2 & \\text{si } h = 1 \\text{ o } h = -1 \\\\\n",
    "0 & \\text{si } |h| > 1\n",
    "\\end{cases}\n",
    "$$\n",
    "\n",
    "Por lo tanto, $\\{\\tilde{X}_t\\}$ —el proceso MA(1)— es estacionario.\n",
    "\n",
    "---\n"
   ]
  },
  {
   "cell_type": "markdown",
   "id": "710bab46",
   "metadata": {},
   "source": [
    "### Calculemos la función de autocorrelación del proceso MA(1)."
   ]
  },
  {
   "cell_type": "markdown",
   "id": "a798a6e5",
   "metadata": {},
   "source": [
    "*Definición*\n",
    "\n",
    "*La función de autocorrelación (ACF) de $\\{X_t\\}$ en el desplazamiento $h$ es:*\n",
    "\n",
    "$$\n",
    "\\rho_X(h) \\equiv \\frac{\\gamma_X(h)}{\\gamma_X(0)} = \\mathrm{Cor}(X_{t+h}, X_t)\n",
    "\\tag{9}\n",
    "$$\n"
   ]
  },
  {
   "cell_type": "markdown",
   "id": "12ba570b",
   "metadata": {},
   "source": [
    "Para el proceso MA(1), ya sabemos que:\n",
    "\n",
    "- $\\gamma_X(0) = (1 + \\Theta^2)\\sigma_Z^2$\n",
    "- $\\gamma_X(1) = \\gamma_X(-1) = -\\Theta \\sigma_Z^2$\n",
    "- $\\gamma_X(h) = 0$ si $|h| > 1$\n",
    "\n",
    "Entonces:\n",
    "\n",
    "\n",
    "$$\n",
    "\\rho_X(h) =\n",
    "\\begin{cases}\n",
    "1 & \\text{si } h = 0 \\\\\n",
    "\\frac{-\\theta \\sigma_Z^2}{(1 + \\theta^2)\\sigma_Z^2} = \\frac{-\\theta}{1 + \\theta^2} & \\text{si } |h| = 1 \\\\\n",
    "0 & \\text{si } |h| > 1\n",
    "\\end{cases}\n",
    "$$\n",
    "\n",
    "\n",
    "$$\n",
    "\\rho_X(h) = \n",
    "\\begin{cases}\n",
    "1 & \\text{si } h = 0 \\\\\n",
    "\\frac{-\\Theta}{1 + \\Theta^2} & \\text{si } |h| = 1 \\\\\n",
    "0 & \\text{si } |h| > 1\n",
    "\\end{cases}\n",
    "$$"
   ]
  },
  {
   "cell_type": "markdown",
   "id": "c69cf98d",
   "metadata": {},
   "source": [
    "## Ejemplo numérico (MA(1))\n",
    "\n",
    "Sea el proceso:\n",
    "$$\n",
    "X_t = Z_t - \\theta Z_{t-1}, \\quad Z_t \\sim WN(0,\\sigma_Z^2)\n",
    "$$\n",
    "\n",
    "Tomemos valores concretos: $theta = -0.4$.\n",
    "\n",
    "$$\n",
    "X_t = Z_t +0.4 Z_{t-1}\n",
    "$$\n"
   ]
  },
  {
   "cell_type": "markdown",
   "id": "209fb083",
   "metadata": {},
   "source": [
    "\n",
    "\n",
    "**Autocorrelaciones:**\n",
    "$$\n",
    "\\rho_X(0)=1,\\qquad \n",
    "$$\n",
    "\n",
    "\n",
    "$$\n",
    "\\rho_X(1)=\\rho_X(-1)=\\frac{-\\theta}{1+\\theta^2}=\\frac{-(-0.4)}{1.16}=\\frac{0.4}{1.16}\\approx 0.34,\n",
    "$$\n",
    "\n",
    "\n",
    "\n",
    "\n",
    "$$\n",
    "\\rho_X(h)=0\\ \\text{si}\\ |h|>1.\n",
    "$$\n",
    "\n",
    "**Interpretación rápida:** la ACF cae a cero después de lag 1 (propiedad típica de MA(1)). El signo de \\(\\rho(1)\\) sigue el signo de \\(-\\theta\\) (si \\(\\theta>0\\), la correlación en 1 es negativa).\n",
    "\n",
    "---\n"
   ]
  },
  {
   "cell_type": "code",
   "execution_count": 1,
   "id": "2747381a",
   "metadata": {},
   "outputs": [
    {
     "name": "stdout",
     "output_type": "stream",
     "text": [
      "ACF empírica (lags 0..5): [ 1.      0.349  -0.0036 -0.009  -0.0023 -0.0035]\n",
      "ACF teórica en lag 1: 0.3448275862068965\n"
     ]
    }
   ],
   "source": [
    "\n",
    "import numpy as np\n",
    "\n",
    "np.random.seed(123)\n",
    "n = 50_000\n",
    "theta = -0.4\n",
    "sigma = 1.0\n",
    "\n",
    "# Generar ruido blanco\n",
    "Z = np.random.normal(0, sigma, size=n+1)\n",
    "\n",
    "# Construir MA(1): X_t = Z_t - theta * Z_{t-1}\n",
    "X = Z[1:] - theta * Z[:-1]\n",
    "\n",
    "# Estimación empírica de autocorrelación\n",
    "def acf(x, max_lag=10):\n",
    "    x = x - x.mean()\n",
    "    gamma0 = np.mean(x*x)\n",
    "    ac = [1.0]\n",
    "    for h in range(1, max_lag+1):\n",
    "        ac.append(np.mean(x[h:] * x[:-h]) / gamma0)\n",
    "    return np.array(ac)\n",
    "\n",
    "ac = acf(X, max_lag=5)\n",
    "\n",
    "print(\"ACF empírica (lags 0..5):\", np.round(ac, 4))\n",
    "print(\"ACF teórica en lag 1:\", -theta/(1+theta**2))"
   ]
  }
 ],
 "metadata": {
  "kernelspec": {
   "display_name": "Python 3",
   "language": "python",
   "name": "python3"
  },
  "language_info": {
   "codemirror_mode": {
    "name": "ipython",
    "version": 3
   },
   "file_extension": ".py",
   "mimetype": "text/x-python",
   "name": "python",
   "nbconvert_exporter": "python",
   "pygments_lexer": "ipython3",
   "version": "3.13.3"
  }
 },
 "nbformat": 4,
 "nbformat_minor": 5
}
