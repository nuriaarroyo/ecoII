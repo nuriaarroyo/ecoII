{
 "cells": [
  {
   "cell_type": "markdown",
   "id": "87b07567",
   "metadata": {},
   "source": [
    "# ***Proceso estacionario: ruido blanco***"
   ]
  },
  {
   "cell_type": "markdown",
   "id": "9a39519d",
   "metadata": {},
   "source": [
    "*Definición*\n",
    "\n",
    "El proceso $\\{X_t\\}$ es *débilmente estacionario* si satisface:\n",
    "\n",
    "1. $\\mu_X(t)$ es independiente de $t$\n",
    "2. $\\gamma_X(t + h, t)$ es independiente de $t$ para cada $h$\n",
    "---\n"
   ]
  },
  {
   "cell_type": "markdown",
   "id": "31412180",
   "metadata": {},
   "source": [
    "**Ejemplo 1: Ruido _iid_**\n",
    "\n",
    "Considere $\\{X_t\\}$ un ruido _iid_ tal que:\n",
    "\n",
    "$$\n",
    "\\mathbb{E}(X_t^2) < \\infty\n",
    "$$\n"
   ]
  },
  {
   "cell_type": "markdown",
   "id": "233896c3",
   "metadata": {},
   "source": [
    "Veamos si el proceso de ruido i.i.d. es estacionario:\n",
    "\n",
    "i) \n",
    "$$\n",
    "\\mu_X(t) = \\mathbb{E}(X_t) = 0,\\quad \\text{para todo } t\n",
    "$$\n",
    "\n",
    "ii) \n",
    "$$\n",
    "\\gamma_X(t+h, t) = \\mathrm{Cov}(X_{t+h}, X_t) = \n",
    "\\begin{cases}\n",
    "\\sigma^2 & \\text{si } h = 0 \\\\\n",
    "0 & \\text{si } h \\ne 0\n",
    "\\end{cases}\n",
    "$$\n",
    "\n",
    "Note que:\n",
    "\n",
    "$$\n",
    "\\mathbb{E}(X_t^2) < \\infty \\quad \\Rightarrow \\quad \\mathrm{Var}(X_t) = \\mathbb{E}(X_t^2) - \\mathbb{E}(X_t)^2 < \\infty\n",
    "$$\n",
    "\n",
    "Como se cumplen las condiciones (i) y (ii), es decir, $\\mu_X(t)$ y $\\gamma_X(t+h, t)$ son independientes de $t$ para cada $h$, **entonces el proceso $\\{X_t\\}$ es estacionario.**\n"
   ]
  }
 ],
 "metadata": {
  "language_info": {
   "name": "python"
  }
 },
 "nbformat": 4,
 "nbformat_minor": 5
}
