{
 "cells": [
  {
   "cell_type": "markdown",
   "id": "68483303",
   "metadata": {},
   "source": [
    "# ***Procesos AR(1) estacionarios***"
   ]
  },
  {
   "cell_type": "markdown",
   "id": "5d9fdf35",
   "metadata": {},
   "source": [
    "Considere un proceso AR(1):\n",
    "\n",
    "$$\n",
    "\\tilde{X}_t - \\phi \\tilde{X}_{t-1} = Z_t \\quad ; \\quad \\{Z_t\\} \\sim \\text{WN}(0, \\sigma_Z^2)\n",
    "$$\n",
    "\n",
    "donde:\n",
    "\n",
    "$$\n",
    "\\tilde{X}_t = X_t - \\mu\n",
    "$$\n",
    "---"
   ]
  },
  {
   "cell_type": "markdown",
   "id": "2113fcd9",
   "metadata": {},
   "source": [
    "Note que...\n",
    "*Proposición*\n",
    "\n",
    "Sea $\\{Y_t\\}$ una serie de tiempo estacionaria con media 0 y función de covarianza $\\gamma_Y$. Si:\n",
    "\n",
    "$$\n",
    "\\sum_{j=-\\infty}^{\\infty} |\\psi_j| < \\infty,\n",
    "$$\n",
    "\n",
    "entonces la serie de tiempo:\n",
    "\n",
    "$$\n",
    "X_t = \\sum_{j=-\\infty}^{\\infty} \\psi_j Y_{t-j} = \\psi(B)Y_t \\tag{2.2.3}\n",
    "$$\n",
    "\n",
    "es estacionaria con media 0 y función de autocovarianza:\n",
    "\n",
    "$$\n",
    "\\gamma_X(h) = \\sum_{j=-\\infty}^{\\infty} \\sum_{k=-\\infty}^{\\infty} \\psi_j \\psi_k \\, \\gamma_Y(h + k - j) \\tag{2.2.4}\n",
    "$$\n",
    "\n",
    "En el caso especial donde $\\{X_t\\}$ es un proceso lineal:\n",
    "\n",
    "$$\n",
    "\\gamma_X(h) = \\sum_{j=-\\infty}^{\\infty} \\psi_j \\psi_{j+h} \\, \\sigma^2 \\tag{2.2.5}\n",
    "$$\n",
    "---"
   ]
  },
  {
   "cell_type": "markdown",
   "id": "1fab436c",
   "metadata": {},
   "source": [
    "Suponga que un proceso AR(1) satisface que $|\\phi| < 1$ y que $\\tilde{X}_t$ no está correlacionado con $\\tilde{X}_s$ para cada $s < t$.\n",
    "\n",
    "Entonces, **probamos que este proceso es estacionario.**\n"
   ]
  },
  {
   "cell_type": "markdown",
   "id": "547efea5",
   "metadata": {},
   "source": [
    "Sin pérdida de generalidad, suponga que $\\mu = 0$, entonces:\n",
    "\n",
    "$$\n",
    "X_t = \\phi X_{t-1} + Z_t\n",
    "$$\n",
    "\n",
    "$$\n",
    "X_t = \\phi(\\phi X_{t-2} + Z_{t-1}) + Z_t \n",
    "$$\n",
    "\n",
    "$$\n",
    "X_t = \\phi^2 X_{t-2} + \\phi Z_{t-1} + Z_t\n",
    "$$\n",
    "\n",
    "$$\n",
    "X_t = \\phi^2(\\phi X_{t-3} + Z_{t-2}) + \\phi Z_{t-1} + Z_t \n",
    "$$\n",
    "\n",
    "$$\n",
    "X_t = \\phi^3 X_{t-3} + \\phi^2 Z_{t-2} + \\phi Z_{t-1} + Z_t\n",
    "$$\n",
    "\n",
    "...\n",
    "\n",
    "En general:\n",
    "\n",
    "$$\n",
    "X_t = \\phi^k X_{t-k} + \\sum_{j=0}^{k-1} \\phi^j Z_{t-j}\n",
    "$$\n",
    "\n",
    "Como $|\\phi| < 1$, al tomar $k \\to \\infty$, entonces:\n",
    "\n",
    "$$\n",
    "X_t = \\sum_{j=0}^{\\infty} \\phi^j Z_{t-j}\n",
    "$$\n",
    "\n",
    "Es decir, $X_t$ se puede expresar como un proceso lineal en términos de los errores pasados, lo que implica:\n",
    "\n",
    "$$\n",
    "X_t = \\phi(B)Z_t\n",
    "$$\n",
    ".\n"
   ]
  },
  {
   "cell_type": "markdown",
   "id": "822a3266",
   "metadata": {},
   "source": [
    "Por la *Proposición* podemos concluir que el proceso\n",
    "$$\n",
    "X_t=\\phi X_{t-1}+Z_t,\\qquad |\\phi|<1,\\ \\ \\{Z_t\\}\\sim \\text{WN}(0,\\sigma_Z^2)\n",
    "$$\n",
    "es **estacionario**, con media cero y **función de autocovarianza** dada por\n",
    "\n",
    "$$\n",
    "\\gamma_X(h) = \\sum_{j=-\\infty}^{\\infty} \\sum_{k=-\\infty}^{\\infty} \\psi_j \\psi_k \\, \\gamma_Y(h + k - j)\n",
    "$$\n",
    "\n",
    "**Y en el caso especial donde $\\{X_t\\}$ es un proceso lineal**:\n",
    "\n",
    "$$\n",
    "\\gamma_X(h) = \\sum_{j=-\\infty}^{\\infty} \\psi_j \\psi_{j+h} \\, \\sigma^2\n",
    "$$\n"
   ]
  },
  {
   "cell_type": "markdown",
   "id": "ef69297c",
   "metadata": {},
   "source": [
    "$$\n",
    "\\gamma_X(h) = \\sum_{j=-\\infty}^{\\infty} \\psi_j \\psi_{j+h} \\sigma_Z^2 = \\sum_{j=0}^{\\infty} \\phi^j \\phi^{j+h} \\sigma_Z^2 = \\sum_{j=0}^{\\infty} \\phi^{2j} \\phi^h \\sigma_Z^2\n",
    "$$\n"
   ]
  },
  {
   "cell_type": "markdown",
   "id": "69b32e11",
   "metadata": {},
   "source": [
    "Como $|\\phi| < 1$ entonces\n",
    "\n",
    "$$\n",
    "\\sum_{j=0}^{\\infty} \\phi^{2j} \\phi^h \\sigma_Z^2 \\quad \\text{converge a} \\quad \\frac{\\phi^h \\sigma_Z^2}{1 - \\phi^2}\n",
    "$$\n",
    "\n",
    "Por lo tanto\n",
    "\n",
    "$$\n",
    "\\gamma_X(h) = \\frac{\\phi^{|h|} \\sigma_Z^2}{1 - \\phi^2} \\quad ; \\quad h \\geq 0\n",
    "$$\n",
    "\n",
    "Calculemos la función de autocorrelación del proceso AR(1)\n",
    "\n",
    "$$\n",
    "\\rho_X(h) = \\frac{\\gamma_X(h)}{\\gamma_X(0)}\n",
    "$$\n"
   ]
  },
  {
   "cell_type": "markdown",
   "id": "c29ee6b5",
   "metadata": {},
   "source": [
    "$$\n",
    "\\gamma_X(0) = \\text{Var}(X_t) = \\text{Var}(\\phi X_{t-1} + Z_t) = \\phi^2 \\text{Var}(X_{t-1}) + \\text{Var}(Z_t)\n",
    "$$\n",
    "\n",
    "$$\n",
    "= \\phi^2 \\text{Var}(X_{t-1}) + \\sigma_Z^2\n",
    "$$\n",
    "\n",
    "$$\n",
    "\\text{Var}(X_t) - \\phi^2 \\text{Var}(X_{t-1}) = \\sigma_Z^2\n",
    "$$\n",
    "\n",
    "$$\n",
    "(1 - \\phi^2) \\, \\text{Var}(X_t) = \\sigma_Z^2\n",
    "$$\n",
    "\n",
    "$$\n",
    "\\text{Var}(X_t) = \\frac{\\sigma_Z^2}{1 - \\phi^2}\n",
    "$$\n"
   ]
  },
  {
   "cell_type": "markdown",
   "id": "1133d8cf",
   "metadata": {},
   "source": [
    "De esta forma, se tiene\n",
    "\n",
    "$$\n",
    "\\rho_X(h) = \\frac{\\phi^{|h|} \\, \\sigma_Z^2}{1 - \\phi^2} - \\frac{\\sigma_Z^2}{1 - \\phi^2} = \\phi^{|h|} \\quad ; \\quad h \\geq 0\n",
    "$$\n"
   ]
  },
  {
   "cell_type": "markdown",
   "id": "4ced669b",
   "metadata": {},
   "source": [
    "## Ejemplo, considere el proceso\n",
    "\n",
    "$$\n",
    "(1 - 0.4B) X_t = Z_t \\quad ; \\quad \\{Z_t\\} \\sim \\text{WN}(0, \\sigma_Z^2)\n",
    "$$\n",
    "\n",
    "$$\n",
    "\\phi = 0.4\n",
    "$$\n",
    "\n",
    "$$\n",
    "\\rho_1 = \\phi \\\\\n",
    "\\rho_2 = \\phi^2 \\\\\n",
    "\\rho_3 = \\phi^3 \\\\\n",
    "\\vdots\n",
    "$$\n"
   ]
  },
  {
   "cell_type": "markdown",
   "id": "c472a96d",
   "metadata": {},
   "source": [
    "\n",
    "---\n",
    "\n",
    "\n",
    "### Gráfico de la FAC teórica del proceso $(1 - 0.4B) X_t = Z_t$\n"
   ]
  },
  {
   "attachments": {
    "image.png": {
     "image/png": "[encoded data removed]"
    }
   },
   "cell_type": "markdown",
   "id": "0ba84556",
   "metadata": {},
   "source": [
    "![image.png](attachment:image.png)"
   ]
  }
 ],
 "metadata": {
  "language_info": {
   "name": "python"
  }
 },
 "nbformat": 4,
 "nbformat_minor": 5
}
