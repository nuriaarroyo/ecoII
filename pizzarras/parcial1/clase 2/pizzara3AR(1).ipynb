{
 "cells": [
  {
   "cell_type": "markdown",
   "id": "68483303",
   "metadata": {},
   "source": [
    "# ***Procesos AR(1) estacionarios***"
   ]
  },
  {
   "cell_type": "markdown",
   "id": "5d9fdf35",
   "metadata": {},
   "source": [
    "**Considere un proceso AR(1):**\n",
    "\n",
    "$$\n",
    "\\tilde{X}_t - \\phi \\tilde{X}_{t-1} = Z_t \\quad ; \\quad \\{Z_t\\} \\sim \\text{WN}(0, \\sigma_Z^2)\n",
    "$$\n",
    "\n",
    "donde:\n",
    "\n",
    "$$\n",
    "\\tilde{X}_t = X_t - \\mu\n",
    "$$\n",
    "---"
   ]
  },
  {
   "cell_type": "markdown",
   "id": "2113fcd9",
   "metadata": {},
   "source": [
    "**Note que**...\n",
    "*Proposición*\n",
    "\n",
    "Sea $\\{Y_t\\}$ una serie de tiempo estacionaria con media 0 y función de covarianza $\\gamma_Y$. Si:\n",
    "\n",
    "$$\n",
    "\\sum_{j=-\\infty}^{\\infty} |\\psi_j| < \\infty,\n",
    "$$\n",
    "\n",
    "entonces la serie de tiempo:\n",
    "\n",
    "$$\n",
    "X_t = \\sum_{j=-\\infty}^{\\infty} \\psi_j Y_{t-j} = \\psi(B)Y_t \\tag{2.2.3}\n",
    "$$\n",
    "\n",
    "es estacionaria con media 0 y función de autocovarianza:\n",
    "\n",
    "$$\n",
    "\\gamma_X(h) = \\sum_{j=-\\infty}^{\\infty} \\sum_{k=-\\infty}^{\\infty} \\psi_j \\psi_k \\, \\gamma_Y(h + k - j) \\tag{2.2.4}\n",
    "$$\n",
    "\n",
    "En el caso especial donde $\\{X_t\\}$ es un proceso lineal:\n",
    "\n",
    "$$\n",
    "\\gamma_X(h) = \\sum_{j=-\\infty}^{\\infty} \\psi_j \\psi_{j+h} \\, \\sigma^2 \\tag{2.2.5}\n",
    "$$\n",
    "---"
   ]
  },
  {
   "cell_type": "markdown",
   "id": "1fab436c",
   "metadata": {},
   "source": [
    "Suponga que un proceso AR(1) satisface que $|\\phi| < 1$ y que $\\tilde{X}_t$ no está correlacionado con $\\tilde{X}_s$ para cada $s < t$.\n",
    "\n",
    "Entonces, **probamos que este proceso es estacionario.**\n"
   ]
  },
  {
   "cell_type": "markdown",
   "id": "547efea5",
   "metadata": {},
   "source": [
    "Sin pérdida de generalidad, suponga que $\\mu = 0$, entonces:\n",
    "\n",
    "$$\n",
    "X_t = \\phi X_{t-1} + Z_t\n",
    "$$\n",
    "\n",
    "$$\n",
    "X_t = \\phi(\\phi X_{t-2} + Z_{t-1}) + Z_t \n",
    "$$\n",
    "\n",
    "$$\n",
    "X_t = \\phi^2 X_{t-2} + \\phi Z_{t-1} + Z_t\n",
    "$$\n",
    "\n",
    "$$\n",
    "X_t = \\phi^2(\\phi X_{t-3} + Z_{t-2}) + \\phi Z_{t-1} + Z_t \n",
    "$$\n",
    "\n",
    "$$\n",
    "X_t = \\phi^3 X_{t-3} + \\phi^2 Z_{t-2} + \\phi Z_{t-1} + Z_t\n",
    "$$\n",
    "\n",
    "...\n",
    "\n",
    "En general:\n",
    "\n",
    "$$\n",
    "X_t = \\phi^k X_{t-k} + \\sum_{j=0}^{k-1} \\phi^j Z_{t-j}\n",
    "$$\n",
    "\n",
    "Como $|\\phi| < 1$, al tomar $k \\to \\infty$, entonces:\n",
    "\n",
    "$$\n",
    "X_t = \\sum_{j=0}^{\\infty} \\phi^j Z_{t-j}\n",
    "$$\n",
    "\n",
    "Es decir, $X_t$ se puede expresar como un proceso lineal en términos de los errores pasados, lo que implica:\n",
    "\n",
    "$$\n",
    "X_t = \\phi(B)Z_t\n",
    "$$\n",
    ".\n"
   ]
  },
  {
   "cell_type": "markdown",
   "id": "822a3266",
   "metadata": {},
   "source": [
    "Por la *Proposición* podemos concluir que el proceso\n",
    "$$\n",
    "X_t=\\phi X_{t-1}+Z_t,\\qquad |\\phi|<1,\\ \\ \\{Z_t\\}\\sim \\text{WN}(0,\\sigma_Z^2)\n",
    "$$\n",
    "es **estacionario**, con media cero y **función de autocovarianza** dada por\n",
    "\n",
    "$$\n",
    "\\gamma_X(h) = \\sum_{j=-\\infty}^{\\infty} \\sum_{k=-\\infty}^{\\infty} \\psi_j \\psi_k \\, \\gamma_Y(h + k - j)\n",
    "$$\n",
    "\n",
    "**Y en el caso especial donde $\\{X_t\\}$ es un proceso lineal**:\n",
    "\n",
    "$$\n",
    "\\gamma_X(h) = \\sum_{j=-\\infty}^{\\infty} \\psi_j \\psi_{j+h} \\, \\sigma^2\n",
    "$$\n"
   ]
  },
  {
   "cell_type": "markdown",
   "id": "ef69297c",
   "metadata": {},
   "source": [
    "$$\n",
    "\\gamma_X(h) = \\sum_{j=-\\infty}^{\\infty} \\psi_j \\psi_{j+h} \\sigma_Z^2 = \\sum_{j=0}^{\\infty} \\phi^j \\phi^{j+h} \\sigma_Z^2 = \\sum_{j=0}^{\\infty} \\phi^{2j} \\phi^h \\sigma_Z^2\n",
    "$$\n"
   ]
  },
  {
   "cell_type": "markdown",
   "id": "69b32e11",
   "metadata": {},
   "source": [
    "Como $|\\phi| < 1$ entonces\n",
    "\n",
    "$$\n",
    "\\sum_{j=0}^{\\infty} \\phi^{2j} \\phi^h \\sigma_Z^2 \\quad \\text{converge a} \\quad \\frac{\\phi^h \\sigma_Z^2}{1 - \\phi^2}\n",
    "$$\n",
    "\n",
    "Por lo tanto\n",
    "\n",
    "$$\n",
    "\\gamma_X(h) = \\frac{\\phi^{|h|} \\sigma_Z^2}{1 - \\phi^2} \\quad ; \\quad h \\geq 0\n",
    "$$\n",
    "\n",
    "Calculemos la función de autocorrelación del proceso AR(1)\n",
    "\n",
    "$$\n",
    "\\rho_X(h) = \\frac{\\gamma_X(h)}{\\gamma_X(0)}\n",
    "$$\n"
   ]
  },
  {
   "cell_type": "markdown",
   "id": "c29ee6b5",
   "metadata": {},
   "source": [
    "$$\n",
    "\\gamma_X(0) = \\text{Var}(X_t) = \\text{Var}(\\phi X_{t-1} + Z_t) = \\phi^2 \\text{Var}(X_{t-1}) + \\text{Var}(Z_t)\n",
    "$$\n",
    "\n",
    "$$\n",
    "= \\phi^2 \\text{Var}(X_{t-1}) + \\sigma_Z^2\n",
    "$$\n",
    "\n",
    "$$\n",
    "\\text{Var}(X_t) - \\phi^2 \\text{Var}(X_{t-1}) = \\sigma_Z^2\n",
    "$$\n",
    "\n",
    "$$\n",
    "(1 - \\phi^2) \\, \\text{Var}(X_t) = \\sigma_Z^2\n",
    "$$\n",
    "\n",
    "$$\n",
    "\\text{Var}(X_t) = \\frac{\\sigma_Z^2}{1 - \\phi^2}\n",
    "$$\n"
   ]
  },
  {
   "cell_type": "markdown",
   "id": "1133d8cf",
   "metadata": {},
   "source": [
    "De esta forma, se tiene\n",
    "\n",
    "$$\n",
    "\\rho_X(h) = \\frac{\\phi^{|h|} \\, \\sigma_Z^2}{1 - \\phi^2} - \\frac{\\sigma_Z^2}{1 - \\phi^2} = \\phi^{|h|} \\quad ; \\quad h \\geq 0\n",
    "$$\n"
   ]
  },
  {
   "cell_type": "markdown",
   "id": "10adbcee",
   "metadata": {},
   "source": [
    "---\n",
    "\n",
    "**Ejemplo, considere el proceso**\n",
    "\n",
    "$$\n",
    "(1 - 0.4B) X_t = Z_t \\quad ; \\quad \\{Z_t\\} \\sim \\text{WN}(0, \\sigma_Z^2)\n",
    "$$\n",
    "\n",
    "$$\n",
    "\\phi = 0.4\n",
    "$$\n",
    "\n",
    "$$\n",
    "\\rho_1 = \\phi \\\\\n",
    "\\rho_2 = \\phi^2 \\\\\n",
    "\\rho_3 = \\phi^3 \\\\\n",
    "\\vdots\n",
    "$$\n"
   ]
  },
  {
   "cell_type": "markdown",
   "id": "c472a96d",
   "metadata": {},
   "source": [
    "Gráfico de la FAC teórica del proceso $(1 - 0.4B) X_t = Z_t$\n"
   ]
  },
  {
   "cell_type": "code",
   "execution_count": 2,
   "id": "9986ef6e",
   "metadata": {},
   "outputs": [],
   "source": [
    "import numpy as np\n",
    "import plotly.graph_objects as go\n",
    "\n",
    "# ---------- ACF teórica AR(p) con convención X_t - sum(phi_j X_{t-j}) = Z_t ----------\n",
    "def acf_ar_negative(phi, m=24, M=1000):\n",
    "    \"\"\"\n",
    "    phi: iterable (phi1,...,phi_p) con TU convención (el modelo lleva '−' delante).\n",
    "    m  : rezago máximo a devolver (inclusive).\n",
    "    M  : truncación para los pesos MA(∞) (entre 500-2000 suele bastar si el AR es estable).\n",
    "    return: lags (0..m), rho\n",
    "    \"\"\"\n",
    "    phi = np.asarray(phi, dtype=float)\n",
    "    p = len(phi)\n",
    "\n",
    "    # psi-weights del AR como MA(∞)\n",
    "    psi = np.zeros(M+1)\n",
    "    psi[0] = 1.0\n",
    "    for k in range(1, M+1):\n",
    "        # psi_k = sum_{j=1}^p phi_j * psi_{k-j}\n",
    "        acc = 0.0\n",
    "        for j in range(1, p+1):\n",
    "            if k-j >= 0:\n",
    "                acc += phi[j-1] * psi[k-j]\n",
    "        psi[k] = acc\n",
    "\n",
    "    # autocovarianzas (sigma^2 factor se cancela al normalizar)\n",
    "    gamma = np.zeros(m+1)\n",
    "    for k in range(m+1):\n",
    "        # sum_{i=0}^{M-k} psi_i * psi_{i+k}\n",
    "        gamma[k] = np.dot(psi[:M-k+1], psi[k:M+1])\n",
    "\n",
    "    rho = gamma / gamma[0]\n",
    "    lags = np.arange(m+1)\n",
    "    return lags, rho\n",
    "\n",
    "# ---------- Stem-plot en Plotly (líneas, no barras) ----------\n",
    "def plot_acf_stem_plotly(lags, rho, title=\"ACF teórica (AR)\", n_for_ci=None):\n",
    "    xs, ys = [], []\n",
    "    for k, r in zip(lags, rho):\n",
    "        xs += [k, k, None]\n",
    "        ys += [0, r, None]\n",
    "    fig = go.Figure()\n",
    "    fig.add_trace(go.Scatter(x=xs, y=ys, mode=\"lines\", line=dict(width=2), name=\"líneas\"))\n",
    "    fig.add_trace(go.Scatter(x=lags, y=rho, mode=\"markers\", marker=dict(size=7), name=\"ρ_k\"))\n",
    "    fig.add_hline(y=0, line_width=1, line_dash=\"dot\", line_color=\"gray\")\n",
    "    if n_for_ci is not None and n_for_ci > 0:\n",
    "        ci = 1.96/np.sqrt(n_for_ci)\n",
    "        fig.add_hrect(y0=-ci, y1=ci, line_width=0, fillcolor=\"lightgray\",\n",
    "                      opacity=0.25, annotation_text=f\"±{ci:.3f}\",\n",
    "                      annotation_position=\"top left\")\n",
    "    fig.update_layout(template=\"plotly_white\", width=800, height=380,\n",
    "                      title=title, xaxis_title=\"Rezago k\", yaxis_title=\"ρ_k\")\n",
    "    return fig\n"
   ]
  },
  {
   "cell_type": "code",
   "execution_count": 3,
   "id": "65490a2e",
   "metadata": {},
   "outputs": [
    {
     "data": {
      "application/vnd.plotly.v1+json": {
       "config": {
        "plotlyServerURL": "https://plot.ly"
       },
       "data": [
        {
         "line": {
          "width": 2
         },
         "mode": "lines",
         "name": "líneas",
         "type": "scatter",
         "x": [
          0,
          0,
          null,
          1,
          1,
          null,
          2,
          2,
          null,
          3,
          3,
          null,
          4,
          4,
          null,
          5,
          5,
          null,
          6,
          6,
          null,
          7,
          7,
          null,
          8,
          8,
          null,
          9,
          9,
          null,
          10,
          10,
          null,
          11,
          11,
          null,
          12,
          12,
          null,
          13,
          13,
          null,
          14,
          14,
          null,
          15,
          15,
          null,
          16,
          16,
          null,
          17,
          17,
          null,
          18,
          18,
          null,
          19,
          19,
          null,
          20,
          20,
          null,
          21,
          21,
          null,
          22,
          22,
          null,
          23,
          23,
          null,
          24,
          24,
          null
         ],
         "y": [
          0,
          1,
          null,
          0,
          0.4000000000000001,
          null,
          0,
          0.16000000000000003,
          null,
          0,
          0.06400000000000002,
          null,
          0,
          0.025600000000000008,
          null,
          0,
          0.010240000000000003,
          null,
          0,
          0.0040960000000000015,
          null,
          0,
          0.0016384000000000008,
          null,
          0,
          0.0006553600000000003,
          null,
          0,
          0.0002621440000000001,
          null,
          0,
          0.00010485760000000004,
          null,
          0,
          0.000041943040000000025,
          null,
          0,
          0.000016777216000000006,
          null,
          0,
          0.000006710886400000005,
          null,
          0,
          0.000002684354560000002,
          null,
          0,
          0.000001073741824000001,
          null,
          0,
          4.294967296000004e-7,
          null,
          0,
          1.7179869184000014e-7,
          null,
          0,
          6.871947673600008e-8,
          null,
          0,
          2.7487790694400032e-8,
          null,
          0,
          1.0995116277760013e-8,
          null,
          0,
          4.398046511104006e-9,
          null,
          0,
          1.7592186044416022e-9,
          null,
          0,
          7.036874417766409e-10,
          null,
          0,
          2.814749767106564e-10,
          null
         ]
        },
        {
         "marker": {
          "size": 7
         },
         "mode": "markers",
         "name": "ρ_k",
         "type": "scatter",
         "x": {
          "bdata": "AAECAwQFBgcICQoLDA0ODxAREhMUFRYXGA==",
          "dtype": "i1"
         },
         "y": {
          "bdata": "AAAAAAAA8D+bmZmZmZnZP3wUrkfhesQ//anx0k1isD8vQxzr4jaaP/Jo44i1+IQ/j+21oPfGcD9Mr7ya8tdaPz2MMOKOeUU/l9Ym6AsuMT++vdfZ33wbP5lkeeF//QU/E+otgZmX8T6IdklowiXcPqAroYabhMY+Glbnnq8Dsj7EidiXstKcPpzURkb1Doc+skPS0V1ycj620rZPyYNdPitCkgyhnEc+V5sOCrTjMj7wXhcQIDkePlqyEkCzLQg+r46omcJX8z0=",
          "dtype": "f8"
         }
        }
       ],
       "layout": {
        "annotations": [
         {
          "showarrow": false,
          "text": "±0.080",
          "x": 0,
          "xanchor": "left",
          "xref": "x domain",
          "y": 0.08001666493091715,
          "yanchor": "top",
          "yref": "y"
         }
        ],
        "height": 380,
        "shapes": [
         {
          "line": {
           "color": "gray",
           "dash": "dot",
           "width": 1
          },
          "type": "line",
          "x0": 0,
          "x1": 1,
          "xref": "x domain",
          "y0": 0,
          "y1": 0,
          "yref": "y"
         },
         {
          "fillcolor": "lightgray",
          "line": {
           "width": 0
          },
          "opacity": 0.25,
          "type": "rect",
          "x0": 0,
          "x1": 1,
          "xref": "x domain",
          "y0": -0.08001666493091715,
          "y1": 0.08001666493091715,
          "yref": "y"
         }
        ],
        "template": {
         "data": {
          "bar": [
           {
            "error_x": {
             "color": "#2a3f5f"
            },
            "error_y": {
             "color": "#2a3f5f"
            },
            "marker": {
             "line": {
              "color": "white",
              "width": 0.5
             },
             "pattern": {
              "fillmode": "overlay",
              "size": 10,
              "solidity": 0.2
             }
            },
            "type": "bar"
           }
          ],
          "barpolar": [
           {
            "marker": {
             "line": {
              "color": "white",
              "width": 0.5
             },
             "pattern": {
              "fillmode": "overlay",
              "size": 10,
              "solidity": 0.2
             }
            },
            "type": "barpolar"
           }
          ],
          "carpet": [
           {
            "aaxis": {
             "endlinecolor": "#2a3f5f",
             "gridcolor": "#C8D4E3",
             "linecolor": "#C8D4E3",
             "minorgridcolor": "#C8D4E3",
             "startlinecolor": "#2a3f5f"
            },
            "baxis": {
             "endlinecolor": "#2a3f5f",
             "gridcolor": "#C8D4E3",
             "linecolor": "#C8D4E3",
             "minorgridcolor": "#C8D4E3",
             "startlinecolor": "#2a3f5f"
            },
            "type": "carpet"
           }
          ],
          "choropleth": [
           {
            "colorbar": {
             "outlinewidth": 0,
             "ticks": ""
            },
            "type": "choropleth"
           }
          ],
          "contour": [
           {
            "colorbar": {
             "outlinewidth": 0,
             "ticks": ""
            },
            "colorscale": [
             [
              0,
              "#0d0887"
             ],
             [
              0.1111111111111111,
              "#46039f"
             ],
             [
              0.2222222222222222,
              "#7201a8"
             ],
             [
              0.3333333333333333,
              "#9c179e"
             ],
             [
              0.4444444444444444,
              "#bd3786"
             ],
             [
              0.5555555555555556,
              "#d8576b"
             ],
             [
              0.6666666666666666,
              "#ed7953"
             ],
             [
              0.7777777777777778,
              "#fb9f3a"
             ],
             [
              0.8888888888888888,
              "#fdca26"
             ],
             [
              1,
              "#f0f921"
             ]
            ],
            "type": "contour"
           }
          ],
          "contourcarpet": [
           {
            "colorbar": {
             "outlinewidth": 0,
             "ticks": ""
            },
            "type": "contourcarpet"
           }
          ],
          "heatmap": [
           {
            "colorbar": {
             "outlinewidth": 0,
             "ticks": ""
            },
            "colorscale": [
             [
              0,
              "#0d0887"
             ],
             [
              0.1111111111111111,
              "#46039f"
             ],
             [
              0.2222222222222222,
              "#7201a8"
             ],
             [
              0.3333333333333333,
              "#9c179e"
             ],
             [
              0.4444444444444444,
              "#bd3786"
             ],
             [
              0.5555555555555556,
              "#d8576b"
             ],
             [
              0.6666666666666666,
              "#ed7953"
             ],
             [
              0.7777777777777778,
              "#fb9f3a"
             ],
             [
              0.8888888888888888,
              "#fdca26"
             ],
             [
              1,
              "#f0f921"
             ]
            ],
            "type": "heatmap"
           }
          ],
          "histogram": [
           {
            "marker": {
             "pattern": {
              "fillmode": "overlay",
              "size": 10,
              "solidity": 0.2
             }
            },
            "type": "histogram"
           }
          ],
          "histogram2d": [
           {
            "colorbar": {
             "outlinewidth": 0,
             "ticks": ""
            },
            "colorscale": [
             [
              0,
              "#0d0887"
             ],
             [
              0.1111111111111111,
              "#46039f"
             ],
             [
              0.2222222222222222,
              "#7201a8"
             ],
             [
              0.3333333333333333,
              "#9c179e"
             ],
             [
              0.4444444444444444,
              "#bd3786"
             ],
             [
              0.5555555555555556,
              "#d8576b"
             ],
             [
              0.6666666666666666,
              "#ed7953"
             ],
             [
              0.7777777777777778,
              "#fb9f3a"
             ],
             [
              0.8888888888888888,
              "#fdca26"
             ],
             [
              1,
              "#f0f921"
             ]
            ],
            "type": "histogram2d"
           }
          ],
          "histogram2dcontour": [
           {
            "colorbar": {
             "outlinewidth": 0,
             "ticks": ""
            },
            "colorscale": [
             [
              0,
              "#0d0887"
             ],
             [
              0.1111111111111111,
              "#46039f"
             ],
             [
              0.2222222222222222,
              "#7201a8"
             ],
             [
              0.3333333333333333,
              "#9c179e"
             ],
             [
              0.4444444444444444,
              "#bd3786"
             ],
             [
              0.5555555555555556,
              "#d8576b"
             ],
             [
              0.6666666666666666,
              "#ed7953"
             ],
             [
              0.7777777777777778,
              "#fb9f3a"
             ],
             [
              0.8888888888888888,
              "#fdca26"
             ],
             [
              1,
              "#f0f921"
             ]
            ],
            "type": "histogram2dcontour"
           }
          ],
          "mesh3d": [
           {
            "colorbar": {
             "outlinewidth": 0,
             "ticks": ""
            },
            "type": "mesh3d"
           }
          ],
          "parcoords": [
           {
            "line": {
             "colorbar": {
              "outlinewidth": 0,
              "ticks": ""
             }
            },
            "type": "parcoords"
           }
          ],
          "pie": [
           {
            "automargin": true,
            "type": "pie"
           }
          ],
          "scatter": [
           {
            "fillpattern": {
             "fillmode": "overlay",
             "size": 10,
             "solidity": 0.2
            },
            "type": "scatter"
           }
          ],
          "scatter3d": [
           {
            "line": {
             "colorbar": {
              "outlinewidth": 0,
              "ticks": ""
             }
            },
            "marker": {
             "colorbar": {
              "outlinewidth": 0,
              "ticks": ""
             }
            },
            "type": "scatter3d"
           }
          ],
          "scattercarpet": [
           {
            "marker": {
             "colorbar": {
              "outlinewidth": 0,
              "ticks": ""
             }
            },
            "type": "scattercarpet"
           }
          ],
          "scattergeo": [
           {
            "marker": {
             "colorbar": {
              "outlinewidth": 0,
              "ticks": ""
             }
            },
            "type": "scattergeo"
           }
          ],
          "scattergl": [
           {
            "marker": {
             "colorbar": {
              "outlinewidth": 0,
              "ticks": ""
             }
            },
            "type": "scattergl"
           }
          ],
          "scattermap": [
           {
            "marker": {
             "colorbar": {
              "outlinewidth": 0,
              "ticks": ""
             }
            },
            "type": "scattermap"
           }
          ],
          "scattermapbox": [
           {
            "marker": {
             "colorbar": {
              "outlinewidth": 0,
              "ticks": ""
             }
            },
            "type": "scattermapbox"
           }
          ],
          "scatterpolar": [
           {
            "marker": {
             "colorbar": {
              "outlinewidth": 0,
              "ticks": ""
             }
            },
            "type": "scatterpolar"
           }
          ],
          "scatterpolargl": [
           {
            "marker": {
             "colorbar": {
              "outlinewidth": 0,
              "ticks": ""
             }
            },
            "type": "scatterpolargl"
           }
          ],
          "scatterternary": [
           {
            "marker": {
             "colorbar": {
              "outlinewidth": 0,
              "ticks": ""
             }
            },
            "type": "scatterternary"
           }
          ],
          "surface": [
           {
            "colorbar": {
             "outlinewidth": 0,
             "ticks": ""
            },
            "colorscale": [
             [
              0,
              "#0d0887"
             ],
             [
              0.1111111111111111,
              "#46039f"
             ],
             [
              0.2222222222222222,
              "#7201a8"
             ],
             [
              0.3333333333333333,
              "#9c179e"
             ],
             [
              0.4444444444444444,
              "#bd3786"
             ],
             [
              0.5555555555555556,
              "#d8576b"
             ],
             [
              0.6666666666666666,
              "#ed7953"
             ],
             [
              0.7777777777777778,
              "#fb9f3a"
             ],
             [
              0.8888888888888888,
              "#fdca26"
             ],
             [
              1,
              "#f0f921"
             ]
            ],
            "type": "surface"
           }
          ],
          "table": [
           {
            "cells": {
             "fill": {
              "color": "#EBF0F8"
             },
             "line": {
              "color": "white"
             }
            },
            "header": {
             "fill": {
              "color": "#C8D4E3"
             },
             "line": {
              "color": "white"
             }
            },
            "type": "table"
           }
          ]
         },
         "layout": {
          "annotationdefaults": {
           "arrowcolor": "#2a3f5f",
           "arrowhead": 0,
           "arrowwidth": 1
          },
          "autotypenumbers": "strict",
          "coloraxis": {
           "colorbar": {
            "outlinewidth": 0,
            "ticks": ""
           }
          },
          "colorscale": {
           "diverging": [
            [
             0,
             "#8e0152"
            ],
            [
             0.1,
             "#c51b7d"
            ],
            [
             0.2,
             "#de77ae"
            ],
            [
             0.3,
             "#f1b6da"
            ],
            [
             0.4,
             "#fde0ef"
            ],
            [
             0.5,
             "#f7f7f7"
            ],
            [
             0.6,
             "#e6f5d0"
            ],
            [
             0.7,
             "#b8e186"
            ],
            [
             0.8,
             "#7fbc41"
            ],
            [
             0.9,
             "#4d9221"
            ],
            [
             1,
             "#276419"
            ]
           ],
           "sequential": [
            [
             0,
             "#0d0887"
            ],
            [
             0.1111111111111111,
             "#46039f"
            ],
            [
             0.2222222222222222,
             "#7201a8"
            ],
            [
             0.3333333333333333,
             "#9c179e"
            ],
            [
             0.4444444444444444,
             "#bd3786"
            ],
            [
             0.5555555555555556,
             "#d8576b"
            ],
            [
             0.6666666666666666,
             "#ed7953"
            ],
            [
             0.7777777777777778,
             "#fb9f3a"
            ],
            [
             0.8888888888888888,
             "#fdca26"
            ],
            [
             1,
             "#f0f921"
            ]
           ],
           "sequentialminus": [
            [
             0,
             "#0d0887"
            ],
            [
             0.1111111111111111,
             "#46039f"
            ],
            [
             0.2222222222222222,
             "#7201a8"
            ],
            [
             0.3333333333333333,
             "#9c179e"
            ],
            [
             0.4444444444444444,
             "#bd3786"
            ],
            [
             0.5555555555555556,
             "#d8576b"
            ],
            [
             0.6666666666666666,
             "#ed7953"
            ],
            [
             0.7777777777777778,
             "#fb9f3a"
            ],
            [
             0.8888888888888888,
             "#fdca26"
            ],
            [
             1,
             "#f0f921"
            ]
           ]
          },
          "colorway": [
           "#636efa",
           "#EF553B",
           "#00cc96",
           "#ab63fa",
           "#FFA15A",
           "#19d3f3",
           "#FF6692",
           "#B6E880",
           "#FF97FF",
           "#FECB52"
          ],
          "font": {
           "color": "#2a3f5f"
          },
          "geo": {
           "bgcolor": "white",
           "lakecolor": "white",
           "landcolor": "white",
           "showlakes": true,
           "showland": true,
           "subunitcolor": "#C8D4E3"
          },
          "hoverlabel": {
           "align": "left"
          },
          "hovermode": "closest",
          "mapbox": {
           "style": "light"
          },
          "paper_bgcolor": "white",
          "plot_bgcolor": "white",
          "polar": {
           "angularaxis": {
            "gridcolor": "#EBF0F8",
            "linecolor": "#EBF0F8",
            "ticks": ""
           },
           "bgcolor": "white",
           "radialaxis": {
            "gridcolor": "#EBF0F8",
            "linecolor": "#EBF0F8",
            "ticks": ""
           }
          },
          "scene": {
           "xaxis": {
            "backgroundcolor": "white",
            "gridcolor": "#DFE8F3",
            "gridwidth": 2,
            "linecolor": "#EBF0F8",
            "showbackground": true,
            "ticks": "",
            "zerolinecolor": "#EBF0F8"
           },
           "yaxis": {
            "backgroundcolor": "white",
            "gridcolor": "#DFE8F3",
            "gridwidth": 2,
            "linecolor": "#EBF0F8",
            "showbackground": true,
            "ticks": "",
            "zerolinecolor": "#EBF0F8"
           },
           "zaxis": {
            "backgroundcolor": "white",
            "gridcolor": "#DFE8F3",
            "gridwidth": 2,
            "linecolor": "#EBF0F8",
            "showbackground": true,
            "ticks": "",
            "zerolinecolor": "#EBF0F8"
           }
          },
          "shapedefaults": {
           "line": {
            "color": "#2a3f5f"
           }
          },
          "ternary": {
           "aaxis": {
            "gridcolor": "#DFE8F3",
            "linecolor": "#A2B1C6",
            "ticks": ""
           },
           "baxis": {
            "gridcolor": "#DFE8F3",
            "linecolor": "#A2B1C6",
            "ticks": ""
           },
           "bgcolor": "white",
           "caxis": {
            "gridcolor": "#DFE8F3",
            "linecolor": "#A2B1C6",
            "ticks": ""
           }
          },
          "title": {
           "x": 0.05
          },
          "xaxis": {
           "automargin": true,
           "gridcolor": "#EBF0F8",
           "linecolor": "#EBF0F8",
           "ticks": "",
           "title": {
            "standoff": 15
           },
           "zerolinecolor": "#EBF0F8",
           "zerolinewidth": 2
          },
          "yaxis": {
           "automargin": true,
           "gridcolor": "#EBF0F8",
           "linecolor": "#EBF0F8",
           "ticks": "",
           "title": {
            "standoff": 15
           },
           "zerolinecolor": "#EBF0F8",
           "zerolinewidth": 2
          }
         }
        },
        "title": {
         "text": "ACF teórica AR(1): (1 - 0.4B) X_t = Z_t  (φ=0.4)"
        },
        "width": 800,
        "xaxis": {
         "title": {
          "text": "Rezago k"
         }
        },
        "yaxis": {
         "title": {
          "text": "ρ_k"
         }
        }
       }
      }
     },
     "metadata": {},
     "output_type": "display_data"
    }
   ],
   "source": [
    "\n",
    "# Ejemplo\n",
    "# AR(1) con tu notación:  X_t - φ X_{t-1} = Z_t, φ = 0.4\n",
    "phi = [0.4]\n",
    "lags, rho = acf_ar_negative(phi, m=24)\n",
    "fig = plot_acf_stem_plotly(lags, rho,\n",
    "       title=\"ACF teórica AR(1): (1 - 0.4B) X_t = Z_t  (φ=0.4)\",\n",
    "       n_for_ci=600)  # banda opcional estilo ±1.96/√N\n",
    "fig.show()\n"
   ]
  }
 ],
 "metadata": {
  "kernelspec": {
   "display_name": "Python 3",
   "language": "python",
   "name": "python3"
  },
  "language_info": {
   "codemirror_mode": {
    "name": "ipython",
    "version": 3
   },
   "file_extension": ".py",
   "mimetype": "text/x-python",
   "name": "python",
   "nbconvert_exporter": "python",
   "pygments_lexer": "ipython3",
   "version": "3.13.3"
  }
 },
 "nbformat": 4,
 "nbformat_minor": 5
}
