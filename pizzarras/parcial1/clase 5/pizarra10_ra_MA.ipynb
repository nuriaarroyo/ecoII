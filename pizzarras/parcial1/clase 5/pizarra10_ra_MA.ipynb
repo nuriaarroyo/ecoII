{
 "cells": [
  {
   "cell_type": "markdown",
   "id": "93342e5d",
   "metadata": {},
   "source": [
    "# ***Regiones admisibles para los procesos MA(1) y MA(2)***\n"
   ]
  },
  {
   "cell_type": "markdown",
   "id": "f3150764",
   "metadata": {},
   "source": [
    "## **Considere un proceso MA(1):**\n",
    "\n",
    "$$\n",
    "(1 - \\theta B) q_t = W_t \\quad ; \\quad q_t \\sim WN(0, \\sigma^2)\n",
    "$$\n",
    "\n",
    "**Recuerde:**  \n",
    "Este proceso es estacionario, pero **no siempre es invertible**.\n",
    "\n",
    "\n",
    "**Condición de invertibilidad:**\n",
    "\n",
    "$$\n",
    "|\\theta| < 1\n",
    "$$\n",
    "\n",
    "---\n",
    "\n",
    "### **A partir de esta condición identificamos dos regiones admisibles**\n",
    "\n",
    "---\n"
   ]
  },
  {
   "cell_type": "markdown",
   "id": "a697e471",
   "metadata": {},
   "source": [
    "\n",
    "**Región Admisible #1:**\n",
    "\n",
    "$$\n",
    "0 < \\theta < 1\n",
    "$$\n",
    "\n",
    "\n"
   ]
  },
  {
   "cell_type": "code",
   "execution_count": 5,
   "id": "43296d27",
   "metadata": {},
   "outputs": [
    {
     "data": {
      "application/vnd.plotly.v1+json": {
       "config": {
        "plotlyServerURL": "https://plot.ly"
       },
       "data": [
        {
         "line": {
          "color": "gray",
          "width": 2
         },
         "mode": "lines",
         "showlegend": false,
         "type": "scatter",
         "x": [
          -1.5,
          1.5
         ],
         "xaxis": "x",
         "y": [
          0,
          0
         ],
         "yaxis": "y"
        },
        {
         "marker": {
          "size": 12
         },
         "mode": "markers",
         "name": "θ=0.6",
         "type": "scatter",
         "x": [
          0.6
         ],
         "xaxis": "x",
         "y": [
          0
         ],
         "yaxis": "y"
        },
        {
         "line": {
          "width": 2
         },
         "mode": "lines",
         "name": "ρ_k",
         "showlegend": false,
         "type": "scatter",
         "x": [
          0,
          0,
          null,
          1,
          1,
          null,
          2,
          2,
          null,
          3,
          3,
          null,
          4,
          4,
          null,
          5,
          5,
          null,
          6,
          6,
          null,
          7,
          7,
          null,
          8,
          8,
          null,
          9,
          9,
          null,
          10,
          10,
          null,
          11,
          11,
          null,
          12,
          12,
          null
         ],
         "xaxis": "x2",
         "y": [
          0,
          1,
          null,
          0,
          -0.44117647058823534,
          null,
          0,
          0,
          null,
          0,
          0,
          null,
          0,
          0,
          null,
          0,
          0,
          null,
          0,
          0,
          null,
          0,
          0,
          null,
          0,
          0,
          null,
          0,
          0,
          null,
          0,
          0,
          null,
          0,
          0,
          null,
          0,
          0,
          null
         ],
         "yaxis": "y2"
        },
        {
         "marker": {
          "size": 7
         },
         "mode": "markers",
         "name": "ρ_k (•)",
         "showlegend": false,
         "type": "scatter",
         "x": {
          "bdata": "AAECAwQFBgcICQoLDA==",
          "dtype": "i1"
         },
         "xaxis": "x2",
         "y": {
          "bdata": "AAAAAAAA8D89PDw8PDzcvwAAAAAAAAAAAAAAAAAAAAAAAAAAAAAAAAAAAAAAAAAAAAAAAAAAAAAAAAAAAAAAAAAAAAAAAAAAAAAAAAAAAAAAAAAAAAAAAAAAAAAAAAAAAAAAAAAAAAA=",
          "dtype": "f8"
         },
         "yaxis": "y2"
        },
        {
         "line": {
          "width": 2
         },
         "mode": "lines",
         "name": "φ_k (PACF)",
         "showlegend": false,
         "type": "scatter",
         "x": [
          0,
          0,
          null,
          1,
          1,
          null,
          2,
          2,
          null,
          3,
          3,
          null,
          4,
          4,
          null,
          5,
          5,
          null,
          6,
          6,
          null,
          7,
          7,
          null,
          8,
          8,
          null,
          9,
          9,
          null,
          10,
          10,
          null,
          11,
          11,
          null,
          12,
          12,
          null
         ],
         "xaxis": "x3",
         "y": [
          0,
          1,
          null,
          0,
          -0.44117647058823534,
          null,
          0,
          -0.2416756176154673,
          null,
          0,
          -0.14060156640559912,
          null,
          0,
          -0.08344858166257602,
          null,
          0,
          -0.04987496694705898,
          null,
          0,
          -0.029883257765152344,
          null,
          0,
          -0.017920959699696017,
          null,
          0,
          -0.010750634233946975,
          null,
          0,
          -0.006449961260803029,
          null,
          0,
          -0.0038698862001015407,
          null,
          0,
          -0.0023219121605052555,
          null,
          0,
          -0.0013931430714875304,
          null
         ],
         "yaxis": "y3"
        },
        {
         "marker": {
          "size": 7
         },
         "mode": "markers",
         "name": "φ_k (PACF) (•)",
         "showlegend": false,
         "type": "scatter",
         "x": {
          "bdata": "AAECAwQFBgcICQoLDA==",
          "dtype": "i1"
         },
         "xaxis": "x3",
         "y": {
          "bdata": "AAAAAAAA8D89PDw8PDzcv4gT8wQ6786/4jy9bDv/wb/caiPh4ly1v1R42i82iam/JXMye7eZnr8q4ko/31mSvwyIkbNtBIa/qFLPSkZrer8Mz2VVvbNvv/zMZBlnBWO/H2SQ+0PTVr8=",
          "dtype": "f8"
         },
         "yaxis": "y3"
        }
       ],
       "layout": {
        "annotations": [
         {
          "font": {
           "size": 16
          },
          "showarrow": false,
          "text": "Región admisible (invertible)",
          "x": 0.14300000000000002,
          "xanchor": "center",
          "xref": "paper",
          "y": 1,
          "yanchor": "bottom",
          "yref": "paper"
         },
         {
          "font": {
           "size": 16
          },
          "showarrow": false,
          "text": "FAC",
          "x": 0.4956666666666667,
          "xanchor": "center",
          "xref": "paper",
          "y": 1,
          "yanchor": "bottom",
          "yref": "paper"
         },
         {
          "font": {
           "size": 16
          },
          "showarrow": false,
          "text": "FACP",
          "x": 0.8526666666666667,
          "xanchor": "center",
          "xref": "paper",
          "y": 1,
          "yanchor": "bottom",
          "yref": "paper"
         }
        ],
        "height": 360,
        "shapes": [
         {
          "fillcolor": "lightgreen",
          "layer": "below",
          "line": {
           "width": 0
          },
          "opacity": 0.35,
          "type": "rect",
          "x0": 0,
          "x1": 1,
          "xref": "x",
          "y0": 0,
          "y1": 1,
          "yref": "paper"
         },
         {
          "line": {
           "color": "gray",
           "dash": "dot"
          },
          "type": "line",
          "x0": 0,
          "x1": 1,
          "xref": "x2 domain",
          "y0": 0,
          "y1": 0,
          "yref": "y2"
         },
         {
          "line": {
           "color": "gray",
           "dash": "dot"
          },
          "type": "line",
          "x0": 0,
          "x1": 1,
          "xref": "x3 domain",
          "y0": 0,
          "y1": 0,
          "yref": "y3"
         }
        ],
        "template": {
         "data": {
          "bar": [
           {
            "error_x": {
             "color": "#2a3f5f"
            },
            "error_y": {
             "color": "#2a3f5f"
            },
            "marker": {
             "line": {
              "color": "white",
              "width": 0.5
             },
             "pattern": {
              "fillmode": "overlay",
              "size": 10,
              "solidity": 0.2
             }
            },
            "type": "bar"
           }
          ],
          "barpolar": [
           {
            "marker": {
             "line": {
              "color": "white",
              "width": 0.5
             },
             "pattern": {
              "fillmode": "overlay",
              "size": 10,
              "solidity": 0.2
             }
            },
            "type": "barpolar"
           }
          ],
          "carpet": [
           {
            "aaxis": {
             "endlinecolor": "#2a3f5f",
             "gridcolor": "#C8D4E3",
             "linecolor": "#C8D4E3",
             "minorgridcolor": "#C8D4E3",
             "startlinecolor": "#2a3f5f"
            },
            "baxis": {
             "endlinecolor": "#2a3f5f",
             "gridcolor": "#C8D4E3",
             "linecolor": "#C8D4E3",
             "minorgridcolor": "#C8D4E3",
             "startlinecolor": "#2a3f5f"
            },
            "type": "carpet"
           }
          ],
          "choropleth": [
           {
            "colorbar": {
             "outlinewidth": 0,
             "ticks": ""
            },
            "type": "choropleth"
           }
          ],
          "contour": [
           {
            "colorbar": {
             "outlinewidth": 0,
             "ticks": ""
            },
            "colorscale": [
             [
              0,
              "#0d0887"
             ],
             [
              0.1111111111111111,
              "#46039f"
             ],
             [
              0.2222222222222222,
              "#7201a8"
             ],
             [
              0.3333333333333333,
              "#9c179e"
             ],
             [
              0.4444444444444444,
              "#bd3786"
             ],
             [
              0.5555555555555556,
              "#d8576b"
             ],
             [
              0.6666666666666666,
              "#ed7953"
             ],
             [
              0.7777777777777778,
              "#fb9f3a"
             ],
             [
              0.8888888888888888,
              "#fdca26"
             ],
             [
              1,
              "#f0f921"
             ]
            ],
            "type": "contour"
           }
          ],
          "contourcarpet": [
           {
            "colorbar": {
             "outlinewidth": 0,
             "ticks": ""
            },
            "type": "contourcarpet"
           }
          ],
          "heatmap": [
           {
            "colorbar": {
             "outlinewidth": 0,
             "ticks": ""
            },
            "colorscale": [
             [
              0,
              "#0d0887"
             ],
             [
              0.1111111111111111,
              "#46039f"
             ],
             [
              0.2222222222222222,
              "#7201a8"
             ],
             [
              0.3333333333333333,
              "#9c179e"
             ],
             [
              0.4444444444444444,
              "#bd3786"
             ],
             [
              0.5555555555555556,
              "#d8576b"
             ],
             [
              0.6666666666666666,
              "#ed7953"
             ],
             [
              0.7777777777777778,
              "#fb9f3a"
             ],
             [
              0.8888888888888888,
              "#fdca26"
             ],
             [
              1,
              "#f0f921"
             ]
            ],
            "type": "heatmap"
           }
          ],
          "histogram": [
           {
            "marker": {
             "pattern": {
              "fillmode": "overlay",
              "size": 10,
              "solidity": 0.2
             }
            },
            "type": "histogram"
           }
          ],
          "histogram2d": [
           {
            "colorbar": {
             "outlinewidth": 0,
             "ticks": ""
            },
            "colorscale": [
             [
              0,
              "#0d0887"
             ],
             [
              0.1111111111111111,
              "#46039f"
             ],
             [
              0.2222222222222222,
              "#7201a8"
             ],
             [
              0.3333333333333333,
              "#9c179e"
             ],
             [
              0.4444444444444444,
              "#bd3786"
             ],
             [
              0.5555555555555556,
              "#d8576b"
             ],
             [
              0.6666666666666666,
              "#ed7953"
             ],
             [
              0.7777777777777778,
              "#fb9f3a"
             ],
             [
              0.8888888888888888,
              "#fdca26"
             ],
             [
              1,
              "#f0f921"
             ]
            ],
            "type": "histogram2d"
           }
          ],
          "histogram2dcontour": [
           {
            "colorbar": {
             "outlinewidth": 0,
             "ticks": ""
            },
            "colorscale": [
             [
              0,
              "#0d0887"
             ],
             [
              0.1111111111111111,
              "#46039f"
             ],
             [
              0.2222222222222222,
              "#7201a8"
             ],
             [
              0.3333333333333333,
              "#9c179e"
             ],
             [
              0.4444444444444444,
              "#bd3786"
             ],
             [
              0.5555555555555556,
              "#d8576b"
             ],
             [
              0.6666666666666666,
              "#ed7953"
             ],
             [
              0.7777777777777778,
              "#fb9f3a"
             ],
             [
              0.8888888888888888,
              "#fdca26"
             ],
             [
              1,
              "#f0f921"
             ]
            ],
            "type": "histogram2dcontour"
           }
          ],
          "mesh3d": [
           {
            "colorbar": {
             "outlinewidth": 0,
             "ticks": ""
            },
            "type": "mesh3d"
           }
          ],
          "parcoords": [
           {
            "line": {
             "colorbar": {
              "outlinewidth": 0,
              "ticks": ""
             }
            },
            "type": "parcoords"
           }
          ],
          "pie": [
           {
            "automargin": true,
            "type": "pie"
           }
          ],
          "scatter": [
           {
            "fillpattern": {
             "fillmode": "overlay",
             "size": 10,
             "solidity": 0.2
            },
            "type": "scatter"
           }
          ],
          "scatter3d": [
           {
            "line": {
             "colorbar": {
              "outlinewidth": 0,
              "ticks": ""
             }
            },
            "marker": {
             "colorbar": {
              "outlinewidth": 0,
              "ticks": ""
             }
            },
            "type": "scatter3d"
           }
          ],
          "scattercarpet": [
           {
            "marker": {
             "colorbar": {
              "outlinewidth": 0,
              "ticks": ""
             }
            },
            "type": "scattercarpet"
           }
          ],
          "scattergeo": [
           {
            "marker": {
             "colorbar": {
              "outlinewidth": 0,
              "ticks": ""
             }
            },
            "type": "scattergeo"
           }
          ],
          "scattergl": [
           {
            "marker": {
             "colorbar": {
              "outlinewidth": 0,
              "ticks": ""
             }
            },
            "type": "scattergl"
           }
          ],
          "scattermap": [
           {
            "marker": {
             "colorbar": {
              "outlinewidth": 0,
              "ticks": ""
             }
            },
            "type": "scattermap"
           }
          ],
          "scattermapbox": [
           {
            "marker": {
             "colorbar": {
              "outlinewidth": 0,
              "ticks": ""
             }
            },
            "type": "scattermapbox"
           }
          ],
          "scatterpolar": [
           {
            "marker": {
             "colorbar": {
              "outlinewidth": 0,
              "ticks": ""
             }
            },
            "type": "scatterpolar"
           }
          ],
          "scatterpolargl": [
           {
            "marker": {
             "colorbar": {
              "outlinewidth": 0,
              "ticks": ""
             }
            },
            "type": "scatterpolargl"
           }
          ],
          "scatterternary": [
           {
            "marker": {
             "colorbar": {
              "outlinewidth": 0,
              "ticks": ""
             }
            },
            "type": "scatterternary"
           }
          ],
          "surface": [
           {
            "colorbar": {
             "outlinewidth": 0,
             "ticks": ""
            },
            "colorscale": [
             [
              0,
              "#0d0887"
             ],
             [
              0.1111111111111111,
              "#46039f"
             ],
             [
              0.2222222222222222,
              "#7201a8"
             ],
             [
              0.3333333333333333,
              "#9c179e"
             ],
             [
              0.4444444444444444,
              "#bd3786"
             ],
             [
              0.5555555555555556,
              "#d8576b"
             ],
             [
              0.6666666666666666,
              "#ed7953"
             ],
             [
              0.7777777777777778,
              "#fb9f3a"
             ],
             [
              0.8888888888888888,
              "#fdca26"
             ],
             [
              1,
              "#f0f921"
             ]
            ],
            "type": "surface"
           }
          ],
          "table": [
           {
            "cells": {
             "fill": {
              "color": "#EBF0F8"
             },
             "line": {
              "color": "white"
             }
            },
            "header": {
             "fill": {
              "color": "#C8D4E3"
             },
             "line": {
              "color": "white"
             }
            },
            "type": "table"
           }
          ]
         },
         "layout": {
          "annotationdefaults": {
           "arrowcolor": "#2a3f5f",
           "arrowhead": 0,
           "arrowwidth": 1
          },
          "autotypenumbers": "strict",
          "coloraxis": {
           "colorbar": {
            "outlinewidth": 0,
            "ticks": ""
           }
          },
          "colorscale": {
           "diverging": [
            [
             0,
             "#8e0152"
            ],
            [
             0.1,
             "#c51b7d"
            ],
            [
             0.2,
             "#de77ae"
            ],
            [
             0.3,
             "#f1b6da"
            ],
            [
             0.4,
             "#fde0ef"
            ],
            [
             0.5,
             "#f7f7f7"
            ],
            [
             0.6,
             "#e6f5d0"
            ],
            [
             0.7,
             "#b8e186"
            ],
            [
             0.8,
             "#7fbc41"
            ],
            [
             0.9,
             "#4d9221"
            ],
            [
             1,
             "#276419"
            ]
           ],
           "sequential": [
            [
             0,
             "#0d0887"
            ],
            [
             0.1111111111111111,
             "#46039f"
            ],
            [
             0.2222222222222222,
             "#7201a8"
            ],
            [
             0.3333333333333333,
             "#9c179e"
            ],
            [
             0.4444444444444444,
             "#bd3786"
            ],
            [
             0.5555555555555556,
             "#d8576b"
            ],
            [
             0.6666666666666666,
             "#ed7953"
            ],
            [
             0.7777777777777778,
             "#fb9f3a"
            ],
            [
             0.8888888888888888,
             "#fdca26"
            ],
            [
             1,
             "#f0f921"
            ]
           ],
           "sequentialminus": [
            [
             0,
             "#0d0887"
            ],
            [
             0.1111111111111111,
             "#46039f"
            ],
            [
             0.2222222222222222,
             "#7201a8"
            ],
            [
             0.3333333333333333,
             "#9c179e"
            ],
            [
             0.4444444444444444,
             "#bd3786"
            ],
            [
             0.5555555555555556,
             "#d8576b"
            ],
            [
             0.6666666666666666,
             "#ed7953"
            ],
            [
             0.7777777777777778,
             "#fb9f3a"
            ],
            [
             0.8888888888888888,
             "#fdca26"
            ],
            [
             1,
             "#f0f921"
            ]
           ]
          },
          "colorway": [
           "#636efa",
           "#EF553B",
           "#00cc96",
           "#ab63fa",
           "#FFA15A",
           "#19d3f3",
           "#FF6692",
           "#B6E880",
           "#FF97FF",
           "#FECB52"
          ],
          "font": {
           "color": "#2a3f5f"
          },
          "geo": {
           "bgcolor": "white",
           "lakecolor": "white",
           "landcolor": "white",
           "showlakes": true,
           "showland": true,
           "subunitcolor": "#C8D4E3"
          },
          "hoverlabel": {
           "align": "left"
          },
          "hovermode": "closest",
          "mapbox": {
           "style": "light"
          },
          "paper_bgcolor": "white",
          "plot_bgcolor": "white",
          "polar": {
           "angularaxis": {
            "gridcolor": "#EBF0F8",
            "linecolor": "#EBF0F8",
            "ticks": ""
           },
           "bgcolor": "white",
           "radialaxis": {
            "gridcolor": "#EBF0F8",
            "linecolor": "#EBF0F8",
            "ticks": ""
           }
          },
          "scene": {
           "xaxis": {
            "backgroundcolor": "white",
            "gridcolor": "#DFE8F3",
            "gridwidth": 2,
            "linecolor": "#EBF0F8",
            "showbackground": true,
            "ticks": "",
            "zerolinecolor": "#EBF0F8"
           },
           "yaxis": {
            "backgroundcolor": "white",
            "gridcolor": "#DFE8F3",
            "gridwidth": 2,
            "linecolor": "#EBF0F8",
            "showbackground": true,
            "ticks": "",
            "zerolinecolor": "#EBF0F8"
           },
           "zaxis": {
            "backgroundcolor": "white",
            "gridcolor": "#DFE8F3",
            "gridwidth": 2,
            "linecolor": "#EBF0F8",
            "showbackground": true,
            "ticks": "",
            "zerolinecolor": "#EBF0F8"
           }
          },
          "shapedefaults": {
           "line": {
            "color": "#2a3f5f"
           }
          },
          "ternary": {
           "aaxis": {
            "gridcolor": "#DFE8F3",
            "linecolor": "#A2B1C6",
            "ticks": ""
           },
           "baxis": {
            "gridcolor": "#DFE8F3",
            "linecolor": "#A2B1C6",
            "ticks": ""
           },
           "bgcolor": "white",
           "caxis": {
            "gridcolor": "#DFE8F3",
            "linecolor": "#A2B1C6",
            "ticks": ""
           }
          },
          "title": {
           "x": 0.05
          },
          "xaxis": {
           "automargin": true,
           "gridcolor": "#EBF0F8",
           "linecolor": "#EBF0F8",
           "ticks": "",
           "title": {
            "standoff": 15
           },
           "zerolinecolor": "#EBF0F8",
           "zerolinewidth": 2
          },
          "yaxis": {
           "automargin": true,
           "gridcolor": "#EBF0F8",
           "linecolor": "#EBF0F8",
           "ticks": "",
           "title": {
            "standoff": 15
           },
           "zerolinecolor": "#EBF0F8",
           "zerolinewidth": 2
          }
         }
        },
        "title": {
         "text": "MA(1) con convención X_t = (1 - 0.6B) Z_t"
        },
        "width": 1050,
        "xaxis": {
         "anchor": "y",
         "domain": [
          0,
          0.28600000000000003
         ],
         "range": [
          -1.5,
          1.5
         ],
         "title": {
          "text": "θ"
         }
        },
        "xaxis2": {
         "anchor": "y2",
         "domain": [
          0.3526666666666667,
          0.6386666666666667
         ],
         "title": {
          "text": "k"
         }
        },
        "xaxis3": {
         "anchor": "y3",
         "domain": [
          0.7053333333333334,
          1
         ],
         "title": {
          "text": "k"
         }
        },
        "yaxis": {
         "anchor": "x",
         "domain": [
          0,
          1
         ],
         "visible": false
        },
        "yaxis2": {
         "anchor": "x2",
         "domain": [
          0,
          1
         ],
         "range": [
          -1,
          1
         ],
         "title": {
          "text": "ρ_k"
         }
        },
        "yaxis3": {
         "anchor": "x3",
         "domain": [
          0,
          1
         ],
         "range": [
          -1,
          1
         ],
         "title": {
          "text": "φ_k"
         }
        }
       }
      }
     },
     "metadata": {},
     "output_type": "display_data"
    }
   ],
   "source": [
    "import numpy as np\n",
    "import plotly.graph_objects as go\n",
    "from plotly.subplots import make_subplots\n",
    "\n",
    "# --- util: stem (lineas verticales) ---\n",
    "def stem_trace(x, y, name):\n",
    "    xs, ys = [], []\n",
    "    for xi, yi in zip(x, y):\n",
    "        xs += [xi, xi, None]\n",
    "        ys += [0, yi, None]\n",
    "    lines = go.Scatter(x=xs, y=ys, mode=\"lines\", line=dict(width=2), name=name, showlegend=False)\n",
    "    dots  = go.Scatter(x=x,  y=y,  mode=\"markers\", marker=dict(size=7), name=f\"{name} (•)\", showlegend=False)\n",
    "    return lines, dots\n",
    "\n",
    "# --- FAC teórica MA(1) con convención X_t = (1 - θ B) Z_t ---\n",
    "# nota: en esta convención ρ1 = -θ / (1 + θ^2), y ρk = 0 para k >= 2\n",
    "def acf_ma1(theta, m):\n",
    "    rho = np.zeros(m+1, dtype=float)\n",
    "    rho[0] = 1.0\n",
    "    rho[1] = -theta / (1.0 + theta**2)\n",
    "    lags = np.arange(m+1)\n",
    "    return lags, rho\n",
    "\n",
    "# --- FACP a partir de FAC (Levinson-Durbin \"lite\") ---\n",
    "# pacf[0]=1; pacf[k] = φ_kk del AR(k) que ajusta esa FAC\n",
    "def pacf_from_acf(rho):\n",
    "    m = len(rho) - 1\n",
    "    pacf = np.zeros(m+1, dtype=float)\n",
    "    pacf[0] = 1.0\n",
    "    if m >= 1:\n",
    "        # matrices phi[k][j] (guardamos solo la fila previa para ahorrar)\n",
    "        phi_prev = np.zeros(m+1, dtype=float)\n",
    "        pacf[1] = rho[1]\n",
    "        phi_prev[1] = rho[1]\n",
    "        den_prev = 1.0  # 1 - sum_{j=1}^{k-1} phi_{k-1,j} * rho[j], arranca en 1\n",
    "\n",
    "        for k in range(2, m+1):\n",
    "            # num = rho[k] - sum_{j=1}^{k-1} phi_{k-1,j} * rho[k-j]\n",
    "            num = rho[k] - np.sum(phi_prev[1:k] * rho[1:k][::-1])\n",
    "            # den = 1 - sum_{j=1}^{k-1} phi_{k-1,j} * rho[j]\n",
    "            den = 1.0 - np.sum(phi_prev[1:k] * rho[1:k])\n",
    "            phi_kk = 0.0 if np.isclose(den, 0.0) else num / den\n",
    "            pacf[k] = phi_kk\n",
    "\n",
    "            # actualiza todos los φ_k,j\n",
    "            phi_curr = np.zeros(m+1, dtype=float)\n",
    "            for j in range(1, k):\n",
    "                phi_curr[j] = phi_prev[j] - phi_kk * phi_prev[k-j]\n",
    "            phi_curr[k] = phi_kk\n",
    "\n",
    "            phi_prev = phi_curr\n",
    "            den_prev = den\n",
    "    return pacf\n",
    "\n",
    "def panel_ma1_region_fac_pacf(theta=0.4, m=12, xlim=1.5):\n",
    "    fig = make_subplots(\n",
    "        rows=1, cols=3,\n",
    "        subplot_titles=(\"Región admisible (invertible)\", \"FAC\", \"FACP\"),\n",
    "        column_widths=[0.33, 0.33, 0.34]\n",
    "    )\n",
    "\n",
    "    # --- 1) Región admisible en la recta real (−1 < θ < 1) ---\n",
    "    fig.add_shape(\n",
    "        type=\"rect\",\n",
    "        x0=0, x1=1, y0=0, y1=1,\n",
    "        xref=\"x1\", yref=\"paper\",\n",
    "        fillcolor=\"lightgreen\", opacity=0.35, line_width=0, layer=\"below\"\n",
    "    )\n",
    "    # eje base\n",
    "    fig.add_trace(go.Scatter(x=[-xlim, xlim], y=[0,0], mode=\"lines\",\n",
    "                             line=dict(color=\"gray\", width=2), showlegend=False),\n",
    "                  row=1, col=1)\n",
    "    # marca del theta elegido\n",
    "    fig.add_trace(go.Scatter(x=[theta], y=[0], mode=\"markers\",\n",
    "                             marker=dict(size=12), name=f\"θ={theta}\"),\n",
    "                  row=1, col=1)\n",
    "    fig.update_xaxes(range=[-xlim, xlim], title_text=\"θ\", row=1, col=1)\n",
    "    fig.update_yaxes(visible=False, row=1, col=1)\n",
    "\n",
    "    # --- 2) FAC ---\n",
    "    lags, rho = acf_ma1(theta, m)\n",
    "    lines, dots = stem_trace(lags, rho, \"ρ_k\")\n",
    "    fig.add_trace(lines, row=1, col=2); fig.add_trace(dots, row=1, col=2)\n",
    "    fig.add_hline(y=0, line_dash=\"dot\", line_color=\"gray\", row=1, col=2)\n",
    "    fig.update_yaxes(range=[-1, 1], title_text=\"ρ_k\", row=1, col=2)\n",
    "    fig.update_xaxes(title_text=\"k\", row=1, col=2)\n",
    "\n",
    "    # --- 3) FACP (a partir de la FAC) ---\n",
    "    pacf = pacf_from_acf(rho)\n",
    "    lags_p = np.arange(len(pacf))\n",
    "    lines, dots = stem_trace(lags_p, pacf, \"φ_k (PACF)\")\n",
    "    fig.add_trace(lines, row=1, col=3); fig.add_trace(dots, row=1, col=3)\n",
    "    fig.add_hline(y=0, line_dash=\"dot\", line_color=\"gray\", row=1, col=3)\n",
    "    fig.update_yaxes(range=[-1, 1], title_text=\"φ_k\", row=1, col=3)\n",
    "    fig.update_xaxes(title_text=\"k\", row=1, col=3)\n",
    "\n",
    "    fig.update_layout(template=\"plotly_white\", width=1050, height=360,\n",
    "                      title=f\"MA(1) con convención X_t = (1 - {theta}B) Z_t\")\n",
    "    return fig\n",
    "\n",
    "# ================== USO ==================\n",
    "# ejemplo: θ = -0.4 (recuerda: convención con signo 'menos' en el polinomio)\n",
    "fig = panel_ma1_region_fac_pacf(theta=0.6, m=12, xlim=1.5)\n",
    "fig.show()\n"
   ]
  },
  {
   "cell_type": "markdown",
   "id": "fd1ad66c",
   "metadata": {},
   "source": [
    "\n",
    "**Modelo**\n",
    "\n",
    "$$\n",
    "W_t = (1 - \\theta B) a_t\n",
    "$$\n",
    "\n",
    "Se muestra la región para $0 < \\theta < 1$ en la línea del eje horizontal de la figura.\n",
    "\n",
    "\n",
    "**FAC teórica**\n",
    "\n",
    "- Comportamiento de la **Función de Autocorrelación (FAC)**:\n",
    "\n",
    "$$\n",
    "\\rho_k =\n",
    "\\begin{cases}\n",
    "\\displaystyle\\frac{-\\theta}{1 + \\theta^2} & \\text{si } k = 1 \\\\\n",
    "0 & \\text{si } k \\geq 2\n",
    "\\end{cases}\n",
    "$$\n",
    "\n",
    "- Solo la **primera autocorrelación** es distinta de cero.\n",
    "- Además, se cumple:\n",
    "\n",
    "$$\n",
    "|\\rho_1| \\leq 0.5\n",
    "$$\n",
    "\n",
    "- En esta región, la autocorrelación es **negativa**: $\\rho_1 < 0$\n",
    "\n",
    "\n",
    "\n",
    "**FACP teórica**\n",
    "\n",
    ">La **Función de Autocorrelación Parcial (FACP)** decae rápidamente y es casi nula después de los primeros lags.\n",
    "\n",
    "\n",
    "\n",
    "\n",
    "\n"
   ]
  },
  {
   "cell_type": "markdown",
   "id": "91108b4a",
   "metadata": {},
   "source": [
    "---\n",
    "\n",
    "**Región Admisible #2**\n",
    "\n",
    "Para esta región del modelo MA(1) se cumple:\n",
    "\n",
    "- $-1 < \\theta < 0$\n",
    "\n"
   ]
  },
  {
   "cell_type": "code",
   "execution_count": 4,
   "id": "943f6670",
   "metadata": {},
   "outputs": [
    {
     "data": {
      "application/vnd.plotly.v1+json": {
       "config": {
        "plotlyServerURL": "https://plot.ly"
       },
       "data": [
        {
         "line": {
          "color": "gray",
          "width": 2
         },
         "mode": "lines",
         "showlegend": false,
         "type": "scatter",
         "x": [
          -1.5,
          1.5
         ],
         "xaxis": "x",
         "y": [
          0,
          0
         ],
         "yaxis": "y"
        },
        {
         "marker": {
          "size": 12
         },
         "mode": "markers",
         "name": "θ=-0.4",
         "type": "scatter",
         "x": [
          -0.4
         ],
         "xaxis": "x",
         "y": [
          0
         ],
         "yaxis": "y"
        },
        {
         "line": {
          "width": 2
         },
         "mode": "lines",
         "name": "ρ_k",
         "showlegend": false,
         "type": "scatter",
         "x": [
          0,
          0,
          null,
          1,
          1,
          null,
          2,
          2,
          null,
          3,
          3,
          null,
          4,
          4,
          null,
          5,
          5,
          null,
          6,
          6,
          null,
          7,
          7,
          null,
          8,
          8,
          null,
          9,
          9,
          null,
          10,
          10,
          null,
          11,
          11,
          null,
          12,
          12,
          null
         ],
         "xaxis": "x2",
         "y": [
          0,
          1,
          null,
          0,
          0.3448275862068965,
          null,
          0,
          0,
          null,
          0,
          0,
          null,
          0,
          0,
          null,
          0,
          0,
          null,
          0,
          0,
          null,
          0,
          0,
          null,
          0,
          0,
          null,
          0,
          0,
          null,
          0,
          0,
          null,
          0,
          0,
          null,
          0,
          0,
          null
         ],
         "yaxis": "y2"
        },
        {
         "marker": {
          "size": 7
         },
         "mode": "markers",
         "name": "ρ_k (•)",
         "showlegend": false,
         "type": "scatter",
         "x": {
          "bdata": "AAECAwQFBgcICQoLDA==",
          "dtype": "i1"
         },
         "xaxis": "x2",
         "y": {
          "bdata": "AAAAAAAA8D97GmG5pxHWPwAAAAAAAAAAAAAAAAAAAAAAAAAAAAAAAAAAAAAAAAAAAAAAAAAAAAAAAAAAAAAAAAAAAAAAAAAAAAAAAAAAAAAAAAAAAAAAAAAAAAAAAAAAAAAAAAAAAAA=",
          "dtype": "f8"
         },
         "yaxis": "y2"
        },
        {
         "line": {
          "width": 2
         },
         "mode": "lines",
         "name": "φ_k (PACF)",
         "showlegend": false,
         "type": "scatter",
         "x": [
          0,
          0,
          null,
          1,
          1,
          null,
          2,
          2,
          null,
          3,
          3,
          null,
          4,
          4,
          null,
          5,
          5,
          null,
          6,
          6,
          null,
          7,
          7,
          null,
          8,
          8,
          null,
          9,
          9,
          null,
          10,
          10,
          null,
          11,
          11,
          null,
          12,
          12,
          null
         ],
         "xaxis": "x3",
         "y": [
          0,
          1,
          null,
          0,
          0.3448275862068965,
          null,
          0,
          -0.13495276653171387,
          null,
          0,
          0.053795255258486184,
          null,
          0,
          -0.021506255094294165,
          null,
          0,
          0.008601744313322316,
          null,
          0,
          -0.0034406492359224635,
          null,
          0,
          0.001376256591097704,
          null,
          0,
          -0.000550502437830239,
          null,
          0,
          0.00022020096242113496,
          null,
          0,
          -0.00008808038415495256,
          null,
          0,
          0.00003523215360991693,
          null,
          0,
          -0.00001409286144063467,
          null
         ],
         "yaxis": "y3"
        },
        {
         "marker": {
          "size": 7
         },
         "mode": "markers",
         "name": "φ_k (PACF) (•)",
         "showlegend": false,
         "type": "scatter",
         "x": {
          "bdata": "AAECAwQFBgcICQoLDA==",
          "dtype": "i1"
         },
         "xaxis": "x3",
         "y": {
          "bdata": "AAAAAAAA8D97GmG5pxHWP2EUYdshRsG/Y8QHPA2Lqz+CXyhZvAWWv1U7HZTKnYE/+tk/fpAvbL88xy1DcIxWP4O2wfvyCUK/Vk5C3bfcLD8/uTp6+RYXv36KhpTHeAI/rkC5IAyO7b4=",
          "dtype": "f8"
         },
         "yaxis": "y3"
        }
       ],
       "layout": {
        "annotations": [
         {
          "font": {
           "size": 16
          },
          "showarrow": false,
          "text": "Región admisible (invertible)",
          "x": 0.14300000000000002,
          "xanchor": "center",
          "xref": "paper",
          "y": 1,
          "yanchor": "bottom",
          "yref": "paper"
         },
         {
          "font": {
           "size": 16
          },
          "showarrow": false,
          "text": "FAC",
          "x": 0.4956666666666667,
          "xanchor": "center",
          "xref": "paper",
          "y": 1,
          "yanchor": "bottom",
          "yref": "paper"
         },
         {
          "font": {
           "size": 16
          },
          "showarrow": false,
          "text": "FACP",
          "x": 0.8526666666666667,
          "xanchor": "center",
          "xref": "paper",
          "y": 1,
          "yanchor": "bottom",
          "yref": "paper"
         }
        ],
        "height": 360,
        "shapes": [
         {
          "fillcolor": "lightgreen",
          "layer": "below",
          "line": {
           "width": 0
          },
          "opacity": 0.35,
          "type": "rect",
          "x0": -1,
          "x1": 0,
          "xref": "x",
          "y0": 0,
          "y1": 1,
          "yref": "paper"
         },
         {
          "line": {
           "color": "gray",
           "dash": "dot"
          },
          "type": "line",
          "x0": 0,
          "x1": 1,
          "xref": "x2 domain",
          "y0": 0,
          "y1": 0,
          "yref": "y2"
         },
         {
          "line": {
           "color": "gray",
           "dash": "dot"
          },
          "type": "line",
          "x0": 0,
          "x1": 1,
          "xref": "x3 domain",
          "y0": 0,
          "y1": 0,
          "yref": "y3"
         }
        ],
        "template": {
         "data": {
          "bar": [
           {
            "error_x": {
             "color": "#2a3f5f"
            },
            "error_y": {
             "color": "#2a3f5f"
            },
            "marker": {
             "line": {
              "color": "white",
              "width": 0.5
             },
             "pattern": {
              "fillmode": "overlay",
              "size": 10,
              "solidity": 0.2
             }
            },
            "type": "bar"
           }
          ],
          "barpolar": [
           {
            "marker": {
             "line": {
              "color": "white",
              "width": 0.5
             },
             "pattern": {
              "fillmode": "overlay",
              "size": 10,
              "solidity": 0.2
             }
            },
            "type": "barpolar"
           }
          ],
          "carpet": [
           {
            "aaxis": {
             "endlinecolor": "#2a3f5f",
             "gridcolor": "#C8D4E3",
             "linecolor": "#C8D4E3",
             "minorgridcolor": "#C8D4E3",
             "startlinecolor": "#2a3f5f"
            },
            "baxis": {
             "endlinecolor": "#2a3f5f",
             "gridcolor": "#C8D4E3",
             "linecolor": "#C8D4E3",
             "minorgridcolor": "#C8D4E3",
             "startlinecolor": "#2a3f5f"
            },
            "type": "carpet"
           }
          ],
          "choropleth": [
           {
            "colorbar": {
             "outlinewidth": 0,
             "ticks": ""
            },
            "type": "choropleth"
           }
          ],
          "contour": [
           {
            "colorbar": {
             "outlinewidth": 0,
             "ticks": ""
            },
            "colorscale": [
             [
              0,
              "#0d0887"
             ],
             [
              0.1111111111111111,
              "#46039f"
             ],
             [
              0.2222222222222222,
              "#7201a8"
             ],
             [
              0.3333333333333333,
              "#9c179e"
             ],
             [
              0.4444444444444444,
              "#bd3786"
             ],
             [
              0.5555555555555556,
              "#d8576b"
             ],
             [
              0.6666666666666666,
              "#ed7953"
             ],
             [
              0.7777777777777778,
              "#fb9f3a"
             ],
             [
              0.8888888888888888,
              "#fdca26"
             ],
             [
              1,
              "#f0f921"
             ]
            ],
            "type": "contour"
           }
          ],
          "contourcarpet": [
           {
            "colorbar": {
             "outlinewidth": 0,
             "ticks": ""
            },
            "type": "contourcarpet"
           }
          ],
          "heatmap": [
           {
            "colorbar": {
             "outlinewidth": 0,
             "ticks": ""
            },
            "colorscale": [
             [
              0,
              "#0d0887"
             ],
             [
              0.1111111111111111,
              "#46039f"
             ],
             [
              0.2222222222222222,
              "#7201a8"
             ],
             [
              0.3333333333333333,
              "#9c179e"
             ],
             [
              0.4444444444444444,
              "#bd3786"
             ],
             [
              0.5555555555555556,
              "#d8576b"
             ],
             [
              0.6666666666666666,
              "#ed7953"
             ],
             [
              0.7777777777777778,
              "#fb9f3a"
             ],
             [
              0.8888888888888888,
              "#fdca26"
             ],
             [
              1,
              "#f0f921"
             ]
            ],
            "type": "heatmap"
           }
          ],
          "histogram": [
           {
            "marker": {
             "pattern": {
              "fillmode": "overlay",
              "size": 10,
              "solidity": 0.2
             }
            },
            "type": "histogram"
           }
          ],
          "histogram2d": [
           {
            "colorbar": {
             "outlinewidth": 0,
             "ticks": ""
            },
            "colorscale": [
             [
              0,
              "#0d0887"
             ],
             [
              0.1111111111111111,
              "#46039f"
             ],
             [
              0.2222222222222222,
              "#7201a8"
             ],
             [
              0.3333333333333333,
              "#9c179e"
             ],
             [
              0.4444444444444444,
              "#bd3786"
             ],
             [
              0.5555555555555556,
              "#d8576b"
             ],
             [
              0.6666666666666666,
              "#ed7953"
             ],
             [
              0.7777777777777778,
              "#fb9f3a"
             ],
             [
              0.8888888888888888,
              "#fdca26"
             ],
             [
              1,
              "#f0f921"
             ]
            ],
            "type": "histogram2d"
           }
          ],
          "histogram2dcontour": [
           {
            "colorbar": {
             "outlinewidth": 0,
             "ticks": ""
            },
            "colorscale": [
             [
              0,
              "#0d0887"
             ],
             [
              0.1111111111111111,
              "#46039f"
             ],
             [
              0.2222222222222222,
              "#7201a8"
             ],
             [
              0.3333333333333333,
              "#9c179e"
             ],
             [
              0.4444444444444444,
              "#bd3786"
             ],
             [
              0.5555555555555556,
              "#d8576b"
             ],
             [
              0.6666666666666666,
              "#ed7953"
             ],
             [
              0.7777777777777778,
              "#fb9f3a"
             ],
             [
              0.8888888888888888,
              "#fdca26"
             ],
             [
              1,
              "#f0f921"
             ]
            ],
            "type": "histogram2dcontour"
           }
          ],
          "mesh3d": [
           {
            "colorbar": {
             "outlinewidth": 0,
             "ticks": ""
            },
            "type": "mesh3d"
           }
          ],
          "parcoords": [
           {
            "line": {
             "colorbar": {
              "outlinewidth": 0,
              "ticks": ""
             }
            },
            "type": "parcoords"
           }
          ],
          "pie": [
           {
            "automargin": true,
            "type": "pie"
           }
          ],
          "scatter": [
           {
            "fillpattern": {
             "fillmode": "overlay",
             "size": 10,
             "solidity": 0.2
            },
            "type": "scatter"
           }
          ],
          "scatter3d": [
           {
            "line": {
             "colorbar": {
              "outlinewidth": 0,
              "ticks": ""
             }
            },
            "marker": {
             "colorbar": {
              "outlinewidth": 0,
              "ticks": ""
             }
            },
            "type": "scatter3d"
           }
          ],
          "scattercarpet": [
           {
            "marker": {
             "colorbar": {
              "outlinewidth": 0,
              "ticks": ""
             }
            },
            "type": "scattercarpet"
           }
          ],
          "scattergeo": [
           {
            "marker": {
             "colorbar": {
              "outlinewidth": 0,
              "ticks": ""
             }
            },
            "type": "scattergeo"
           }
          ],
          "scattergl": [
           {
            "marker": {
             "colorbar": {
              "outlinewidth": 0,
              "ticks": ""
             }
            },
            "type": "scattergl"
           }
          ],
          "scattermap": [
           {
            "marker": {
             "colorbar": {
              "outlinewidth": 0,
              "ticks": ""
             }
            },
            "type": "scattermap"
           }
          ],
          "scattermapbox": [
           {
            "marker": {
             "colorbar": {
              "outlinewidth": 0,
              "ticks": ""
             }
            },
            "type": "scattermapbox"
           }
          ],
          "scatterpolar": [
           {
            "marker": {
             "colorbar": {
              "outlinewidth": 0,
              "ticks": ""
             }
            },
            "type": "scatterpolar"
           }
          ],
          "scatterpolargl": [
           {
            "marker": {
             "colorbar": {
              "outlinewidth": 0,
              "ticks": ""
             }
            },
            "type": "scatterpolargl"
           }
          ],
          "scatterternary": [
           {
            "marker": {
             "colorbar": {
              "outlinewidth": 0,
              "ticks": ""
             }
            },
            "type": "scatterternary"
           }
          ],
          "surface": [
           {
            "colorbar": {
             "outlinewidth": 0,
             "ticks": ""
            },
            "colorscale": [
             [
              0,
              "#0d0887"
             ],
             [
              0.1111111111111111,
              "#46039f"
             ],
             [
              0.2222222222222222,
              "#7201a8"
             ],
             [
              0.3333333333333333,
              "#9c179e"
             ],
             [
              0.4444444444444444,
              "#bd3786"
             ],
             [
              0.5555555555555556,
              "#d8576b"
             ],
             [
              0.6666666666666666,
              "#ed7953"
             ],
             [
              0.7777777777777778,
              "#fb9f3a"
             ],
             [
              0.8888888888888888,
              "#fdca26"
             ],
             [
              1,
              "#f0f921"
             ]
            ],
            "type": "surface"
           }
          ],
          "table": [
           {
            "cells": {
             "fill": {
              "color": "#EBF0F8"
             },
             "line": {
              "color": "white"
             }
            },
            "header": {
             "fill": {
              "color": "#C8D4E3"
             },
             "line": {
              "color": "white"
             }
            },
            "type": "table"
           }
          ]
         },
         "layout": {
          "annotationdefaults": {
           "arrowcolor": "#2a3f5f",
           "arrowhead": 0,
           "arrowwidth": 1
          },
          "autotypenumbers": "strict",
          "coloraxis": {
           "colorbar": {
            "outlinewidth": 0,
            "ticks": ""
           }
          },
          "colorscale": {
           "diverging": [
            [
             0,
             "#8e0152"
            ],
            [
             0.1,
             "#c51b7d"
            ],
            [
             0.2,
             "#de77ae"
            ],
            [
             0.3,
             "#f1b6da"
            ],
            [
             0.4,
             "#fde0ef"
            ],
            [
             0.5,
             "#f7f7f7"
            ],
            [
             0.6,
             "#e6f5d0"
            ],
            [
             0.7,
             "#b8e186"
            ],
            [
             0.8,
             "#7fbc41"
            ],
            [
             0.9,
             "#4d9221"
            ],
            [
             1,
             "#276419"
            ]
           ],
           "sequential": [
            [
             0,
             "#0d0887"
            ],
            [
             0.1111111111111111,
             "#46039f"
            ],
            [
             0.2222222222222222,
             "#7201a8"
            ],
            [
             0.3333333333333333,
             "#9c179e"
            ],
            [
             0.4444444444444444,
             "#bd3786"
            ],
            [
             0.5555555555555556,
             "#d8576b"
            ],
            [
             0.6666666666666666,
             "#ed7953"
            ],
            [
             0.7777777777777778,
             "#fb9f3a"
            ],
            [
             0.8888888888888888,
             "#fdca26"
            ],
            [
             1,
             "#f0f921"
            ]
           ],
           "sequentialminus": [
            [
             0,
             "#0d0887"
            ],
            [
             0.1111111111111111,
             "#46039f"
            ],
            [
             0.2222222222222222,
             "#7201a8"
            ],
            [
             0.3333333333333333,
             "#9c179e"
            ],
            [
             0.4444444444444444,
             "#bd3786"
            ],
            [
             0.5555555555555556,
             "#d8576b"
            ],
            [
             0.6666666666666666,
             "#ed7953"
            ],
            [
             0.7777777777777778,
             "#fb9f3a"
            ],
            [
             0.8888888888888888,
             "#fdca26"
            ],
            [
             1,
             "#f0f921"
            ]
           ]
          },
          "colorway": [
           "#636efa",
           "#EF553B",
           "#00cc96",
           "#ab63fa",
           "#FFA15A",
           "#19d3f3",
           "#FF6692",
           "#B6E880",
           "#FF97FF",
           "#FECB52"
          ],
          "font": {
           "color": "#2a3f5f"
          },
          "geo": {
           "bgcolor": "white",
           "lakecolor": "white",
           "landcolor": "white",
           "showlakes": true,
           "showland": true,
           "subunitcolor": "#C8D4E3"
          },
          "hoverlabel": {
           "align": "left"
          },
          "hovermode": "closest",
          "mapbox": {
           "style": "light"
          },
          "paper_bgcolor": "white",
          "plot_bgcolor": "white",
          "polar": {
           "angularaxis": {
            "gridcolor": "#EBF0F8",
            "linecolor": "#EBF0F8",
            "ticks": ""
           },
           "bgcolor": "white",
           "radialaxis": {
            "gridcolor": "#EBF0F8",
            "linecolor": "#EBF0F8",
            "ticks": ""
           }
          },
          "scene": {
           "xaxis": {
            "backgroundcolor": "white",
            "gridcolor": "#DFE8F3",
            "gridwidth": 2,
            "linecolor": "#EBF0F8",
            "showbackground": true,
            "ticks": "",
            "zerolinecolor": "#EBF0F8"
           },
           "yaxis": {
            "backgroundcolor": "white",
            "gridcolor": "#DFE8F3",
            "gridwidth": 2,
            "linecolor": "#EBF0F8",
            "showbackground": true,
            "ticks": "",
            "zerolinecolor": "#EBF0F8"
           },
           "zaxis": {
            "backgroundcolor": "white",
            "gridcolor": "#DFE8F3",
            "gridwidth": 2,
            "linecolor": "#EBF0F8",
            "showbackground": true,
            "ticks": "",
            "zerolinecolor": "#EBF0F8"
           }
          },
          "shapedefaults": {
           "line": {
            "color": "#2a3f5f"
           }
          },
          "ternary": {
           "aaxis": {
            "gridcolor": "#DFE8F3",
            "linecolor": "#A2B1C6",
            "ticks": ""
           },
           "baxis": {
            "gridcolor": "#DFE8F3",
            "linecolor": "#A2B1C6",
            "ticks": ""
           },
           "bgcolor": "white",
           "caxis": {
            "gridcolor": "#DFE8F3",
            "linecolor": "#A2B1C6",
            "ticks": ""
           }
          },
          "title": {
           "x": 0.05
          },
          "xaxis": {
           "automargin": true,
           "gridcolor": "#EBF0F8",
           "linecolor": "#EBF0F8",
           "ticks": "",
           "title": {
            "standoff": 15
           },
           "zerolinecolor": "#EBF0F8",
           "zerolinewidth": 2
          },
          "yaxis": {
           "automargin": true,
           "gridcolor": "#EBF0F8",
           "linecolor": "#EBF0F8",
           "ticks": "",
           "title": {
            "standoff": 15
           },
           "zerolinecolor": "#EBF0F8",
           "zerolinewidth": 2
          }
         }
        },
        "title": {
         "text": "MA(1) con convención X_t = (1 - -0.4B) Z_t"
        },
        "width": 1050,
        "xaxis": {
         "anchor": "y",
         "domain": [
          0,
          0.28600000000000003
         ],
         "range": [
          -1.5,
          1.5
         ],
         "title": {
          "text": "θ"
         }
        },
        "xaxis2": {
         "anchor": "y2",
         "domain": [
          0.3526666666666667,
          0.6386666666666667
         ],
         "title": {
          "text": "k"
         }
        },
        "xaxis3": {
         "anchor": "y3",
         "domain": [
          0.7053333333333334,
          1
         ],
         "title": {
          "text": "k"
         }
        },
        "yaxis": {
         "anchor": "x",
         "domain": [
          0,
          1
         ],
         "visible": false
        },
        "yaxis2": {
         "anchor": "x2",
         "domain": [
          0,
          1
         ],
         "range": [
          -1,
          1
         ],
         "title": {
          "text": "ρ_k"
         }
        },
        "yaxis3": {
         "anchor": "x3",
         "domain": [
          0,
          1
         ],
         "range": [
          -1,
          1
         ],
         "title": {
          "text": "φ_k"
         }
        }
       }
      }
     },
     "metadata": {},
     "output_type": "display_data"
    }
   ],
   "source": [
    "import numpy as np\n",
    "import plotly.graph_objects as go\n",
    "from plotly.subplots import make_subplots\n",
    "\n",
    "# --- util: stem (lineas verticales) ---\n",
    "def stem_trace(x, y, name):\n",
    "    xs, ys = [], []\n",
    "    for xi, yi in zip(x, y):\n",
    "        xs += [xi, xi, None]\n",
    "        ys += [0, yi, None]\n",
    "    lines = go.Scatter(x=xs, y=ys, mode=\"lines\", line=dict(width=2), name=name, showlegend=False)\n",
    "    dots  = go.Scatter(x=x,  y=y,  mode=\"markers\", marker=dict(size=7), name=f\"{name} (•)\", showlegend=False)\n",
    "    return lines, dots\n",
    "\n",
    "# --- FAC teórica MA(1) con convención X_t = (1 - θ B) Z_t ---\n",
    "# nota: en esta convención ρ1 = -θ / (1 + θ^2), y ρk = 0 para k >= 2\n",
    "def acf_ma1(theta, m):\n",
    "    rho = np.zeros(m+1, dtype=float)\n",
    "    rho[0] = 1.0\n",
    "    rho[1] = -theta / (1.0 + theta**2)\n",
    "    lags = np.arange(m+1)\n",
    "    return lags, rho\n",
    "\n",
    "# --- FACP a partir de FAC (Levinson-Durbin \"lite\") ---\n",
    "# pacf[0]=1; pacf[k] = φ_kk del AR(k) que ajusta esa FAC\n",
    "def pacf_from_acf(rho):\n",
    "    m = len(rho) - 1\n",
    "    pacf = np.zeros(m+1, dtype=float)\n",
    "    pacf[0] = 1.0\n",
    "    if m >= 1:\n",
    "        # matrices phi[k][j] (guardamos solo la fila previa para ahorrar)\n",
    "        phi_prev = np.zeros(m+1, dtype=float)\n",
    "        pacf[1] = rho[1]\n",
    "        phi_prev[1] = rho[1]\n",
    "        den_prev = 1.0  # 1 - sum_{j=1}^{k-1} phi_{k-1,j} * rho[j], arranca en 1\n",
    "\n",
    "        for k in range(2, m+1):\n",
    "            # num = rho[k] - sum_{j=1}^{k-1} phi_{k-1,j} * rho[k-j]\n",
    "            num = rho[k] - np.sum(phi_prev[1:k] * rho[1:k][::-1])\n",
    "            # den = 1 - sum_{j=1}^{k-1} phi_{k-1,j} * rho[j]\n",
    "            den = 1.0 - np.sum(phi_prev[1:k] * rho[1:k])\n",
    "            phi_kk = 0.0 if np.isclose(den, 0.0) else num / den\n",
    "            pacf[k] = phi_kk\n",
    "\n",
    "            # actualiza todos los φ_k,j\n",
    "            phi_curr = np.zeros(m+1, dtype=float)\n",
    "            for j in range(1, k):\n",
    "                phi_curr[j] = phi_prev[j] - phi_kk * phi_prev[k-j]\n",
    "            phi_curr[k] = phi_kk\n",
    "\n",
    "            phi_prev = phi_curr\n",
    "            den_prev = den\n",
    "    return pacf\n",
    "\n",
    "def panel_ma1_region_fac_pacf(theta=0.4, m=12, xlim=1.5):\n",
    "    fig = make_subplots(\n",
    "        rows=1, cols=3,\n",
    "        subplot_titles=(\"Región admisible (invertible)\", \"FAC\", \"FACP\"),\n",
    "        column_widths=[0.33, 0.33, 0.34]\n",
    "    )\n",
    "\n",
    "    # --- 1) Región admisible en la recta real (−1 < θ < 1) ---\n",
    "    fig.add_shape(\n",
    "        type=\"rect\",\n",
    "        x0=-1, x1=0, y0=0, y1=1,\n",
    "        xref=\"x1\", yref=\"paper\",\n",
    "        fillcolor=\"lightgreen\", opacity=0.35, line_width=0, layer=\"below\"\n",
    "    )\n",
    "    # eje base\n",
    "    fig.add_trace(go.Scatter(x=[-xlim, xlim], y=[0,0], mode=\"lines\",\n",
    "                             line=dict(color=\"gray\", width=2), showlegend=False),\n",
    "                  row=1, col=1)\n",
    "    # marca del theta elegido\n",
    "    fig.add_trace(go.Scatter(x=[theta], y=[0], mode=\"markers\",\n",
    "                             marker=dict(size=12), name=f\"θ={theta}\"),\n",
    "                  row=1, col=1)\n",
    "    fig.update_xaxes(range=[-xlim, xlim], title_text=\"θ\", row=1, col=1)\n",
    "    fig.update_yaxes(visible=False, row=1, col=1)\n",
    "\n",
    "    # --- 2) FAC ---\n",
    "    lags, rho = acf_ma1(theta, m)\n",
    "    lines, dots = stem_trace(lags, rho, \"ρ_k\")\n",
    "    fig.add_trace(lines, row=1, col=2); fig.add_trace(dots, row=1, col=2)\n",
    "    fig.add_hline(y=0, line_dash=\"dot\", line_color=\"gray\", row=1, col=2)\n",
    "    fig.update_yaxes(range=[-1, 1], title_text=\"ρ_k\", row=1, col=2)\n",
    "    fig.update_xaxes(title_text=\"k\", row=1, col=2)\n",
    "\n",
    "    # --- 3) FACP (a partir de la FAC) ---\n",
    "    pacf = pacf_from_acf(rho)\n",
    "    lags_p = np.arange(len(pacf))\n",
    "    lines, dots = stem_trace(lags_p, pacf, \"φ_k (PACF)\")\n",
    "    fig.add_trace(lines, row=1, col=3); fig.add_trace(dots, row=1, col=3)\n",
    "    fig.add_hline(y=0, line_dash=\"dot\", line_color=\"gray\", row=1, col=3)\n",
    "    fig.update_yaxes(range=[-1, 1], title_text=\"φ_k\", row=1, col=3)\n",
    "    fig.update_xaxes(title_text=\"k\", row=1, col=3)\n",
    "\n",
    "    fig.update_layout(template=\"plotly_white\", width=1050, height=360,\n",
    "                      title=f\"MA(1) con convención X_t = (1 - {theta}B) Z_t\")\n",
    "    return fig\n",
    "\n",
    "# ================== USO ==================\n",
    "# ejemplo: θ = -0.4 (recuerda: convención con signo 'menos' en el polinomio)\n",
    "fig = panel_ma1_region_fac_pacf(theta=-0.4, m=12, xlim=1.5)\n",
    "fig.show()\n"
   ]
  },
  {
   "cell_type": "markdown",
   "id": "958fa527",
   "metadata": {},
   "source": [
    "\n",
    "\n",
    "**Modelo**\n",
    "\n",
    "$$\n",
    "W_t = (1 - \\theta B) a_t\n",
    "$$\n",
    "\n",
    "Ejemplo específico:\n",
    "\n",
    "- $\\theta = -0.4$\n",
    "\n",
    "**FAC teórica:**\n",
    "\n",
    "Se utiliza la fórmula:\n",
    "\n",
    "$$\n",
    "\\rho_k =\n",
    "\\begin{cases}\n",
    "\\displaystyle\\frac{-\\theta}{1 + \\theta^2} & \\text{si } k = 1 \\\\\n",
    "0 & \\text{si } k \\geq 2\n",
    "\\end{cases}\n",
    "$$\n",
    "\n",
    "Sustituyendo:\n",
    "\n",
    "$$\n",
    "\\rho_1 = \\frac{-(-0.4)}{1 + (-0.4)^2} = \\frac{0.4}{1 + 0.16} = \\frac{0.4}{1.16} \\approx 0.3448\n",
    "$$\n",
    "\n",
    "Entonces:\n",
    "\n",
    "- $\\rho_1 \\approx 0.34 > 0$\n",
    "- $\\rho_k = 0$ para $k \\geq 2$\n"
   ]
  },
  {
   "cell_type": "markdown",
   "id": "7bc4695c",
   "metadata": {},
   "source": [
    "---\n",
    "\n",
    "## **Considere un proceso MA(2):**\n",
    "\n",
    "$$\n",
    "(1 - \\theta_1 B - \\theta_2 B^2) \\alpha_t = W_t \\quad ; \\quad \\alpha_t \\sim WN(0, \\sigma^2)\n",
    "$$\n",
    "\n",
    "\n",
    "**Condiciones para probar invertibilidad:**\n",
    "\n",
    "1. $|\\theta_2| < 1$\n",
    "\n",
    "2. $\\theta_2 + \\theta_1 < 1$\n",
    "\n",
    "3. $\\theta_2 - \\theta_1 < 1$\n",
    "\n",
    "---\n",
    "\n",
    "### **De aquí surgen las siguientes regiones admisibles**\n",
    "\n",
    "---\n"
   ]
  },
  {
   "cell_type": "code",
   "execution_count": 9,
   "id": "14988e36",
   "metadata": {},
   "outputs": [],
   "source": [
    "import numpy as np\n",
    "import plotly.graph_objects as go\n",
    "\n",
    "def ma2_region_quad(theta1_point=0.4, theta2_point=0.2):\n",
    "    x = np.linspace(-2, 2, 600)\n",
    "    \n",
    "\n",
    "    # fronteras del triángulo (estacionariedad)\n",
    "    tri_x = [-2, 2, 0, -2]\n",
    "    tri_y = [ -1, -1,1,  -1]\n",
    "\n",
    "    # curvas de referencia\n",
    "    disc = -0.25 * x**2          # parábola Δ=0\n",
    "    y0   = np.zeros_like(x)      # φ2 = 0\n",
    "\n",
    "    fig = go.Figure()\n",
    "\n",
    "    \n",
    "    \n",
    "    # triángulo\n",
    "    fig.add_trace(go.Scatter(x=tri_x, y=tri_y, mode=\"lines\",\n",
    "                             line=dict(color=\"black\", width=1), # Borde negro\n",
    "                             fill=\"toself\", fillcolor=\"rgba(144, 238, 144, 0.4)\", # Verde claro con transparencia\n",
    "                             name=\"Región de Estacionariedad\"))\n",
    "\n",
    "    # parábola (discriminante)\n",
    "    fig.add_trace(go.Scatter(x=x, y=disc, mode=\"lines\",\n",
    "                             line=dict(color=\"black\", width=2, dash=\"dot\"),\n",
    "                             name=\"Δ=0  (θ₂ = −¼ θ₁²)\"))\n",
    "\n",
    "\n",
    "\n",
    "\n",
    "    # marcas en los vértices\n",
    "    fig.add_trace(go.Scatter(x=[-2, 2, 0], y=[1, 1, -1], mode=\"markers+text\",\n",
    "                             marker=dict(size=6, color=\"black\"),\n",
    "                             text=[\"(-2,1)\", \"(2,1)\", \"(0,-1)\"],\n",
    "                             textposition=\"top center\",\n",
    "                             showlegend=False))\n",
    "\n",
    "    # tu punto\n",
    "    fig.add_trace(go.Scatter(x=[theta1_point], y=[theta2_point], mode=\"markers+text\",\n",
    "                             marker=dict(size=12, color=\"red\", symbol=\"circle\"),\n",
    "                             text=[f\"({theta1_point:.2f}, {theta2_point:.2f})\"],\n",
    "                             textposition=\"bottom center\",\n",
    "                             name=\"punto (θ₁, θ₂)\"))\n",
    "\n",
    "    # etiquetas rápidas de sub-regiones (opcional)\n",
    "    fig.add_annotation(x=-1.0, y=0.3, text=\"Real\\n(θ₁<0)\", showarrow=False)\n",
    "    fig.add_annotation(x= 1.0, y=0.3, text=\"Real\\n(θ₁>0)\", showarrow=False)\n",
    "    fig.add_annotation(x=-1.0, y=-0.6, text=\"Compleja\\n(θ₁<0)\", showarrow=False)\n",
    "    fig.add_annotation(x= 1.0, y=-0.6, text=\"Compleja\\n(θ₁>0)\", showarrow=False)\n",
    "\n",
    "    if theta1_point < 0:\n",
    "        if (theta1_point**2 + 4*theta2_point)<0:\n",
    "            region = 3\n",
    "        else:\n",
    "            region = 1\n",
    "    else:\n",
    "        if (theta1_point**2 + 4*theta2_point)<0:\n",
    "            region = 4\n",
    "        else:\n",
    "            region =2\n",
    "\n",
    "    fig.update_layout(\n",
    "        template=\"simple_white\",\n",
    "        width=700, height=520,\n",
    "        title=f\"MA(2)<br> Triángulo de estacionariedad + parábola del discriminante<br>Punto en Región {region}\",\n",
    "        xaxis=dict(title=\"θ₁\", range=[-2.2, 2.2], zeroline=True),\n",
    "        yaxis=dict(title=\"θ₂\", range=[-1.3, 1.3], zeroline=False),\n",
    "        showlegend=False\n",
    "    )\n",
    "    return fig\n",
    "\n"
   ]
  },
  {
   "cell_type": "markdown",
   "id": "cb9ca01f",
   "metadata": {},
   "source": [
    "**Región Admisible #1: Discriminante > 0 y θ₁ < 0**"
   ]
  },
  {
   "cell_type": "code",
   "execution_count": null,
   "id": "2af6dbf7",
   "metadata": {},
   "outputs": [
    {
     "data": {
      "application/vnd.plotly.v1+json": {
       "config": {
        "plotlyServerURL": "https://plot.ly"
       },
       "data": [
        {
         "fill": "toself",
         "fillcolor": "rgba(144, 238, 144, 0.4)",
         "line": {
          "color": "black",
          "width": 1
         },
         "mode": "lines",
         "name": "Región de Estacionariedad",
         "type": "scatter",
         "x": [
          -2,
          2,
          0,
          -2
         ],
         "y": [
          -1,
          -1,
          1,
          -1
         ]
        },
        {
         "line": {
          "color": "black",
          "dash": "dot",
          "width": 2
         },
         "mode": "lines",
         "name": "Δ=0  (θ₂ = −¼ θ₁²)",
         "type": "scatter",
         "x": {
          "bdata": "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",
          "dtype": "f8"
         },
         "y": {
          "bdata": "AAAAAAAA8L+N248GY8nvv1PadM/0ku+/VPyuWrVc77+OQT6opCbvvwCqIrjC8O6/rjVcig+77r+V5Ooei4Xuv7a2znU1UO6/EawHjw4b7r+mxJVqFubtv3QAeQhNse2/fF+xaLJ87b+84T6LRkjtvziHIXAJFO2/7U9ZF/vf7L/cO+aAG6zsvwVLyKxqeOy/aH3/muhE7L8E04tLlRHsv9pLbb5w3uu/6uej83qr678ypy/rs3jrv7WJEKUbRuu/co9GIbIT679puNFfd+Hqv5oEsmBrr+q/BHTnI4596r+oBnKp30vqv4S8UfFfGuq/nJWG+w7p6b/tkRDI7Lfpv3ix71b5hum/PfQjqDRW6b88Wq27niXpv3Tji5E39ei/5o+/Kf/E6L+SX0iE9ZTov3hSJqEaZei/lWhZgG416L/uoeEh8QXov4H+voWi1ue/Tn7xq4Kn579UIXmUkXjnv5TnVT/PSee/DNGHrDsb57/A3Q7c1uzmv60N682gvua/1WAcgpmQ5r8116L4wGLmv9BwfjEXNea/pC2vLJwH5r+yDTXqT9rlv/oQEGoyreW/fDdArEOA5b82gcWwg1Plvyvun3fyJuW/Wn7PAJD65L/CMVRMXM7kv2UILlpXouS/QQJdKoF25L9VH+G82Urkv6RfuhFhH+S/LsPoKBf047/xSWwC/Mjjv+7zRJ4PnuO/JMFy/FFz47+VsfUcw0jjvz/Fzf9iHuO/I/z6pDH04r9AVn0ML8riv5jTVDZboOK/J3SBIrZ24r/yNwPRP03iv/ce2kH4I+K/NSkGdd/64b+tVodq9dHhv12nXSI6qeG/SRuJnK2A4b9usgnZT1jhv81s39cgMOG/ZkoKmSAI4b85S4ocT+Dgv0VvX2KsuOC/i7aJajiR4L8LIQk182ngv8Wu3cHcQuC/uF8HEfUb4L/KZwxFeOrfv5VWtOxjnd+/1osGGa1Q37+LBwPKUwTfv7PJqf9XuN6/TNL6ubls3r9bIfb4eCHev962m7yV1t2/1JLrBBCM3b8+teXR50HdvxseiiMd+Ny/bM3Y+a+u3L8ww9FUoGXcv2f/dDTuHNy/E4LCmJnU278xS7qBoozbv8NaXO8IRdu/ybCo4cz92r9ATZ9Y7rbavywwQFRtcNq/jVmL1Ekq2r9gyYDZg+TZv6V/IGMbn9m/X3xqcRBa2b+Ov14EYxXZvy9J/RsT0di/RBlGuCCN2L/NLznZi0nYv8mM1n5UBti/OTAeqXrD178cGhBY/oDXv3NKrIvfPte/PcHyQx791r97fuOAurvWvymCfkK0eta/TszDiAs61r/mXLNTwPnVv/IzTaPSudW/b1GRd0J61b9htX/QDzvVv8dfGK46/NS/oVBbEMO91L/uh0j3qH/Uv68F4GLsQdS/48khU40E1L+L1A3Ii8fTv6YlpMHnitO/NL3kP6FO0782m89CuBLTv6y/ZMos19K/lSqk1v6b0r/w241nLmHSv8DTIX27JtK/BBJgF6bs0b+7lkg27rLRv+Nh29mTedG/gXMYApdA0b+Ty/+u9wfRvxhqkeC1z9C/EU/NltGX0L99erPRSmDQv1zsQ5EhKdC/X0n9qqvkz7/sRsc8z3fPv2HR5detC8+/uOhYfEegzr/6jCAqnDXOvyS+POGry82/NHytoXZizb8rx3Jr/PnMvwmfjD49ksy/zwP7GjkrzL979b0A8MTLvw501e9hX8u/hX9B6I76yr/mFwLqdpbKvy49F/UZM8q/Xe+ACXjQyb9zLj8nkW7Jv3H6UU5lDcm/VVO5fvSsyL8gOXW4Pk3Iv8+rhftD7se/aKvqRwSQx7/oN6SdfzLHv1BRsvy11ca/nvcUZad5xr/TKszWUx7Gv+/q11G7w8W/8jc41t1pxb/ZEe1juxDFv6t49vpTuMS/Y2xUm6dgxL8C7QZFtgnEv4j6Dfh/s8O/9ZRptARew79KvBl6RAnDv4VwHkk/tcK/pLF3IfVhwr+tfyUDZg/Cv53aJ+6RvcG/dMJ+4nhswb8zNyrgGhzBv9g4Kud3zMC/ZMd+9499wL/X4icRYy/Av2MWS2jiw7+/34DvwHQqv78wBT0sfZK+v06jM6r7+72/O1vTOvBmvb/1LBzeWtO8v30YDpQ7Qby/1B2pXJKwu7/4PO03XyG7v+V12iWik7q/pchwJlsHur80NbA5iny5v5C7mF8v87i/ulsqmEpruL+zFWXj2+S3v3npSEHjX7e/DdfVsWDctr9r3gs1VFq2v5v/6sq92bW/mTpzc51atb9mj6Qu89y0vwD+fvy+YLS/aIYC3QDms7+fKC/QuGyzv6PkBNbm9LK/cbqD7op+sr8RqqsZpQmyv3+zfFc1lrG/vNb2pzsksb/GExoLuLOwv55q5oCqRLC/iba3Eiaur79xy/RI49Wuv/YThKSMAK6/D5BlJSIurb/LP5nLo16svyQjH5cRkqu/GDr3h2vIqr+phCGesQGqv9UCntnjPam/nrRsOgJ9qL8Cmo3ADL+nv/yyAGwDBKe/mP/FPOZLpr/Rf90ytZalv6UzR05w5KS/FRsDjxc1pL8iNhH1qoijv8qEcYAq36K/DwckMZY4or/pvCgH7pShv2WmfwIy9KC/fsMoI2JWoL9lKEjS/HafvwUx46gNR56/3qAiyvYcnb/vdwY2uPibvze2juxR2pq/rlu77cPBmb9maIw5Dq+Yv1fcAdAwope/gLcbsSublr/h+dnc/pmVv3mjPFOqnpS/SrRDFC6pk79SLO8firmSv5MLP3a+z5G/A1IzF8vrkL+0/8sCsA2QvzgpEnLaao6/eSHVcwXGjL8r6OAK4SyLv0t9NTdtn4m/3ODS+KkdiL/dErlPl6eGv0ET6Ds1PYW/IuJfvYPeg79zfyDUgouCvzTrKYAyRIG/ZSV8wZIIgL8LXC4wR7F9vywK9gfKaHu/LVVPCq43eb/7PDo38x13v73Bto6ZG3W/XuPEEKEwc7/goWS9CV1xv4L6KymnQW+/BOuxLP33a79GFVuFFd1ov0d5JzPw8GW/8BYXNo0zY79z7imO7KRgv2r/v3Ycily/bpVye+QnWL/xnmsqMSNUv/Qbq4MCfFC/7RhiDrFkSr/w4PppZoxEv+QfQTRK3j6/mkumPdoZNr9Ni0rg+ZYtv2EbfJdk5iG/4Y7CQelDEr/Te9DjT036vtjfnJEqYce+2N+ckSphx77Te9DjT036vuGOwkHpQxK/YRt8l2TmIb9Ni0rg+ZYtv5pLpj3aGTa/PSBBNErePr8j4fppZoxEvycZYg6xZEq/FRyrgwJ8UL8Vn2sqMSNUv5WVcnvkJ1i/lf+/dhyKXL+K7imO7KRgvwkXFzaNM2O/R3knM/DwZb9GFVuFFd1ovwTrsSz992u/gvorKadBb7/goWS9CV1xv17jxBChMHO/vcG2jpkbdb/7PDo38x13v0FVTwquN3m/QQr2B8poe78gXC4wR7F9v3AlfMGSCIC/P+spgDJEgb9/fyDUgouCvy7iX72D3oO/ThPoOzU9hb/dErlPl6eGv9zg0vipHYi/S301N22fib8r6OAK4SyLv3kh1XMFxoy/OCkSctpqjr+0/8sCsA2QvwNSMxfL65C/mws/dr7Pkb9bLO8firmSv1O0QxQuqZO/gqM8U6qelL/q+dnc/pmVv4m3G7Erm5a/YdwB0DCil79waIw5Dq+Yv7hbu+3DwZm/N7aO7FHamr/vdwY2uPibv96gIsr2HJ2/BTHjqA1Hnr9lKEjS/Hafv37DKCNiVqC/ZaZ/AjL0oL/pvCgH7pShvxUHJDGWOKK/0IRxgCrfor8oNhH1qoijvxwbA48XNaS/qzNHTnDkpL/Xf90ytZalv5//xTzmS6a/ArMAbAMEp78Cmo3ADL+nv560bDoCfai/1QKe2eM9qb+phCGesQGqvxg694dryKq/JCMflxGSq7/LP5nLo16svw+QZSUiLq2//hOEpIwArr95y/RI49Wuv5G2txImrq+/omrmgKpEsL/KExoLuLOwv8DW9qc7JLG/hLN8VzWWsb8VqqsZpQmyv3W6g+6KfrK/o+QE1ub0sr+fKC/QuGyzv2iGAt0A5rO/AP5+/L5gtL9mj6Qu89y0v5k6c3OdWrW/m//qyr3Ztb9r3gs1VFq2vxLX1bFg3La/fulIQeNft7+4FWXj2+S3v79bKphKa7i/lbuYXy/zuL85NbA5iny5v6rIcCZbB7q/6nXaJaKTur/4PO03XyG7v9QdqVySsLu/fRgOlDtBvL/1LBzeWtO8vztb0zrwZr2/TqMzqvv7vb8wBT0sfZK+v9+A78B0Kr+/aBZLaOLDv7/a4icRYy/Av2fHfvePfcC/2zgq53fMwL82NyrgGhzBv3fCfuJ4bMG/oNon7pG9wb+wfyUDZg/Cv6exdyH1YcK/hXAeST+1wr9KvBl6RAnDv/WUabQEXsO/iPoN+H+zw78C7QZFtgnEv2NsVJunYMS/q3j2+lO4xL/ZEe1juxDFv/Y3ONbdacW/8urXUbvDxb/WKszWUx7Gv6H3FGWneca/U1Gy/LXVxr/sN6SdfzLHv2yr6kcEkMe/0quF+0Pux78gOXW4Pk3Iv1VTuX70rMi/cfpRTmUNyb9zLj8nkW7Jv13vgAl40Mm/Lj0X9Rkzyr/mFwLqdpbKv4V/QeiO+sq/EnTV72Ffy79+9b0A8MTLv9ID+xo5K8y/DZ+MPj2SzL8vx3Jr/PnMvzh8raF2Ys2/J7484avLzb/+jCAqnDXOv7zoWHxHoM6/YdHl160Lz7/sRsc8z3fPv19J/aqr5M+/XOxDkSEp0L99erPRSmDQvxFPzZbRl9C/GGqR4LXP0L+Ty/+u9wfRv4VzGAKXQNG/52Hb2ZN50b+9lkg27rLRvwYSYBem7NG/wtMhfbsm0r/y241nLmHSv5UqpNb+m9K/rL9kyizX0r82m89CuBLTvzS95D+hTtO/piWkweeK07+L1A3Ii8fTv+PJIVONBNS/rwXgYuxB1L/uh0j3qH/Uv6FQWxDDvdS/zF8Yrjr81L9mtX/QDzvVv3NRkXdCetW/9DNNo9K51b/oXLNTwPnVv1DMw4gLOta/LIJ+QrR61r97fuOAurvWvz3B8kMe/da/c0qsi98+178cGhBY/oDXvzkwHql6w9e/yYzWflQG2L/NLznZi0nYv0QZRrggjdi/L0n9GxPR2L+Ov14EYxXZv2V8anEQWtm/qn8gYxuf2b9jyYDZg+TZv49Zi9RJKtq/LzBAVG1w2r9CTZ9Y7rbav8mwqOHM/dq/w1pc7whF278xS7qBoozbvxOCwpiZ1Nu/Z/90NO4c3L8ww9FUoGXcv2zN2Pmvrty/Gx6KIx343L8+teXR50Hdv9SS6wQQjN2/47abvJXW3b9hIfb4eCHev1LS+rm5bN6/tsmp/1e43r+OBwPKUwTfv9mLBhmtUN+/mFa07GOd37/KZwxFeOrfv7hfBxH1G+C/xa7dwdxC4L8LIQk182ngv4u2iWo4keC/RW9fYqy44L85S4ocT+Dgv2ZKCpkgCOG/zWzf1yAw4b9usgnZT1jhv0wbiZytgOG/YKddIjqp4b+vVodq9dHhvzYpBnXf+uG/+B7aQfgj4r/0NwPRP03ivyl0gSK2duK/mNNUNlug4r9AVn0ML8rivyP8+qQx9OK/P8XN/2Ie47+VsfUcw0jjvyTBcvxRc+O/7vNEng+e47/xSWwC/Mjjvy7D6CgX9OO/qF+6EWEf5L9YH+G82Urkv0ICXSqBduS/ZgguWlei5L/EMVRMXM7kv1t+zwCQ+uS/LO6fd/Im5b83gcWwg1Plv3w3QKxDgOW/+hAQajKt5b+yDTXqT9rlv6QtryycB+a/0HB+MRc15r8116L4wGLmv9VgHIKZkOa/rQ3rzaC+5r/A3Q7c1uzmvxDRh6w7G+e/ludVP89J579WIXmUkXjnv1B+8auCp+e/g/6+haLW57/woeEh8QXov5doWYBuNei/eFImoRpl6L+SX0iE9ZTov+aPvyn/xOi/dOOLkTf16L88Wq27niXpvz30I6g0Vum/eLHvVvmG6b/tkRDI7Lfpv5yVhvsO6em/iLxR8V8a6r+qBnKp30vqvwZ05yOOfeq/mwSyYGuv6r9ruNFfd+Hqv3SPRiGyE+u/t4kQpRtG678zpy/rs3jrv+rno/N6q+u/2kttvnDe678E04tLlRHsv2h9/5roROy/BUvIrGp47L/cO+aAG6zsv+1PWRf73+y/OIchcAkU7b+84T6LRkjtv35fsWiyfO2/dgB5CE2x7b+nxJVqFubtvxOsB48OG+6/uLbOdTVQ7r+X5Ooei4Xuv681XIoPu+6/AqoiuMLw7r+OQT6opCbvv1T8rlq1XO+/U9p0z/SS77+N248GY8nvvwAAAAAAAPC/",
          "dtype": "f8"
         }
        },
        {
         "marker": {
          "color": "black",
          "size": 6
         },
         "mode": "markers+text",
         "showlegend": false,
         "text": [
          "(-2,1)",
          "(2,1)",
          "(0,-1)"
         ],
         "textposition": "top center",
         "type": "scatter",
         "x": [
          -2,
          2,
          0
         ],
         "y": [
          1,
          1,
          -1
         ]
        },
        {
         "marker": {
          "color": "red",
          "size": 12,
          "symbol": "circle"
         },
         "mode": "markers+text",
         "name": "punto (θ₁, θ₂)",
         "text": [
          "(-0.50, 0.20)"
         ],
         "textposition": "bottom center",
         "type": "scatter",
         "x": [
          -0.5
         ],
         "y": [
          0.2
         ]
        }
       ],
       "layout": {
        "annotations": [
         {
          "showarrow": false,
          "text": "Real\n(θ₁<0)",
          "x": -1,
          "y": 0.3
         },
         {
          "showarrow": false,
          "text": "Real\n(θ₁>0)",
          "x": 1,
          "y": 0.3
         },
         {
          "showarrow": false,
          "text": "Compleja\n(θ₁<0)",
          "x": -1,
          "y": -0.6
         },
         {
          "showarrow": false,
          "text": "Compleja\n(θ₁>0)",
          "x": 1,
          "y": -0.6
         }
        ],
        "height": 520,
        "showlegend": false,
        "template": {
         "data": {
          "bar": [
           {
            "error_x": {
             "color": "rgb(36,36,36)"
            },
            "error_y": {
             "color": "rgb(36,36,36)"
            },
            "marker": {
             "line": {
              "color": "white",
              "width": 0.5
             },
             "pattern": {
              "fillmode": "overlay",
              "size": 10,
              "solidity": 0.2
             }
            },
            "type": "bar"
           }
          ],
          "barpolar": [
           {
            "marker": {
             "line": {
              "color": "white",
              "width": 0.5
             },
             "pattern": {
              "fillmode": "overlay",
              "size": 10,
              "solidity": 0.2
             }
            },
            "type": "barpolar"
           }
          ],
          "carpet": [
           {
            "aaxis": {
             "endlinecolor": "rgb(36,36,36)",
             "gridcolor": "white",
             "linecolor": "white",
             "minorgridcolor": "white",
             "startlinecolor": "rgb(36,36,36)"
            },
            "baxis": {
             "endlinecolor": "rgb(36,36,36)",
             "gridcolor": "white",
             "linecolor": "white",
             "minorgridcolor": "white",
             "startlinecolor": "rgb(36,36,36)"
            },
            "type": "carpet"
           }
          ],
          "choropleth": [
           {
            "colorbar": {
             "outlinewidth": 1,
             "tickcolor": "rgb(36,36,36)",
             "ticks": "outside"
            },
            "type": "choropleth"
           }
          ],
          "contour": [
           {
            "colorbar": {
             "outlinewidth": 1,
             "tickcolor": "rgb(36,36,36)",
             "ticks": "outside"
            },
            "colorscale": [
             [
              0,
              "#440154"
             ],
             [
              0.1111111111111111,
              "#482878"
             ],
             [
              0.2222222222222222,
              "#3e4989"
             ],
             [
              0.3333333333333333,
              "#31688e"
             ],
             [
              0.4444444444444444,
              "#26828e"
             ],
             [
              0.5555555555555556,
              "#1f9e89"
             ],
             [
              0.6666666666666666,
              "#35b779"
             ],
             [
              0.7777777777777778,
              "#6ece58"
             ],
             [
              0.8888888888888888,
              "#b5de2b"
             ],
             [
              1,
              "#fde725"
             ]
            ],
            "type": "contour"
           }
          ],
          "contourcarpet": [
           {
            "colorbar": {
             "outlinewidth": 1,
             "tickcolor": "rgb(36,36,36)",
             "ticks": "outside"
            },
            "type": "contourcarpet"
           }
          ],
          "heatmap": [
           {
            "colorbar": {
             "outlinewidth": 1,
             "tickcolor": "rgb(36,36,36)",
             "ticks": "outside"
            },
            "colorscale": [
             [
              0,
              "#440154"
             ],
             [
              0.1111111111111111,
              "#482878"
             ],
             [
              0.2222222222222222,
              "#3e4989"
             ],
             [
              0.3333333333333333,
              "#31688e"
             ],
             [
              0.4444444444444444,
              "#26828e"
             ],
             [
              0.5555555555555556,
              "#1f9e89"
             ],
             [
              0.6666666666666666,
              "#35b779"
             ],
             [
              0.7777777777777778,
              "#6ece58"
             ],
             [
              0.8888888888888888,
              "#b5de2b"
             ],
             [
              1,
              "#fde725"
             ]
            ],
            "type": "heatmap"
           }
          ],
          "histogram": [
           {
            "marker": {
             "line": {
              "color": "white",
              "width": 0.6
             }
            },
            "type": "histogram"
           }
          ],
          "histogram2d": [
           {
            "colorbar": {
             "outlinewidth": 1,
             "tickcolor": "rgb(36,36,36)",
             "ticks": "outside"
            },
            "colorscale": [
             [
              0,
              "#440154"
             ],
             [
              0.1111111111111111,
              "#482878"
             ],
             [
              0.2222222222222222,
              "#3e4989"
             ],
             [
              0.3333333333333333,
              "#31688e"
             ],
             [
              0.4444444444444444,
              "#26828e"
             ],
             [
              0.5555555555555556,
              "#1f9e89"
             ],
             [
              0.6666666666666666,
              "#35b779"
             ],
             [
              0.7777777777777778,
              "#6ece58"
             ],
             [
              0.8888888888888888,
              "#b5de2b"
             ],
             [
              1,
              "#fde725"
             ]
            ],
            "type": "histogram2d"
           }
          ],
          "histogram2dcontour": [
           {
            "colorbar": {
             "outlinewidth": 1,
             "tickcolor": "rgb(36,36,36)",
             "ticks": "outside"
            },
            "colorscale": [
             [
              0,
              "#440154"
             ],
             [
              0.1111111111111111,
              "#482878"
             ],
             [
              0.2222222222222222,
              "#3e4989"
             ],
             [
              0.3333333333333333,
              "#31688e"
             ],
             [
              0.4444444444444444,
              "#26828e"
             ],
             [
              0.5555555555555556,
              "#1f9e89"
             ],
             [
              0.6666666666666666,
              "#35b779"
             ],
             [
              0.7777777777777778,
              "#6ece58"
             ],
             [
              0.8888888888888888,
              "#b5de2b"
             ],
             [
              1,
              "#fde725"
             ]
            ],
            "type": "histogram2dcontour"
           }
          ],
          "mesh3d": [
           {
            "colorbar": {
             "outlinewidth": 1,
             "tickcolor": "rgb(36,36,36)",
             "ticks": "outside"
            },
            "type": "mesh3d"
           }
          ],
          "parcoords": [
           {
            "line": {
             "colorbar": {
              "outlinewidth": 1,
              "tickcolor": "rgb(36,36,36)",
              "ticks": "outside"
             }
            },
            "type": "parcoords"
           }
          ],
          "pie": [
           {
            "automargin": true,
            "type": "pie"
           }
          ],
          "scatter": [
           {
            "fillpattern": {
             "fillmode": "overlay",
             "size": 10,
             "solidity": 0.2
            },
            "type": "scatter"
           }
          ],
          "scatter3d": [
           {
            "line": {
             "colorbar": {
              "outlinewidth": 1,
              "tickcolor": "rgb(36,36,36)",
              "ticks": "outside"
             }
            },
            "marker": {
             "colorbar": {
              "outlinewidth": 1,
              "tickcolor": "rgb(36,36,36)",
              "ticks": "outside"
             }
            },
            "type": "scatter3d"
           }
          ],
          "scattercarpet": [
           {
            "marker": {
             "colorbar": {
              "outlinewidth": 1,
              "tickcolor": "rgb(36,36,36)",
              "ticks": "outside"
             }
            },
            "type": "scattercarpet"
           }
          ],
          "scattergeo": [
           {
            "marker": {
             "colorbar": {
              "outlinewidth": 1,
              "tickcolor": "rgb(36,36,36)",
              "ticks": "outside"
             }
            },
            "type": "scattergeo"
           }
          ],
          "scattergl": [
           {
            "marker": {
             "colorbar": {
              "outlinewidth": 1,
              "tickcolor": "rgb(36,36,36)",
              "ticks": "outside"
             }
            },
            "type": "scattergl"
           }
          ],
          "scattermap": [
           {
            "marker": {
             "colorbar": {
              "outlinewidth": 1,
              "tickcolor": "rgb(36,36,36)",
              "ticks": "outside"
             }
            },
            "type": "scattermap"
           }
          ],
          "scattermapbox": [
           {
            "marker": {
             "colorbar": {
              "outlinewidth": 1,
              "tickcolor": "rgb(36,36,36)",
              "ticks": "outside"
             }
            },
            "type": "scattermapbox"
           }
          ],
          "scatterpolar": [
           {
            "marker": {
             "colorbar": {
              "outlinewidth": 1,
              "tickcolor": "rgb(36,36,36)",
              "ticks": "outside"
             }
            },
            "type": "scatterpolar"
           }
          ],
          "scatterpolargl": [
           {
            "marker": {
             "colorbar": {
              "outlinewidth": 1,
              "tickcolor": "rgb(36,36,36)",
              "ticks": "outside"
             }
            },
            "type": "scatterpolargl"
           }
          ],
          "scatterternary": [
           {
            "marker": {
             "colorbar": {
              "outlinewidth": 1,
              "tickcolor": "rgb(36,36,36)",
              "ticks": "outside"
             }
            },
            "type": "scatterternary"
           }
          ],
          "surface": [
           {
            "colorbar": {
             "outlinewidth": 1,
             "tickcolor": "rgb(36,36,36)",
             "ticks": "outside"
            },
            "colorscale": [
             [
              0,
              "#440154"
             ],
             [
              0.1111111111111111,
              "#482878"
             ],
             [
              0.2222222222222222,
              "#3e4989"
             ],
             [
              0.3333333333333333,
              "#31688e"
             ],
             [
              0.4444444444444444,
              "#26828e"
             ],
             [
              0.5555555555555556,
              "#1f9e89"
             ],
             [
              0.6666666666666666,
              "#35b779"
             ],
             [
              0.7777777777777778,
              "#6ece58"
             ],
             [
              0.8888888888888888,
              "#b5de2b"
             ],
             [
              1,
              "#fde725"
             ]
            ],
            "type": "surface"
           }
          ],
          "table": [
           {
            "cells": {
             "fill": {
              "color": "rgb(237,237,237)"
             },
             "line": {
              "color": "white"
             }
            },
            "header": {
             "fill": {
              "color": "rgb(217,217,217)"
             },
             "line": {
              "color": "white"
             }
            },
            "type": "table"
           }
          ]
         },
         "layout": {
          "annotationdefaults": {
           "arrowhead": 0,
           "arrowwidth": 1
          },
          "autotypenumbers": "strict",
          "coloraxis": {
           "colorbar": {
            "outlinewidth": 1,
            "tickcolor": "rgb(36,36,36)",
            "ticks": "outside"
           }
          },
          "colorscale": {
           "diverging": [
            [
             0,
             "rgb(103,0,31)"
            ],
            [
             0.1,
             "rgb(178,24,43)"
            ],
            [
             0.2,
             "rgb(214,96,77)"
            ],
            [
             0.3,
             "rgb(244,165,130)"
            ],
            [
             0.4,
             "rgb(253,219,199)"
            ],
            [
             0.5,
             "rgb(247,247,247)"
            ],
            [
             0.6,
             "rgb(209,229,240)"
            ],
            [
             0.7,
             "rgb(146,197,222)"
            ],
            [
             0.8,
             "rgb(67,147,195)"
            ],
            [
             0.9,
             "rgb(33,102,172)"
            ],
            [
             1,
             "rgb(5,48,97)"
            ]
           ],
           "sequential": [
            [
             0,
             "#440154"
            ],
            [
             0.1111111111111111,
             "#482878"
            ],
            [
             0.2222222222222222,
             "#3e4989"
            ],
            [
             0.3333333333333333,
             "#31688e"
            ],
            [
             0.4444444444444444,
             "#26828e"
            ],
            [
             0.5555555555555556,
             "#1f9e89"
            ],
            [
             0.6666666666666666,
             "#35b779"
            ],
            [
             0.7777777777777778,
             "#6ece58"
            ],
            [
             0.8888888888888888,
             "#b5de2b"
            ],
            [
             1,
             "#fde725"
            ]
           ],
           "sequentialminus": [
            [
             0,
             "#440154"
            ],
            [
             0.1111111111111111,
             "#482878"
            ],
            [
             0.2222222222222222,
             "#3e4989"
            ],
            [
             0.3333333333333333,
             "#31688e"
            ],
            [
             0.4444444444444444,
             "#26828e"
            ],
            [
             0.5555555555555556,
             "#1f9e89"
            ],
            [
             0.6666666666666666,
             "#35b779"
            ],
            [
             0.7777777777777778,
             "#6ece58"
            ],
            [
             0.8888888888888888,
             "#b5de2b"
            ],
            [
             1,
             "#fde725"
            ]
           ]
          },
          "colorway": [
           "#1F77B4",
           "#FF7F0E",
           "#2CA02C",
           "#D62728",
           "#9467BD",
           "#8C564B",
           "#E377C2",
           "#7F7F7F",
           "#BCBD22",
           "#17BECF"
          ],
          "font": {
           "color": "rgb(36,36,36)"
          },
          "geo": {
           "bgcolor": "white",
           "lakecolor": "white",
           "landcolor": "white",
           "showlakes": true,
           "showland": true,
           "subunitcolor": "white"
          },
          "hoverlabel": {
           "align": "left"
          },
          "hovermode": "closest",
          "mapbox": {
           "style": "light"
          },
          "paper_bgcolor": "white",
          "plot_bgcolor": "white",
          "polar": {
           "angularaxis": {
            "gridcolor": "rgb(232,232,232)",
            "linecolor": "rgb(36,36,36)",
            "showgrid": false,
            "showline": true,
            "ticks": "outside"
           },
           "bgcolor": "white",
           "radialaxis": {
            "gridcolor": "rgb(232,232,232)",
            "linecolor": "rgb(36,36,36)",
            "showgrid": false,
            "showline": true,
            "ticks": "outside"
           }
          },
          "scene": {
           "xaxis": {
            "backgroundcolor": "white",
            "gridcolor": "rgb(232,232,232)",
            "gridwidth": 2,
            "linecolor": "rgb(36,36,36)",
            "showbackground": true,
            "showgrid": false,
            "showline": true,
            "ticks": "outside",
            "zeroline": false,
            "zerolinecolor": "rgb(36,36,36)"
           },
           "yaxis": {
            "backgroundcolor": "white",
            "gridcolor": "rgb(232,232,232)",
            "gridwidth": 2,
            "linecolor": "rgb(36,36,36)",
            "showbackground": true,
            "showgrid": false,
            "showline": true,
            "ticks": "outside",
            "zeroline": false,
            "zerolinecolor": "rgb(36,36,36)"
           },
           "zaxis": {
            "backgroundcolor": "white",
            "gridcolor": "rgb(232,232,232)",
            "gridwidth": 2,
            "linecolor": "rgb(36,36,36)",
            "showbackground": true,
            "showgrid": false,
            "showline": true,
            "ticks": "outside",
            "zeroline": false,
            "zerolinecolor": "rgb(36,36,36)"
           }
          },
          "shapedefaults": {
           "fillcolor": "black",
           "line": {
            "width": 0
           },
           "opacity": 0.3
          },
          "ternary": {
           "aaxis": {
            "gridcolor": "rgb(232,232,232)",
            "linecolor": "rgb(36,36,36)",
            "showgrid": false,
            "showline": true,
            "ticks": "outside"
           },
           "baxis": {
            "gridcolor": "rgb(232,232,232)",
            "linecolor": "rgb(36,36,36)",
            "showgrid": false,
            "showline": true,
            "ticks": "outside"
           },
           "bgcolor": "white",
           "caxis": {
            "gridcolor": "rgb(232,232,232)",
            "linecolor": "rgb(36,36,36)",
            "showgrid": false,
            "showline": true,
            "ticks": "outside"
           }
          },
          "title": {
           "x": 0.05
          },
          "xaxis": {
           "automargin": true,
           "gridcolor": "rgb(232,232,232)",
           "linecolor": "rgb(36,36,36)",
           "showgrid": false,
           "showline": true,
           "ticks": "outside",
           "title": {
            "standoff": 15
           },
           "zeroline": false,
           "zerolinecolor": "rgb(36,36,36)"
          },
          "yaxis": {
           "automargin": true,
           "gridcolor": "rgb(232,232,232)",
           "linecolor": "rgb(36,36,36)",
           "showgrid": false,
           "showline": true,
           "ticks": "outside",
           "title": {
            "standoff": 15
           },
           "zeroline": false,
           "zerolinecolor": "rgb(36,36,36)"
          }
         }
        },
        "title": {
         "text": "MA(2)<br> Triángulo de estacionariedad + parábola del discriminante<br>Punto en Región 1"
        },
        "width": 700,
        "xaxis": {
         "range": [
          -2.2,
          2.2
         ],
         "title": {
          "text": "θ₁"
         },
         "zeroline": true
        },
        "yaxis": {
         "range": [
          -1.3,
          1.3
         ],
         "title": {
          "text": "θ₂"
         },
         "zeroline": false
        }
       }
      }
     },
     "metadata": {},
     "output_type": "display_data"
    },
    {
     "data": {
      "application/vnd.plotly.v1+json": {
       "config": {
        "plotlyServerURL": "https://plot.ly"
       },
       "data": [
        {
         "line": {
          "width": 2
         },
         "mode": "lines",
         "name": "líneas",
         "type": "scatter",
         "x": [
          0,
          0,
          null,
          1,
          1,
          null,
          2,
          2,
          null,
          3,
          3,
          null,
          4,
          4,
          null,
          5,
          5,
          null,
          6,
          6,
          null,
          7,
          7,
          null,
          8,
          8,
          null,
          9,
          9,
          null,
          10,
          10,
          null,
          11,
          11,
          null,
          12,
          12,
          null,
          13,
          13,
          null,
          14,
          14,
          null,
          15,
          15,
          null,
          16,
          16,
          null,
          17,
          17,
          null,
          18,
          18,
          null,
          19,
          19,
          null,
          20,
          20,
          null,
          21,
          21,
          null,
          22,
          22,
          null,
          23,
          23,
          null,
          24,
          24,
          null
         ],
         "y": [
          0,
          1,
          null,
          0,
          0.31007751937984496,
          null,
          0,
          -0.15503875968992248,
          null,
          0,
          0,
          null,
          0,
          0,
          null,
          0,
          0,
          null,
          0,
          0,
          null,
          0,
          0,
          null,
          0,
          0,
          null,
          0,
          0,
          null,
          0,
          0,
          null,
          0,
          0,
          null,
          0,
          0,
          null,
          0,
          0,
          null,
          0,
          0,
          null,
          0,
          0,
          null,
          0,
          0,
          null,
          0,
          0,
          null,
          0,
          0,
          null,
          0,
          0,
          null,
          0,
          0,
          null,
          0,
          0,
          null,
          0,
          0,
          null,
          0,
          0,
          null,
          0,
          0,
          null
         ]
        },
        {
         "marker": {
          "size": 7
         },
         "mode": "markers",
         "name": "ρ_k",
         "type": "scatter",
         "x": {
          "bdata": "AAECAwQFBgcICQoLDA0ODxAREhMUFRYXGA==",
          "dtype": "i1"
         },
         "y": {
          "bdata": "AAAAAAAA8D/2hD1hT9jTP/aEPWFP2MO/AAAAAAAAAAAAAAAAAAAAAAAAAAAAAAAAAAAAAAAAAAAAAAAAAAAAAAAAAAAAAAAAAAAAAAAAAAAAAAAAAAAAAAAAAAAAAAAAAAAAAAAAAAAAAAAAAAAAAAAAAAAAAAAAAAAAAAAAAAAAAAAAAAAAAAAAAAAAAAAAAAAAAAAAAAAAAAAAAAAAAAAAAAAAAAAAAAAAAAAAAAAAAAAAAAAAAAAAAAAAAAAAAAAAAAAAAAA=",
          "dtype": "f8"
         }
        }
       ],
       "layout": {
        "height": 380,
        "shapes": [
         {
          "line": {
           "color": "gray",
           "dash": "dot",
           "width": 1
          },
          "type": "line",
          "x0": 0,
          "x1": 1,
          "xref": "x domain",
          "y0": 0,
          "y1": 0,
          "yref": "y"
         }
        ],
        "template": {
         "data": {
          "bar": [
           {
            "error_x": {
             "color": "#2a3f5f"
            },
            "error_y": {
             "color": "#2a3f5f"
            },
            "marker": {
             "line": {
              "color": "white",
              "width": 0.5
             },
             "pattern": {
              "fillmode": "overlay",
              "size": 10,
              "solidity": 0.2
             }
            },
            "type": "bar"
           }
          ],
          "barpolar": [
           {
            "marker": {
             "line": {
              "color": "white",
              "width": 0.5
             },
             "pattern": {
              "fillmode": "overlay",
              "size": 10,
              "solidity": 0.2
             }
            },
            "type": "barpolar"
           }
          ],
          "carpet": [
           {
            "aaxis": {
             "endlinecolor": "#2a3f5f",
             "gridcolor": "#C8D4E3",
             "linecolor": "#C8D4E3",
             "minorgridcolor": "#C8D4E3",
             "startlinecolor": "#2a3f5f"
            },
            "baxis": {
             "endlinecolor": "#2a3f5f",
             "gridcolor": "#C8D4E3",
             "linecolor": "#C8D4E3",
             "minorgridcolor": "#C8D4E3",
             "startlinecolor": "#2a3f5f"
            },
            "type": "carpet"
           }
          ],
          "choropleth": [
           {
            "colorbar": {
             "outlinewidth": 0,
             "ticks": ""
            },
            "type": "choropleth"
           }
          ],
          "contour": [
           {
            "colorbar": {
             "outlinewidth": 0,
             "ticks": ""
            },
            "colorscale": [
             [
              0,
              "#0d0887"
             ],
             [
              0.1111111111111111,
              "#46039f"
             ],
             [
              0.2222222222222222,
              "#7201a8"
             ],
             [
              0.3333333333333333,
              "#9c179e"
             ],
             [
              0.4444444444444444,
              "#bd3786"
             ],
             [
              0.5555555555555556,
              "#d8576b"
             ],
             [
              0.6666666666666666,
              "#ed7953"
             ],
             [
              0.7777777777777778,
              "#fb9f3a"
             ],
             [
              0.8888888888888888,
              "#fdca26"
             ],
             [
              1,
              "#f0f921"
             ]
            ],
            "type": "contour"
           }
          ],
          "contourcarpet": [
           {
            "colorbar": {
             "outlinewidth": 0,
             "ticks": ""
            },
            "type": "contourcarpet"
           }
          ],
          "heatmap": [
           {
            "colorbar": {
             "outlinewidth": 0,
             "ticks": ""
            },
            "colorscale": [
             [
              0,
              "#0d0887"
             ],
             [
              0.1111111111111111,
              "#46039f"
             ],
             [
              0.2222222222222222,
              "#7201a8"
             ],
             [
              0.3333333333333333,
              "#9c179e"
             ],
             [
              0.4444444444444444,
              "#bd3786"
             ],
             [
              0.5555555555555556,
              "#d8576b"
             ],
             [
              0.6666666666666666,
              "#ed7953"
             ],
             [
              0.7777777777777778,
              "#fb9f3a"
             ],
             [
              0.8888888888888888,
              "#fdca26"
             ],
             [
              1,
              "#f0f921"
             ]
            ],
            "type": "heatmap"
           }
          ],
          "histogram": [
           {
            "marker": {
             "pattern": {
              "fillmode": "overlay",
              "size": 10,
              "solidity": 0.2
             }
            },
            "type": "histogram"
           }
          ],
          "histogram2d": [
           {
            "colorbar": {
             "outlinewidth": 0,
             "ticks": ""
            },
            "colorscale": [
             [
              0,
              "#0d0887"
             ],
             [
              0.1111111111111111,
              "#46039f"
             ],
             [
              0.2222222222222222,
              "#7201a8"
             ],
             [
              0.3333333333333333,
              "#9c179e"
             ],
             [
              0.4444444444444444,
              "#bd3786"
             ],
             [
              0.5555555555555556,
              "#d8576b"
             ],
             [
              0.6666666666666666,
              "#ed7953"
             ],
             [
              0.7777777777777778,
              "#fb9f3a"
             ],
             [
              0.8888888888888888,
              "#fdca26"
             ],
             [
              1,
              "#f0f921"
             ]
            ],
            "type": "histogram2d"
           }
          ],
          "histogram2dcontour": [
           {
            "colorbar": {
             "outlinewidth": 0,
             "ticks": ""
            },
            "colorscale": [
             [
              0,
              "#0d0887"
             ],
             [
              0.1111111111111111,
              "#46039f"
             ],
             [
              0.2222222222222222,
              "#7201a8"
             ],
             [
              0.3333333333333333,
              "#9c179e"
             ],
             [
              0.4444444444444444,
              "#bd3786"
             ],
             [
              0.5555555555555556,
              "#d8576b"
             ],
             [
              0.6666666666666666,
              "#ed7953"
             ],
             [
              0.7777777777777778,
              "#fb9f3a"
             ],
             [
              0.8888888888888888,
              "#fdca26"
             ],
             [
              1,
              "#f0f921"
             ]
            ],
            "type": "histogram2dcontour"
           }
          ],
          "mesh3d": [
           {
            "colorbar": {
             "outlinewidth": 0,
             "ticks": ""
            },
            "type": "mesh3d"
           }
          ],
          "parcoords": [
           {
            "line": {
             "colorbar": {
              "outlinewidth": 0,
              "ticks": ""
             }
            },
            "type": "parcoords"
           }
          ],
          "pie": [
           {
            "automargin": true,
            "type": "pie"
           }
          ],
          "scatter": [
           {
            "fillpattern": {
             "fillmode": "overlay",
             "size": 10,
             "solidity": 0.2
            },
            "type": "scatter"
           }
          ],
          "scatter3d": [
           {
            "line": {
             "colorbar": {
              "outlinewidth": 0,
              "ticks": ""
             }
            },
            "marker": {
             "colorbar": {
              "outlinewidth": 0,
              "ticks": ""
             }
            },
            "type": "scatter3d"
           }
          ],
          "scattercarpet": [
           {
            "marker": {
             "colorbar": {
              "outlinewidth": 0,
              "ticks": ""
             }
            },
            "type": "scattercarpet"
           }
          ],
          "scattergeo": [
           {
            "marker": {
             "colorbar": {
              "outlinewidth": 0,
              "ticks": ""
             }
            },
            "type": "scattergeo"
           }
          ],
          "scattergl": [
           {
            "marker": {
             "colorbar": {
              "outlinewidth": 0,
              "ticks": ""
             }
            },
            "type": "scattergl"
           }
          ],
          "scattermap": [
           {
            "marker": {
             "colorbar": {
              "outlinewidth": 0,
              "ticks": ""
             }
            },
            "type": "scattermap"
           }
          ],
          "scattermapbox": [
           {
            "marker": {
             "colorbar": {
              "outlinewidth": 0,
              "ticks": ""
             }
            },
            "type": "scattermapbox"
           }
          ],
          "scatterpolar": [
           {
            "marker": {
             "colorbar": {
              "outlinewidth": 0,
              "ticks": ""
             }
            },
            "type": "scatterpolar"
           }
          ],
          "scatterpolargl": [
           {
            "marker": {
             "colorbar": {
              "outlinewidth": 0,
              "ticks": ""
             }
            },
            "type": "scatterpolargl"
           }
          ],
          "scatterternary": [
           {
            "marker": {
             "colorbar": {
              "outlinewidth": 0,
              "ticks": ""
             }
            },
            "type": "scatterternary"
           }
          ],
          "surface": [
           {
            "colorbar": {
             "outlinewidth": 0,
             "ticks": ""
            },
            "colorscale": [
             [
              0,
              "#0d0887"
             ],
             [
              0.1111111111111111,
              "#46039f"
             ],
             [
              0.2222222222222222,
              "#7201a8"
             ],
             [
              0.3333333333333333,
              "#9c179e"
             ],
             [
              0.4444444444444444,
              "#bd3786"
             ],
             [
              0.5555555555555556,
              "#d8576b"
             ],
             [
              0.6666666666666666,
              "#ed7953"
             ],
             [
              0.7777777777777778,
              "#fb9f3a"
             ],
             [
              0.8888888888888888,
              "#fdca26"
             ],
             [
              1,
              "#f0f921"
             ]
            ],
            "type": "surface"
           }
          ],
          "table": [
           {
            "cells": {
             "fill": {
              "color": "#EBF0F8"
             },
             "line": {
              "color": "white"
             }
            },
            "header": {
             "fill": {
              "color": "#C8D4E3"
             },
             "line": {
              "color": "white"
             }
            },
            "type": "table"
           }
          ]
         },
         "layout": {
          "annotationdefaults": {
           "arrowcolor": "#2a3f5f",
           "arrowhead": 0,
           "arrowwidth": 1
          },
          "autotypenumbers": "strict",
          "coloraxis": {
           "colorbar": {
            "outlinewidth": 0,
            "ticks": ""
           }
          },
          "colorscale": {
           "diverging": [
            [
             0,
             "#8e0152"
            ],
            [
             0.1,
             "#c51b7d"
            ],
            [
             0.2,
             "#de77ae"
            ],
            [
             0.3,
             "#f1b6da"
            ],
            [
             0.4,
             "#fde0ef"
            ],
            [
             0.5,
             "#f7f7f7"
            ],
            [
             0.6,
             "#e6f5d0"
            ],
            [
             0.7,
             "#b8e186"
            ],
            [
             0.8,
             "#7fbc41"
            ],
            [
             0.9,
             "#4d9221"
            ],
            [
             1,
             "#276419"
            ]
           ],
           "sequential": [
            [
             0,
             "#0d0887"
            ],
            [
             0.1111111111111111,
             "#46039f"
            ],
            [
             0.2222222222222222,
             "#7201a8"
            ],
            [
             0.3333333333333333,
             "#9c179e"
            ],
            [
             0.4444444444444444,
             "#bd3786"
            ],
            [
             0.5555555555555556,
             "#d8576b"
            ],
            [
             0.6666666666666666,
             "#ed7953"
            ],
            [
             0.7777777777777778,
             "#fb9f3a"
            ],
            [
             0.8888888888888888,
             "#fdca26"
            ],
            [
             1,
             "#f0f921"
            ]
           ],
           "sequentialminus": [
            [
             0,
             "#0d0887"
            ],
            [
             0.1111111111111111,
             "#46039f"
            ],
            [
             0.2222222222222222,
             "#7201a8"
            ],
            [
             0.3333333333333333,
             "#9c179e"
            ],
            [
             0.4444444444444444,
             "#bd3786"
            ],
            [
             0.5555555555555556,
             "#d8576b"
            ],
            [
             0.6666666666666666,
             "#ed7953"
            ],
            [
             0.7777777777777778,
             "#fb9f3a"
            ],
            [
             0.8888888888888888,
             "#fdca26"
            ],
            [
             1,
             "#f0f921"
            ]
           ]
          },
          "colorway": [
           "#636efa",
           "#EF553B",
           "#00cc96",
           "#ab63fa",
           "#FFA15A",
           "#19d3f3",
           "#FF6692",
           "#B6E880",
           "#FF97FF",
           "#FECB52"
          ],
          "font": {
           "color": "#2a3f5f"
          },
          "geo": {
           "bgcolor": "white",
           "lakecolor": "white",
           "landcolor": "white",
           "showlakes": true,
           "showland": true,
           "subunitcolor": "#C8D4E3"
          },
          "hoverlabel": {
           "align": "left"
          },
          "hovermode": "closest",
          "mapbox": {
           "style": "light"
          },
          "paper_bgcolor": "white",
          "plot_bgcolor": "white",
          "polar": {
           "angularaxis": {
            "gridcolor": "#EBF0F8",
            "linecolor": "#EBF0F8",
            "ticks": ""
           },
           "bgcolor": "white",
           "radialaxis": {
            "gridcolor": "#EBF0F8",
            "linecolor": "#EBF0F8",
            "ticks": ""
           }
          },
          "scene": {
           "xaxis": {
            "backgroundcolor": "white",
            "gridcolor": "#DFE8F3",
            "gridwidth": 2,
            "linecolor": "#EBF0F8",
            "showbackground": true,
            "ticks": "",
            "zerolinecolor": "#EBF0F8"
           },
           "yaxis": {
            "backgroundcolor": "white",
            "gridcolor": "#DFE8F3",
            "gridwidth": 2,
            "linecolor": "#EBF0F8",
            "showbackground": true,
            "ticks": "",
            "zerolinecolor": "#EBF0F8"
           },
           "zaxis": {
            "backgroundcolor": "white",
            "gridcolor": "#DFE8F3",
            "gridwidth": 2,
            "linecolor": "#EBF0F8",
            "showbackground": true,
            "ticks": "",
            "zerolinecolor": "#EBF0F8"
           }
          },
          "shapedefaults": {
           "line": {
            "color": "#2a3f5f"
           }
          },
          "ternary": {
           "aaxis": {
            "gridcolor": "#DFE8F3",
            "linecolor": "#A2B1C6",
            "ticks": ""
           },
           "baxis": {
            "gridcolor": "#DFE8F3",
            "linecolor": "#A2B1C6",
            "ticks": ""
           },
           "bgcolor": "white",
           "caxis": {
            "gridcolor": "#DFE8F3",
            "linecolor": "#A2B1C6",
            "ticks": ""
           }
          },
          "title": {
           "x": 0.05
          },
          "xaxis": {
           "automargin": true,
           "gridcolor": "#EBF0F8",
           "linecolor": "#EBF0F8",
           "ticks": "",
           "title": {
            "standoff": 15
           },
           "zerolinecolor": "#EBF0F8",
           "zerolinewidth": 2
          },
          "yaxis": {
           "automargin": true,
           "gridcolor": "#EBF0F8",
           "linecolor": "#EBF0F8",
           "ticks": "",
           "title": {
            "standoff": 15
           },
           "zerolinecolor": "#EBF0F8",
           "zerolinewidth": 2
          }
         }
        },
        "title": {
         "text": "ACF teórica (MA(2) convención '−θ')"
        },
        "width": 800,
        "xaxis": {
         "title": {
          "text": "Rezago k"
         }
        },
        "yaxis": {
         "title": {
          "text": "ρ_k"
         }
        }
       }
      }
     },
     "metadata": {},
     "output_type": "display_data"
    }
   ],
   "source": [
    "t1 = -0.5\n",
    "t2 = 0.2\n",
    "\n",
    "fig = ma2_region_quad(t1, t2)\n",
    "fig.show()\n",
    "\n"
   ]
  },
  {
   "attachments": {
    "image.png": {
     "image/png": "[encoded data removed]"
    }
   },
   "cell_type": "markdown",
   "id": "392816e9",
   "metadata": {},
   "source": [
    "![image.png](attachment:image.png)"
   ]
  },
  {
   "cell_type": "markdown",
   "id": "bb40b409",
   "metadata": {},
   "source": [
    "**Modelo MA(2):**\n",
    "\n",
    "$$\n",
    "W_t = (1 - \\theta_1 B - \\theta_2 B^2) a_t\n",
    "$$\n",
    "\n",
    "En el plano $(\\theta_1, \\theta_2)$, esta región está dentro del triángulo de invertibilidad donde se cumple:\n",
    "\n",
    "- $\\theta_1^2 + 4\\theta_2 > 0$\n",
    "- $\\theta_1 < 0$\n",
    "\n",
    "\n",
    "**FAC teórica**\n",
    "\n",
    "Comportamiento de la función de autocorrelación:\n",
    "\n",
    "$$\n",
    "\\rho_k =\n",
    "\\begin{cases}\n",
    "\\displaystyle\\frac{-\\theta_1 (1 - \\theta_2)}{1 + \\theta_1^2 + \\theta_2^2} & \\text{si } k = 1 \\\\\n",
    "\\displaystyle\\frac{-\\theta_2 + \\theta_1^2 \\theta_2}{1 + \\theta_1^2 + \\theta_2^2} & \\text{si } k = 2 \\\\\n",
    "0 & \\text{si } k \\geq 3\n",
    "\\end{cases}\n",
    "$$\n",
    "\n",
    "**FACP:**\n",
    "\n",
    "- La función de autocorrelación parcial muestra valores distintos de cero en los primeros dos lags, truncándose a partir del tercero.\n",
    "\n",
    "**Comportamiento:**\n",
    "\n",
    "> Solo $\\rho_1$ y $\\rho_2$ son autocorrelaciones distintas de cero.\n",
    "> A partir de $\\rho_3$, todas las autocorrelaciones serán igual a cero.\n",
    "\n",
    "\n",
    "\n"
   ]
  },
  {
   "cell_type": "markdown",
   "id": "e90c1d6d",
   "metadata": {},
   "source": [
    "**Ejemplo: Proceso MA(2)**\n",
    "\n",
    "Dado el proceso:\n",
    "\n",
    "$$\n",
    "W_t = (1 + 0.5B - 0.2B^2)a_t\n",
    "$$\n",
    "\n",
    "**Parámetros:**\n",
    "\n",
    "- $\\theta_1 = -0.5$\n",
    "- $\\theta_2 = 0.2$\n",
    "\n",
    "\n",
    "\n",
    "**Verificación del discriminante:**\n",
    "\n",
    "$$\n",
    "\\theta_1^2 + 4\\theta_2 = (-0.5)^2 + 4(0.2) = 0.25 + 0.8 = 1.05 > 0\n",
    "$$\n",
    "\n",
    "\n",
    "**Se cumplen las 3 condiciones de invertibilidad:**\n",
    "\n",
    "1. $|\\theta_2| = 0.2 < 1$\n",
    "\n",
    "2. $\\theta_1 + \\theta_2 = -0.5 + 0.2 = -0.3 < 1$\n",
    "\n",
    "3. $\\theta_2 - \\theta_1 = 0.2 - (-0.5) = 0.7 < 1$\n",
    "\n",
    "\n",
    "\n",
    "**FAC teórica:**\n",
    "\n",
    "La fórmula general para el proceso MA(2) es:\n",
    "\n",
    "$$\n",
    "\\rho_k =\n",
    "\\begin{cases}\n",
    "\\displaystyle\\frac{-\\theta_1 (1 - \\theta_2)}{1 + \\theta_1^2 + \\theta_2^2} & \\text{si } k = 1 \\\\\\\\\n",
    "\\displaystyle\\frac{-\\theta_2 + \\theta_1^2 \\theta_2}{1 + \\theta_1^2 + \\theta_2^2} & \\text{si } k = 2 \\\\\\\\\n",
    "0 & \\text{si } k \\geq 3\n",
    "\\end{cases}\n",
    "$$\n",
    "\n",
    "**Cálculo numérico:**\n",
    "\n",
    "1. Para $k = 1$:\n",
    "\n",
    "$$\n",
    "\\rho_1 = \\frac{-(-0.5)(1 - 0.2)}{1 + (-0.5)^2 + (0.2)^2}\n",
    "= \\frac{(0.5)(0.8)}{1 + 0.25 + 0.04}\n",
    "= \\frac{0.4}{1.29} \\approx 0.31\n",
    "$$\n",
    "\n",
    "2. Para $k = 2$:\n",
    "\n",
    "$$\n",
    "\\rho_2 = \\frac{-0.2 + (-0.5)^2(0.2)}{1.29}\n",
    "= \\frac{-0.2 + 0.05}{1.29}\n",
    "= \\frac{-0.15}{1.29} \\approx -0.116\n",
    "$$\n",
    "\n",
    "3. Para $k \\geq 3$:\n",
    "\n",
    "$$\n",
    "\\rho_k = 0\n",
    "$$\n",
    "\n"
   ]
  },
  {
   "attachments": {
    "image.png": {
     "image/png": "[encoded data removed]"
    }
   },
   "cell_type": "markdown",
   "id": "7e892da6",
   "metadata": {},
   "source": [
    "\n",
    "**Gráfico de la FAC teórica:**\n",
    "\n",
    "Visualmente se observan solo $\\rho_1$ y $\\rho_2$ distintos de cero. El resto son cero.\n",
    "![image.png](attachment:image.png)"
   ]
  },
  {
   "cell_type": "markdown",
   "id": "aecb0d1d",
   "metadata": {},
   "source": [
    "**Nota:**\n",
    "\n",
    "Se puede probar que:\n",
    "\n",
    "- $|\\rho_1| \\leq 0.5$\n",
    "- $|\\rho_2| \\leq 0.5$\n",
    "\n",
    "---\n"
   ]
  },
  {
   "cell_type": "markdown",
   "id": "a3729571",
   "metadata": {},
   "source": [
    "**Región Admisible #2: Discriminante > 0 y $\\theta_{1} > 0$**\n",
    "\n",
    "Consideramos el modelo:\n",
    "\n",
    "$$\n",
    "W_t = (1 - \\theta_1 B - \\theta_2 B^2)\\alpha_t\n",
    "$$\n",
    "\n"
   ]
  },
  {
   "attachments": {
    "image.png": {
     "image/png": "[encoded data removed]"
    }
   },
   "cell_type": "markdown",
   "id": "7bb773af",
   "metadata": {},
   "source": [
    "![image.png](attachment:image.png)"
   ]
  },
  {
   "cell_type": "markdown",
   "id": "fa527ad2",
   "metadata": {},
   "source": [
    "\n",
    "\n",
    "**Condiciones:**\n",
    "\n",
    "- $\\theta_1^2 + 4\\theta_2 > 0$\n",
    "- $\\theta_2 > 0$\n",
    "\n",
    "\n",
    "**FAC teórica:**\n",
    "\n",
    "$$\n",
    "\\rho_k =\n",
    "\\begin{cases}\n",
    "-\\frac{\\theta_1 (1 - \\theta_2)}{1 + \\theta_1^2 + \\theta_2^2} & \\text{si } k = 1 \\\\\n",
    "-\\frac{\\theta_2}{1 + \\theta_1^2 + \\theta_2^2} & \\text{si } k = 2 \\\\\n",
    "0 & \\text{si } k \\geq 3\n",
    "\\end{cases}\n",
    "$$\n",
    "\n",
    "**Comportamiento:**\n",
    "> Solo $\\rho_1$ y $\\rho_2$ son autocorrelaciones distintas de cero.\n",
    "\n",
    "**Ejemplo**\n",
    "\n",
    "Modelo:\n",
    "\n",
    "$$\n",
    "W_t = (1 - 0.3B - 0.4B^2)\\alpha_t\n",
    "$$\n",
    "\n",
    "Parámetros:\n",
    "\n",
    "- $\\theta_1 = 0.3$\n",
    "- $\\theta_2 = 0.4$\n",
    "\n",
    "Comprobación:\n",
    "\n",
    "$$\n",
    "\\theta_1^2 + 4\\theta_2 = (0.3)^2 + 4(0.4) = 0.09 + 1.6 = 1.69 > 0\n",
    "$$\n",
    "\n",
    "\n",
    "\n",
    "**Condiciones de invertibilidad:**\n",
    "\n",
    "- $|\\theta_2| = |0.4| < 1$\n",
    "- $\\theta_2 + \\theta_1 = 0.7 < 1$\n",
    "- $\\theta_2 - \\theta_1 = 0.1 < 1$\n",
    "\n",
    "Cumple con las condiciones de invertibilidad\n"
   ]
  },
  {
   "cell_type": "markdown",
   "id": "365079bf",
   "metadata": {},
   "source": [
    "\n",
    "- $\\theta_1 = 0.3$\n",
    "- $\\theta_2 = 0.4$\n",
    "\n",
    "**Fórmulas:**\n",
    "\n",
    "$$\n",
    "\\rho_k =\n",
    "\\begin{cases}\n",
    "-\\dfrac{\\theta_1 (1 - \\theta_2)}{1 + \\theta_1^2 + \\theta_2^2} & \\text{si } k = 1 \\\\\n",
    "-\\dfrac{\\theta_2}{1 + \\theta_1^2 + \\theta_2^2} & \\text{si } k = 2 \\\\\n",
    "0 & \\text{si } k \\geq 3\n",
    "\\end{cases}\n",
    "$$\n",
    "\n",
    "\n",
    " Sustituyendo los valores\n",
    "\n",
    "- $\\rho_1 = -\\dfrac{0.3 (1 - 0.4)}{1 + 0.3^2 + 0.4^2} = -\\dfrac{0.3 (0.6)}{1 + 0.09 + 0.16} = -\\dfrac{0.18}{1.25} = -0.144$\n",
    "\n",
    "- $\\rho_2 = -\\dfrac{0.4}{1.25} = -0.32$\n",
    "\n",
    "- $\\rho_k = 0$ para $k \\geq 3$\n",
    "\n",
    "\n",
    "\n",
    "$$\n",
    "\\rho_k =\n",
    "\\begin{cases}\n",
    "-0.14 & \\text{si } k = 1 \\\\\n",
    "-0.32 & \\text{si } k = 2 \\\\\n",
    "0 & \\text{si } k \\geq 3\n",
    "\\end{cases}\n",
    "$$"
   ]
  },
  {
   "attachments": {
    "image.png": {
     "image/png": "[encoded data removed]"
    }
   },
   "cell_type": "markdown",
   "id": "e130a28d",
   "metadata": {},
   "source": [
    "![image.png](attachment:image.png)\n",
    "\n",
    "---\n"
   ]
  },
  {
   "cell_type": "markdown",
   "id": "df74e497",
   "metadata": {},
   "source": [
    "\n",
    "**Región Admisible #3: Discriminante < 0 ; $\\theta_{1} < 0$**\n",
    "\n",
    "**Modelo:**\n",
    "\n",
    "$$\n",
    "W_t = (1 - \\theta_1 B - \\theta_2 B^2) \\alpha_t\n",
    "$$\n",
    "\n"
   ]
  },
  {
   "attachments": {
    "image.png": {
     "image/png": "[encoded data removed]"
    }
   },
   "cell_type": "markdown",
   "id": "32552892",
   "metadata": {},
   "source": [
    "![image.png](attachment:image.png)"
   ]
  },
  {
   "cell_type": "markdown",
   "id": "3728657d",
   "metadata": {},
   "source": [
    "\n",
    "**Ejemplo:**\n",
    "\n",
    "$$\n",
    "W_t = (1 + 0.5B + 0.7B^2) \\alpha_t\n",
    "$$\n",
    "\n",
    "**Parámetros:**\n",
    "\n",
    "- $\\theta_1 = -0.5$\n",
    "- $\\theta_2 = -0.7$\n",
    "\n",
    "**Discriminante:**\n",
    "\n",
    "$$\n",
    "\\theta_1^2 + 4\\theta_2 = (-0.5)^2 + 4(-0.7) = 0.25 - 2.8 = -2.55 < 0\n",
    "$$\n",
    "\n",
    "**Se cumplen las condiciones de invertibilidad:**\n",
    "\n",
    "- $|\\theta_2| = 0.7 < 1$\n",
    "- $\\theta_1 + \\theta_2 = -1.2 < 1$\n",
    "- $\\theta_2 - \\theta_1 = -0.2 < 1$\n",
    "\n",
    "**FAC teórica:**\n",
    "\n",
    "$$\n",
    "\\rho_k =\n",
    "\\begin{cases}\n",
    "-\\dfrac{\\theta_1 (1 - \\theta_2)}{1 + \\theta_1^2 + \\theta_2^2} & \\text{si } k = 1 \\\\\n",
    "-\\dfrac{\\theta_2}{1 + \\theta_1^2 + \\theta_2^2} & \\text{si } k = 2 \\\\\n",
    "0 & \\text{si } k \\geq 3\n",
    "\\end{cases}\n",
    "$$\n",
    "\n",
    "**Sustituyendo:**\n",
    "\n",
    "- $\\rho_1 = -\\dfrac{-0.5 (1 - (-0.7))}{1 + (-0.5)^2 + (-0.7)^2} = \\dfrac{0.5 \\cdot 1.7}{1 + 0.25 + 0.49} = \\dfrac{0.85}{1.74} \\approx 0.488$\n",
    "- $\\rho_2 = -\\dfrac{-0.7}{1.74} = 0.402$\n",
    "- $\\rho_k = 0$ para $k \\geq 3$\n",
    "\n",
    "**Resultado final:**\n",
    "\n",
    "$$\n",
    "\\rho_k =\n",
    "\\begin{cases}\n",
    "0.48 & \\text{si } k = 1 \\\\\n",
    "0.40 & \\text{si } k = 2 \\\\\n",
    "0 & \\text{si } k \\geq 3\n",
    "\\end{cases}\n",
    "$$\n"
   ]
  },
  {
   "attachments": {
    "image.png": {
     "image/png": "[encoded data removed]"
    }
   },
   "cell_type": "markdown",
   "id": "dee7b772",
   "metadata": {},
   "source": [
    "![image.png](attachment:image.png)\n",
    "\n",
    "---"
   ]
  },
  {
   "cell_type": "markdown",
   "id": "83ae850d",
   "metadata": {},
   "source": [
    "**Región Admisible #3: Discriminante < 0 ; $\\theta_{1} < 0$**\n",
    "\n",
    "**Modelo:**\n",
    "\n",
    "$$\n",
    "W_t = (1 - \\theta_1 B - \\theta_2 B^2) \\alpha_t\n",
    "$$\n"
   ]
  },
  {
   "attachments": {
    "image.png": {
     "image/png": "[encoded data removed]"
    }
   },
   "cell_type": "markdown",
   "id": "e6041142",
   "metadata": {},
   "source": [
    "![image.png](attachment:image.png)"
   ]
  },
  {
   "cell_type": "markdown",
   "id": "28019a9d",
   "metadata": {},
   "source": [
    "\n",
    "**Ejemplo:**\n",
    "\n",
    "$$\n",
    "W_t = (1 + 0.5B + 0.7B^2) \\alpha_t\n",
    "$$\n",
    "\n",
    "**Parámetros:**\n",
    "\n",
    "- $\\theta_1 = 0.7$\n",
    "- $\\theta_2 = -0.5$\n",
    "\n",
    "**Discriminante:**\n",
    "\n",
    "$$\n",
    "\\theta_1^2 + 4\\theta_2 = (0.7)^2 + 4(-0.5) = 0.49 - 2 = -1.51 < 0\n",
    "$$\n",
    "\n",
    "**Se cumplen las condiciones de invertibilidad:**\n",
    "\n",
    "- $|\\theta_1| = 0.7 < 1$\n",
    "- $\\theta_1 + \\theta_2 = 0.2 < 1$\n",
    "- $\\theta_2 - \\theta_1 = -0.12< 1$\n",
    "\n",
    "**FAC teórica:**\n",
    "\n",
    "$$\n",
    "\\rho_k =\n",
    "\\begin{cases}\n",
    "-\\dfrac{\\theta_1 (1 - \\theta_2)}{1 + \\theta_1^2 + \\theta_2^2} & \\text{si } k = 1 \\\\\n",
    "-\\dfrac{\\theta_2}{1 + \\theta_1^2 + \\theta_2^2} & \\text{si } k = 2 \\\\\n",
    "0 & \\text{si } k \\geq 3\n",
    "\\end{cases}\n",
    "$$\n",
    "\n",
    "**Sustituyendo:**\n",
    "\n",
    "- $\\rho_1 = -\\dfrac{-0.7 (1 - (-0.5))}{1 + (0.7)^2 + (-0.5)^2} =\\dfrac{-0.7 (1.5)}{1 + (0.7)^2 + (-0.5)^2}  = -0.603 $\n",
    "- $\\rho_2 = -\\dfrac{-0.5}{1.74} = 0.28$\n",
    "- $\\rho_k = 0$ para $k \\geq 3$\n",
    "\n",
    "**Resultado final:**\n",
    "\n",
    "$$\n",
    "\\rho_k =\n",
    "\\begin{cases}\n",
    "-0.603 & \\text{si } k = 1 \\\\\n",
    "0.28 & \\text{si } k = 2 \\\\\n",
    "0 & \\text{si } k \\geq 3\n",
    "\\end{cases}\n",
    "$$\n"
   ]
  }
 ],
 "metadata": {
  "kernelspec": {
   "display_name": "Python 3",
   "language": "python",
   "name": "python3"
  },
  "language_info": {
   "codemirror_mode": {
    "name": "ipython",
    "version": 3
   },
   "file_extension": ".py",
   "mimetype": "text/x-python",
   "name": "python",
   "nbconvert_exporter": "python",
   "pygments_lexer": "ipython3",
   "version": "3.13.3"
  }
 },
 "nbformat": 4,
 "nbformat_minor": 5
}
