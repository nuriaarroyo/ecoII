{
 "cells": [
  {
   "cell_type": "markdown",
   "id": "56080015",
   "metadata": {},
   "source": [
    "# ***Regiones admisibles de los procesos AR(1) y AR(2)***"
   ]
  },
  {
   "cell_type": "markdown",
   "id": "3c18aa95",
   "metadata": {},
   "source": [
    "## **Considere un proceso AR(1):**\n",
    "\n",
    "$$\n",
    "(1 - \\phi B) W_t = \\alpha_t\n",
    "$$\n",
    "\n",
    "---\n",
    "\n",
    "Se recuerda que si $|\\phi| < 1$, este proceso es **estacionario**.\n",
    "\n",
    "A partir de esta condición, se identifican dos **regiones admisibles**.\n",
    "\n",
    "---\n",
    "\n",
    "**Región admisible 1:**\n",
    "\n",
    "$$\n",
    "0 < \\phi < 1\n",
    "$$\n"
   ]
  },
  {
   "cell_type": "code",
   "execution_count": 17,
   "id": "cb99c5be",
   "metadata": {},
   "outputs": [
    {
     "data": {
      "application/vnd.plotly.v1+json": {
       "config": {
        "plotlyServerURL": "https://plot.ly"
       },
       "data": [
        {
         "line": {
          "color": "gray",
          "width": 2
         },
         "mode": "lines",
         "showlegend": false,
         "type": "scatter",
         "x": [
          -1.5,
          1.5
         ],
         "xaxis": "x",
         "y": [
          0,
          0
         ],
         "yaxis": "y"
        },
        {
         "marker": {
          "size": 12
         },
         "mode": "markers",
         "name": "φ=0.4",
         "type": "scatter",
         "x": [
          0.4
         ],
         "xaxis": "x",
         "y": [
          0
         ],
         "yaxis": "y"
        },
        {
         "line": {
          "width": 2
         },
         "mode": "lines",
         "name": "ρ_k",
         "showlegend": false,
         "type": "scatter",
         "x": [
          0,
          0,
          null,
          1,
          1,
          null,
          2,
          2,
          null,
          3,
          3,
          null,
          4,
          4,
          null,
          5,
          5,
          null,
          6,
          6,
          null,
          7,
          7,
          null,
          8,
          8,
          null,
          9,
          9,
          null,
          10,
          10,
          null,
          11,
          11,
          null,
          12,
          12,
          null
         ],
         "xaxis": "x2",
         "y": [
          0,
          1,
          null,
          0,
          0.4,
          null,
          0,
          0.16000000000000003,
          null,
          0,
          0.06400000000000002,
          null,
          0,
          0.025600000000000005,
          null,
          0,
          0.010240000000000003,
          null,
          0,
          0.0040960000000000015,
          null,
          0,
          0.0016384000000000006,
          null,
          0,
          0.0006553600000000003,
          null,
          0,
          0.0002621440000000001,
          null,
          0,
          0.00010485760000000006,
          null,
          0,
          0.000041943040000000025,
          null,
          0,
          0.00001677721600000001,
          null
         ],
         "yaxis": "y2"
        },
        {
         "marker": {
          "size": 7
         },
         "mode": "markers",
         "name": "ρ_k (•)",
         "showlegend": false,
         "type": "scatter",
         "x": {
          "bdata": "AAECAwQFBgcICQoLDA==",
          "dtype": "i1"
         },
         "xaxis": "x2",
         "y": {
          "bdata": "AAAAAAAA8D+amZmZmZnZP3wUrkfhesQ//anx0k1isD8uQxzr4jaaP/Jo44i1+IQ/j+21oPfGcD9Lr7ya8tdaPz2MMOKOeUU/l9Ym6AsuMT+/vdfZ33wbP5lkeeF//QU/FOotgZmX8T4=",
          "dtype": "f8"
         },
         "yaxis": "y2"
        },
        {
         "line": {
          "width": 2
         },
         "mode": "lines",
         "name": "φ_k (PACF)",
         "showlegend": false,
         "type": "scatter",
         "x": [
          0,
          0,
          null,
          1,
          1,
          null,
          2,
          2,
          null,
          3,
          3,
          null,
          4,
          4,
          null,
          5,
          5,
          null,
          6,
          6,
          null,
          7,
          7,
          null,
          8,
          8,
          null,
          9,
          9,
          null,
          10,
          10,
          null,
          11,
          11,
          null,
          12,
          12,
          null
         ],
         "xaxis": "x3",
         "y": [
          0,
          1,
          null,
          0,
          0.4,
          null,
          0,
          0,
          null,
          0,
          0,
          null,
          0,
          0,
          null,
          0,
          0,
          null,
          0,
          0,
          null,
          0,
          0,
          null,
          0,
          0,
          null,
          0,
          0,
          null,
          0,
          0,
          null,
          0,
          0,
          null,
          0,
          0,
          null
         ],
         "yaxis": "y3"
        },
        {
         "marker": {
          "size": 7
         },
         "mode": "markers",
         "name": "φ_k (PACF) (•)",
         "showlegend": false,
         "type": "scatter",
         "x": {
          "bdata": "AAECAwQFBgcICQoLDA==",
          "dtype": "i1"
         },
         "xaxis": "x3",
         "y": {
          "bdata": "AAAAAAAA8D+amZmZmZnZPwAAAAAAAAAAAAAAAAAAAAAAAAAAAAAAAAAAAAAAAAAAAAAAAAAAAAAAAAAAAAAAAAAAAAAAAAAAAAAAAAAAAAAAAAAAAAAAAAAAAAAAAAAAAAAAAAAAAAA=",
          "dtype": "f8"
         },
         "yaxis": "y3"
        }
       ],
       "layout": {
        "annotations": [
         {
          "font": {
           "size": 16
          },
          "showarrow": false,
          "text": "Región admisible 1",
          "x": 0.14300000000000002,
          "xanchor": "center",
          "xref": "paper",
          "y": 1,
          "yanchor": "bottom",
          "yref": "paper"
         },
         {
          "font": {
           "size": 16
          },
          "showarrow": false,
          "text": "FAC",
          "x": 0.4956666666666667,
          "xanchor": "center",
          "xref": "paper",
          "y": 1,
          "yanchor": "bottom",
          "yref": "paper"
         },
         {
          "font": {
           "size": 16
          },
          "showarrow": false,
          "text": "FACP",
          "x": 0.8526666666666667,
          "xanchor": "center",
          "xref": "paper",
          "y": 1,
          "yanchor": "bottom",
          "yref": "paper"
         }
        ],
        "height": 360,
        "shapes": [
         {
          "fillcolor": "lightgreen",
          "layer": "below",
          "line": {
           "width": 0
          },
          "opacity": 0.35,
          "type": "rect",
          "x0": 0,
          "x1": 1,
          "xref": "x",
          "y0": 0,
          "y1": 1,
          "yref": "paper"
         },
         {
          "line": {
           "color": "gray",
           "dash": "dot"
          },
          "type": "line",
          "x0": 0,
          "x1": 1,
          "xref": "x2 domain",
          "y0": 0,
          "y1": 0,
          "yref": "y2"
         },
         {
          "line": {
           "color": "gray",
           "dash": "dot"
          },
          "type": "line",
          "x0": 0,
          "x1": 1,
          "xref": "x3 domain",
          "y0": 0,
          "y1": 0,
          "yref": "y3"
         }
        ],
        "template": {
         "data": {
          "bar": [
           {
            "error_x": {
             "color": "#2a3f5f"
            },
            "error_y": {
             "color": "#2a3f5f"
            },
            "marker": {
             "line": {
              "color": "white",
              "width": 0.5
             },
             "pattern": {
              "fillmode": "overlay",
              "size": 10,
              "solidity": 0.2
             }
            },
            "type": "bar"
           }
          ],
          "barpolar": [
           {
            "marker": {
             "line": {
              "color": "white",
              "width": 0.5
             },
             "pattern": {
              "fillmode": "overlay",
              "size": 10,
              "solidity": 0.2
             }
            },
            "type": "barpolar"
           }
          ],
          "carpet": [
           {
            "aaxis": {
             "endlinecolor": "#2a3f5f",
             "gridcolor": "#C8D4E3",
             "linecolor": "#C8D4E3",
             "minorgridcolor": "#C8D4E3",
             "startlinecolor": "#2a3f5f"
            },
            "baxis": {
             "endlinecolor": "#2a3f5f",
             "gridcolor": "#C8D4E3",
             "linecolor": "#C8D4E3",
             "minorgridcolor": "#C8D4E3",
             "startlinecolor": "#2a3f5f"
            },
            "type": "carpet"
           }
          ],
          "choropleth": [
           {
            "colorbar": {
             "outlinewidth": 0,
             "ticks": ""
            },
            "type": "choropleth"
           }
          ],
          "contour": [
           {
            "colorbar": {
             "outlinewidth": 0,
             "ticks": ""
            },
            "colorscale": [
             [
              0,
              "#0d0887"
             ],
             [
              0.1111111111111111,
              "#46039f"
             ],
             [
              0.2222222222222222,
              "#7201a8"
             ],
             [
              0.3333333333333333,
              "#9c179e"
             ],
             [
              0.4444444444444444,
              "#bd3786"
             ],
             [
              0.5555555555555556,
              "#d8576b"
             ],
             [
              0.6666666666666666,
              "#ed7953"
             ],
             [
              0.7777777777777778,
              "#fb9f3a"
             ],
             [
              0.8888888888888888,
              "#fdca26"
             ],
             [
              1,
              "#f0f921"
             ]
            ],
            "type": "contour"
           }
          ],
          "contourcarpet": [
           {
            "colorbar": {
             "outlinewidth": 0,
             "ticks": ""
            },
            "type": "contourcarpet"
           }
          ],
          "heatmap": [
           {
            "colorbar": {
             "outlinewidth": 0,
             "ticks": ""
            },
            "colorscale": [
             [
              0,
              "#0d0887"
             ],
             [
              0.1111111111111111,
              "#46039f"
             ],
             [
              0.2222222222222222,
              "#7201a8"
             ],
             [
              0.3333333333333333,
              "#9c179e"
             ],
             [
              0.4444444444444444,
              "#bd3786"
             ],
             [
              0.5555555555555556,
              "#d8576b"
             ],
             [
              0.6666666666666666,
              "#ed7953"
             ],
             [
              0.7777777777777778,
              "#fb9f3a"
             ],
             [
              0.8888888888888888,
              "#fdca26"
             ],
             [
              1,
              "#f0f921"
             ]
            ],
            "type": "heatmap"
           }
          ],
          "histogram": [
           {
            "marker": {
             "pattern": {
              "fillmode": "overlay",
              "size": 10,
              "solidity": 0.2
             }
            },
            "type": "histogram"
           }
          ],
          "histogram2d": [
           {
            "colorbar": {
             "outlinewidth": 0,
             "ticks": ""
            },
            "colorscale": [
             [
              0,
              "#0d0887"
             ],
             [
              0.1111111111111111,
              "#46039f"
             ],
             [
              0.2222222222222222,
              "#7201a8"
             ],
             [
              0.3333333333333333,
              "#9c179e"
             ],
             [
              0.4444444444444444,
              "#bd3786"
             ],
             [
              0.5555555555555556,
              "#d8576b"
             ],
             [
              0.6666666666666666,
              "#ed7953"
             ],
             [
              0.7777777777777778,
              "#fb9f3a"
             ],
             [
              0.8888888888888888,
              "#fdca26"
             ],
             [
              1,
              "#f0f921"
             ]
            ],
            "type": "histogram2d"
           }
          ],
          "histogram2dcontour": [
           {
            "colorbar": {
             "outlinewidth": 0,
             "ticks": ""
            },
            "colorscale": [
             [
              0,
              "#0d0887"
             ],
             [
              0.1111111111111111,
              "#46039f"
             ],
             [
              0.2222222222222222,
              "#7201a8"
             ],
             [
              0.3333333333333333,
              "#9c179e"
             ],
             [
              0.4444444444444444,
              "#bd3786"
             ],
             [
              0.5555555555555556,
              "#d8576b"
             ],
             [
              0.6666666666666666,
              "#ed7953"
             ],
             [
              0.7777777777777778,
              "#fb9f3a"
             ],
             [
              0.8888888888888888,
              "#fdca26"
             ],
             [
              1,
              "#f0f921"
             ]
            ],
            "type": "histogram2dcontour"
           }
          ],
          "mesh3d": [
           {
            "colorbar": {
             "outlinewidth": 0,
             "ticks": ""
            },
            "type": "mesh3d"
           }
          ],
          "parcoords": [
           {
            "line": {
             "colorbar": {
              "outlinewidth": 0,
              "ticks": ""
             }
            },
            "type": "parcoords"
           }
          ],
          "pie": [
           {
            "automargin": true,
            "type": "pie"
           }
          ],
          "scatter": [
           {
            "fillpattern": {
             "fillmode": "overlay",
             "size": 10,
             "solidity": 0.2
            },
            "type": "scatter"
           }
          ],
          "scatter3d": [
           {
            "line": {
             "colorbar": {
              "outlinewidth": 0,
              "ticks": ""
             }
            },
            "marker": {
             "colorbar": {
              "outlinewidth": 0,
              "ticks": ""
             }
            },
            "type": "scatter3d"
           }
          ],
          "scattercarpet": [
           {
            "marker": {
             "colorbar": {
              "outlinewidth": 0,
              "ticks": ""
             }
            },
            "type": "scattercarpet"
           }
          ],
          "scattergeo": [
           {
            "marker": {
             "colorbar": {
              "outlinewidth": 0,
              "ticks": ""
             }
            },
            "type": "scattergeo"
           }
          ],
          "scattergl": [
           {
            "marker": {
             "colorbar": {
              "outlinewidth": 0,
              "ticks": ""
             }
            },
            "type": "scattergl"
           }
          ],
          "scattermap": [
           {
            "marker": {
             "colorbar": {
              "outlinewidth": 0,
              "ticks": ""
             }
            },
            "type": "scattermap"
           }
          ],
          "scattermapbox": [
           {
            "marker": {
             "colorbar": {
              "outlinewidth": 0,
              "ticks": ""
             }
            },
            "type": "scattermapbox"
           }
          ],
          "scatterpolar": [
           {
            "marker": {
             "colorbar": {
              "outlinewidth": 0,
              "ticks": ""
             }
            },
            "type": "scatterpolar"
           }
          ],
          "scatterpolargl": [
           {
            "marker": {
             "colorbar": {
              "outlinewidth": 0,
              "ticks": ""
             }
            },
            "type": "scatterpolargl"
           }
          ],
          "scatterternary": [
           {
            "marker": {
             "colorbar": {
              "outlinewidth": 0,
              "ticks": ""
             }
            },
            "type": "scatterternary"
           }
          ],
          "surface": [
           {
            "colorbar": {
             "outlinewidth": 0,
             "ticks": ""
            },
            "colorscale": [
             [
              0,
              "#0d0887"
             ],
             [
              0.1111111111111111,
              "#46039f"
             ],
             [
              0.2222222222222222,
              "#7201a8"
             ],
             [
              0.3333333333333333,
              "#9c179e"
             ],
             [
              0.4444444444444444,
              "#bd3786"
             ],
             [
              0.5555555555555556,
              "#d8576b"
             ],
             [
              0.6666666666666666,
              "#ed7953"
             ],
             [
              0.7777777777777778,
              "#fb9f3a"
             ],
             [
              0.8888888888888888,
              "#fdca26"
             ],
             [
              1,
              "#f0f921"
             ]
            ],
            "type": "surface"
           }
          ],
          "table": [
           {
            "cells": {
             "fill": {
              "color": "#EBF0F8"
             },
             "line": {
              "color": "white"
             }
            },
            "header": {
             "fill": {
              "color": "#C8D4E3"
             },
             "line": {
              "color": "white"
             }
            },
            "type": "table"
           }
          ]
         },
         "layout": {
          "annotationdefaults": {
           "arrowcolor": "#2a3f5f",
           "arrowhead": 0,
           "arrowwidth": 1
          },
          "autotypenumbers": "strict",
          "coloraxis": {
           "colorbar": {
            "outlinewidth": 0,
            "ticks": ""
           }
          },
          "colorscale": {
           "diverging": [
            [
             0,
             "#8e0152"
            ],
            [
             0.1,
             "#c51b7d"
            ],
            [
             0.2,
             "#de77ae"
            ],
            [
             0.3,
             "#f1b6da"
            ],
            [
             0.4,
             "#fde0ef"
            ],
            [
             0.5,
             "#f7f7f7"
            ],
            [
             0.6,
             "#e6f5d0"
            ],
            [
             0.7,
             "#b8e186"
            ],
            [
             0.8,
             "#7fbc41"
            ],
            [
             0.9,
             "#4d9221"
            ],
            [
             1,
             "#276419"
            ]
           ],
           "sequential": [
            [
             0,
             "#0d0887"
            ],
            [
             0.1111111111111111,
             "#46039f"
            ],
            [
             0.2222222222222222,
             "#7201a8"
            ],
            [
             0.3333333333333333,
             "#9c179e"
            ],
            [
             0.4444444444444444,
             "#bd3786"
            ],
            [
             0.5555555555555556,
             "#d8576b"
            ],
            [
             0.6666666666666666,
             "#ed7953"
            ],
            [
             0.7777777777777778,
             "#fb9f3a"
            ],
            [
             0.8888888888888888,
             "#fdca26"
            ],
            [
             1,
             "#f0f921"
            ]
           ],
           "sequentialminus": [
            [
             0,
             "#0d0887"
            ],
            [
             0.1111111111111111,
             "#46039f"
            ],
            [
             0.2222222222222222,
             "#7201a8"
            ],
            [
             0.3333333333333333,
             "#9c179e"
            ],
            [
             0.4444444444444444,
             "#bd3786"
            ],
            [
             0.5555555555555556,
             "#d8576b"
            ],
            [
             0.6666666666666666,
             "#ed7953"
            ],
            [
             0.7777777777777778,
             "#fb9f3a"
            ],
            [
             0.8888888888888888,
             "#fdca26"
            ],
            [
             1,
             "#f0f921"
            ]
           ]
          },
          "colorway": [
           "#636efa",
           "#EF553B",
           "#00cc96",
           "#ab63fa",
           "#FFA15A",
           "#19d3f3",
           "#FF6692",
           "#B6E880",
           "#FF97FF",
           "#FECB52"
          ],
          "font": {
           "color": "#2a3f5f"
          },
          "geo": {
           "bgcolor": "white",
           "lakecolor": "white",
           "landcolor": "white",
           "showlakes": true,
           "showland": true,
           "subunitcolor": "#C8D4E3"
          },
          "hoverlabel": {
           "align": "left"
          },
          "hovermode": "closest",
          "mapbox": {
           "style": "light"
          },
          "paper_bgcolor": "white",
          "plot_bgcolor": "white",
          "polar": {
           "angularaxis": {
            "gridcolor": "#EBF0F8",
            "linecolor": "#EBF0F8",
            "ticks": ""
           },
           "bgcolor": "white",
           "radialaxis": {
            "gridcolor": "#EBF0F8",
            "linecolor": "#EBF0F8",
            "ticks": ""
           }
          },
          "scene": {
           "xaxis": {
            "backgroundcolor": "white",
            "gridcolor": "#DFE8F3",
            "gridwidth": 2,
            "linecolor": "#EBF0F8",
            "showbackground": true,
            "ticks": "",
            "zerolinecolor": "#EBF0F8"
           },
           "yaxis": {
            "backgroundcolor": "white",
            "gridcolor": "#DFE8F3",
            "gridwidth": 2,
            "linecolor": "#EBF0F8",
            "showbackground": true,
            "ticks": "",
            "zerolinecolor": "#EBF0F8"
           },
           "zaxis": {
            "backgroundcolor": "white",
            "gridcolor": "#DFE8F3",
            "gridwidth": 2,
            "linecolor": "#EBF0F8",
            "showbackground": true,
            "ticks": "",
            "zerolinecolor": "#EBF0F8"
           }
          },
          "shapedefaults": {
           "line": {
            "color": "#2a3f5f"
           }
          },
          "ternary": {
           "aaxis": {
            "gridcolor": "#DFE8F3",
            "linecolor": "#A2B1C6",
            "ticks": ""
           },
           "baxis": {
            "gridcolor": "#DFE8F3",
            "linecolor": "#A2B1C6",
            "ticks": ""
           },
           "bgcolor": "white",
           "caxis": {
            "gridcolor": "#DFE8F3",
            "linecolor": "#A2B1C6",
            "ticks": ""
           }
          },
          "title": {
           "x": 0.05
          },
          "xaxis": {
           "automargin": true,
           "gridcolor": "#EBF0F8",
           "linecolor": "#EBF0F8",
           "ticks": "",
           "title": {
            "standoff": 15
           },
           "zerolinecolor": "#EBF0F8",
           "zerolinewidth": 2
          },
          "yaxis": {
           "automargin": true,
           "gridcolor": "#EBF0F8",
           "linecolor": "#EBF0F8",
           "ticks": "",
           "title": {
            "standoff": 15
           },
           "zerolinecolor": "#EBF0F8",
           "zerolinewidth": 2
          }
         }
        },
        "title": {
         "text": "AR(1) con convención (1 - 0.4B)X_t = Z_t"
        },
        "width": 1050,
        "xaxis": {
         "anchor": "y",
         "domain": [
          0,
          0.28600000000000003
         ],
         "range": [
          -1.5,
          1.5
         ],
         "title": {
          "text": "φ"
         }
        },
        "xaxis2": {
         "anchor": "y2",
         "domain": [
          0.3526666666666667,
          0.6386666666666667
         ],
         "title": {
          "text": "k"
         }
        },
        "xaxis3": {
         "anchor": "y3",
         "domain": [
          0.7053333333333334,
          1
         ],
         "title": {
          "text": "k"
         }
        },
        "yaxis": {
         "anchor": "x",
         "domain": [
          0,
          1
         ],
         "visible": false
        },
        "yaxis2": {
         "anchor": "x2",
         "domain": [
          0,
          1
         ],
         "range": [
          -1,
          1
         ],
         "title": {
          "text": "ρ_k"
         }
        },
        "yaxis3": {
         "anchor": "x3",
         "domain": [
          0,
          1
         ],
         "range": [
          -1,
          1
         ],
         "title": {
          "text": "φ_k"
         }
        }
       }
      }
     },
     "metadata": {},
     "output_type": "display_data"
    }
   ],
   "source": [
    "import numpy as np\n",
    "import plotly.graph_objects as go\n",
    "from plotly.subplots import make_subplots\n",
    "\n",
    "# --- util: stem (líneas verticales) ---\n",
    "def stem_trace(x, y, name):\n",
    "    xs, ys = [], []\n",
    "    for xi, yi in zip(x, y):\n",
    "        xs += [xi, xi, None]\n",
    "        ys += [0, yi, None]\n",
    "    lines = go.Scatter(x=xs, y=ys, mode=\"lines\", line=dict(width=2), name=name, showlegend=False)\n",
    "    dots  = go.Scatter(x=x,  y=y,  mode=\"markers\", marker=dict(size=7), name=f\"{name} (•)\", showlegend=False)\n",
    "    return lines, dots\n",
    "\n",
    "# --- ACF/PACF teóricas AR(1) con (1 - φB)X_t = Z_t ---\n",
    "def acf_ar1(phi, m):\n",
    "    lags = np.arange(m+1)\n",
    "    rho = phi**lags\n",
    "    return lags, rho\n",
    "\n",
    "def pacf_ar1(phi, m):\n",
    "    lags = np.arange(m+1)\n",
    "    pacf = np.zeros(m+1); pacf[0] = 1.0; pacf[1] = phi\n",
    "    return lags, pacf\n",
    "\n",
    "def panel_ar1_region_fac_pacf(phi=0.4, m=12, xlim=1.5):\n",
    "    fig = make_subplots(\n",
    "        rows=1, cols=3,\n",
    "        subplot_titles=(\"Región admisible 1\", \"FAC\", \"FACP\"),\n",
    "        column_widths=[0.33, 0.33, 0.34]\n",
    "    )\n",
    "\n",
    "    # --- 1) Región admisible en la recta real ---\n",
    "\n",
    "    fig.add_shape(\n",
    "            type=\"rect\",\n",
    "            x0=0, x1=1, y0=0, y1=1,\n",
    "            xref=\"x1\", yref=\"paper\",     # usa el eje x del 1er subplot y la altura del panel\n",
    "            fillcolor=\"lightgreen\",\n",
    "            opacity=0.35,\n",
    "            line_width=0,\n",
    "            layer=\"below\"\n",
    "        )\n",
    "    \n",
    "    fig.add_trace(go.Scatter(x=[-xlim, xlim], y=[0,0], mode=\"lines\",\n",
    "                             line=dict(color=\"gray\", width=2), showlegend=False),\n",
    "                  row=1, col=1)\n",
    "    fig.add_trace(go.Scatter(x=[phi], y=[0], mode=\"markers\",\n",
    "                             marker=dict(size=12), name=f\"φ={phi}\"),\n",
    "                  row=1, col=1)\n",
    "    fig.update_xaxes(range=[-xlim, xlim], title_text=\"φ\", row=1, col=1)\n",
    "    fig.update_yaxes(visible=False, row=1, col=1)\n",
    "\n",
    "    # --- 2) FAC ---\n",
    "    lags, rho = acf_ar1(phi, m)\n",
    "    lines, dots = stem_trace(lags, rho, \"ρ_k\")\n",
    "    fig.add_trace(lines, row=1, col=2); fig.add_trace(dots, row=1, col=2)\n",
    "    fig.add_hline(y=0, line_dash=\"dot\", line_color=\"gray\", row=1, col=2)\n",
    "    fig.update_yaxes(range=[-1, 1], title_text=\"ρ_k\", row=1, col=2)\n",
    "    fig.update_xaxes(title_text=\"k\", row=1, col=2)\n",
    "\n",
    "    # --- 3) FACP ---\n",
    "    lags_p, pacf = pacf_ar1(phi, m)\n",
    "    lines, dots = stem_trace(lags_p, pacf, \"φ_k (PACF)\")\n",
    "    fig.add_trace(lines, row=1, col=3); fig.add_trace(dots, row=1, col=3)\n",
    "    fig.add_hline(y=0, line_dash=\"dot\", line_color=\"gray\", row=1, col=3)\n",
    "    fig.update_yaxes(range=[-1, 1], title_text=\"φ_k\", row=1, col=3)\n",
    "    fig.update_xaxes(title_text=\"k\", row=1, col=3)\n",
    "\n",
    "    fig.update_layout(template=\"plotly_white\", width=1050, height=360,\n",
    "                      title=f\"AR(1) con convención (1 - {phi}B)X_t = Z_t\")\n",
    "    return fig\n",
    "\n",
    "# ================== USO ==================\n",
    "# tu ejemplo: φ = 0.4\n",
    "fig = panel_ar1_region_fac_pacf(phi=0.4, m=12, xlim=1.5)\n",
    "fig.show()\n"
   ]
  },
  {
   "cell_type": "markdown",
   "id": "b4285ec7",
   "metadata": {},
   "source": [
    "\n",
    "**Modelo:**\n",
    "- $W_t = \\phi W_{t-1} + \\alpha_t$\n",
    "\n",
    "**FAC (Función de autocorrelación):**\n",
    "- $\\rho_k = \\phi^k$\n",
    "\n",
    "**FACP (Función de autocorrelación parcial):**\n",
    "- $\\phi$ en el primer rezago, luego cero.\n",
    "\n",
    "_(La FAC decae exponencialmente a medida que $k$ crece, si $0 < \\phi < 1$)_\n",
    "\n",
    " *Ejemplo visto en clase 2*\n",
    "\n",
    "---\n",
    "\n"
   ]
  },
  {
   "cell_type": "markdown",
   "id": "c4cebeed",
   "metadata": {},
   "source": [
    "**Región admisible 2:**\n",
    "\n",
    "$$\n",
    "-1 < \\phi < 0\n",
    "$$\n"
   ]
  },
  {
   "cell_type": "code",
   "execution_count": 19,
   "id": "4efece40",
   "metadata": {},
   "outputs": [
    {
     "data": {
      "application/vnd.plotly.v1+json": {
       "config": {
        "plotlyServerURL": "https://plot.ly"
       },
       "data": [
        {
         "line": {
          "color": "gray",
          "width": 2
         },
         "mode": "lines",
         "showlegend": false,
         "type": "scatter",
         "x": [
          -1.5,
          1.5
         ],
         "xaxis": "x",
         "y": [
          0,
          0
         ],
         "yaxis": "y"
        },
        {
         "marker": {
          "size": 12
         },
         "mode": "markers",
         "name": "φ=-0.4",
         "type": "scatter",
         "x": [
          -0.4
         ],
         "xaxis": "x",
         "y": [
          0
         ],
         "yaxis": "y"
        },
        {
         "line": {
          "width": 2
         },
         "mode": "lines",
         "name": "ρ_k",
         "showlegend": false,
         "type": "scatter",
         "x": [
          0,
          0,
          null,
          1,
          1,
          null,
          2,
          2,
          null,
          3,
          3,
          null,
          4,
          4,
          null,
          5,
          5,
          null,
          6,
          6,
          null,
          7,
          7,
          null,
          8,
          8,
          null,
          9,
          9,
          null,
          10,
          10,
          null,
          11,
          11,
          null,
          12,
          12,
          null
         ],
         "xaxis": "x2",
         "y": [
          0,
          1,
          null,
          0,
          -0.4,
          null,
          0,
          0.16000000000000003,
          null,
          0,
          -0.06400000000000002,
          null,
          0,
          0.025600000000000005,
          null,
          0,
          -0.010240000000000003,
          null,
          0,
          0.0040960000000000015,
          null,
          0,
          -0.0016384000000000006,
          null,
          0,
          0.0006553600000000003,
          null,
          0,
          -0.0002621440000000001,
          null,
          0,
          0.00010485760000000006,
          null,
          0,
          -0.000041943040000000025,
          null,
          0,
          0.00001677721600000001,
          null
         ],
         "yaxis": "y2"
        },
        {
         "marker": {
          "size": 7
         },
         "mode": "markers",
         "name": "ρ_k (•)",
         "showlegend": false,
         "type": "scatter",
         "x": {
          "bdata": "AAECAwQFBgcICQoLDA==",
          "dtype": "i1"
         },
         "xaxis": "x2",
         "y": {
          "bdata": "AAAAAAAA8D+amZmZmZnZv3wUrkfhesQ//anx0k1isL8uQxzr4jaaP/Jo44i1+IS/j+21oPfGcD9Lr7ya8tdavz2MMOKOeUU/l9Ym6AsuMb+/vdfZ33wbP5lkeeF//QW/FOotgZmX8T4=",
          "dtype": "f8"
         },
         "yaxis": "y2"
        },
        {
         "line": {
          "width": 2
         },
         "mode": "lines",
         "name": "φ_k (PACF)",
         "showlegend": false,
         "type": "scatter",
         "x": [
          0,
          0,
          null,
          1,
          1,
          null,
          2,
          2,
          null,
          3,
          3,
          null,
          4,
          4,
          null,
          5,
          5,
          null,
          6,
          6,
          null,
          7,
          7,
          null,
          8,
          8,
          null,
          9,
          9,
          null,
          10,
          10,
          null,
          11,
          11,
          null,
          12,
          12,
          null
         ],
         "xaxis": "x3",
         "y": [
          0,
          1,
          null,
          0,
          -0.4,
          null,
          0,
          0,
          null,
          0,
          0,
          null,
          0,
          0,
          null,
          0,
          0,
          null,
          0,
          0,
          null,
          0,
          0,
          null,
          0,
          0,
          null,
          0,
          0,
          null,
          0,
          0,
          null,
          0,
          0,
          null,
          0,
          0,
          null
         ],
         "yaxis": "y3"
        },
        {
         "marker": {
          "size": 7
         },
         "mode": "markers",
         "name": "φ_k (PACF) (•)",
         "showlegend": false,
         "type": "scatter",
         "x": {
          "bdata": "AAECAwQFBgcICQoLDA==",
          "dtype": "i1"
         },
         "xaxis": "x3",
         "y": {
          "bdata": "AAAAAAAA8D+amZmZmZnZvwAAAAAAAAAAAAAAAAAAAAAAAAAAAAAAAAAAAAAAAAAAAAAAAAAAAAAAAAAAAAAAAAAAAAAAAAAAAAAAAAAAAAAAAAAAAAAAAAAAAAAAAAAAAAAAAAAAAAA=",
          "dtype": "f8"
         },
         "yaxis": "y3"
        }
       ],
       "layout": {
        "annotations": [
         {
          "font": {
           "size": 16
          },
          "showarrow": false,
          "text": "Región admisible 2",
          "x": 0.14300000000000002,
          "xanchor": "center",
          "xref": "paper",
          "y": 1,
          "yanchor": "bottom",
          "yref": "paper"
         },
         {
          "font": {
           "size": 16
          },
          "showarrow": false,
          "text": "FAC",
          "x": 0.4956666666666667,
          "xanchor": "center",
          "xref": "paper",
          "y": 1,
          "yanchor": "bottom",
          "yref": "paper"
         },
         {
          "font": {
           "size": 16
          },
          "showarrow": false,
          "text": "FACP",
          "x": 0.8526666666666667,
          "xanchor": "center",
          "xref": "paper",
          "y": 1,
          "yanchor": "bottom",
          "yref": "paper"
         }
        ],
        "height": 360,
        "shapes": [
         {
          "fillcolor": "lightgreen",
          "layer": "below",
          "line": {
           "width": 0
          },
          "opacity": 0.35,
          "type": "rect",
          "x0": -1,
          "x1": 0,
          "xref": "x",
          "y0": 0,
          "y1": 1,
          "yref": "paper"
         },
         {
          "line": {
           "color": "gray",
           "dash": "dot"
          },
          "type": "line",
          "x0": 0,
          "x1": 1,
          "xref": "x2 domain",
          "y0": 0,
          "y1": 0,
          "yref": "y2"
         },
         {
          "line": {
           "color": "gray",
           "dash": "dot"
          },
          "type": "line",
          "x0": 0,
          "x1": 1,
          "xref": "x3 domain",
          "y0": 0,
          "y1": 0,
          "yref": "y3"
         }
        ],
        "template": {
         "data": {
          "bar": [
           {
            "error_x": {
             "color": "#2a3f5f"
            },
            "error_y": {
             "color": "#2a3f5f"
            },
            "marker": {
             "line": {
              "color": "white",
              "width": 0.5
             },
             "pattern": {
              "fillmode": "overlay",
              "size": 10,
              "solidity": 0.2
             }
            },
            "type": "bar"
           }
          ],
          "barpolar": [
           {
            "marker": {
             "line": {
              "color": "white",
              "width": 0.5
             },
             "pattern": {
              "fillmode": "overlay",
              "size": 10,
              "solidity": 0.2
             }
            },
            "type": "barpolar"
           }
          ],
          "carpet": [
           {
            "aaxis": {
             "endlinecolor": "#2a3f5f",
             "gridcolor": "#C8D4E3",
             "linecolor": "#C8D4E3",
             "minorgridcolor": "#C8D4E3",
             "startlinecolor": "#2a3f5f"
            },
            "baxis": {
             "endlinecolor": "#2a3f5f",
             "gridcolor": "#C8D4E3",
             "linecolor": "#C8D4E3",
             "minorgridcolor": "#C8D4E3",
             "startlinecolor": "#2a3f5f"
            },
            "type": "carpet"
           }
          ],
          "choropleth": [
           {
            "colorbar": {
             "outlinewidth": 0,
             "ticks": ""
            },
            "type": "choropleth"
           }
          ],
          "contour": [
           {
            "colorbar": {
             "outlinewidth": 0,
             "ticks": ""
            },
            "colorscale": [
             [
              0,
              "#0d0887"
             ],
             [
              0.1111111111111111,
              "#46039f"
             ],
             [
              0.2222222222222222,
              "#7201a8"
             ],
             [
              0.3333333333333333,
              "#9c179e"
             ],
             [
              0.4444444444444444,
              "#bd3786"
             ],
             [
              0.5555555555555556,
              "#d8576b"
             ],
             [
              0.6666666666666666,
              "#ed7953"
             ],
             [
              0.7777777777777778,
              "#fb9f3a"
             ],
             [
              0.8888888888888888,
              "#fdca26"
             ],
             [
              1,
              "#f0f921"
             ]
            ],
            "type": "contour"
           }
          ],
          "contourcarpet": [
           {
            "colorbar": {
             "outlinewidth": 0,
             "ticks": ""
            },
            "type": "contourcarpet"
           }
          ],
          "heatmap": [
           {
            "colorbar": {
             "outlinewidth": 0,
             "ticks": ""
            },
            "colorscale": [
             [
              0,
              "#0d0887"
             ],
             [
              0.1111111111111111,
              "#46039f"
             ],
             [
              0.2222222222222222,
              "#7201a8"
             ],
             [
              0.3333333333333333,
              "#9c179e"
             ],
             [
              0.4444444444444444,
              "#bd3786"
             ],
             [
              0.5555555555555556,
              "#d8576b"
             ],
             [
              0.6666666666666666,
              "#ed7953"
             ],
             [
              0.7777777777777778,
              "#fb9f3a"
             ],
             [
              0.8888888888888888,
              "#fdca26"
             ],
             [
              1,
              "#f0f921"
             ]
            ],
            "type": "heatmap"
           }
          ],
          "histogram": [
           {
            "marker": {
             "pattern": {
              "fillmode": "overlay",
              "size": 10,
              "solidity": 0.2
             }
            },
            "type": "histogram"
           }
          ],
          "histogram2d": [
           {
            "colorbar": {
             "outlinewidth": 0,
             "ticks": ""
            },
            "colorscale": [
             [
              0,
              "#0d0887"
             ],
             [
              0.1111111111111111,
              "#46039f"
             ],
             [
              0.2222222222222222,
              "#7201a8"
             ],
             [
              0.3333333333333333,
              "#9c179e"
             ],
             [
              0.4444444444444444,
              "#bd3786"
             ],
             [
              0.5555555555555556,
              "#d8576b"
             ],
             [
              0.6666666666666666,
              "#ed7953"
             ],
             [
              0.7777777777777778,
              "#fb9f3a"
             ],
             [
              0.8888888888888888,
              "#fdca26"
             ],
             [
              1,
              "#f0f921"
             ]
            ],
            "type": "histogram2d"
           }
          ],
          "histogram2dcontour": [
           {
            "colorbar": {
             "outlinewidth": 0,
             "ticks": ""
            },
            "colorscale": [
             [
              0,
              "#0d0887"
             ],
             [
              0.1111111111111111,
              "#46039f"
             ],
             [
              0.2222222222222222,
              "#7201a8"
             ],
             [
              0.3333333333333333,
              "#9c179e"
             ],
             [
              0.4444444444444444,
              "#bd3786"
             ],
             [
              0.5555555555555556,
              "#d8576b"
             ],
             [
              0.6666666666666666,
              "#ed7953"
             ],
             [
              0.7777777777777778,
              "#fb9f3a"
             ],
             [
              0.8888888888888888,
              "#fdca26"
             ],
             [
              1,
              "#f0f921"
             ]
            ],
            "type": "histogram2dcontour"
           }
          ],
          "mesh3d": [
           {
            "colorbar": {
             "outlinewidth": 0,
             "ticks": ""
            },
            "type": "mesh3d"
           }
          ],
          "parcoords": [
           {
            "line": {
             "colorbar": {
              "outlinewidth": 0,
              "ticks": ""
             }
            },
            "type": "parcoords"
           }
          ],
          "pie": [
           {
            "automargin": true,
            "type": "pie"
           }
          ],
          "scatter": [
           {
            "fillpattern": {
             "fillmode": "overlay",
             "size": 10,
             "solidity": 0.2
            },
            "type": "scatter"
           }
          ],
          "scatter3d": [
           {
            "line": {
             "colorbar": {
              "outlinewidth": 0,
              "ticks": ""
             }
            },
            "marker": {
             "colorbar": {
              "outlinewidth": 0,
              "ticks": ""
             }
            },
            "type": "scatter3d"
           }
          ],
          "scattercarpet": [
           {
            "marker": {
             "colorbar": {
              "outlinewidth": 0,
              "ticks": ""
             }
            },
            "type": "scattercarpet"
           }
          ],
          "scattergeo": [
           {
            "marker": {
             "colorbar": {
              "outlinewidth": 0,
              "ticks": ""
             }
            },
            "type": "scattergeo"
           }
          ],
          "scattergl": [
           {
            "marker": {
             "colorbar": {
              "outlinewidth": 0,
              "ticks": ""
             }
            },
            "type": "scattergl"
           }
          ],
          "scattermap": [
           {
            "marker": {
             "colorbar": {
              "outlinewidth": 0,
              "ticks": ""
             }
            },
            "type": "scattermap"
           }
          ],
          "scattermapbox": [
           {
            "marker": {
             "colorbar": {
              "outlinewidth": 0,
              "ticks": ""
             }
            },
            "type": "scattermapbox"
           }
          ],
          "scatterpolar": [
           {
            "marker": {
             "colorbar": {
              "outlinewidth": 0,
              "ticks": ""
             }
            },
            "type": "scatterpolar"
           }
          ],
          "scatterpolargl": [
           {
            "marker": {
             "colorbar": {
              "outlinewidth": 0,
              "ticks": ""
             }
            },
            "type": "scatterpolargl"
           }
          ],
          "scatterternary": [
           {
            "marker": {
             "colorbar": {
              "outlinewidth": 0,
              "ticks": ""
             }
            },
            "type": "scatterternary"
           }
          ],
          "surface": [
           {
            "colorbar": {
             "outlinewidth": 0,
             "ticks": ""
            },
            "colorscale": [
             [
              0,
              "#0d0887"
             ],
             [
              0.1111111111111111,
              "#46039f"
             ],
             [
              0.2222222222222222,
              "#7201a8"
             ],
             [
              0.3333333333333333,
              "#9c179e"
             ],
             [
              0.4444444444444444,
              "#bd3786"
             ],
             [
              0.5555555555555556,
              "#d8576b"
             ],
             [
              0.6666666666666666,
              "#ed7953"
             ],
             [
              0.7777777777777778,
              "#fb9f3a"
             ],
             [
              0.8888888888888888,
              "#fdca26"
             ],
             [
              1,
              "#f0f921"
             ]
            ],
            "type": "surface"
           }
          ],
          "table": [
           {
            "cells": {
             "fill": {
              "color": "#EBF0F8"
             },
             "line": {
              "color": "white"
             }
            },
            "header": {
             "fill": {
              "color": "#C8D4E3"
             },
             "line": {
              "color": "white"
             }
            },
            "type": "table"
           }
          ]
         },
         "layout": {
          "annotationdefaults": {
           "arrowcolor": "#2a3f5f",
           "arrowhead": 0,
           "arrowwidth": 1
          },
          "autotypenumbers": "strict",
          "coloraxis": {
           "colorbar": {
            "outlinewidth": 0,
            "ticks": ""
           }
          },
          "colorscale": {
           "diverging": [
            [
             0,
             "#8e0152"
            ],
            [
             0.1,
             "#c51b7d"
            ],
            [
             0.2,
             "#de77ae"
            ],
            [
             0.3,
             "#f1b6da"
            ],
            [
             0.4,
             "#fde0ef"
            ],
            [
             0.5,
             "#f7f7f7"
            ],
            [
             0.6,
             "#e6f5d0"
            ],
            [
             0.7,
             "#b8e186"
            ],
            [
             0.8,
             "#7fbc41"
            ],
            [
             0.9,
             "#4d9221"
            ],
            [
             1,
             "#276419"
            ]
           ],
           "sequential": [
            [
             0,
             "#0d0887"
            ],
            [
             0.1111111111111111,
             "#46039f"
            ],
            [
             0.2222222222222222,
             "#7201a8"
            ],
            [
             0.3333333333333333,
             "#9c179e"
            ],
            [
             0.4444444444444444,
             "#bd3786"
            ],
            [
             0.5555555555555556,
             "#d8576b"
            ],
            [
             0.6666666666666666,
             "#ed7953"
            ],
            [
             0.7777777777777778,
             "#fb9f3a"
            ],
            [
             0.8888888888888888,
             "#fdca26"
            ],
            [
             1,
             "#f0f921"
            ]
           ],
           "sequentialminus": [
            [
             0,
             "#0d0887"
            ],
            [
             0.1111111111111111,
             "#46039f"
            ],
            [
             0.2222222222222222,
             "#7201a8"
            ],
            [
             0.3333333333333333,
             "#9c179e"
            ],
            [
             0.4444444444444444,
             "#bd3786"
            ],
            [
             0.5555555555555556,
             "#d8576b"
            ],
            [
             0.6666666666666666,
             "#ed7953"
            ],
            [
             0.7777777777777778,
             "#fb9f3a"
            ],
            [
             0.8888888888888888,
             "#fdca26"
            ],
            [
             1,
             "#f0f921"
            ]
           ]
          },
          "colorway": [
           "#636efa",
           "#EF553B",
           "#00cc96",
           "#ab63fa",
           "#FFA15A",
           "#19d3f3",
           "#FF6692",
           "#B6E880",
           "#FF97FF",
           "#FECB52"
          ],
          "font": {
           "color": "#2a3f5f"
          },
          "geo": {
           "bgcolor": "white",
           "lakecolor": "white",
           "landcolor": "white",
           "showlakes": true,
           "showland": true,
           "subunitcolor": "#C8D4E3"
          },
          "hoverlabel": {
           "align": "left"
          },
          "hovermode": "closest",
          "mapbox": {
           "style": "light"
          },
          "paper_bgcolor": "white",
          "plot_bgcolor": "white",
          "polar": {
           "angularaxis": {
            "gridcolor": "#EBF0F8",
            "linecolor": "#EBF0F8",
            "ticks": ""
           },
           "bgcolor": "white",
           "radialaxis": {
            "gridcolor": "#EBF0F8",
            "linecolor": "#EBF0F8",
            "ticks": ""
           }
          },
          "scene": {
           "xaxis": {
            "backgroundcolor": "white",
            "gridcolor": "#DFE8F3",
            "gridwidth": 2,
            "linecolor": "#EBF0F8",
            "showbackground": true,
            "ticks": "",
            "zerolinecolor": "#EBF0F8"
           },
           "yaxis": {
            "backgroundcolor": "white",
            "gridcolor": "#DFE8F3",
            "gridwidth": 2,
            "linecolor": "#EBF0F8",
            "showbackground": true,
            "ticks": "",
            "zerolinecolor": "#EBF0F8"
           },
           "zaxis": {
            "backgroundcolor": "white",
            "gridcolor": "#DFE8F3",
            "gridwidth": 2,
            "linecolor": "#EBF0F8",
            "showbackground": true,
            "ticks": "",
            "zerolinecolor": "#EBF0F8"
           }
          },
          "shapedefaults": {
           "line": {
            "color": "#2a3f5f"
           }
          },
          "ternary": {
           "aaxis": {
            "gridcolor": "#DFE8F3",
            "linecolor": "#A2B1C6",
            "ticks": ""
           },
           "baxis": {
            "gridcolor": "#DFE8F3",
            "linecolor": "#A2B1C6",
            "ticks": ""
           },
           "bgcolor": "white",
           "caxis": {
            "gridcolor": "#DFE8F3",
            "linecolor": "#A2B1C6",
            "ticks": ""
           }
          },
          "title": {
           "x": 0.05
          },
          "xaxis": {
           "automargin": true,
           "gridcolor": "#EBF0F8",
           "linecolor": "#EBF0F8",
           "ticks": "",
           "title": {
            "standoff": 15
           },
           "zerolinecolor": "#EBF0F8",
           "zerolinewidth": 2
          },
          "yaxis": {
           "automargin": true,
           "gridcolor": "#EBF0F8",
           "linecolor": "#EBF0F8",
           "ticks": "",
           "title": {
            "standoff": 15
           },
           "zerolinecolor": "#EBF0F8",
           "zerolinewidth": 2
          }
         }
        },
        "title": {
         "text": "AR(1) con convención (1 - -0.4B)X_t = Z_t"
        },
        "width": 1050,
        "xaxis": {
         "anchor": "y",
         "domain": [
          0,
          0.28600000000000003
         ],
         "range": [
          -1.5,
          1.5
         ],
         "title": {
          "text": "φ"
         }
        },
        "xaxis2": {
         "anchor": "y2",
         "domain": [
          0.3526666666666667,
          0.6386666666666667
         ],
         "title": {
          "text": "k"
         }
        },
        "xaxis3": {
         "anchor": "y3",
         "domain": [
          0.7053333333333334,
          1
         ],
         "title": {
          "text": "k"
         }
        },
        "yaxis": {
         "anchor": "x",
         "domain": [
          0,
          1
         ],
         "visible": false
        },
        "yaxis2": {
         "anchor": "x2",
         "domain": [
          0,
          1
         ],
         "range": [
          -1,
          1
         ],
         "title": {
          "text": "ρ_k"
         }
        },
        "yaxis3": {
         "anchor": "x3",
         "domain": [
          0,
          1
         ],
         "range": [
          -1,
          1
         ],
         "title": {
          "text": "φ_k"
         }
        }
       }
      }
     },
     "metadata": {},
     "output_type": "display_data"
    }
   ],
   "source": [
    "import numpy as np\n",
    "import plotly.graph_objects as go\n",
    "from plotly.subplots import make_subplots\n",
    "\n",
    "# --- util: stem (líneas verticales) ---\n",
    "def stem_trace(x, y, name):\n",
    "    xs, ys = [], []\n",
    "    for xi, yi in zip(x, y):\n",
    "        xs += [xi, xi, None]\n",
    "        ys += [0, yi, None]\n",
    "    lines = go.Scatter(x=xs, y=ys, mode=\"lines\", line=dict(width=2), name=name, showlegend=False)\n",
    "    dots  = go.Scatter(x=x,  y=y,  mode=\"markers\", marker=dict(size=7), name=f\"{name} (•)\", showlegend=False)\n",
    "    return lines, dots\n",
    "\n",
    "# --- ACF/PACF teóricas AR(1) con (1 - φB)X_t = Z_t ---\n",
    "def acf_ar1(phi, m):\n",
    "    lags = np.arange(m+1)\n",
    "    rho = phi**lags\n",
    "    return lags, rho\n",
    "\n",
    "def pacf_ar1(phi, m):\n",
    "    lags = np.arange(m+1)\n",
    "    pacf = np.zeros(m+1); pacf[0] = 1.0; pacf[1] = phi\n",
    "    return lags, pacf\n",
    "\n",
    "def panel_ar1_region_fac_pacf(phi=0.4, m=12, xlim=1.5):\n",
    "    fig = make_subplots(\n",
    "        rows=1, cols=3,\n",
    "        subplot_titles=(\"Región admisible 2\", \"FAC\", \"FACP\"),\n",
    "        column_widths=[0.33, 0.33, 0.34]\n",
    "    )\n",
    "\n",
    "    # --- 1) Región admisible en la recta real ---\n",
    "\n",
    "    fig.add_shape(\n",
    "            type=\"rect\",\n",
    "            x0=-1, x1=0, y0=0, y1=1,\n",
    "            xref=\"x1\", yref=\"paper\",     # usa el eje x del 1er subplot y la altura del panel\n",
    "            fillcolor=\"lightgreen\",\n",
    "            opacity=0.35,\n",
    "            line_width=0,\n",
    "            layer=\"below\"\n",
    "        )\n",
    "    \n",
    "    fig.add_trace(go.Scatter(x=[-xlim, xlim], y=[0,0], mode=\"lines\",\n",
    "                             line=dict(color=\"gray\", width=2), showlegend=False),\n",
    "                  row=1, col=1)\n",
    "    fig.add_trace(go.Scatter(x=[phi], y=[0], mode=\"markers\",\n",
    "                             marker=dict(size=12), name=f\"φ={phi}\"),\n",
    "                  row=1, col=1)\n",
    "    fig.update_xaxes(range=[-xlim, xlim], title_text=\"φ\", row=1, col=1)\n",
    "    fig.update_yaxes(visible=False, row=1, col=1)\n",
    "\n",
    "    # --- 2) FAC ---\n",
    "    lags, rho = acf_ar1(phi, m)\n",
    "    lines, dots = stem_trace(lags, rho, \"ρ_k\")\n",
    "    fig.add_trace(lines, row=1, col=2); fig.add_trace(dots, row=1, col=2)\n",
    "    fig.add_hline(y=0, line_dash=\"dot\", line_color=\"gray\", row=1, col=2)\n",
    "    fig.update_yaxes(range=[-1, 1], title_text=\"ρ_k\", row=1, col=2)\n",
    "    fig.update_xaxes(title_text=\"k\", row=1, col=2)\n",
    "\n",
    "    # --- 3) FACP ---\n",
    "    lags_p, pacf = pacf_ar1(phi, m)\n",
    "    lines, dots = stem_trace(lags_p, pacf, \"φ_k (PACF)\")\n",
    "    fig.add_trace(lines, row=1, col=3); fig.add_trace(dots, row=1, col=3)\n",
    "    fig.add_hline(y=0, line_dash=\"dot\", line_color=\"gray\", row=1, col=3)\n",
    "    fig.update_yaxes(range=[-1, 1], title_text=\"φ_k\", row=1, col=3)\n",
    "    fig.update_xaxes(title_text=\"k\", row=1, col=3)\n",
    "\n",
    "    fig.update_layout(template=\"plotly_white\", width=1050, height=360,\n",
    "                      title=f\"AR(1) con convención (1 - {phi}B)X_t = Z_t\")\n",
    "    return fig\n",
    "\n",
    "# ================== USO ==================\n",
    "# tu ejemplo: φ = -0.4\n",
    "fig = panel_ar1_region_fac_pacf(phi=-0.4, m=12, xlim=1.5)\n",
    "fig.show()\n"
   ]
  },
  {
   "cell_type": "markdown",
   "id": "6d7e8dd1",
   "metadata": {},
   "source": [
    "\n",
    "**Modelo:**\n",
    "$$\n",
    "(1 - \\phi B) W_t = \\alpha_t\n",
    "$$\n",
    "\n",
    "**Comportamiento de la FAC:**\n",
    "\n",
    "- La función de autocorrelación (FAC) está dada por:\n",
    "  \n",
    "  $$\n",
    "  \\rho_k = \\phi^k\n",
    "  $$\n",
    "\n",
    "- En esta región, la FAC tiende a cero **con signos alternados** si $-1 < \\phi < 0$.\n"
   ]
  },
  {
   "cell_type": "markdown",
   "id": "992160ea",
   "metadata": {},
   "source": [
    "\n",
    "**Notar en Gráficos:**\n",
    "\n",
    "- **FAC**: Decaimiento oscilatorio alrededor de cero.\n",
    "- **FACP**: Primer rezago distinto de cero; los demás, cero.\n",
    "\n",
    "---\n"
   ]
  },
  {
   "cell_type": "markdown",
   "id": "8937141c",
   "metadata": {},
   "source": [
    "\n",
    "**Ejemplo:**\n",
    "\n",
    "Proceso:\n",
    "\n",
    "$$\n",
    "(1 + 0.4B) X_t = Z_t\n",
    "$$\n",
    "\n",
    "Entonces:\n",
    "\n",
    "- $\\rho_1 = (-0.4)^1 = -0.4$\n",
    "- $\\rho_2 = (-0.4)^2 = 0.16$\n",
    "- $\\rho_3 = (-0.4)^3 = -0.064$\n",
    "- $\\dots$\n"
   ]
  },
  {
   "cell_type": "markdown",
   "id": "b6e086cb",
   "metadata": {},
   "source": [
    "---\n",
    "\n",
    "## **Consideremos un proceso AR(2):**\n",
    "\n",
    "$$\n",
    "(1 - \\phi_1 B - \\phi_2 B^2) W_t = \\alpha_t \\quad ; \\quad \\{\\alpha_t\\} \\sim \\text{wn}(0, \\sigma_\\alpha^2)\n",
    "$$\n",
    "\n",
    "---\n",
    "\n",
    "Sabemos que este proceso es **estacionario** si se cumplen las siguientes **tres condiciones**:\n",
    "\n",
    "1. $|\\phi_2| < 1$\n",
    "\n",
    "2. $\\phi_2 - \\phi_1 < 1$\n",
    "\n",
    "3. $\\phi_2 + \\phi_1 < 1$\n",
    "\n",
    "---\n"
   ]
  },
  {
   "cell_type": "markdown",
   "id": "0e97ab31",
   "metadata": {},
   "source": [
    "A partir de estas condiciones se tienen las siguientes:\n",
    "\n",
    "\n",
    "### **Regiones admisibles para el proceso AR(2)**\n",
    "\n",
    "---"
   ]
  },
  {
   "cell_type": "markdown",
   "id": "b5c396ad",
   "metadata": {},
   "source": [
    "**Región admisible 1 para el proceso AR(2)**\n",
    "\n",
    "**Modelo:**\n",
    "$$\n",
    "(1 - \\phi_1 B - \\phi_2 B^2) W_t = \\alpha_t\n",
    "$$\n",
    "\n",
    "\n",
    "**Condiciones de la región:**\n",
    "\n",
    "- $\\phi_1 < 0$\n",
    "- $\\phi_1^2 + 4\\phi_2 \\geq 0$\n",
    "- $\\phi_2 + \\phi_1 < 1$\n",
    "\n",
    "\n",
    "**Interpretación gráfica:**\n",
    "\n",
    "- Esta región se encuentra en el triángulo donde:\n",
    "  - $\\phi_2 = -\\phi_1$\n",
    "  - $\\phi_1^2 + 4\\phi_2 = 1$\n",
    "  - Las autocorrelaciones (FAC) decaen exponencialmente\n",
    "  - Las primeras $\\rho_k$ son positivas y luego se alternan de signo\n",
    "\n",
    "\n"
   ]
  },
  {
   "cell_type": "code",
   "execution_count": 82,
   "id": "84867319",
   "metadata": {},
   "outputs": [],
   "source": [
    "import numpy as np\n",
    "import plotly.graph_objects as go\n",
    "\n",
    "def ar2_region_quad(phi1_point=0.4, phi2_point=0.2):\n",
    "    x = np.linspace(-2, 2, 600)\n",
    "    \n",
    "\n",
    "    # fronteras del triángulo (estacionariedad)\n",
    "    tri_x = [-2, 2, 0, -2]\n",
    "    tri_y = [ -1, -1,1,  -1]\n",
    "\n",
    "    # curvas de referencia\n",
    "    disc = -0.25 * x**2          # parábola Δ=0\n",
    "    y0   = np.zeros_like(x)      # φ2 = 0\n",
    "\n",
    "    fig = go.Figure()\n",
    "\n",
    "    \n",
    "    \n",
    "    # triángulo\n",
    "    fig.add_trace(go.Scatter(x=tri_x, y=tri_y, mode=\"lines\",\n",
    "                             line=dict(color=\"black\", width=1), # Borde negro\n",
    "                             fill=\"toself\", fillcolor=\"rgba(144, 238, 144, 0.4)\", # Verde claro con transparencia\n",
    "                             name=\"Región de Estacionariedad\"))\n",
    "\n",
    "    # parábola (discriminante)\n",
    "    fig.add_trace(go.Scatter(x=x, y=disc, mode=\"lines\",\n",
    "                             line=dict(color=\"black\", width=2, dash=\"dot\"),\n",
    "                             name=\"Δ=0  (φ₂ = −¼ φ₁²)\"))\n",
    "\n",
    "\n",
    "\n",
    "\n",
    "    # marcas en los vértices\n",
    "    fig.add_trace(go.Scatter(x=[-2, 2, 0], y=[1, 1, -1], mode=\"markers+text\",\n",
    "                             marker=dict(size=6, color=\"black\"),\n",
    "                             text=[\"(-2,1)\", \"(2,1)\", \"(0,-1)\"],\n",
    "                             textposition=\"top center\",\n",
    "                             showlegend=False))\n",
    "\n",
    "    # tu punto\n",
    "    fig.add_trace(go.Scatter(x=[phi1_point], y=[phi2_point], mode=\"markers+text\",\n",
    "                             marker=dict(size=12, color=\"red\", symbol=\"circle\"),\n",
    "                             text=[f\"({phi1_point:.2f}, {phi2_point:.2f})\"],\n",
    "                             textposition=\"bottom center\",\n",
    "                             name=\"punto (φ₁, φ₂)\"))\n",
    "\n",
    "    # etiquetas rápidas de sub-regiones (opcional)\n",
    "    fig.add_annotation(x=-1.0, y=0.3, text=\"Real\\n(φ₁<0)\", showarrow=False)\n",
    "    fig.add_annotation(x= 1.0, y=0.3, text=\"Real\\n(φ₁>0)\", showarrow=False)\n",
    "    fig.add_annotation(x=-1.0, y=-0.6, text=\"Compleja\\n(φ₁<0)\", showarrow=False)\n",
    "    fig.add_annotation(x= 1.0, y=-0.6, text=\"Compleja\\n(φ₁>0)\", showarrow=False)\n",
    "\n",
    "    if phi1_point < 0:\n",
    "        if (phi1_point**2 + 4*phi2_point)<0:\n",
    "            region = 3\n",
    "        else:\n",
    "            region = 1\n",
    "    else:\n",
    "        if (phi1_point**2 + 4*phi2_point)<0:\n",
    "            region = 4\n",
    "        else:\n",
    "            region =2\n",
    "\n",
    "    fig.update_layout(\n",
    "        template=\"simple_white\",\n",
    "        width=700, height=520,\n",
    "        title=f\"AR(2)<br> Triángulo de estacionariedad + parábola del discriminante<br>Punto en Región {region}\",\n",
    "        xaxis=dict(title=\"φ₁\", range=[-2.2, 2.2], zeroline=True),\n",
    "        yaxis=dict(title=\"φ₂\", range=[-1.3, 1.3], zeroline=False),\n",
    "        showlegend=False\n",
    "    )\n",
    "    return fig\n",
    "\n"
   ]
  },
  {
   "cell_type": "code",
   "execution_count": 96,
   "id": "0c1ee70a",
   "metadata": {},
   "outputs": [],
   "source": [
    "import numpy as np\n",
    "import plotly.graph_objects as go\n",
    "from plotly.subplots import make_subplots\n",
    "\n",
    "# ========= util: \"stem plot\" (líneas verticales + marcadores) =========\n",
    "def stem_trace(x, y):\n",
    "    xs, ys = [], []\n",
    "    for xi, yi in zip(x, y):\n",
    "        xs += [xi, xi, None]\n",
    "        ys += [0, yi, None]\n",
    "    lines = go.Scatter(x=xs, y=ys, mode=\"lines\", line=dict(width=2), showlegend=False)\n",
    "    dots  = go.Scatter(x=x,  y=y,  mode=\"markers\", marker=dict(size=7), showlegend=False)\n",
    "    return lines, dots\n",
    "\n",
    "# ========= pesos MA(∞) para AR(p): (1 - sum φ_j B^j)X_t = Z_t =========\n",
    "def psi_weights_from_ar(phi, M=2000):\n",
    "    p = len(phi)\n",
    "    psi = np.zeros(M+1)\n",
    "    psi[0] = 1.0\n",
    "    for k in range(1, M+1):\n",
    "        acc = 0.0\n",
    "        for j in range(1, p+1):\n",
    "            if k-j >= 0:\n",
    "                acc += phi[j-1] * psi[k-j]\n",
    "        psi[k] = acc\n",
    "    return psi\n",
    "\n",
    "# ========= ACF teórica a partir de psi-weights =========\n",
    "def acf_from_psi(psi, m):\n",
    "    M = len(psi) - 1\n",
    "    gamma = np.zeros(m+1)\n",
    "    for k in range(m+1):\n",
    "        gamma[k] = np.dot(psi[:M-k+1], psi[k:M+1])\n",
    "    return gamma / gamma[0]\n",
    "\n",
    "# ========= PACF (Durbin-Levinson) dada la ACF =========\n",
    "def pacf_from_acf(rho, m):\n",
    "    # rho: [ρ0..ρm], Durbin-Levinson devuelve φ_{kk}; PACF_k = φ_{kk}\n",
    "    pacf = np.zeros(m+1)\n",
    "    pacf[0] = 1.0\n",
    "    phi = np.zeros((m+1, m+1))\n",
    "    phi[1,1] = rho[1]\n",
    "    pacf[1] = phi[1,1]\n",
    "    var = np.zeros(m+1)\n",
    "    var[0] = 1.0\n",
    "    var[1] = 1 - phi[1,1]**2\n",
    "    for k in range(2, m+1):\n",
    "        num = rho[k] - np.sum(phi[k-1,1:k] * rho[1:k][::-1])\n",
    "        den = var[k-1]\n",
    "        phi[k,k] = num / den\n",
    "        for j in range(1, k):\n",
    "            phi[k,j] = phi[k-1,j] - phi[k,k] * phi[k-1,k-j]\n",
    "        var[k] = var[k-1] * (1 - phi[k,k]**2)\n",
    "        pacf[k] = phi[k,k]\n",
    "    return pacf\n",
    "\n",
    "# ========= región admisible AR(2) (triángulo) =========\n",
    "def admissible_triangle(n=400):\n",
    "    # bordes: φ2 = -1; φ2 = 1 - φ1; φ2 = 1 + φ1\n",
    "    phi1 = np.linspace(-2, 2, n)\n",
    "    x_poly = np.concatenate([[-2,  2,  0]])\n",
    "    y_poly = np.concatenate([[- 1,-1, 1]])\n",
    "    return x_poly, y_poly\n",
    "\n",
    "# ========= Panel completo =========\n",
    "def panel_ar2(phi1=0.4, phi2=0.2, m=20):\n",
    "    # Chequeo rápido de admisibilidad (suficiente para AR(2))\n",
    "    inside = (phi2 > -1) and (phi1 + phi2 < 1) and (-phi1 + phi2 < 1)\n",
    "    title_flag = \"✔\" if inside else \"✖\"\n",
    "    fig = make_subplots(rows=1, cols=3,\n",
    "                        subplot_titles=(\"Región admisible AR(2)\",\n",
    "                                        \"FAC (ρₖ) teórica\",\n",
    "                                        \"FACP (φₖ) teórica\"))\n",
    "\n",
    "    # --- 1) Región admisible sombreada + punto (φ1, φ2)\n",
    "    x_poly = np.array([-2, 2, 0, -2])\n",
    "    y_poly = np.array([ -1, -1,1,  -1])\n",
    "    fig.add_trace(go.Scatter(x=x_poly, y=y_poly, fill=\"toself\",\n",
    "                             fillcolor=\"lightgreen\", opacity=0.35,\n",
    "                             mode=\"lines\", line=dict(color=\"lightgreen\"),\n",
    "                             showlegend=False), row=1, col=1)\n",
    "    # ejes guía\n",
    "    fig.add_hline(y=0, line_color=\"gray\", row=1, col=1)\n",
    "    fig.add_vline(x=0, line_color=\"gray\", row=1, col=1)\n",
    "    # punto elegido\n",
    "    fig.add_trace(go.Scatter(x=[phi1], y=[phi2], mode=\"markers\",\n",
    "                             marker=dict(size=10),\n",
    "                             name=f\"({phi1:.2f},{phi2:.2f})\"), row=1, col=1)\n",
    "    fig.update_xaxes(title_text=\"φ₁\", range=[-2.2, 2.2], row=1, col=1)\n",
    "    fig.update_yaxes(title_text=\"φ₂\", range=[-1.2, 1.2], row=1, col=1)\n",
    "\n",
    "    # --- 2) FAC teórica del AR(2) elegido\n",
    "    psi = psi_weights_from_ar([phi1, phi2], M=2000)\n",
    "    rho = acf_from_psi(psi, m)\n",
    "    lags = np.arange(m+1)\n",
    "    lines, dots = stem_trace(lags, rho)\n",
    "    fig.add_trace(lines, row=1, col=2); fig.add_trace(dots, row=1, col=2)\n",
    "    fig.add_hline(y=0, line_dash=\"dot\", line_color=\"gray\", row=1, col=2)\n",
    "    fig.update_yaxes(range=[-1, 1], title_text=\"ρₖ\", row=1, col=2)\n",
    "    fig.update_xaxes(title_text=\"k\", row=1, col=2)\n",
    "\n",
    "    # --- 3) FACP teórica (corte en k=2)\n",
    "    pacf = pacf_from_acf(rho, m)\n",
    "    lines_p, dots_p = stem_trace(lags, pacf)\n",
    "    fig.add_trace(lines_p, row=1, col=3); fig.add_trace(dots_p, row=1, col=3)\n",
    "    fig.add_hline(y=0, line_dash=\"dot\", line_color=\"gray\", row=1, col=3)\n",
    "    fig.update_yaxes(range=[-1, 1], title_text=\"φₖ (PACF)\", row=1, col=3)\n",
    "    fig.update_xaxes(title_text=\"k\", row=1, col=3)\n",
    "\n",
    "    fig.update_layout(template=\"plotly_white\", width=1150, height=380,\n",
    "                      title=f\"AR(2) (1 - φ₁B - φ₂B²)Xₜ = Zₜ — punto {title_flag} dentro de la región\")\n",
    "    return fig\n",
    "\n",
    "\n"
   ]
  },
  {
   "cell_type": "code",
   "execution_count": 90,
   "id": "51435710",
   "metadata": {},
   "outputs": [],
   "source": [
    "import numpy as np\n",
    "import plotly.graph_objects as go\n",
    "\n",
    "# ---------- ACF teórica AR(p) con convención X_t - sum(phi_j X_{t-j}) = Z_t ----------\n",
    "def acf_ar_negative(phi, m=24, M=1000):\n",
    "    \"\"\"\n",
    "    phi: iterable (phi1,...,phi_p) con TU convención (el modelo lleva '−' delante).\n",
    "    m  : rezago máximo a devolver (inclusive).\n",
    "    M  : truncación para los pesos MA(∞) (entre 500-2000 suele bastar si el AR es estable).\n",
    "    return: lags (0..m), rho\n",
    "    \"\"\"\n",
    "    phi = np.asarray(phi, dtype=float)\n",
    "    p = len(phi)\n",
    "\n",
    "    # psi-weights del AR como MA(∞)\n",
    "    psi = np.zeros(M+1)\n",
    "    psi[0] = 1.0\n",
    "    for k in range(1, M+1):\n",
    "        # psi_k = sum_{j=1}^p phi_j * psi_{k-j}\n",
    "        acc = 0.0\n",
    "        for j in range(1, p+1):\n",
    "            if k-j >= 0:\n",
    "                acc += phi[j-1] * psi[k-j]\n",
    "        psi[k] = acc\n",
    "\n",
    "    # autocovarianzas (sigma^2 factor se cancela al normalizar)\n",
    "    gamma = np.zeros(m+1)\n",
    "    for k in range(m+1):\n",
    "        # sum_{i=0}^{M-k} psi_i * psi_{i+k}\n",
    "        gamma[k] = np.dot(psi[:M-k+1], psi[k:M+1])\n",
    "\n",
    "    rho = gamma / gamma[0]\n",
    "    lags = np.arange(m+1)\n",
    "    return lags, rho\n",
    "\n",
    "# ---------- Stem-plot en Plotly (líneas, no barras) ----------\n",
    "def plot_acf_stem_plotly(lags, rho, title=\"ACF teórica (AR)\", n_for_ci=None):\n",
    "    xs, ys = [], []\n",
    "    for k, r in zip(lags, rho):\n",
    "        xs += [k, k, None]\n",
    "        ys += [0, r, None]\n",
    "    fig = go.Figure()\n",
    "    fig.add_trace(go.Scatter(x=xs, y=ys, mode=\"lines\", line=dict(width=2), name=\"líneas\"))\n",
    "    fig.add_trace(go.Scatter(x=lags, y=rho, mode=\"markers\", marker=dict(size=7), name=\"ρ_k\"))\n",
    "    fig.add_hline(y=0, line_width=1, line_dash=\"dot\", line_color=\"gray\")\n",
    "    if n_for_ci is not None and n_for_ci > 0:\n",
    "        ci = 1.96/np.sqrt(n_for_ci)\n",
    "        fig.add_hrect(y0=-ci, y1=ci, line_width=0, fillcolor=\"lightgray\",\n",
    "                      opacity=0.25, annotation_text=f\"±{ci:.3f}\",\n",
    "                      annotation_position=\"top left\")\n",
    "    fig.update_layout(template=\"plotly_white\", width=800, height=380,\n",
    "                      title=title, xaxis_title=\"Rezago k\", yaxis_title=\"ρ_k\")\n",
    "    return fig\n"
   ]
  },
  {
   "cell_type": "code",
   "execution_count": 89,
   "id": "569bad5c",
   "metadata": {},
   "outputs": [
    {
     "data": {
      "application/vnd.plotly.v1+json": {
       "config": {
        "plotlyServerURL": "https://plot.ly"
       },
       "data": [
        {
         "fill": "toself",
         "fillcolor": "rgba(144, 238, 144, 0.4)",
         "line": {
          "color": "black",
          "width": 1
         },
         "mode": "lines",
         "name": "Región de Estacionariedad",
         "type": "scatter",
         "x": [
          -2,
          2,
          0,
          -2
         ],
         "y": [
          -1,
          -1,
          1,
          -1
         ]
        },
        {
         "line": {
          "color": "black",
          "dash": "dot",
          "width": 2
         },
         "mode": "lines",
         "name": "Δ=0  (φ₂ = −¼ φ₁²)",
         "type": "scatter",
         "x": {
          "bdata": "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",
          "dtype": "f8"
         },
         "y": {
          "bdata": "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",
          "dtype": "f8"
         }
        },
        {
         "marker": {
          "color": "black",
          "size": 6
         },
         "mode": "markers+text",
         "showlegend": false,
         "text": [
          "(-2,1)",
          "(2,1)",
          "(0,-1)"
         ],
         "textposition": "top center",
         "type": "scatter",
         "x": [
          -2,
          2,
          0
         ],
         "y": [
          1,
          1,
          -1
         ]
        },
        {
         "marker": {
          "color": "red",
          "size": 12,
          "symbol": "circle"
         },
         "mode": "markers+text",
         "name": "punto (φ₁, φ₂)",
         "text": [
          "(-0.50, 0.20)"
         ],
         "textposition": "bottom center",
         "type": "scatter",
         "x": [
          -0.5
         ],
         "y": [
          0.2
         ]
        }
       ],
       "layout": {
        "annotations": [
         {
          "showarrow": false,
          "text": "Real\n(φ₁<0)",
          "x": -1,
          "y": 0.3
         },
         {
          "showarrow": false,
          "text": "Real\n(φ₁>0)",
          "x": 1,
          "y": 0.3
         },
         {
          "showarrow": false,
          "text": "Compleja\n(φ₁<0)",
          "x": -1,
          "y": -0.6
         },
         {
          "showarrow": false,
          "text": "Compleja\n(φ₁>0)",
          "x": 1,
          "y": -0.6
         }
        ],
        "height": 520,
        "showlegend": false,
        "template": {
         "data": {
          "bar": [
           {
            "error_x": {
             "color": "rgb(36,36,36)"
            },
            "error_y": {
             "color": "rgb(36,36,36)"
            },
            "marker": {
             "line": {
              "color": "white",
              "width": 0.5
             },
             "pattern": {
              "fillmode": "overlay",
              "size": 10,
              "solidity": 0.2
             }
            },
            "type": "bar"
           }
          ],
          "barpolar": [
           {
            "marker": {
             "line": {
              "color": "white",
              "width": 0.5
             },
             "pattern": {
              "fillmode": "overlay",
              "size": 10,
              "solidity": 0.2
             }
            },
            "type": "barpolar"
           }
          ],
          "carpet": [
           {
            "aaxis": {
             "endlinecolor": "rgb(36,36,36)",
             "gridcolor": "white",
             "linecolor": "white",
             "minorgridcolor": "white",
             "startlinecolor": "rgb(36,36,36)"
            },
            "baxis": {
             "endlinecolor": "rgb(36,36,36)",
             "gridcolor": "white",
             "linecolor": "white",
             "minorgridcolor": "white",
             "startlinecolor": "rgb(36,36,36)"
            },
            "type": "carpet"
           }
          ],
          "choropleth": [
           {
            "colorbar": {
             "outlinewidth": 1,
             "tickcolor": "rgb(36,36,36)",
             "ticks": "outside"
            },
            "type": "choropleth"
           }
          ],
          "contour": [
           {
            "colorbar": {
             "outlinewidth": 1,
             "tickcolor": "rgb(36,36,36)",
             "ticks": "outside"
            },
            "colorscale": [
             [
              0,
              "#440154"
             ],
             [
              0.1111111111111111,
              "#482878"
             ],
             [
              0.2222222222222222,
              "#3e4989"
             ],
             [
              0.3333333333333333,
              "#31688e"
             ],
             [
              0.4444444444444444,
              "#26828e"
             ],
             [
              0.5555555555555556,
              "#1f9e89"
             ],
             [
              0.6666666666666666,
              "#35b779"
             ],
             [
              0.7777777777777778,
              "#6ece58"
             ],
             [
              0.8888888888888888,
              "#b5de2b"
             ],
             [
              1,
              "#fde725"
             ]
            ],
            "type": "contour"
           }
          ],
          "contourcarpet": [
           {
            "colorbar": {
             "outlinewidth": 1,
             "tickcolor": "rgb(36,36,36)",
             "ticks": "outside"
            },
            "type": "contourcarpet"
           }
          ],
          "heatmap": [
           {
            "colorbar": {
             "outlinewidth": 1,
             "tickcolor": "rgb(36,36,36)",
             "ticks": "outside"
            },
            "colorscale": [
             [
              0,
              "#440154"
             ],
             [
              0.1111111111111111,
              "#482878"
             ],
             [
              0.2222222222222222,
              "#3e4989"
             ],
             [
              0.3333333333333333,
              "#31688e"
             ],
             [
              0.4444444444444444,
              "#26828e"
             ],
             [
              0.5555555555555556,
              "#1f9e89"
             ],
             [
              0.6666666666666666,
              "#35b779"
             ],
             [
              0.7777777777777778,
              "#6ece58"
             ],
             [
              0.8888888888888888,
              "#b5de2b"
             ],
             [
              1,
              "#fde725"
             ]
            ],
            "type": "heatmap"
           }
          ],
          "histogram": [
           {
            "marker": {
             "line": {
              "color": "white",
              "width": 0.6
             }
            },
            "type": "histogram"
           }
          ],
          "histogram2d": [
           {
            "colorbar": {
             "outlinewidth": 1,
             "tickcolor": "rgb(36,36,36)",
             "ticks": "outside"
            },
            "colorscale": [
             [
              0,
              "#440154"
             ],
             [
              0.1111111111111111,
              "#482878"
             ],
             [
              0.2222222222222222,
              "#3e4989"
             ],
             [
              0.3333333333333333,
              "#31688e"
             ],
             [
              0.4444444444444444,
              "#26828e"
             ],
             [
              0.5555555555555556,
              "#1f9e89"
             ],
             [
              0.6666666666666666,
              "#35b779"
             ],
             [
              0.7777777777777778,
              "#6ece58"
             ],
             [
              0.8888888888888888,
              "#b5de2b"
             ],
             [
              1,
              "#fde725"
             ]
            ],
            "type": "histogram2d"
           }
          ],
          "histogram2dcontour": [
           {
            "colorbar": {
             "outlinewidth": 1,
             "tickcolor": "rgb(36,36,36)",
             "ticks": "outside"
            },
            "colorscale": [
             [
              0,
              "#440154"
             ],
             [
              0.1111111111111111,
              "#482878"
             ],
             [
              0.2222222222222222,
              "#3e4989"
             ],
             [
              0.3333333333333333,
              "#31688e"
             ],
             [
              0.4444444444444444,
              "#26828e"
             ],
             [
              0.5555555555555556,
              "#1f9e89"
             ],
             [
              0.6666666666666666,
              "#35b779"
             ],
             [
              0.7777777777777778,
              "#6ece58"
             ],
             [
              0.8888888888888888,
              "#b5de2b"
             ],
             [
              1,
              "#fde725"
             ]
            ],
            "type": "histogram2dcontour"
           }
          ],
          "mesh3d": [
           {
            "colorbar": {
             "outlinewidth": 1,
             "tickcolor": "rgb(36,36,36)",
             "ticks": "outside"
            },
            "type": "mesh3d"
           }
          ],
          "parcoords": [
           {
            "line": {
             "colorbar": {
              "outlinewidth": 1,
              "tickcolor": "rgb(36,36,36)",
              "ticks": "outside"
             }
            },
            "type": "parcoords"
           }
          ],
          "pie": [
           {
            "automargin": true,
            "type": "pie"
           }
          ],
          "scatter": [
           {
            "fillpattern": {
             "fillmode": "overlay",
             "size": 10,
             "solidity": 0.2
            },
            "type": "scatter"
           }
          ],
          "scatter3d": [
           {
            "line": {
             "colorbar": {
              "outlinewidth": 1,
              "tickcolor": "rgb(36,36,36)",
              "ticks": "outside"
             }
            },
            "marker": {
             "colorbar": {
              "outlinewidth": 1,
              "tickcolor": "rgb(36,36,36)",
              "ticks": "outside"
             }
            },
            "type": "scatter3d"
           }
          ],
          "scattercarpet": [
           {
            "marker": {
             "colorbar": {
              "outlinewidth": 1,
              "tickcolor": "rgb(36,36,36)",
              "ticks": "outside"
             }
            },
            "type": "scattercarpet"
           }
          ],
          "scattergeo": [
           {
            "marker": {
             "colorbar": {
              "outlinewidth": 1,
              "tickcolor": "rgb(36,36,36)",
              "ticks": "outside"
             }
            },
            "type": "scattergeo"
           }
          ],
          "scattergl": [
           {
            "marker": {
             "colorbar": {
              "outlinewidth": 1,
              "tickcolor": "rgb(36,36,36)",
              "ticks": "outside"
             }
            },
            "type": "scattergl"
           }
          ],
          "scattermap": [
           {
            "marker": {
             "colorbar": {
              "outlinewidth": 1,
              "tickcolor": "rgb(36,36,36)",
              "ticks": "outside"
             }
            },
            "type": "scattermap"
           }
          ],
          "scattermapbox": [
           {
            "marker": {
             "colorbar": {
              "outlinewidth": 1,
              "tickcolor": "rgb(36,36,36)",
              "ticks": "outside"
             }
            },
            "type": "scattermapbox"
           }
          ],
          "scatterpolar": [
           {
            "marker": {
             "colorbar": {
              "outlinewidth": 1,
              "tickcolor": "rgb(36,36,36)",
              "ticks": "outside"
             }
            },
            "type": "scatterpolar"
           }
          ],
          "scatterpolargl": [
           {
            "marker": {
             "colorbar": {
              "outlinewidth": 1,
              "tickcolor": "rgb(36,36,36)",
              "ticks": "outside"
             }
            },
            "type": "scatterpolargl"
           }
          ],
          "scatterternary": [
           {
            "marker": {
             "colorbar": {
              "outlinewidth": 1,
              "tickcolor": "rgb(36,36,36)",
              "ticks": "outside"
             }
            },
            "type": "scatterternary"
           }
          ],
          "surface": [
           {
            "colorbar": {
             "outlinewidth": 1,
             "tickcolor": "rgb(36,36,36)",
             "ticks": "outside"
            },
            "colorscale": [
             [
              0,
              "#440154"
             ],
             [
              0.1111111111111111,
              "#482878"
             ],
             [
              0.2222222222222222,
              "#3e4989"
             ],
             [
              0.3333333333333333,
              "#31688e"
             ],
             [
              0.4444444444444444,
              "#26828e"
             ],
             [
              0.5555555555555556,
              "#1f9e89"
             ],
             [
              0.6666666666666666,
              "#35b779"
             ],
             [
              0.7777777777777778,
              "#6ece58"
             ],
             [
              0.8888888888888888,
              "#b5de2b"
             ],
             [
              1,
              "#fde725"
             ]
            ],
            "type": "surface"
           }
          ],
          "table": [
           {
            "cells": {
             "fill": {
              "color": "rgb(237,237,237)"
             },
             "line": {
              "color": "white"
             }
            },
            "header": {
             "fill": {
              "color": "rgb(217,217,217)"
             },
             "line": {
              "color": "white"
             }
            },
            "type": "table"
           }
          ]
         },
         "layout": {
          "annotationdefaults": {
           "arrowhead": 0,
           "arrowwidth": 1
          },
          "autotypenumbers": "strict",
          "coloraxis": {
           "colorbar": {
            "outlinewidth": 1,
            "tickcolor": "rgb(36,36,36)",
            "ticks": "outside"
           }
          },
          "colorscale": {
           "diverging": [
            [
             0,
             "rgb(103,0,31)"
            ],
            [
             0.1,
             "rgb(178,24,43)"
            ],
            [
             0.2,
             "rgb(214,96,77)"
            ],
            [
             0.3,
             "rgb(244,165,130)"
            ],
            [
             0.4,
             "rgb(253,219,199)"
            ],
            [
             0.5,
             "rgb(247,247,247)"
            ],
            [
             0.6,
             "rgb(209,229,240)"
            ],
            [
             0.7,
             "rgb(146,197,222)"
            ],
            [
             0.8,
             "rgb(67,147,195)"
            ],
            [
             0.9,
             "rgb(33,102,172)"
            ],
            [
             1,
             "rgb(5,48,97)"
            ]
           ],
           "sequential": [
            [
             0,
             "#440154"
            ],
            [
             0.1111111111111111,
             "#482878"
            ],
            [
             0.2222222222222222,
             "#3e4989"
            ],
            [
             0.3333333333333333,
             "#31688e"
            ],
            [
             0.4444444444444444,
             "#26828e"
            ],
            [
             0.5555555555555556,
             "#1f9e89"
            ],
            [
             0.6666666666666666,
             "#35b779"
            ],
            [
             0.7777777777777778,
             "#6ece58"
            ],
            [
             0.8888888888888888,
             "#b5de2b"
            ],
            [
             1,
             "#fde725"
            ]
           ],
           "sequentialminus": [
            [
             0,
             "#440154"
            ],
            [
             0.1111111111111111,
             "#482878"
            ],
            [
             0.2222222222222222,
             "#3e4989"
            ],
            [
             0.3333333333333333,
             "#31688e"
            ],
            [
             0.4444444444444444,
             "#26828e"
            ],
            [
             0.5555555555555556,
             "#1f9e89"
            ],
            [
             0.6666666666666666,
             "#35b779"
            ],
            [
             0.7777777777777778,
             "#6ece58"
            ],
            [
             0.8888888888888888,
             "#b5de2b"
            ],
            [
             1,
             "#fde725"
            ]
           ]
          },
          "colorway": [
           "#1F77B4",
           "#FF7F0E",
           "#2CA02C",
           "#D62728",
           "#9467BD",
           "#8C564B",
           "#E377C2",
           "#7F7F7F",
           "#BCBD22",
           "#17BECF"
          ],
          "font": {
           "color": "rgb(36,36,36)"
          },
          "geo": {
           "bgcolor": "white",
           "lakecolor": "white",
           "landcolor": "white",
           "showlakes": true,
           "showland": true,
           "subunitcolor": "white"
          },
          "hoverlabel": {
           "align": "left"
          },
          "hovermode": "closest",
          "mapbox": {
           "style": "light"
          },
          "paper_bgcolor": "white",
          "plot_bgcolor": "white",
          "polar": {
           "angularaxis": {
            "gridcolor": "rgb(232,232,232)",
            "linecolor": "rgb(36,36,36)",
            "showgrid": false,
            "showline": true,
            "ticks": "outside"
           },
           "bgcolor": "white",
           "radialaxis": {
            "gridcolor": "rgb(232,232,232)",
            "linecolor": "rgb(36,36,36)",
            "showgrid": false,
            "showline": true,
            "ticks": "outside"
           }
          },
          "scene": {
           "xaxis": {
            "backgroundcolor": "white",
            "gridcolor": "rgb(232,232,232)",
            "gridwidth": 2,
            "linecolor": "rgb(36,36,36)",
            "showbackground": true,
            "showgrid": false,
            "showline": true,
            "ticks": "outside",
            "zeroline": false,
            "zerolinecolor": "rgb(36,36,36)"
           },
           "yaxis": {
            "backgroundcolor": "white",
            "gridcolor": "rgb(232,232,232)",
            "gridwidth": 2,
            "linecolor": "rgb(36,36,36)",
            "showbackground": true,
            "showgrid": false,
            "showline": true,
            "ticks": "outside",
            "zeroline": false,
            "zerolinecolor": "rgb(36,36,36)"
           },
           "zaxis": {
            "backgroundcolor": "white",
            "gridcolor": "rgb(232,232,232)",
            "gridwidth": 2,
            "linecolor": "rgb(36,36,36)",
            "showbackground": true,
            "showgrid": false,
            "showline": true,
            "ticks": "outside",
            "zeroline": false,
            "zerolinecolor": "rgb(36,36,36)"
           }
          },
          "shapedefaults": {
           "fillcolor": "black",
           "line": {
            "width": 0
           },
           "opacity": 0.3
          },
          "ternary": {
           "aaxis": {
            "gridcolor": "rgb(232,232,232)",
            "linecolor": "rgb(36,36,36)",
            "showgrid": false,
            "showline": true,
            "ticks": "outside"
           },
           "baxis": {
            "gridcolor": "rgb(232,232,232)",
            "linecolor": "rgb(36,36,36)",
            "showgrid": false,
            "showline": true,
            "ticks": "outside"
           },
           "bgcolor": "white",
           "caxis": {
            "gridcolor": "rgb(232,232,232)",
            "linecolor": "rgb(36,36,36)",
            "showgrid": false,
            "showline": true,
            "ticks": "outside"
           }
          },
          "title": {
           "x": 0.05
          },
          "xaxis": {
           "automargin": true,
           "gridcolor": "rgb(232,232,232)",
           "linecolor": "rgb(36,36,36)",
           "showgrid": false,
           "showline": true,
           "ticks": "outside",
           "title": {
            "standoff": 15
           },
           "zeroline": false,
           "zerolinecolor": "rgb(36,36,36)"
          },
          "yaxis": {
           "automargin": true,
           "gridcolor": "rgb(232,232,232)",
           "linecolor": "rgb(36,36,36)",
           "showgrid": false,
           "showline": true,
           "ticks": "outside",
           "title": {
            "standoff": 15
           },
           "zeroline": false,
           "zerolinecolor": "rgb(36,36,36)"
          }
         }
        },
        "title": {
         "text": "AR(2)<br> Triángulo de estacionariedad + parábola del discriminante<br>Punto en Región 1"
        },
        "width": 700,
        "xaxis": {
         "range": [
          -2.2,
          2.2
         ],
         "title": {
          "text": "φ₁"
         },
         "zeroline": true
        },
        "yaxis": {
         "range": [
          -1.3,
          1.3
         ],
         "title": {
          "text": "φ₂"
         },
         "zeroline": false
        }
       }
      }
     },
     "metadata": {},
     "output_type": "display_data"
    },
    {
     "data": {
      "application/vnd.plotly.v1+json": {
       "config": {
        "plotlyServerURL": "https://plot.ly"
       },
       "data": [
        {
         "fill": "toself",
         "fillcolor": "lightgreen",
         "line": {
          "color": "lightgreen"
         },
         "mode": "lines",
         "opacity": 0.35,
         "showlegend": false,
         "type": "scatter",
         "x": {
          "bdata": "/gIA/g==",
          "dtype": "i1"
         },
         "xaxis": "x",
         "y": {
          "bdata": "//8B/w==",
          "dtype": "i1"
         },
         "yaxis": "y"
        },
        {
         "marker": {
          "size": 10
         },
         "mode": "markers",
         "name": "(-0.50,0.20)",
         "type": "scatter",
         "x": [
          -0.5
         ],
         "xaxis": "x",
         "y": [
          0.2
         ],
         "yaxis": "y"
        },
        {
         "line": {
          "width": 2
         },
         "mode": "lines",
         "showlegend": false,
         "type": "scatter",
         "x": [
          0,
          0,
          null,
          1,
          1,
          null,
          2,
          2,
          null,
          3,
          3,
          null,
          4,
          4,
          null,
          5,
          5,
          null,
          6,
          6,
          null,
          7,
          7,
          null,
          8,
          8,
          null,
          9,
          9,
          null,
          10,
          10,
          null,
          11,
          11,
          null,
          12,
          12,
          null,
          13,
          13,
          null,
          14,
          14,
          null,
          15,
          15,
          null,
          16,
          16,
          null,
          17,
          17,
          null,
          18,
          18,
          null,
          19,
          19,
          null,
          20,
          20,
          null
         ],
         "xaxis": "x2",
         "y": [
          0,
          1,
          null,
          0,
          -0.6250000000000001,
          null,
          0,
          0.5125000000000001,
          null,
          0,
          -0.3812500000000001,
          null,
          0,
          0.293125,
          null,
          0,
          -0.2228125,
          null,
          0,
          0.17003125,
          null,
          0,
          -0.12957812500000004,
          null,
          0,
          0.09879531250000002,
          null,
          0,
          -0.07531328124999999,
          null,
          0,
          0.05741570312500001,
          null,
          0,
          -0.043770507812500005,
          null,
          0,
          0.03336839453125001,
          null,
          0,
          -0.025438298828125008,
          null,
          0,
          0.0193928283203125,
          null,
          0,
          -0.01478407392578125,
          null,
          0,
          0.011270602626953126,
          null,
          0,
          -0.008592116098632814,
          null,
          0,
          0.006550178574707033,
          null,
          0,
          -0.004993512507080079,
          null,
          0,
          0.0038067919684814456,
          null
         ],
         "yaxis": "y2"
        },
        {
         "marker": {
          "size": 7
         },
         "mode": "markers",
         "showlegend": false,
         "type": "scatter",
         "x": {
          "bdata": "AAECAwQFBgcICQoLDA0ODxAREhMU",
          "dtype": "i1"
         },
         "xaxis": "x2",
         "y": {
          "bdata": "AAAAAAAA8D8BAAAAAADkv2dmZmZmZuA/aGZmZmZm2L/D9Shcj8LSP4XrUbgehcy/3SQGgZXDxT++dJMYBJbAv32DL0ymSrk/1VbsL7tHs7+ivmVOl2WtPw0CK4cWaaa/KKd2hqkVoT/HdCFWfwyav9iWpq2225M/J18a0BxHjr+EBYOtChWHP2QvLU2+mIG/zWQuLFzUej/Bq4/OE3R0vxLUO+BrL28/",
          "dtype": "f8"
         },
         "yaxis": "y2"
        },
        {
         "line": {
          "width": 2
         },
         "mode": "lines",
         "showlegend": false,
         "type": "scatter",
         "x": [
          0,
          0,
          null,
          1,
          1,
          null,
          2,
          2,
          null,
          3,
          3,
          null,
          4,
          4,
          null,
          5,
          5,
          null,
          6,
          6,
          null,
          7,
          7,
          null,
          8,
          8,
          null,
          9,
          9,
          null,
          10,
          10,
          null,
          11,
          11,
          null,
          12,
          12,
          null,
          13,
          13,
          null,
          14,
          14,
          null,
          15,
          15,
          null,
          16,
          16,
          null,
          17,
          17,
          null,
          18,
          18,
          null,
          19,
          19,
          null,
          20,
          20,
          null
         ],
         "xaxis": "x3",
         "y": [
          0,
          1,
          null,
          0,
          -0.6250000000000001,
          null,
          0,
          0.1999999999999999,
          null,
          0,
          -9.489085680556896e-17,
          null,
          0,
          -9.489085680556896e-17,
          null,
          0,
          9.489085680556896e-17,
          null,
          0,
          4.744542840278448e-17,
          null,
          0,
          -9.489085680556896e-17,
          null,
          0,
          -2.372271420139224e-17,
          null,
          0,
          7.116814260417672e-17,
          null,
          0,
          3.558407130208836e-17,
          null,
          0,
          -2.372271420139224e-17,
          null,
          0,
          0,
          null,
          0,
          5.93067855034806e-18,
          null,
          0,
          -1.779203565104418e-17,
          null,
          0,
          -5.93067855034806e-18,
          null,
          0,
          8.89601782552209e-18,
          null,
          0,
          0,
          null,
          0,
          0,
          null,
          0,
          4.448008912761045e-18,
          null,
          0,
          -7.413348187935075e-19,
          null
         ],
         "yaxis": "y3"
        },
        {
         "marker": {
          "size": 7
         },
         "mode": "markers",
         "showlegend": false,
         "type": "scatter",
         "x": {
          "bdata": "AAECAwQFBgcICQoLDA0ODxAREhMU",
          "dtype": "i1"
         },
         "xaxis": "x3",
         "y": {
          "bdata": "AAAAAAAA8D8BAAAAAADkv5aZmZmZmck/nbVZm7VZm7ydtVmbtVmbvJ21WZu1WZs8nbVZm7VZizydtVmbtVmbvJ21WZu1WXu8NkiDNEiDlDw2SIM0SIOEPJ21WZu1WXu8AAAAAAAAAACdtVmbtVlbPDZIgzRIg3S8nbVZm7VZW7w2SIM0SINkPAAAAAAAAAAAAAAAAAAAAAA2SIM0SINUPJ21WZu1WSu8",
          "dtype": "f8"
         },
         "yaxis": "y3"
        }
       ],
       "layout": {
        "annotations": [
         {
          "font": {
           "size": 16
          },
          "showarrow": false,
          "text": "Región admisible AR(2)",
          "x": 0.14444444444444446,
          "xanchor": "center",
          "xref": "paper",
          "y": 1,
          "yanchor": "bottom",
          "yref": "paper"
         },
         {
          "font": {
           "size": 16
          },
          "showarrow": false,
          "text": "FAC (ρₖ) teórica",
          "x": 0.5,
          "xanchor": "center",
          "xref": "paper",
          "y": 1,
          "yanchor": "bottom",
          "yref": "paper"
         },
         {
          "font": {
           "size": 16
          },
          "showarrow": false,
          "text": "FACP (φₖ) teórica",
          "x": 0.8555555555555556,
          "xanchor": "center",
          "xref": "paper",
          "y": 1,
          "yanchor": "bottom",
          "yref": "paper"
         }
        ],
        "height": 380,
        "shapes": [
         {
          "line": {
           "color": "gray"
          },
          "type": "line",
          "x0": 0,
          "x1": 1,
          "xref": "x domain",
          "y0": 0,
          "y1": 0,
          "yref": "y"
         },
         {
          "line": {
           "color": "gray"
          },
          "type": "line",
          "x0": 0,
          "x1": 0,
          "xref": "x",
          "y0": 0,
          "y1": 1,
          "yref": "y domain"
         },
         {
          "line": {
           "color": "gray",
           "dash": "dot"
          },
          "type": "line",
          "x0": 0,
          "x1": 1,
          "xref": "x2 domain",
          "y0": 0,
          "y1": 0,
          "yref": "y2"
         },
         {
          "line": {
           "color": "gray",
           "dash": "dot"
          },
          "type": "line",
          "x0": 0,
          "x1": 1,
          "xref": "x3 domain",
          "y0": 0,
          "y1": 0,
          "yref": "y3"
         }
        ],
        "template": {
         "data": {
          "bar": [
           {
            "error_x": {
             "color": "#2a3f5f"
            },
            "error_y": {
             "color": "#2a3f5f"
            },
            "marker": {
             "line": {
              "color": "white",
              "width": 0.5
             },
             "pattern": {
              "fillmode": "overlay",
              "size": 10,
              "solidity": 0.2
             }
            },
            "type": "bar"
           }
          ],
          "barpolar": [
           {
            "marker": {
             "line": {
              "color": "white",
              "width": 0.5
             },
             "pattern": {
              "fillmode": "overlay",
              "size": 10,
              "solidity": 0.2
             }
            },
            "type": "barpolar"
           }
          ],
          "carpet": [
           {
            "aaxis": {
             "endlinecolor": "#2a3f5f",
             "gridcolor": "#C8D4E3",
             "linecolor": "#C8D4E3",
             "minorgridcolor": "#C8D4E3",
             "startlinecolor": "#2a3f5f"
            },
            "baxis": {
             "endlinecolor": "#2a3f5f",
             "gridcolor": "#C8D4E3",
             "linecolor": "#C8D4E3",
             "minorgridcolor": "#C8D4E3",
             "startlinecolor": "#2a3f5f"
            },
            "type": "carpet"
           }
          ],
          "choropleth": [
           {
            "colorbar": {
             "outlinewidth": 0,
             "ticks": ""
            },
            "type": "choropleth"
           }
          ],
          "contour": [
           {
            "colorbar": {
             "outlinewidth": 0,
             "ticks": ""
            },
            "colorscale": [
             [
              0,
              "#0d0887"
             ],
             [
              0.1111111111111111,
              "#46039f"
             ],
             [
              0.2222222222222222,
              "#7201a8"
             ],
             [
              0.3333333333333333,
              "#9c179e"
             ],
             [
              0.4444444444444444,
              "#bd3786"
             ],
             [
              0.5555555555555556,
              "#d8576b"
             ],
             [
              0.6666666666666666,
              "#ed7953"
             ],
             [
              0.7777777777777778,
              "#fb9f3a"
             ],
             [
              0.8888888888888888,
              "#fdca26"
             ],
             [
              1,
              "#f0f921"
             ]
            ],
            "type": "contour"
           }
          ],
          "contourcarpet": [
           {
            "colorbar": {
             "outlinewidth": 0,
             "ticks": ""
            },
            "type": "contourcarpet"
           }
          ],
          "heatmap": [
           {
            "colorbar": {
             "outlinewidth": 0,
             "ticks": ""
            },
            "colorscale": [
             [
              0,
              "#0d0887"
             ],
             [
              0.1111111111111111,
              "#46039f"
             ],
             [
              0.2222222222222222,
              "#7201a8"
             ],
             [
              0.3333333333333333,
              "#9c179e"
             ],
             [
              0.4444444444444444,
              "#bd3786"
             ],
             [
              0.5555555555555556,
              "#d8576b"
             ],
             [
              0.6666666666666666,
              "#ed7953"
             ],
             [
              0.7777777777777778,
              "#fb9f3a"
             ],
             [
              0.8888888888888888,
              "#fdca26"
             ],
             [
              1,
              "#f0f921"
             ]
            ],
            "type": "heatmap"
           }
          ],
          "histogram": [
           {
            "marker": {
             "pattern": {
              "fillmode": "overlay",
              "size": 10,
              "solidity": 0.2
             }
            },
            "type": "histogram"
           }
          ],
          "histogram2d": [
           {
            "colorbar": {
             "outlinewidth": 0,
             "ticks": ""
            },
            "colorscale": [
             [
              0,
              "#0d0887"
             ],
             [
              0.1111111111111111,
              "#46039f"
             ],
             [
              0.2222222222222222,
              "#7201a8"
             ],
             [
              0.3333333333333333,
              "#9c179e"
             ],
             [
              0.4444444444444444,
              "#bd3786"
             ],
             [
              0.5555555555555556,
              "#d8576b"
             ],
             [
              0.6666666666666666,
              "#ed7953"
             ],
             [
              0.7777777777777778,
              "#fb9f3a"
             ],
             [
              0.8888888888888888,
              "#fdca26"
             ],
             [
              1,
              "#f0f921"
             ]
            ],
            "type": "histogram2d"
           }
          ],
          "histogram2dcontour": [
           {
            "colorbar": {
             "outlinewidth": 0,
             "ticks": ""
            },
            "colorscale": [
             [
              0,
              "#0d0887"
             ],
             [
              0.1111111111111111,
              "#46039f"
             ],
             [
              0.2222222222222222,
              "#7201a8"
             ],
             [
              0.3333333333333333,
              "#9c179e"
             ],
             [
              0.4444444444444444,
              "#bd3786"
             ],
             [
              0.5555555555555556,
              "#d8576b"
             ],
             [
              0.6666666666666666,
              "#ed7953"
             ],
             [
              0.7777777777777778,
              "#fb9f3a"
             ],
             [
              0.8888888888888888,
              "#fdca26"
             ],
             [
              1,
              "#f0f921"
             ]
            ],
            "type": "histogram2dcontour"
           }
          ],
          "mesh3d": [
           {
            "colorbar": {
             "outlinewidth": 0,
             "ticks": ""
            },
            "type": "mesh3d"
           }
          ],
          "parcoords": [
           {
            "line": {
             "colorbar": {
              "outlinewidth": 0,
              "ticks": ""
             }
            },
            "type": "parcoords"
           }
          ],
          "pie": [
           {
            "automargin": true,
            "type": "pie"
           }
          ],
          "scatter": [
           {
            "fillpattern": {
             "fillmode": "overlay",
             "size": 10,
             "solidity": 0.2
            },
            "type": "scatter"
           }
          ],
          "scatter3d": [
           {
            "line": {
             "colorbar": {
              "outlinewidth": 0,
              "ticks": ""
             }
            },
            "marker": {
             "colorbar": {
              "outlinewidth": 0,
              "ticks": ""
             }
            },
            "type": "scatter3d"
           }
          ],
          "scattercarpet": [
           {
            "marker": {
             "colorbar": {
              "outlinewidth": 0,
              "ticks": ""
             }
            },
            "type": "scattercarpet"
           }
          ],
          "scattergeo": [
           {
            "marker": {
             "colorbar": {
              "outlinewidth": 0,
              "ticks": ""
             }
            },
            "type": "scattergeo"
           }
          ],
          "scattergl": [
           {
            "marker": {
             "colorbar": {
              "outlinewidth": 0,
              "ticks": ""
             }
            },
            "type": "scattergl"
           }
          ],
          "scattermap": [
           {
            "marker": {
             "colorbar": {
              "outlinewidth": 0,
              "ticks": ""
             }
            },
            "type": "scattermap"
           }
          ],
          "scattermapbox": [
           {
            "marker": {
             "colorbar": {
              "outlinewidth": 0,
              "ticks": ""
             }
            },
            "type": "scattermapbox"
           }
          ],
          "scatterpolar": [
           {
            "marker": {
             "colorbar": {
              "outlinewidth": 0,
              "ticks": ""
             }
            },
            "type": "scatterpolar"
           }
          ],
          "scatterpolargl": [
           {
            "marker": {
             "colorbar": {
              "outlinewidth": 0,
              "ticks": ""
             }
            },
            "type": "scatterpolargl"
           }
          ],
          "scatterternary": [
           {
            "marker": {
             "colorbar": {
              "outlinewidth": 0,
              "ticks": ""
             }
            },
            "type": "scatterternary"
           }
          ],
          "surface": [
           {
            "colorbar": {
             "outlinewidth": 0,
             "ticks": ""
            },
            "colorscale": [
             [
              0,
              "#0d0887"
             ],
             [
              0.1111111111111111,
              "#46039f"
             ],
             [
              0.2222222222222222,
              "#7201a8"
             ],
             [
              0.3333333333333333,
              "#9c179e"
             ],
             [
              0.4444444444444444,
              "#bd3786"
             ],
             [
              0.5555555555555556,
              "#d8576b"
             ],
             [
              0.6666666666666666,
              "#ed7953"
             ],
             [
              0.7777777777777778,
              "#fb9f3a"
             ],
             [
              0.8888888888888888,
              "#fdca26"
             ],
             [
              1,
              "#f0f921"
             ]
            ],
            "type": "surface"
           }
          ],
          "table": [
           {
            "cells": {
             "fill": {
              "color": "#EBF0F8"
             },
             "line": {
              "color": "white"
             }
            },
            "header": {
             "fill": {
              "color": "#C8D4E3"
             },
             "line": {
              "color": "white"
             }
            },
            "type": "table"
           }
          ]
         },
         "layout": {
          "annotationdefaults": {
           "arrowcolor": "#2a3f5f",
           "arrowhead": 0,
           "arrowwidth": 1
          },
          "autotypenumbers": "strict",
          "coloraxis": {
           "colorbar": {
            "outlinewidth": 0,
            "ticks": ""
           }
          },
          "colorscale": {
           "diverging": [
            [
             0,
             "#8e0152"
            ],
            [
             0.1,
             "#c51b7d"
            ],
            [
             0.2,
             "#de77ae"
            ],
            [
             0.3,
             "#f1b6da"
            ],
            [
             0.4,
             "#fde0ef"
            ],
            [
             0.5,
             "#f7f7f7"
            ],
            [
             0.6,
             "#e6f5d0"
            ],
            [
             0.7,
             "#b8e186"
            ],
            [
             0.8,
             "#7fbc41"
            ],
            [
             0.9,
             "#4d9221"
            ],
            [
             1,
             "#276419"
            ]
           ],
           "sequential": [
            [
             0,
             "#0d0887"
            ],
            [
             0.1111111111111111,
             "#46039f"
            ],
            [
             0.2222222222222222,
             "#7201a8"
            ],
            [
             0.3333333333333333,
             "#9c179e"
            ],
            [
             0.4444444444444444,
             "#bd3786"
            ],
            [
             0.5555555555555556,
             "#d8576b"
            ],
            [
             0.6666666666666666,
             "#ed7953"
            ],
            [
             0.7777777777777778,
             "#fb9f3a"
            ],
            [
             0.8888888888888888,
             "#fdca26"
            ],
            [
             1,
             "#f0f921"
            ]
           ],
           "sequentialminus": [
            [
             0,
             "#0d0887"
            ],
            [
             0.1111111111111111,
             "#46039f"
            ],
            [
             0.2222222222222222,
             "#7201a8"
            ],
            [
             0.3333333333333333,
             "#9c179e"
            ],
            [
             0.4444444444444444,
             "#bd3786"
            ],
            [
             0.5555555555555556,
             "#d8576b"
            ],
            [
             0.6666666666666666,
             "#ed7953"
            ],
            [
             0.7777777777777778,
             "#fb9f3a"
            ],
            [
             0.8888888888888888,
             "#fdca26"
            ],
            [
             1,
             "#f0f921"
            ]
           ]
          },
          "colorway": [
           "#636efa",
           "#EF553B",
           "#00cc96",
           "#ab63fa",
           "#FFA15A",
           "#19d3f3",
           "#FF6692",
           "#B6E880",
           "#FF97FF",
           "#FECB52"
          ],
          "font": {
           "color": "#2a3f5f"
          },
          "geo": {
           "bgcolor": "white",
           "lakecolor": "white",
           "landcolor": "white",
           "showlakes": true,
           "showland": true,
           "subunitcolor": "#C8D4E3"
          },
          "hoverlabel": {
           "align": "left"
          },
          "hovermode": "closest",
          "mapbox": {
           "style": "light"
          },
          "paper_bgcolor": "white",
          "plot_bgcolor": "white",
          "polar": {
           "angularaxis": {
            "gridcolor": "#EBF0F8",
            "linecolor": "#EBF0F8",
            "ticks": ""
           },
           "bgcolor": "white",
           "radialaxis": {
            "gridcolor": "#EBF0F8",
            "linecolor": "#EBF0F8",
            "ticks": ""
           }
          },
          "scene": {
           "xaxis": {
            "backgroundcolor": "white",
            "gridcolor": "#DFE8F3",
            "gridwidth": 2,
            "linecolor": "#EBF0F8",
            "showbackground": true,
            "ticks": "",
            "zerolinecolor": "#EBF0F8"
           },
           "yaxis": {
            "backgroundcolor": "white",
            "gridcolor": "#DFE8F3",
            "gridwidth": 2,
            "linecolor": "#EBF0F8",
            "showbackground": true,
            "ticks": "",
            "zerolinecolor": "#EBF0F8"
           },
           "zaxis": {
            "backgroundcolor": "white",
            "gridcolor": "#DFE8F3",
            "gridwidth": 2,
            "linecolor": "#EBF0F8",
            "showbackground": true,
            "ticks": "",
            "zerolinecolor": "#EBF0F8"
           }
          },
          "shapedefaults": {
           "line": {
            "color": "#2a3f5f"
           }
          },
          "ternary": {
           "aaxis": {
            "gridcolor": "#DFE8F3",
            "linecolor": "#A2B1C6",
            "ticks": ""
           },
           "baxis": {
            "gridcolor": "#DFE8F3",
            "linecolor": "#A2B1C6",
            "ticks": ""
           },
           "bgcolor": "white",
           "caxis": {
            "gridcolor": "#DFE8F3",
            "linecolor": "#A2B1C6",
            "ticks": ""
           }
          },
          "title": {
           "x": 0.05
          },
          "xaxis": {
           "automargin": true,
           "gridcolor": "#EBF0F8",
           "linecolor": "#EBF0F8",
           "ticks": "",
           "title": {
            "standoff": 15
           },
           "zerolinecolor": "#EBF0F8",
           "zerolinewidth": 2
          },
          "yaxis": {
           "automargin": true,
           "gridcolor": "#EBF0F8",
           "linecolor": "#EBF0F8",
           "ticks": "",
           "title": {
            "standoff": 15
           },
           "zerolinecolor": "#EBF0F8",
           "zerolinewidth": 2
          }
         }
        },
        "title": {
         "text": "AR(2) (1 - φ₁B - φ₂B²)Xₜ = Zₜ — punto ✔ dentro de la región"
        },
        "width": 1150,
        "xaxis": {
         "anchor": "y",
         "domain": [
          0,
          0.2888888888888889
         ],
         "range": [
          -2.2,
          2.2
         ],
         "title": {
          "text": "φ₁"
         }
        },
        "xaxis2": {
         "anchor": "y2",
         "domain": [
          0.35555555555555557,
          0.6444444444444445
         ],
         "title": {
          "text": "k"
         }
        },
        "xaxis3": {
         "anchor": "y3",
         "domain": [
          0.7111111111111111,
          1
         ],
         "title": {
          "text": "k"
         }
        },
        "yaxis": {
         "anchor": "x",
         "domain": [
          0,
          1
         ],
         "range": [
          -1.2,
          1.2
         ],
         "title": {
          "text": "φ₂"
         }
        },
        "yaxis2": {
         "anchor": "x2",
         "domain": [
          0,
          1
         ],
         "range": [
          -1,
          1
         ],
         "title": {
          "text": "ρₖ"
         }
        },
        "yaxis3": {
         "anchor": "x3",
         "domain": [
          0,
          1
         ],
         "range": [
          -1,
          1
         ],
         "title": {
          "text": "φₖ (PACF)"
         }
        }
       }
      }
     },
     "metadata": {},
     "output_type": "display_data"
    }
   ],
   "source": [
    "phi1 = -0.5\n",
    "phi2 = 0.2\n",
    "\n",
    "fig = ar2_region_quad(phi1_point=phi1, phi2_point=phi2)\n",
    "fig.show() \n",
    "fig = panel_ar2(phi1=phi1, phi2=phi2, m=20)\n",
    "fig.show()"
   ]
  },
  {
   "cell_type": "markdown",
   "id": "342fb1f9",
   "metadata": {},
   "source": [
    "\n",
    "Valores típicos:\n",
    "- $\\rho_0 = 1$\n",
    "\n",
    "Fórmulas:\n",
    "$$\n",
    "\\rho_1 = \\frac{\\phi_1}{1 - \\phi_2} \\\\\n",
    "\\rho_2 = \\phi_1 \\rho_1 + \\phi_2 \\\\\n",
    "\\rho_k = \\phi_1 \\rho_{k-1} + \\phi_2 \\rho_{k-2} \\quad \\text{para } k \\geq 3\n",
    "$$\n",
    "\n",
    "\n",
    " **Comportamiento**\n",
    "> Si $\\phi_1^2 + 4\\phi_2 \\geq 0$, las raíces del polinomio característico son reales,  \n",
    "> y las autocorrelaciones decaen exponencialmente a cero.  \n",
    "> Las primeras $\\rho_k$ pueden ser todas positivas, y luego tienden a alternarse en signo.\n"
   ]
  },
  {
   "cell_type": "markdown",
   "id": "228dcf21",
   "metadata": {},
   "source": [
    "**Ejemplo de FAC teórica del proceso AR(2):**\n",
    "\n",
    "\n",
    "Consideremos el proceso:\n",
    "\n",
    "$$\n",
    "(1 + 0.5B - 0.2B^2)W_t = a_t\n",
    "$$\n",
    "\n",
    "\n",
    "**Discriminante**\n",
    "\n",
    "Para verificar la estacionariedad, calculamos el discriminante:\n",
    "\n",
    "$$\n",
    "\\phi_1^2 + 4\\phi_2 = (-0.5)^2 + 4(0.2) = 0.25 + 0.8 = 1.05 > 0\n",
    "$$\n",
    "\n",
    "Como:\n",
    "\n",
    "$$\n",
    "\\phi_1 = -0.5 < 0\n",
    "$$\n",
    "\n",
    "\n",
    "**Cálculo de raíces**\n",
    "\n",
    "1. Primera raíz:\n",
    "\n",
    "$$\n",
    "\\rho_1 = \\frac{-0.5}{1 - 0.2} = \\frac{-0.5}{0.8} = -0.625\n",
    "$$\n",
    "\n",
    "2. Segunda raíz:\n",
    "\n",
    "$$\n",
    "\\rho_2 = \\frac{0.2 + (-0.5)^2}{1 - 0.2} = \\frac{0.2 + 0.25}{0.8} = \\frac{0.45}{0.8} = 0.5625\n",
    "$$\n",
    "\n",
    "\n"
   ]
  },
  {
   "cell_type": "markdown",
   "id": "6f79353d",
   "metadata": {},
   "source": [
    "\n",
    "**Gráfico de la FAC teórica**\n",
    "\n",
    "A continuación, se muestra el gráfico de la **Función de Autocorrelación (FAC)** teórica del proceso:\n",
    "\n",
    "*(Gráfico con barras decrecientes y signos alternados)*\n",
    "\n"
   ]
  },
  {
   "cell_type": "code",
   "execution_count": 94,
   "id": "76ef3235",
   "metadata": {},
   "outputs": [
    {
     "data": {
      "application/vnd.plotly.v1+json": {
       "config": {
        "plotlyServerURL": "https://plot.ly"
       },
       "data": [
        {
         "line": {
          "width": 2
         },
         "mode": "lines",
         "name": "líneas",
         "type": "scatter",
         "x": [
          0,
          0,
          null,
          1,
          1,
          null,
          2,
          2,
          null,
          3,
          3,
          null,
          4,
          4,
          null,
          5,
          5,
          null,
          6,
          6,
          null,
          7,
          7,
          null,
          8,
          8,
          null,
          9,
          9,
          null,
          10,
          10,
          null,
          11,
          11,
          null,
          12,
          12,
          null,
          13,
          13,
          null,
          14,
          14,
          null,
          15,
          15,
          null,
          16,
          16,
          null,
          17,
          17,
          null,
          18,
          18,
          null,
          19,
          19,
          null,
          20,
          20,
          null,
          21,
          21,
          null,
          22,
          22,
          null,
          23,
          23,
          null,
          24,
          24,
          null
         ],
         "y": [
          0,
          1,
          null,
          0,
          -0.6250000000000001,
          null,
          0,
          0.5125000000000001,
          null,
          0,
          -0.3812500000000001,
          null,
          0,
          0.293125,
          null,
          0,
          -0.2228125,
          null,
          0,
          0.17003125,
          null,
          0,
          -0.12957812500000004,
          null,
          0,
          0.09879531250000002,
          null,
          0,
          -0.07531328124999999,
          null,
          0,
          0.05741570312500001,
          null,
          0,
          -0.043770507812500005,
          null,
          0,
          0.03336839453125001,
          null,
          0,
          -0.025438298828125008,
          null,
          0,
          0.0193928283203125,
          null,
          0,
          -0.01478407392578125,
          null,
          0,
          0.011270602626953126,
          null,
          0,
          -0.008592116098632814,
          null,
          0,
          0.006550178574707033,
          null,
          0,
          -0.004993512507080079,
          null,
          0,
          0.0038067919684814456,
          null,
          0,
          -0.002902098485656739,
          null,
          0,
          0.002212407636524658,
          null,
          0,
          -0.0016866235153936767,
          null,
          0,
          0.0012857932850017701,
          null
         ]
        },
        {
         "marker": {
          "size": 7
         },
         "mode": "markers",
         "name": "ρ_k",
         "type": "scatter",
         "x": {
          "bdata": "AAECAwQFBgcICQoLDA0ODxAREhMUFRYXGA==",
          "dtype": "i1"
         },
         "y": {
          "bdata": "AAAAAAAA8D8BAAAAAADkv2dmZmZmZuA/aGZmZmZm2L/D9Shcj8LSP4XrUbgehcy/3SQGgZXDxT++dJMYBJbAv32DL0ymSrk/1VbsL7tHs7+ivmVOl2WtPw0CK4cWaaa/KKd2hqkVoT/HdCFWfwyav9iWpq2225M/J18a0BxHjr+EBYOtChWHP2QvLU2+mIG/zWQuLFzUej/Bq4/OE3R0vxLUO+BrL28/V8i9QiTGZ78uqDdOwR9iPx3FtjU2olu/1aXxBgIRVT8=",
          "dtype": "f8"
         }
        }
       ],
       "layout": {
        "annotations": [
         {
          "showarrow": false,
          "text": "±0.080",
          "x": 0,
          "xanchor": "left",
          "xref": "x domain",
          "y": 0.08001666493091715,
          "yanchor": "top",
          "yref": "y"
         }
        ],
        "height": 380,
        "shapes": [
         {
          "line": {
           "color": "gray",
           "dash": "dot",
           "width": 1
          },
          "type": "line",
          "x0": 0,
          "x1": 1,
          "xref": "x domain",
          "y0": 0,
          "y1": 0,
          "yref": "y"
         },
         {
          "fillcolor": "lightgray",
          "line": {
           "width": 0
          },
          "opacity": 0.25,
          "type": "rect",
          "x0": 0,
          "x1": 1,
          "xref": "x domain",
          "y0": -0.08001666493091715,
          "y1": 0.08001666493091715,
          "yref": "y"
         }
        ],
        "template": {
         "data": {
          "bar": [
           {
            "error_x": {
             "color": "#2a3f5f"
            },
            "error_y": {
             "color": "#2a3f5f"
            },
            "marker": {
             "line": {
              "color": "white",
              "width": 0.5
             },
             "pattern": {
              "fillmode": "overlay",
              "size": 10,
              "solidity": 0.2
             }
            },
            "type": "bar"
           }
          ],
          "barpolar": [
           {
            "marker": {
             "line": {
              "color": "white",
              "width": 0.5
             },
             "pattern": {
              "fillmode": "overlay",
              "size": 10,
              "solidity": 0.2
             }
            },
            "type": "barpolar"
           }
          ],
          "carpet": [
           {
            "aaxis": {
             "endlinecolor": "#2a3f5f",
             "gridcolor": "#C8D4E3",
             "linecolor": "#C8D4E3",
             "minorgridcolor": "#C8D4E3",
             "startlinecolor": "#2a3f5f"
            },
            "baxis": {
             "endlinecolor": "#2a3f5f",
             "gridcolor": "#C8D4E3",
             "linecolor": "#C8D4E3",
             "minorgridcolor": "#C8D4E3",
             "startlinecolor": "#2a3f5f"
            },
            "type": "carpet"
           }
          ],
          "choropleth": [
           {
            "colorbar": {
             "outlinewidth": 0,
             "ticks": ""
            },
            "type": "choropleth"
           }
          ],
          "contour": [
           {
            "colorbar": {
             "outlinewidth": 0,
             "ticks": ""
            },
            "colorscale": [
             [
              0,
              "#0d0887"
             ],
             [
              0.1111111111111111,
              "#46039f"
             ],
             [
              0.2222222222222222,
              "#7201a8"
             ],
             [
              0.3333333333333333,
              "#9c179e"
             ],
             [
              0.4444444444444444,
              "#bd3786"
             ],
             [
              0.5555555555555556,
              "#d8576b"
             ],
             [
              0.6666666666666666,
              "#ed7953"
             ],
             [
              0.7777777777777778,
              "#fb9f3a"
             ],
             [
              0.8888888888888888,
              "#fdca26"
             ],
             [
              1,
              "#f0f921"
             ]
            ],
            "type": "contour"
           }
          ],
          "contourcarpet": [
           {
            "colorbar": {
             "outlinewidth": 0,
             "ticks": ""
            },
            "type": "contourcarpet"
           }
          ],
          "heatmap": [
           {
            "colorbar": {
             "outlinewidth": 0,
             "ticks": ""
            },
            "colorscale": [
             [
              0,
              "#0d0887"
             ],
             [
              0.1111111111111111,
              "#46039f"
             ],
             [
              0.2222222222222222,
              "#7201a8"
             ],
             [
              0.3333333333333333,
              "#9c179e"
             ],
             [
              0.4444444444444444,
              "#bd3786"
             ],
             [
              0.5555555555555556,
              "#d8576b"
             ],
             [
              0.6666666666666666,
              "#ed7953"
             ],
             [
              0.7777777777777778,
              "#fb9f3a"
             ],
             [
              0.8888888888888888,
              "#fdca26"
             ],
             [
              1,
              "#f0f921"
             ]
            ],
            "type": "heatmap"
           }
          ],
          "histogram": [
           {
            "marker": {
             "pattern": {
              "fillmode": "overlay",
              "size": 10,
              "solidity": 0.2
             }
            },
            "type": "histogram"
           }
          ],
          "histogram2d": [
           {
            "colorbar": {
             "outlinewidth": 0,
             "ticks": ""
            },
            "colorscale": [
             [
              0,
              "#0d0887"
             ],
             [
              0.1111111111111111,
              "#46039f"
             ],
             [
              0.2222222222222222,
              "#7201a8"
             ],
             [
              0.3333333333333333,
              "#9c179e"
             ],
             [
              0.4444444444444444,
              "#bd3786"
             ],
             [
              0.5555555555555556,
              "#d8576b"
             ],
             [
              0.6666666666666666,
              "#ed7953"
             ],
             [
              0.7777777777777778,
              "#fb9f3a"
             ],
             [
              0.8888888888888888,
              "#fdca26"
             ],
             [
              1,
              "#f0f921"
             ]
            ],
            "type": "histogram2d"
           }
          ],
          "histogram2dcontour": [
           {
            "colorbar": {
             "outlinewidth": 0,
             "ticks": ""
            },
            "colorscale": [
             [
              0,
              "#0d0887"
             ],
             [
              0.1111111111111111,
              "#46039f"
             ],
             [
              0.2222222222222222,
              "#7201a8"
             ],
             [
              0.3333333333333333,
              "#9c179e"
             ],
             [
              0.4444444444444444,
              "#bd3786"
             ],
             [
              0.5555555555555556,
              "#d8576b"
             ],
             [
              0.6666666666666666,
              "#ed7953"
             ],
             [
              0.7777777777777778,
              "#fb9f3a"
             ],
             [
              0.8888888888888888,
              "#fdca26"
             ],
             [
              1,
              "#f0f921"
             ]
            ],
            "type": "histogram2dcontour"
           }
          ],
          "mesh3d": [
           {
            "colorbar": {
             "outlinewidth": 0,
             "ticks": ""
            },
            "type": "mesh3d"
           }
          ],
          "parcoords": [
           {
            "line": {
             "colorbar": {
              "outlinewidth": 0,
              "ticks": ""
             }
            },
            "type": "parcoords"
           }
          ],
          "pie": [
           {
            "automargin": true,
            "type": "pie"
           }
          ],
          "scatter": [
           {
            "fillpattern": {
             "fillmode": "overlay",
             "size": 10,
             "solidity": 0.2
            },
            "type": "scatter"
           }
          ],
          "scatter3d": [
           {
            "line": {
             "colorbar": {
              "outlinewidth": 0,
              "ticks": ""
             }
            },
            "marker": {
             "colorbar": {
              "outlinewidth": 0,
              "ticks": ""
             }
            },
            "type": "scatter3d"
           }
          ],
          "scattercarpet": [
           {
            "marker": {
             "colorbar": {
              "outlinewidth": 0,
              "ticks": ""
             }
            },
            "type": "scattercarpet"
           }
          ],
          "scattergeo": [
           {
            "marker": {
             "colorbar": {
              "outlinewidth": 0,
              "ticks": ""
             }
            },
            "type": "scattergeo"
           }
          ],
          "scattergl": [
           {
            "marker": {
             "colorbar": {
              "outlinewidth": 0,
              "ticks": ""
             }
            },
            "type": "scattergl"
           }
          ],
          "scattermap": [
           {
            "marker": {
             "colorbar": {
              "outlinewidth": 0,
              "ticks": ""
             }
            },
            "type": "scattermap"
           }
          ],
          "scattermapbox": [
           {
            "marker": {
             "colorbar": {
              "outlinewidth": 0,
              "ticks": ""
             }
            },
            "type": "scattermapbox"
           }
          ],
          "scatterpolar": [
           {
            "marker": {
             "colorbar": {
              "outlinewidth": 0,
              "ticks": ""
             }
            },
            "type": "scatterpolar"
           }
          ],
          "scatterpolargl": [
           {
            "marker": {
             "colorbar": {
              "outlinewidth": 0,
              "ticks": ""
             }
            },
            "type": "scatterpolargl"
           }
          ],
          "scatterternary": [
           {
            "marker": {
             "colorbar": {
              "outlinewidth": 0,
              "ticks": ""
             }
            },
            "type": "scatterternary"
           }
          ],
          "surface": [
           {
            "colorbar": {
             "outlinewidth": 0,
             "ticks": ""
            },
            "colorscale": [
             [
              0,
              "#0d0887"
             ],
             [
              0.1111111111111111,
              "#46039f"
             ],
             [
              0.2222222222222222,
              "#7201a8"
             ],
             [
              0.3333333333333333,
              "#9c179e"
             ],
             [
              0.4444444444444444,
              "#bd3786"
             ],
             [
              0.5555555555555556,
              "#d8576b"
             ],
             [
              0.6666666666666666,
              "#ed7953"
             ],
             [
              0.7777777777777778,
              "#fb9f3a"
             ],
             [
              0.8888888888888888,
              "#fdca26"
             ],
             [
              1,
              "#f0f921"
             ]
            ],
            "type": "surface"
           }
          ],
          "table": [
           {
            "cells": {
             "fill": {
              "color": "#EBF0F8"
             },
             "line": {
              "color": "white"
             }
            },
            "header": {
             "fill": {
              "color": "#C8D4E3"
             },
             "line": {
              "color": "white"
             }
            },
            "type": "table"
           }
          ]
         },
         "layout": {
          "annotationdefaults": {
           "arrowcolor": "#2a3f5f",
           "arrowhead": 0,
           "arrowwidth": 1
          },
          "autotypenumbers": "strict",
          "coloraxis": {
           "colorbar": {
            "outlinewidth": 0,
            "ticks": ""
           }
          },
          "colorscale": {
           "diverging": [
            [
             0,
             "#8e0152"
            ],
            [
             0.1,
             "#c51b7d"
            ],
            [
             0.2,
             "#de77ae"
            ],
            [
             0.3,
             "#f1b6da"
            ],
            [
             0.4,
             "#fde0ef"
            ],
            [
             0.5,
             "#f7f7f7"
            ],
            [
             0.6,
             "#e6f5d0"
            ],
            [
             0.7,
             "#b8e186"
            ],
            [
             0.8,
             "#7fbc41"
            ],
            [
             0.9,
             "#4d9221"
            ],
            [
             1,
             "#276419"
            ]
           ],
           "sequential": [
            [
             0,
             "#0d0887"
            ],
            [
             0.1111111111111111,
             "#46039f"
            ],
            [
             0.2222222222222222,
             "#7201a8"
            ],
            [
             0.3333333333333333,
             "#9c179e"
            ],
            [
             0.4444444444444444,
             "#bd3786"
            ],
            [
             0.5555555555555556,
             "#d8576b"
            ],
            [
             0.6666666666666666,
             "#ed7953"
            ],
            [
             0.7777777777777778,
             "#fb9f3a"
            ],
            [
             0.8888888888888888,
             "#fdca26"
            ],
            [
             1,
             "#f0f921"
            ]
           ],
           "sequentialminus": [
            [
             0,
             "#0d0887"
            ],
            [
             0.1111111111111111,
             "#46039f"
            ],
            [
             0.2222222222222222,
             "#7201a8"
            ],
            [
             0.3333333333333333,
             "#9c179e"
            ],
            [
             0.4444444444444444,
             "#bd3786"
            ],
            [
             0.5555555555555556,
             "#d8576b"
            ],
            [
             0.6666666666666666,
             "#ed7953"
            ],
            [
             0.7777777777777778,
             "#fb9f3a"
            ],
            [
             0.8888888888888888,
             "#fdca26"
            ],
            [
             1,
             "#f0f921"
            ]
           ]
          },
          "colorway": [
           "#636efa",
           "#EF553B",
           "#00cc96",
           "#ab63fa",
           "#FFA15A",
           "#19d3f3",
           "#FF6692",
           "#B6E880",
           "#FF97FF",
           "#FECB52"
          ],
          "font": {
           "color": "#2a3f5f"
          },
          "geo": {
           "bgcolor": "white",
           "lakecolor": "white",
           "landcolor": "white",
           "showlakes": true,
           "showland": true,
           "subunitcolor": "#C8D4E3"
          },
          "hoverlabel": {
           "align": "left"
          },
          "hovermode": "closest",
          "mapbox": {
           "style": "light"
          },
          "paper_bgcolor": "white",
          "plot_bgcolor": "white",
          "polar": {
           "angularaxis": {
            "gridcolor": "#EBF0F8",
            "linecolor": "#EBF0F8",
            "ticks": ""
           },
           "bgcolor": "white",
           "radialaxis": {
            "gridcolor": "#EBF0F8",
            "linecolor": "#EBF0F8",
            "ticks": ""
           }
          },
          "scene": {
           "xaxis": {
            "backgroundcolor": "white",
            "gridcolor": "#DFE8F3",
            "gridwidth": 2,
            "linecolor": "#EBF0F8",
            "showbackground": true,
            "ticks": "",
            "zerolinecolor": "#EBF0F8"
           },
           "yaxis": {
            "backgroundcolor": "white",
            "gridcolor": "#DFE8F3",
            "gridwidth": 2,
            "linecolor": "#EBF0F8",
            "showbackground": true,
            "ticks": "",
            "zerolinecolor": "#EBF0F8"
           },
           "zaxis": {
            "backgroundcolor": "white",
            "gridcolor": "#DFE8F3",
            "gridwidth": 2,
            "linecolor": "#EBF0F8",
            "showbackground": true,
            "ticks": "",
            "zerolinecolor": "#EBF0F8"
           }
          },
          "shapedefaults": {
           "line": {
            "color": "#2a3f5f"
           }
          },
          "ternary": {
           "aaxis": {
            "gridcolor": "#DFE8F3",
            "linecolor": "#A2B1C6",
            "ticks": ""
           },
           "baxis": {
            "gridcolor": "#DFE8F3",
            "linecolor": "#A2B1C6",
            "ticks": ""
           },
           "bgcolor": "white",
           "caxis": {
            "gridcolor": "#DFE8F3",
            "linecolor": "#A2B1C6",
            "ticks": ""
           }
          },
          "title": {
           "x": 0.05
          },
          "xaxis": {
           "automargin": true,
           "gridcolor": "#EBF0F8",
           "linecolor": "#EBF0F8",
           "ticks": "",
           "title": {
            "standoff": 15
           },
           "zerolinecolor": "#EBF0F8",
           "zerolinewidth": 2
          },
          "yaxis": {
           "automargin": true,
           "gridcolor": "#EBF0F8",
           "linecolor": "#EBF0F8",
           "ticks": "",
           "title": {
            "standoff": 15
           },
           "zerolinecolor": "#EBF0F8",
           "zerolinewidth": 2
          }
         }
        },
        "title": {
         "text": "ACF teórica AR(2): (1 + 0.5B - 0.2B**2) X_t = Z_t "
        },
        "width": 800,
        "xaxis": {
         "title": {
          "text": "Rezago k"
         }
        },
        "yaxis": {
         "title": {
          "text": "ρ_k"
         }
        }
       }
      }
     },
     "metadata": {},
     "output_type": "display_data"
    }
   ],
   "source": [
    "phi = [-0.5,0.2]\n",
    "lags, rho = acf_ar_negative(phi, m=24)\n",
    "fig = plot_acf_stem_plotly(lags, rho,\n",
    "       title=\"ACF teórica AR(2): (1 + 0.5B - 0.2B**2) X_t = Z_t \",\n",
    "       n_for_ci=600)  # banda opcional estilo ±1.96/√N\n",
    "fig.show()"
   ]
  },
  {
   "cell_type": "markdown",
   "id": "f08536ef",
   "metadata": {},
   "source": [
    "\n",
    "\n",
    "**Cálculo en R**\n",
    "\n",
    "Código en R para obtener la FAC teórica:\n",
    "\n",
    "```r\n",
    "ARMAacf(ar = c(0.5, -0.2), lag.max = 6)\n"
   ]
  },
  {
   "cell_type": "markdown",
   "id": "9b567d35",
   "metadata": {},
   "source": [
    "---"
   ]
  },
  {
   "cell_type": "markdown",
   "id": "2fc8960d",
   "metadata": {},
   "source": [
    "**Región Admisible 2 para el procesp AR(2)**\n",
    "\n",
    "debe cumplirse:\n",
    "\n",
    "- $\\phi_1^2 + 4\\phi_2 > 0$\n",
    "- $\\phi_1 > 0$\n",
    "\n"
   ]
  },
  {
   "cell_type": "code",
   "execution_count": 95,
   "id": "a4615f4f",
   "metadata": {},
   "outputs": [
    {
     "data": {
      "application/vnd.plotly.v1+json": {
       "config": {
        "plotlyServerURL": "https://plot.ly"
       },
       "data": [
        {
         "fill": "toself",
         "fillcolor": "rgba(144, 238, 144, 0.4)",
         "line": {
          "color": "black",
          "width": 1
         },
         "mode": "lines",
         "name": "Región de Estacionariedad",
         "type": "scatter",
         "x": [
          -2,
          2,
          0,
          -2
         ],
         "y": [
          -1,
          -1,
          1,
          -1
         ]
        },
        {
         "line": {
          "color": "black",
          "dash": "dot",
          "width": 2
         },
         "mode": "lines",
         "name": "Δ=0  (φ₂ = −¼ φ₁²)",
         "type": "scatter",
         "x": {
          "bdata": "AAAAAAAAAMD4pLLSpeT/v/BJZaVLyf+/6O4XePGt/7/gk8pKl5L/v9c4fR09d/+/z90v8OJb/7/HguLCiED/v78nlZUuJf+/t8xHaNQJ/7+vcfo6eu7+v6cWrQ0g0/6/n7tf4MW3/r+WYBKza5z+v44FxYURgf6/hqp3WLdl/r9+TyorXUr+v3b03P0CL/6/bpmP0KgT/r9mPkKjTvj9v17j9HX03P2/VoinSJrB/b9NLVobQKb9v0XSDO7liv2/PXe/wItv/b81HHKTMVT9vy3BJGbXOP2/JWbXOH0d/b8dC4oLIwL9vxSwPN7I5vy/DFXvsG7L/L8E+qGDFLD8v/yeVFa6lPy/9EMHKWB5/L/s6Ln7BV78v+SNbM6rQvy/3DIfoVEn/L/U19Fz9wv8v8x8hEad8Pu/wyE3GUPV+7+7xunr6Ln7v7NrnL6Onvu/qxBPkTSD+7+jtQFk2mf7v5tatDaATPu/kv9mCSYx+7+KpBncyxX7v4JJzK5x+vq/eu5+gRff+r9ykzFUvcP6v2o45CZjqPq/Yt2W+QiN+r9agknMrnH6v1In/J5UVvq/Ssyucfo6+r9BcWFEoB/6vzkWFBdGBPq/MbvG6evo+b8pYHm8kc35vyEFLI83svm/GareYd2W+b8QT5E0g3v5vwj0QwcpYPm/AJn22c5E+b/4PamsdCn5v/DiW38aDvm/6IcOUsDy+L/gLMEkZtf4v9jRc/cLvPi/0HYmyrGg+L/IG9mcV4X4v8DAi2/9afi/t2U+QqNO+L+vCvEUSTP4v6evo+fuF/i/n1RWupT897+X+QiNOuH3v46eu1/gxfe/hkNuMoaq979+6CAFLI/3v3aN09fRc/e/bjKGqndY979m1zh9HT33v15860/DIfe/ViGeImkG979OxlD1Duv2v0ZrA8i0z/a/PhC2mlq09r82tWhtAJn2vy1aG0Cmffa/Jf/NEkxi9r8dpIDl8Ub2vxVJM7iXK/a/DO7lij0Q9r8Ek5hd4/T1v/w3SzCJ2fW/9Nz9Ai++9b/sgbDV1KL1v+QmY6h6h/W/3MsVeyBs9b/UcMhNxlD1v8wVeyBsNfW/xLot8xEa9b+8X+DFt/70v7QEk5hd4/S/rKlFawPI9L+jTvg9qaz0v5vzqhBPkfS/k5hd4/R19L+LPRC2mlr0v4LiwohAP/S/eod1W+Yj9L9yLCgujAj0v2rR2gAy7fO/YnaN09fR879aG0Cmfbbzv1LA8ngjm/O/SmWlS8l/879CClgeb2TzvzqvCvEUSfO/MlS9w7ot878q+W+WYBLzvyGeImkG9/K/GUPVO6zb8r8R6IcOUsDyvwmNOuH3pPK/ADLts52J8r/41p+GQ27yv/B7UlnpUvK/6CAFLI838r/gxbf+NBzyv9hqatHaAPK/0A8dpIDl8b/ItM92Jsrxv8BZgknMrvG/uP40HHKT8b+wo+fuF3jxv6hImsG9XPG/oO1MlGNB8b+Xkv9mCSbxv483sjmvCvG/h9xkDFXv8L9/gRff+tPwv3YmyrGguPC/bst8hEad8L9mcC9X7IHwv14V4imSZvC/VrqU/DdL8L9OX0fP3S/wv0YE+qGDFPC/fFJZ6VLy779snL6Onrvvv1zmIzTqhO+/SjCJ2TVO7786eu5+gRfvvyrEUyTN4O6/Gg65yRiq7r8KWB5vZHPuv/qhgxSwPO6/6uvoufsF7r/aNU5fR8/tv8p/swSTmO2/uMkYqt5h7b+oE35PKivtv5hd4/R19Oy/iKdImsG97L948a0/DYfsv2g7E+VYUOy/WIV4iqQZ7L9Iz90v8OLrvzYZQ9U7rOu/JmOoeod1678WrQ0g0z7rvwb3csUeCOu/9kDYamrR6r/mij0Qtprqv9bUorUBZOq/xh4IW00t6r+0aG0Amfbpv6Sy0qXkv+m/lPw3SzCJ6b+ERp3we1Lpv3SQApbHG+m/ZNpnOxPl6L9UJM3gXq7ov0RuMoaqd+i/MriXK/ZA6L8iAv3QQQrovxJMYnaN0+e/ApbHG9mc57/y3yzBJGbnv+IpkmZwL+e/0nP3C7z45r/CvVyxB8Lmv7IHwlZTi+a/oFEn/J5U5r+Qm4yh6h3mv4Dl8UY25+W/cC9X7IGw5b9gebyRzXnlv1DDITcZQ+W/QA2H3GQM5b8wV+yBsNXkvx6hUSf8nuS/Duu2zEdo5L/+NBxykzHkv+5+gRff+uO/3sjmvCrE47/OEkxido3jv75csQfCVuO/rqYWrQ0g47+c8HtSWeniv4w64feksuK/fIRGnfB74r9szqtCPEXiv1wYEeiHDuK/TGJ2jdPX4b88rNsyH6Hhvyz2QNhqauG/GkCmfbYz4b8KigsjAv3gv/rTcMhNxuC/6h3WbZmP4L/aZzsT5Vjgv8qxoLgwIuC/dPcLvPjW379Ui9YGkGnfvzQfoVEn/N6/ELNrnL6O3r/wRjbnVSHev9DaADLts92/sG7LfIRG3b+QApbHG9ncv3CWYBKza9y/UCorXUr+278wvvWn4ZDbvwxSwPJ4I9u/7OWKPRC22r/MeVWIp0jav6wNINM+29m/jKHqHdZt2b9sNbVobQDZv0zJf7MEk9i/LF1K/psl2L8I8RRJM7jXv+iE35PKSte/yBiq3mHd1r+orHQp+W/Wv4hAP3SQAta/aNQJvyeV1b9IaNQJvyfVvyj8nlRWutS/BJBpn+1M1L/kIzTqhN/Tv8S3/jQcctO/pEvJf7ME07+E35PKSpfSv2RzXhXiKdK/RAcpYHm80b8km/OqEE/RvwQvvvWn4dC/4MKIQD900L/AVlOL1gbQv0DVO6zbMs+/AP3QQQpYzr/AJGbXOH3Nv4BM+2xnosy/QHSQApbHy78AnCWYxOzKv7jDui3zEcq/eOtPwyE3yb84E+VYUFzIv/g6eu5+gce/uGIPhK2mxr94iqQZ3MvFvziyOa8K8cS/+NnORDkWxL+wAWTaZzvDv3Ap+W+WYMK/MFGOBcWFwb/weCOb86rAv2BBcWFEoL+/4JCbjKHqvb9g4MW3/jS8v+Av8OJbf7q/UH8aDrnJuL/QzkQ5FhS3v1Aeb2RzXrW/0G2Zj9Cos79QvcO6LfOxv9AM7uWKPbC/oLgwItAPrb+gV4V4iqSpv6D22c5EOaa/gJUuJf/Nor8AaQb3csWevwCnr6Pn7pe/AOVYUFwYkb8ARgT6oYOEvwAIW00tWmu/AAhbTS1aaz8ARgT6oYOEPwDlWFBcGJE/AKevo+fulz8AaQb3csWeP4CVLiX/zaI/wPbZzkQ5pj/AV4V4iqSpP8C4MCLQD60/4Azu5Yo9sD9gvcO6LfOxP+BtmY/QqLM/YB5vZHNetT/gzkQ5FhS3P2B/Gg65ybg/4C/w4lt/uj9g4MW3/jS8P+CQm4yh6r0/YEFxYUSgvz/weCOb86rAPzBRjgXFhcE/cCn5b5Zgwj+wAWTaZzvDPwDazkQ5FsQ/QLI5rwrxxD+AiqQZ3MvFP8BiD4StpsY/ADt67n6Bxz9AE+VYUFzIP4DrT8MhN8k/wMO6LfMRyj8AnCWYxOzKP0B0kAKWx8s/gEz7bGeizD/AJGbXOH3NPwD90EEKWM4/QNU7rNsyzz/AVlOL1gbQP+DCiEA/dNA/CC++9afh0D8om/OqEE/RP0gHKWB5vNE/aHNeFeIp0j+I35PKSpfSP6hLyX+zBNM/yLf+NBxy0z/oIzTqhN/TPwiQaZ/tTNQ/KPyeVFa61D9IaNQJvyfVP2jUCb8nldU/iEA/dJAC1j+orHQp+W/WP8gYqt5h3dY/6ITfk8pK1z8I8RRJM7jXPzBdSv6bJdg/UMl/swST2D9wNbVobQDZP5Ch6h3Wbdk/sA0g0z7b2T/QeVWIp0jaP/Dlij0Qtto/EFLA8ngj2z8wvvWn4ZDbP1AqK11K/ts/cJZgErNr3D+QApbHG9ncP7Buy3yERt0/0NoAMu2z3T/wRjbnVSHePxCza5y+jt4/OB+hUSf83j9Yi9YGkGnfP3j3C7z41t8/zLGguDAi4D/cZzsT5VjgP+wd1m2Zj+A//NNwyE3G4D8MigsjAv3gPxxApn22M+E/LPZA2Gpq4T88rNsyH6HhP0xido3T1+E/XBgR6IcO4j9szqtCPEXiP3yERp3we+I/jDrh96Sy4j+c8HtSWeniP7CmFq0NIOM/wFyxB8JW4z/QEkxido3jP+DI5rwqxOM/8H6BF9/64z8ANRxykzHkPxDrtsxHaOQ/IKFRJ/ye5D8wV+yBsNXkP0ANh9xkDOU/UMMhNxlD5T9gebyRzXnlP3AvV+yBsOU/gOXxRjbn5T+Qm4yh6h3mP6BRJ/yeVOY/tAfCVlOL5j/EvVyxB8LmP9Rz9wu8+OY/5CmSZnAv5z/03yzBJGbnPwSWxxvZnOc/FExido3T5z8kAv3QQQroPzS4lyv2QOg/RG4yhqp36D9UJM3gXq7oP2TaZzsT5eg/dJAClscb6T+ERp3we1LpP5T8N0swiek/pLLSpeS/6T+0aG0AmfbpP8geCFtNLeo/2NSitQFk6j/oij0QtprqP/hA2Gpq0eo/CPdyxR4I6z8YrQ0g0z7rPyhjqHqHdes/OBlD1Tus6z9Iz90v8OLrP1iFeIqkGew/aDsT5VhQ7D948a0/DYfsP4inSJrBvew/mF3j9HX07D+oE35PKivtP7jJGKreYe0/zH+zBJOY7T/cNU5fR8/tP+zr6Ln7Be4//KGDFLA87j8MWB5vZHPuPxwOuckYqu4/LMRTJM3g7j88eu5+gRfvP0wwidk1Tu8/XOYjNOqE7z9snL6OnrvvP3xSWelS8u8/RgT6oYMU8D9OX0fP3S/wP1a6lPw3S/A/XhXiKZJm8D9mcC9X7IHwP3DLfIRGnfA/eCbKsaC48D+AgRff+tPwP4jcZAxV7/A/kDeyOa8K8T+Ykv9mCSbxP6DtTJRjQfE/qEiawb1c8T+wo+fuF3jxP7j+NBxyk/E/wFmCScyu8T/ItM92JsrxP9APHaSA5fE/2Gpq0doA8j/gxbf+NBzyP+ggBSyPN/I/8ntSWelS8j/61p+GQ27yPwIy7bOdifI/Co064fek8j8S6IcOUsDyPxpD1Tus2/I/Ip4iaQb38j8q+W+WYBLzPzJUvcO6LfM/Oq8K8RRJ8z9CClgeb2TzP0plpUvJf/M/UsDyeCOb8z9aG0CmfbbzP2J2jdPX0fM/atHaADLt8z9yLCgujAj0P3yHdVvmI/Q/hOLCiEA/9D+MPRC2mlr0P5SYXeP0dfQ/nPOqEE+R9D+kTvg9qaz0P6ypRWsDyPQ/tASTmF3j9D+8X+DFt/70P8S6LfMRGvU/zBV7IGw19T/UcMhNxlD1P9zLFXsgbPU/5CZjqHqH9T/sgbDV1KL1P/Tc/QIvvvU//jdLMInZ9T8Gk5hd4/T1Pw7u5Yo9EPY/FkkzuJcr9j8epIDl8Ub2Pyb/zRJMYvY/LlobQKZ99j82tWhtAJn2Pz4QtppatPY/RmsDyLTP9j9OxlD1Duv2P1YhniJpBvc/XnzrT8Mh9z9m1zh9HT33P24yhqp3WPc/do3T19Fz9z9+6CAFLI/3P4hDbjKGqvc/kJ67X+DF9z+Y+QiNOuH3P6BUVrqU/Pc/qK+j5+4X+D+wCvEUSTP4P7hlPkKjTvg/wMCLb/1p+D/IG9mcV4X4P9B2JsqxoPg/2NFz9wu8+D/gLMEkZtf4P+iHDlLA8vg/8OJbfxoO+T/4PamsdCn5PwCZ9tnORPk/CvRDBylg+T8ST5E0g3v5Pxqq3mHdlvk/IgUsjzey+T8qYHm8kc35PzK7xunr6Pk/OhYUF0YE+j9CcWFEoB/6P0rMrnH6Ovo/Uif8nlRW+j9agknMrnH6P2LdlvkIjfo/ajjkJmOo+j9ykzFUvcP6P3rufoEX3/o/gknMrnH6+j+KpBncyxX7P5T/ZgkmMfs/nFq0NoBM+z+ktQFk2mf7P6wQT5E0g/s/tGucvo6e+z+8xunr6Ln7P8QhNxlD1fs/zHyERp3w+z/U19Fz9wv8P9wyH6FRJ/w/5I1szqtC/D/s6Ln7BV78P/RDBylgefw//J5UVrqU/D8E+qGDFLD8PwxV77Buy/w/FrA83sjm/D8eC4oLIwL9PyZm1zh9Hf0/LsEkZtc4/T82HHKTMVT9Pz53v8CLb/0/RtIM7uWK/T9OLVobQKb9P1aIp0iawf0/XuP0dfTc/T9mPkKjTvj9P26Zj9CoE/4/dvTc/QIv/j9+TyorXUr+P4aqd1i3Zf4/jgXFhRGB/j+WYBKza5z+P6C7X+DFt/4/qBatDSDT/j+wcfo6eu7+P7jMR2jUCf8/wCeVlS4l/z/IguLCiED/P9DdL/DiW/8/2Dh9HT13/z/gk8pKl5L/P+juF3jxrf8/8EllpUvJ/z/4pLLSpeT/PwAAAAAAAABA",
          "dtype": "f8"
         },
         "y": {
          "bdata": "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",
          "dtype": "f8"
         }
        },
        {
         "marker": {
          "color": "black",
          "size": 6
         },
         "mode": "markers+text",
         "showlegend": false,
         "text": [
          "(-2,1)",
          "(2,1)",
          "(0,-1)"
         ],
         "textposition": "top center",
         "type": "scatter",
         "x": [
          -2,
          2,
          0
         ],
         "y": [
          1,
          1,
          -1
         ]
        },
        {
         "marker": {
          "color": "red",
          "size": 12,
          "symbol": "circle"
         },
         "mode": "markers+text",
         "name": "punto (φ₁, φ₂)",
         "text": [
          "(0.30, 0.40)"
         ],
         "textposition": "bottom center",
         "type": "scatter",
         "x": [
          0.3
         ],
         "y": [
          0.4
         ]
        }
       ],
       "layout": {
        "annotations": [
         {
          "showarrow": false,
          "text": "Real\n(φ₁<0)",
          "x": -1,
          "y": 0.3
         },
         {
          "showarrow": false,
          "text": "Real\n(φ₁>0)",
          "x": 1,
          "y": 0.3
         },
         {
          "showarrow": false,
          "text": "Compleja\n(φ₁<0)",
          "x": -1,
          "y": -0.6
         },
         {
          "showarrow": false,
          "text": "Compleja\n(φ₁>0)",
          "x": 1,
          "y": -0.6
         }
        ],
        "height": 520,
        "showlegend": false,
        "template": {
         "data": {
          "bar": [
           {
            "error_x": {
             "color": "rgb(36,36,36)"
            },
            "error_y": {
             "color": "rgb(36,36,36)"
            },
            "marker": {
             "line": {
              "color": "white",
              "width": 0.5
             },
             "pattern": {
              "fillmode": "overlay",
              "size": 10,
              "solidity": 0.2
             }
            },
            "type": "bar"
           }
          ],
          "barpolar": [
           {
            "marker": {
             "line": {
              "color": "white",
              "width": 0.5
             },
             "pattern": {
              "fillmode": "overlay",
              "size": 10,
              "solidity": 0.2
             }
            },
            "type": "barpolar"
           }
          ],
          "carpet": [
           {
            "aaxis": {
             "endlinecolor": "rgb(36,36,36)",
             "gridcolor": "white",
             "linecolor": "white",
             "minorgridcolor": "white",
             "startlinecolor": "rgb(36,36,36)"
            },
            "baxis": {
             "endlinecolor": "rgb(36,36,36)",
             "gridcolor": "white",
             "linecolor": "white",
             "minorgridcolor": "white",
             "startlinecolor": "rgb(36,36,36)"
            },
            "type": "carpet"
           }
          ],
          "choropleth": [
           {
            "colorbar": {
             "outlinewidth": 1,
             "tickcolor": "rgb(36,36,36)",
             "ticks": "outside"
            },
            "type": "choropleth"
           }
          ],
          "contour": [
           {
            "colorbar": {
             "outlinewidth": 1,
             "tickcolor": "rgb(36,36,36)",
             "ticks": "outside"
            },
            "colorscale": [
             [
              0,
              "#440154"
             ],
             [
              0.1111111111111111,
              "#482878"
             ],
             [
              0.2222222222222222,
              "#3e4989"
             ],
             [
              0.3333333333333333,
              "#31688e"
             ],
             [
              0.4444444444444444,
              "#26828e"
             ],
             [
              0.5555555555555556,
              "#1f9e89"
             ],
             [
              0.6666666666666666,
              "#35b779"
             ],
             [
              0.7777777777777778,
              "#6ece58"
             ],
             [
              0.8888888888888888,
              "#b5de2b"
             ],
             [
              1,
              "#fde725"
             ]
            ],
            "type": "contour"
           }
          ],
          "contourcarpet": [
           {
            "colorbar": {
             "outlinewidth": 1,
             "tickcolor": "rgb(36,36,36)",
             "ticks": "outside"
            },
            "type": "contourcarpet"
           }
          ],
          "heatmap": [
           {
            "colorbar": {
             "outlinewidth": 1,
             "tickcolor": "rgb(36,36,36)",
             "ticks": "outside"
            },
            "colorscale": [
             [
              0,
              "#440154"
             ],
             [
              0.1111111111111111,
              "#482878"
             ],
             [
              0.2222222222222222,
              "#3e4989"
             ],
             [
              0.3333333333333333,
              "#31688e"
             ],
             [
              0.4444444444444444,
              "#26828e"
             ],
             [
              0.5555555555555556,
              "#1f9e89"
             ],
             [
              0.6666666666666666,
              "#35b779"
             ],
             [
              0.7777777777777778,
              "#6ece58"
             ],
             [
              0.8888888888888888,
              "#b5de2b"
             ],
             [
              1,
              "#fde725"
             ]
            ],
            "type": "heatmap"
           }
          ],
          "histogram": [
           {
            "marker": {
             "line": {
              "color": "white",
              "width": 0.6
             }
            },
            "type": "histogram"
           }
          ],
          "histogram2d": [
           {
            "colorbar": {
             "outlinewidth": 1,
             "tickcolor": "rgb(36,36,36)",
             "ticks": "outside"
            },
            "colorscale": [
             [
              0,
              "#440154"
             ],
             [
              0.1111111111111111,
              "#482878"
             ],
             [
              0.2222222222222222,
              "#3e4989"
             ],
             [
              0.3333333333333333,
              "#31688e"
             ],
             [
              0.4444444444444444,
              "#26828e"
             ],
             [
              0.5555555555555556,
              "#1f9e89"
             ],
             [
              0.6666666666666666,
              "#35b779"
             ],
             [
              0.7777777777777778,
              "#6ece58"
             ],
             [
              0.8888888888888888,
              "#b5de2b"
             ],
             [
              1,
              "#fde725"
             ]
            ],
            "type": "histogram2d"
           }
          ],
          "histogram2dcontour": [
           {
            "colorbar": {
             "outlinewidth": 1,
             "tickcolor": "rgb(36,36,36)",
             "ticks": "outside"
            },
            "colorscale": [
             [
              0,
              "#440154"
             ],
             [
              0.1111111111111111,
              "#482878"
             ],
             [
              0.2222222222222222,
              "#3e4989"
             ],
             [
              0.3333333333333333,
              "#31688e"
             ],
             [
              0.4444444444444444,
              "#26828e"
             ],
             [
              0.5555555555555556,
              "#1f9e89"
             ],
             [
              0.6666666666666666,
              "#35b779"
             ],
             [
              0.7777777777777778,
              "#6ece58"
             ],
             [
              0.8888888888888888,
              "#b5de2b"
             ],
             [
              1,
              "#fde725"
             ]
            ],
            "type": "histogram2dcontour"
           }
          ],
          "mesh3d": [
           {
            "colorbar": {
             "outlinewidth": 1,
             "tickcolor": "rgb(36,36,36)",
             "ticks": "outside"
            },
            "type": "mesh3d"
           }
          ],
          "parcoords": [
           {
            "line": {
             "colorbar": {
              "outlinewidth": 1,
              "tickcolor": "rgb(36,36,36)",
              "ticks": "outside"
             }
            },
            "type": "parcoords"
           }
          ],
          "pie": [
           {
            "automargin": true,
            "type": "pie"
           }
          ],
          "scatter": [
           {
            "fillpattern": {
             "fillmode": "overlay",
             "size": 10,
             "solidity": 0.2
            },
            "type": "scatter"
           }
          ],
          "scatter3d": [
           {
            "line": {
             "colorbar": {
              "outlinewidth": 1,
              "tickcolor": "rgb(36,36,36)",
              "ticks": "outside"
             }
            },
            "marker": {
             "colorbar": {
              "outlinewidth": 1,
              "tickcolor": "rgb(36,36,36)",
              "ticks": "outside"
             }
            },
            "type": "scatter3d"
           }
          ],
          "scattercarpet": [
           {
            "marker": {
             "colorbar": {
              "outlinewidth": 1,
              "tickcolor": "rgb(36,36,36)",
              "ticks": "outside"
             }
            },
            "type": "scattercarpet"
           }
          ],
          "scattergeo": [
           {
            "marker": {
             "colorbar": {
              "outlinewidth": 1,
              "tickcolor": "rgb(36,36,36)",
              "ticks": "outside"
             }
            },
            "type": "scattergeo"
           }
          ],
          "scattergl": [
           {
            "marker": {
             "colorbar": {
              "outlinewidth": 1,
              "tickcolor": "rgb(36,36,36)",
              "ticks": "outside"
             }
            },
            "type": "scattergl"
           }
          ],
          "scattermap": [
           {
            "marker": {
             "colorbar": {
              "outlinewidth": 1,
              "tickcolor": "rgb(36,36,36)",
              "ticks": "outside"
             }
            },
            "type": "scattermap"
           }
          ],
          "scattermapbox": [
           {
            "marker": {
             "colorbar": {
              "outlinewidth": 1,
              "tickcolor": "rgb(36,36,36)",
              "ticks": "outside"
             }
            },
            "type": "scattermapbox"
           }
          ],
          "scatterpolar": [
           {
            "marker": {
             "colorbar": {
              "outlinewidth": 1,
              "tickcolor": "rgb(36,36,36)",
              "ticks": "outside"
             }
            },
            "type": "scatterpolar"
           }
          ],
          "scatterpolargl": [
           {
            "marker": {
             "colorbar": {
              "outlinewidth": 1,
              "tickcolor": "rgb(36,36,36)",
              "ticks": "outside"
             }
            },
            "type": "scatterpolargl"
           }
          ],
          "scatterternary": [
           {
            "marker": {
             "colorbar": {
              "outlinewidth": 1,
              "tickcolor": "rgb(36,36,36)",
              "ticks": "outside"
             }
            },
            "type": "scatterternary"
           }
          ],
          "surface": [
           {
            "colorbar": {
             "outlinewidth": 1,
             "tickcolor": "rgb(36,36,36)",
             "ticks": "outside"
            },
            "colorscale": [
             [
              0,
              "#440154"
             ],
             [
              0.1111111111111111,
              "#482878"
             ],
             [
              0.2222222222222222,
              "#3e4989"
             ],
             [
              0.3333333333333333,
              "#31688e"
             ],
             [
              0.4444444444444444,
              "#26828e"
             ],
             [
              0.5555555555555556,
              "#1f9e89"
             ],
             [
              0.6666666666666666,
              "#35b779"
             ],
             [
              0.7777777777777778,
              "#6ece58"
             ],
             [
              0.8888888888888888,
              "#b5de2b"
             ],
             [
              1,
              "#fde725"
             ]
            ],
            "type": "surface"
           }
          ],
          "table": [
           {
            "cells": {
             "fill": {
              "color": "rgb(237,237,237)"
             },
             "line": {
              "color": "white"
             }
            },
            "header": {
             "fill": {
              "color": "rgb(217,217,217)"
             },
             "line": {
              "color": "white"
             }
            },
            "type": "table"
           }
          ]
         },
         "layout": {
          "annotationdefaults": {
           "arrowhead": 0,
           "arrowwidth": 1
          },
          "autotypenumbers": "strict",
          "coloraxis": {
           "colorbar": {
            "outlinewidth": 1,
            "tickcolor": "rgb(36,36,36)",
            "ticks": "outside"
           }
          },
          "colorscale": {
           "diverging": [
            [
             0,
             "rgb(103,0,31)"
            ],
            [
             0.1,
             "rgb(178,24,43)"
            ],
            [
             0.2,
             "rgb(214,96,77)"
            ],
            [
             0.3,
             "rgb(244,165,130)"
            ],
            [
             0.4,
             "rgb(253,219,199)"
            ],
            [
             0.5,
             "rgb(247,247,247)"
            ],
            [
             0.6,
             "rgb(209,229,240)"
            ],
            [
             0.7,
             "rgb(146,197,222)"
            ],
            [
             0.8,
             "rgb(67,147,195)"
            ],
            [
             0.9,
             "rgb(33,102,172)"
            ],
            [
             1,
             "rgb(5,48,97)"
            ]
           ],
           "sequential": [
            [
             0,
             "#440154"
            ],
            [
             0.1111111111111111,
             "#482878"
            ],
            [
             0.2222222222222222,
             "#3e4989"
            ],
            [
             0.3333333333333333,
             "#31688e"
            ],
            [
             0.4444444444444444,
             "#26828e"
            ],
            [
             0.5555555555555556,
             "#1f9e89"
            ],
            [
             0.6666666666666666,
             "#35b779"
            ],
            [
             0.7777777777777778,
             "#6ece58"
            ],
            [
             0.8888888888888888,
             "#b5de2b"
            ],
            [
             1,
             "#fde725"
            ]
           ],
           "sequentialminus": [
            [
             0,
             "#440154"
            ],
            [
             0.1111111111111111,
             "#482878"
            ],
            [
             0.2222222222222222,
             "#3e4989"
            ],
            [
             0.3333333333333333,
             "#31688e"
            ],
            [
             0.4444444444444444,
             "#26828e"
            ],
            [
             0.5555555555555556,
             "#1f9e89"
            ],
            [
             0.6666666666666666,
             "#35b779"
            ],
            [
             0.7777777777777778,
             "#6ece58"
            ],
            [
             0.8888888888888888,
             "#b5de2b"
            ],
            [
             1,
             "#fde725"
            ]
           ]
          },
          "colorway": [
           "#1F77B4",
           "#FF7F0E",
           "#2CA02C",
           "#D62728",
           "#9467BD",
           "#8C564B",
           "#E377C2",
           "#7F7F7F",
           "#BCBD22",
           "#17BECF"
          ],
          "font": {
           "color": "rgb(36,36,36)"
          },
          "geo": {
           "bgcolor": "white",
           "lakecolor": "white",
           "landcolor": "white",
           "showlakes": true,
           "showland": true,
           "subunitcolor": "white"
          },
          "hoverlabel": {
           "align": "left"
          },
          "hovermode": "closest",
          "mapbox": {
           "style": "light"
          },
          "paper_bgcolor": "white",
          "plot_bgcolor": "white",
          "polar": {
           "angularaxis": {
            "gridcolor": "rgb(232,232,232)",
            "linecolor": "rgb(36,36,36)",
            "showgrid": false,
            "showline": true,
            "ticks": "outside"
           },
           "bgcolor": "white",
           "radialaxis": {
            "gridcolor": "rgb(232,232,232)",
            "linecolor": "rgb(36,36,36)",
            "showgrid": false,
            "showline": true,
            "ticks": "outside"
           }
          },
          "scene": {
           "xaxis": {
            "backgroundcolor": "white",
            "gridcolor": "rgb(232,232,232)",
            "gridwidth": 2,
            "linecolor": "rgb(36,36,36)",
            "showbackground": true,
            "showgrid": false,
            "showline": true,
            "ticks": "outside",
            "zeroline": false,
            "zerolinecolor": "rgb(36,36,36)"
           },
           "yaxis": {
            "backgroundcolor": "white",
            "gridcolor": "rgb(232,232,232)",
            "gridwidth": 2,
            "linecolor": "rgb(36,36,36)",
            "showbackground": true,
            "showgrid": false,
            "showline": true,
            "ticks": "outside",
            "zeroline": false,
            "zerolinecolor": "rgb(36,36,36)"
           },
           "zaxis": {
            "backgroundcolor": "white",
            "gridcolor": "rgb(232,232,232)",
            "gridwidth": 2,
            "linecolor": "rgb(36,36,36)",
            "showbackground": true,
            "showgrid": false,
            "showline": true,
            "ticks": "outside",
            "zeroline": false,
            "zerolinecolor": "rgb(36,36,36)"
           }
          },
          "shapedefaults": {
           "fillcolor": "black",
           "line": {
            "width": 0
           },
           "opacity": 0.3
          },
          "ternary": {
           "aaxis": {
            "gridcolor": "rgb(232,232,232)",
            "linecolor": "rgb(36,36,36)",
            "showgrid": false,
            "showline": true,
            "ticks": "outside"
           },
           "baxis": {
            "gridcolor": "rgb(232,232,232)",
            "linecolor": "rgb(36,36,36)",
            "showgrid": false,
            "showline": true,
            "ticks": "outside"
           },
           "bgcolor": "white",
           "caxis": {
            "gridcolor": "rgb(232,232,232)",
            "linecolor": "rgb(36,36,36)",
            "showgrid": false,
            "showline": true,
            "ticks": "outside"
           }
          },
          "title": {
           "x": 0.05
          },
          "xaxis": {
           "automargin": true,
           "gridcolor": "rgb(232,232,232)",
           "linecolor": "rgb(36,36,36)",
           "showgrid": false,
           "showline": true,
           "ticks": "outside",
           "title": {
            "standoff": 15
           },
           "zeroline": false,
           "zerolinecolor": "rgb(36,36,36)"
          },
          "yaxis": {
           "automargin": true,
           "gridcolor": "rgb(232,232,232)",
           "linecolor": "rgb(36,36,36)",
           "showgrid": false,
           "showline": true,
           "ticks": "outside",
           "title": {
            "standoff": 15
           },
           "zeroline": false,
           "zerolinecolor": "rgb(36,36,36)"
          }
         }
        },
        "title": {
         "text": "AR(2)<br> Triángulo de estacionariedad + parábola del discriminante<br>Punto en Región 2"
        },
        "width": 700,
        "xaxis": {
         "range": [
          -2.2,
          2.2
         ],
         "title": {
          "text": "φ₁"
         },
         "zeroline": true
        },
        "yaxis": {
         "range": [
          -1.3,
          1.3
         ],
         "title": {
          "text": "φ₂"
         },
         "zeroline": false
        }
       }
      }
     },
     "metadata": {},
     "output_type": "display_data"
    },
    {
     "data": {
      "application/vnd.plotly.v1+json": {
       "config": {
        "plotlyServerURL": "https://plot.ly"
       },
       "data": [
        {
         "fill": "toself",
         "fillcolor": "lightgreen",
         "line": {
          "color": "lightgreen"
         },
         "mode": "lines",
         "opacity": 0.35,
         "showlegend": false,
         "type": "scatter",
         "x": {
          "bdata": "/gIA/g==",
          "dtype": "i1"
         },
         "xaxis": "x",
         "y": {
          "bdata": "//8B/w==",
          "dtype": "i1"
         },
         "yaxis": "y"
        },
        {
         "marker": {
          "size": 10
         },
         "mode": "markers",
         "name": "(0.30,0.40)",
         "type": "scatter",
         "x": [
          0.3
         ],
         "xaxis": "x",
         "y": [
          0.4
         ],
         "yaxis": "y"
        },
        {
         "line": {
          "width": 2
         },
         "mode": "lines",
         "showlegend": false,
         "type": "scatter",
         "x": [
          0,
          0,
          null,
          1,
          1,
          null,
          2,
          2,
          null,
          3,
          3,
          null,
          4,
          4,
          null,
          5,
          5,
          null,
          6,
          6,
          null,
          7,
          7,
          null,
          8,
          8,
          null,
          9,
          9,
          null,
          10,
          10,
          null,
          11,
          11,
          null,
          12,
          12,
          null,
          13,
          13,
          null,
          14,
          14,
          null,
          15,
          15,
          null,
          16,
          16,
          null,
          17,
          17,
          null,
          18,
          18,
          null,
          19,
          19,
          null,
          20,
          20,
          null
         ],
         "xaxis": "x2",
         "y": [
          0,
          1,
          null,
          0,
          0.5000000000000001,
          null,
          0,
          0.55,
          null,
          0,
          0.36500000000000005,
          null,
          0,
          0.32949999999999996,
          null,
          0,
          0.24485000000000004,
          null,
          0,
          0.20525500000000002,
          null,
          0,
          0.15951650000000003,
          null,
          0,
          0.12995695000000004,
          null,
          0,
          0.10279368500000002,
          null,
          0,
          0.0828208855,
          null,
          0,
          0.06596373965,
          null,
          0,
          0.05291747609500001,
          null,
          0,
          0.0422607386885,
          null,
          0,
          0.03384521204455001,
          null,
          0,
          0.027057859088765002,
          null,
          0,
          0.021655442544449507,
          null,
          0,
          0.017319776398840855,
          null,
          0,
          0.01385810993743206,
          null,
          0,
          0.011085343540765959,
          null,
          0,
          0.008868847037202612,
          null
         ],
         "yaxis": "y2"
        },
        {
         "marker": {
          "size": 7
         },
         "mode": "markers",
         "showlegend": false,
         "type": "scatter",
         "x": {
          "bdata": "AAECAwQFBgcICQoLDA0ODxAREhMU",
          "dtype": "i1"
         },
         "xaxis": "x2",
         "y": {
          "bdata": "AAAAAAAA8D8BAAAAAADgP5qZmZmZmeE/XY/C9Shc1z9JDAIrhxbVPxF6Nqs+V88/2pQrvMtFyj+vEFZjCWvEP/OmEeltosA/hHFP269Quj9o9KXivzO1P4fDhOj/4rA/pgVu2v8Xqz9Q0SQVM6OlP9sNt90oVKE/XUmLLw61mz9/Bwkm2CyWP/8F1IRGvJE/MqO5B6RhjD/Btcef6bOGP8730n/UKYI/",
          "dtype": "f8"
         },
         "yaxis": "y2"
        },
        {
         "line": {
          "width": 2
         },
         "mode": "lines",
         "showlegend": false,
         "type": "scatter",
         "x": [
          0,
          0,
          null,
          1,
          1,
          null,
          2,
          2,
          null,
          3,
          3,
          null,
          4,
          4,
          null,
          5,
          5,
          null,
          6,
          6,
          null,
          7,
          7,
          null,
          8,
          8,
          null,
          9,
          9,
          null,
          10,
          10,
          null,
          11,
          11,
          null,
          12,
          12,
          null,
          13,
          13,
          null,
          14,
          14,
          null,
          15,
          15,
          null,
          16,
          16,
          null,
          17,
          17,
          null,
          18,
          18,
          null,
          19,
          19,
          null,
          20,
          20,
          null
         ],
         "xaxis": "x3",
         "y": [
          0,
          1,
          null,
          0,
          0.5000000000000001,
          null,
          0,
          0.39999999999999997,
          null,
          0,
          -8.811293846231401e-17,
          null,
          0,
          -8.811293846231401e-17,
          null,
          0,
          1.3216940769347102e-16,
          null,
          0,
          1.3216940769347102e-16,
          null,
          0,
          -8.811293846231401e-17,
          null,
          0,
          0,
          null,
          0,
          -2.2028234615578502e-17,
          null,
          0,
          -4.4056469231157003e-17,
          null,
          0,
          2.2028234615578502e-17,
          null,
          0,
          2.2028234615578502e-17,
          null,
          0,
          -2.2028234615578502e-17,
          null,
          0,
          1.1014117307789251e-17,
          null,
          0,
          0,
          null,
          0,
          0,
          null,
          0,
          0,
          null,
          0,
          -2.7535293269473127e-18,
          null,
          0,
          0,
          null,
          0,
          2.7535293269473127e-18,
          null
         ],
         "yaxis": "y3"
        },
        {
         "marker": {
          "size": 7
         },
         "mode": "markers",
         "showlegend": false,
         "type": "scatter",
         "x": {
          "bdata": "AAECAwQFBgcICQoLDA0ODxAREhMU",
          "dtype": "i1"
         },
         "xaxis": "x3",
         "y": {
          "bdata": "AAAAAAAA8D8BAAAAAADgP5mZmZmZmdk/WZZlWZZlmbxZlmVZlmWZvMMwDMMwDKM8wzAMwzAMozxZlmVZlmWZvAAAAAAAAAAAWZZlWZZlebxZlmVZlmWJvFmWZVmWZXk8WZZlWZZleTxZlmVZlmV5vFmWZVmWZWk8AAAAAAAAAAAAAAAAAAAAAAAAAAAAAAAAWZZlWZZlSbwAAAAAAAAAAFmWZVmWZUk8",
          "dtype": "f8"
         },
         "yaxis": "y3"
        }
       ],
       "layout": {
        "annotations": [
         {
          "font": {
           "size": 16
          },
          "showarrow": false,
          "text": "Región admisible AR(2)",
          "x": 0.14444444444444446,
          "xanchor": "center",
          "xref": "paper",
          "y": 1,
          "yanchor": "bottom",
          "yref": "paper"
         },
         {
          "font": {
           "size": 16
          },
          "showarrow": false,
          "text": "FAC (ρₖ) teórica",
          "x": 0.5,
          "xanchor": "center",
          "xref": "paper",
          "y": 1,
          "yanchor": "bottom",
          "yref": "paper"
         },
         {
          "font": {
           "size": 16
          },
          "showarrow": false,
          "text": "FACP (φₖ) teórica",
          "x": 0.8555555555555556,
          "xanchor": "center",
          "xref": "paper",
          "y": 1,
          "yanchor": "bottom",
          "yref": "paper"
         }
        ],
        "height": 380,
        "shapes": [
         {
          "line": {
           "color": "gray"
          },
          "type": "line",
          "x0": 0,
          "x1": 1,
          "xref": "x domain",
          "y0": 0,
          "y1": 0,
          "yref": "y"
         },
         {
          "line": {
           "color": "gray"
          },
          "type": "line",
          "x0": 0,
          "x1": 0,
          "xref": "x",
          "y0": 0,
          "y1": 1,
          "yref": "y domain"
         },
         {
          "line": {
           "color": "gray",
           "dash": "dot"
          },
          "type": "line",
          "x0": 0,
          "x1": 1,
          "xref": "x2 domain",
          "y0": 0,
          "y1": 0,
          "yref": "y2"
         },
         {
          "line": {
           "color": "gray",
           "dash": "dot"
          },
          "type": "line",
          "x0": 0,
          "x1": 1,
          "xref": "x3 domain",
          "y0": 0,
          "y1": 0,
          "yref": "y3"
         }
        ],
        "template": {
         "data": {
          "bar": [
           {
            "error_x": {
             "color": "#2a3f5f"
            },
            "error_y": {
             "color": "#2a3f5f"
            },
            "marker": {
             "line": {
              "color": "white",
              "width": 0.5
             },
             "pattern": {
              "fillmode": "overlay",
              "size": 10,
              "solidity": 0.2
             }
            },
            "type": "bar"
           }
          ],
          "barpolar": [
           {
            "marker": {
             "line": {
              "color": "white",
              "width": 0.5
             },
             "pattern": {
              "fillmode": "overlay",
              "size": 10,
              "solidity": 0.2
             }
            },
            "type": "barpolar"
           }
          ],
          "carpet": [
           {
            "aaxis": {
             "endlinecolor": "#2a3f5f",
             "gridcolor": "#C8D4E3",
             "linecolor": "#C8D4E3",
             "minorgridcolor": "#C8D4E3",
             "startlinecolor": "#2a3f5f"
            },
            "baxis": {
             "endlinecolor": "#2a3f5f",
             "gridcolor": "#C8D4E3",
             "linecolor": "#C8D4E3",
             "minorgridcolor": "#C8D4E3",
             "startlinecolor": "#2a3f5f"
            },
            "type": "carpet"
           }
          ],
          "choropleth": [
           {
            "colorbar": {
             "outlinewidth": 0,
             "ticks": ""
            },
            "type": "choropleth"
           }
          ],
          "contour": [
           {
            "colorbar": {
             "outlinewidth": 0,
             "ticks": ""
            },
            "colorscale": [
             [
              0,
              "#0d0887"
             ],
             [
              0.1111111111111111,
              "#46039f"
             ],
             [
              0.2222222222222222,
              "#7201a8"
             ],
             [
              0.3333333333333333,
              "#9c179e"
             ],
             [
              0.4444444444444444,
              "#bd3786"
             ],
             [
              0.5555555555555556,
              "#d8576b"
             ],
             [
              0.6666666666666666,
              "#ed7953"
             ],
             [
              0.7777777777777778,
              "#fb9f3a"
             ],
             [
              0.8888888888888888,
              "#fdca26"
             ],
             [
              1,
              "#f0f921"
             ]
            ],
            "type": "contour"
           }
          ],
          "contourcarpet": [
           {
            "colorbar": {
             "outlinewidth": 0,
             "ticks": ""
            },
            "type": "contourcarpet"
           }
          ],
          "heatmap": [
           {
            "colorbar": {
             "outlinewidth": 0,
             "ticks": ""
            },
            "colorscale": [
             [
              0,
              "#0d0887"
             ],
             [
              0.1111111111111111,
              "#46039f"
             ],
             [
              0.2222222222222222,
              "#7201a8"
             ],
             [
              0.3333333333333333,
              "#9c179e"
             ],
             [
              0.4444444444444444,
              "#bd3786"
             ],
             [
              0.5555555555555556,
              "#d8576b"
             ],
             [
              0.6666666666666666,
              "#ed7953"
             ],
             [
              0.7777777777777778,
              "#fb9f3a"
             ],
             [
              0.8888888888888888,
              "#fdca26"
             ],
             [
              1,
              "#f0f921"
             ]
            ],
            "type": "heatmap"
           }
          ],
          "histogram": [
           {
            "marker": {
             "pattern": {
              "fillmode": "overlay",
              "size": 10,
              "solidity": 0.2
             }
            },
            "type": "histogram"
           }
          ],
          "histogram2d": [
           {
            "colorbar": {
             "outlinewidth": 0,
             "ticks": ""
            },
            "colorscale": [
             [
              0,
              "#0d0887"
             ],
             [
              0.1111111111111111,
              "#46039f"
             ],
             [
              0.2222222222222222,
              "#7201a8"
             ],
             [
              0.3333333333333333,
              "#9c179e"
             ],
             [
              0.4444444444444444,
              "#bd3786"
             ],
             [
              0.5555555555555556,
              "#d8576b"
             ],
             [
              0.6666666666666666,
              "#ed7953"
             ],
             [
              0.7777777777777778,
              "#fb9f3a"
             ],
             [
              0.8888888888888888,
              "#fdca26"
             ],
             [
              1,
              "#f0f921"
             ]
            ],
            "type": "histogram2d"
           }
          ],
          "histogram2dcontour": [
           {
            "colorbar": {
             "outlinewidth": 0,
             "ticks": ""
            },
            "colorscale": [
             [
              0,
              "#0d0887"
             ],
             [
              0.1111111111111111,
              "#46039f"
             ],
             [
              0.2222222222222222,
              "#7201a8"
             ],
             [
              0.3333333333333333,
              "#9c179e"
             ],
             [
              0.4444444444444444,
              "#bd3786"
             ],
             [
              0.5555555555555556,
              "#d8576b"
             ],
             [
              0.6666666666666666,
              "#ed7953"
             ],
             [
              0.7777777777777778,
              "#fb9f3a"
             ],
             [
              0.8888888888888888,
              "#fdca26"
             ],
             [
              1,
              "#f0f921"
             ]
            ],
            "type": "histogram2dcontour"
           }
          ],
          "mesh3d": [
           {
            "colorbar": {
             "outlinewidth": 0,
             "ticks": ""
            },
            "type": "mesh3d"
           }
          ],
          "parcoords": [
           {
            "line": {
             "colorbar": {
              "outlinewidth": 0,
              "ticks": ""
             }
            },
            "type": "parcoords"
           }
          ],
          "pie": [
           {
            "automargin": true,
            "type": "pie"
           }
          ],
          "scatter": [
           {
            "fillpattern": {
             "fillmode": "overlay",
             "size": 10,
             "solidity": 0.2
            },
            "type": "scatter"
           }
          ],
          "scatter3d": [
           {
            "line": {
             "colorbar": {
              "outlinewidth": 0,
              "ticks": ""
             }
            },
            "marker": {
             "colorbar": {
              "outlinewidth": 0,
              "ticks": ""
             }
            },
            "type": "scatter3d"
           }
          ],
          "scattercarpet": [
           {
            "marker": {
             "colorbar": {
              "outlinewidth": 0,
              "ticks": ""
             }
            },
            "type": "scattercarpet"
           }
          ],
          "scattergeo": [
           {
            "marker": {
             "colorbar": {
              "outlinewidth": 0,
              "ticks": ""
             }
            },
            "type": "scattergeo"
           }
          ],
          "scattergl": [
           {
            "marker": {
             "colorbar": {
              "outlinewidth": 0,
              "ticks": ""
             }
            },
            "type": "scattergl"
           }
          ],
          "scattermap": [
           {
            "marker": {
             "colorbar": {
              "outlinewidth": 0,
              "ticks": ""
             }
            },
            "type": "scattermap"
           }
          ],
          "scattermapbox": [
           {
            "marker": {
             "colorbar": {
              "outlinewidth": 0,
              "ticks": ""
             }
            },
            "type": "scattermapbox"
           }
          ],
          "scatterpolar": [
           {
            "marker": {
             "colorbar": {
              "outlinewidth": 0,
              "ticks": ""
             }
            },
            "type": "scatterpolar"
           }
          ],
          "scatterpolargl": [
           {
            "marker": {
             "colorbar": {
              "outlinewidth": 0,
              "ticks": ""
             }
            },
            "type": "scatterpolargl"
           }
          ],
          "scatterternary": [
           {
            "marker": {
             "colorbar": {
              "outlinewidth": 0,
              "ticks": ""
             }
            },
            "type": "scatterternary"
           }
          ],
          "surface": [
           {
            "colorbar": {
             "outlinewidth": 0,
             "ticks": ""
            },
            "colorscale": [
             [
              0,
              "#0d0887"
             ],
             [
              0.1111111111111111,
              "#46039f"
             ],
             [
              0.2222222222222222,
              "#7201a8"
             ],
             [
              0.3333333333333333,
              "#9c179e"
             ],
             [
              0.4444444444444444,
              "#bd3786"
             ],
             [
              0.5555555555555556,
              "#d8576b"
             ],
             [
              0.6666666666666666,
              "#ed7953"
             ],
             [
              0.7777777777777778,
              "#fb9f3a"
             ],
             [
              0.8888888888888888,
              "#fdca26"
             ],
             [
              1,
              "#f0f921"
             ]
            ],
            "type": "surface"
           }
          ],
          "table": [
           {
            "cells": {
             "fill": {
              "color": "#EBF0F8"
             },
             "line": {
              "color": "white"
             }
            },
            "header": {
             "fill": {
              "color": "#C8D4E3"
             },
             "line": {
              "color": "white"
             }
            },
            "type": "table"
           }
          ]
         },
         "layout": {
          "annotationdefaults": {
           "arrowcolor": "#2a3f5f",
           "arrowhead": 0,
           "arrowwidth": 1
          },
          "autotypenumbers": "strict",
          "coloraxis": {
           "colorbar": {
            "outlinewidth": 0,
            "ticks": ""
           }
          },
          "colorscale": {
           "diverging": [
            [
             0,
             "#8e0152"
            ],
            [
             0.1,
             "#c51b7d"
            ],
            [
             0.2,
             "#de77ae"
            ],
            [
             0.3,
             "#f1b6da"
            ],
            [
             0.4,
             "#fde0ef"
            ],
            [
             0.5,
             "#f7f7f7"
            ],
            [
             0.6,
             "#e6f5d0"
            ],
            [
             0.7,
             "#b8e186"
            ],
            [
             0.8,
             "#7fbc41"
            ],
            [
             0.9,
             "#4d9221"
            ],
            [
             1,
             "#276419"
            ]
           ],
           "sequential": [
            [
             0,
             "#0d0887"
            ],
            [
             0.1111111111111111,
             "#46039f"
            ],
            [
             0.2222222222222222,
             "#7201a8"
            ],
            [
             0.3333333333333333,
             "#9c179e"
            ],
            [
             0.4444444444444444,
             "#bd3786"
            ],
            [
             0.5555555555555556,
             "#d8576b"
            ],
            [
             0.6666666666666666,
             "#ed7953"
            ],
            [
             0.7777777777777778,
             "#fb9f3a"
            ],
            [
             0.8888888888888888,
             "#fdca26"
            ],
            [
             1,
             "#f0f921"
            ]
           ],
           "sequentialminus": [
            [
             0,
             "#0d0887"
            ],
            [
             0.1111111111111111,
             "#46039f"
            ],
            [
             0.2222222222222222,
             "#7201a8"
            ],
            [
             0.3333333333333333,
             "#9c179e"
            ],
            [
             0.4444444444444444,
             "#bd3786"
            ],
            [
             0.5555555555555556,
             "#d8576b"
            ],
            [
             0.6666666666666666,
             "#ed7953"
            ],
            [
             0.7777777777777778,
             "#fb9f3a"
            ],
            [
             0.8888888888888888,
             "#fdca26"
            ],
            [
             1,
             "#f0f921"
            ]
           ]
          },
          "colorway": [
           "#636efa",
           "#EF553B",
           "#00cc96",
           "#ab63fa",
           "#FFA15A",
           "#19d3f3",
           "#FF6692",
           "#B6E880",
           "#FF97FF",
           "#FECB52"
          ],
          "font": {
           "color": "#2a3f5f"
          },
          "geo": {
           "bgcolor": "white",
           "lakecolor": "white",
           "landcolor": "white",
           "showlakes": true,
           "showland": true,
           "subunitcolor": "#C8D4E3"
          },
          "hoverlabel": {
           "align": "left"
          },
          "hovermode": "closest",
          "mapbox": {
           "style": "light"
          },
          "paper_bgcolor": "white",
          "plot_bgcolor": "white",
          "polar": {
           "angularaxis": {
            "gridcolor": "#EBF0F8",
            "linecolor": "#EBF0F8",
            "ticks": ""
           },
           "bgcolor": "white",
           "radialaxis": {
            "gridcolor": "#EBF0F8",
            "linecolor": "#EBF0F8",
            "ticks": ""
           }
          },
          "scene": {
           "xaxis": {
            "backgroundcolor": "white",
            "gridcolor": "#DFE8F3",
            "gridwidth": 2,
            "linecolor": "#EBF0F8",
            "showbackground": true,
            "ticks": "",
            "zerolinecolor": "#EBF0F8"
           },
           "yaxis": {
            "backgroundcolor": "white",
            "gridcolor": "#DFE8F3",
            "gridwidth": 2,
            "linecolor": "#EBF0F8",
            "showbackground": true,
            "ticks": "",
            "zerolinecolor": "#EBF0F8"
           },
           "zaxis": {
            "backgroundcolor": "white",
            "gridcolor": "#DFE8F3",
            "gridwidth": 2,
            "linecolor": "#EBF0F8",
            "showbackground": true,
            "ticks": "",
            "zerolinecolor": "#EBF0F8"
           }
          },
          "shapedefaults": {
           "line": {
            "color": "#2a3f5f"
           }
          },
          "ternary": {
           "aaxis": {
            "gridcolor": "#DFE8F3",
            "linecolor": "#A2B1C6",
            "ticks": ""
           },
           "baxis": {
            "gridcolor": "#DFE8F3",
            "linecolor": "#A2B1C6",
            "ticks": ""
           },
           "bgcolor": "white",
           "caxis": {
            "gridcolor": "#DFE8F3",
            "linecolor": "#A2B1C6",
            "ticks": ""
           }
          },
          "title": {
           "x": 0.05
          },
          "xaxis": {
           "automargin": true,
           "gridcolor": "#EBF0F8",
           "linecolor": "#EBF0F8",
           "ticks": "",
           "title": {
            "standoff": 15
           },
           "zerolinecolor": "#EBF0F8",
           "zerolinewidth": 2
          },
          "yaxis": {
           "automargin": true,
           "gridcolor": "#EBF0F8",
           "linecolor": "#EBF0F8",
           "ticks": "",
           "title": {
            "standoff": 15
           },
           "zerolinecolor": "#EBF0F8",
           "zerolinewidth": 2
          }
         }
        },
        "title": {
         "text": "AR(2) (1 - φ₁B - φ₂B²)Xₜ = Zₜ — punto ✔ dentro de la región"
        },
        "width": 1150,
        "xaxis": {
         "anchor": "y",
         "domain": [
          0,
          0.2888888888888889
         ],
         "range": [
          -2.2,
          2.2
         ],
         "title": {
          "text": "φ₁"
         }
        },
        "xaxis2": {
         "anchor": "y2",
         "domain": [
          0.35555555555555557,
          0.6444444444444445
         ],
         "title": {
          "text": "k"
         }
        },
        "xaxis3": {
         "anchor": "y3",
         "domain": [
          0.7111111111111111,
          1
         ],
         "title": {
          "text": "k"
         }
        },
        "yaxis": {
         "anchor": "x",
         "domain": [
          0,
          1
         ],
         "range": [
          -1.2,
          1.2
         ],
         "title": {
          "text": "φ₂"
         }
        },
        "yaxis2": {
         "anchor": "x2",
         "domain": [
          0,
          1
         ],
         "range": [
          -1,
          1
         ],
         "title": {
          "text": "ρₖ"
         }
        },
        "yaxis3": {
         "anchor": "x3",
         "domain": [
          0,
          1
         ],
         "range": [
          -1,
          1
         ],
         "title": {
          "text": "φₖ (PACF)"
         }
        }
       }
      }
     },
     "metadata": {},
     "output_type": "display_data"
    }
   ],
   "source": [
    "phi1 = 0.3\n",
    "phi2 = 0.4\n",
    "\n",
    "fig = ar2_region_quad(phi1_point=phi1, phi2_point=phi2)\n",
    "fig.show() \n",
    "fig = panel_ar2(phi1=phi1, phi2=phi2, m=20)\n",
    "fig.show()"
   ]
  },
  {
   "cell_type": "markdown",
   "id": "ffd36b0c",
   "metadata": {},
   "source": [
    "\n",
    "\n",
    "**Modelo AR(2)**\n",
    "\n",
    "$$\n",
    "(1 - \\phi_1 B - \\phi_2 B^2) W_t = a_t\n",
    "$$\n",
    "\n",
    "Gráficamente, se representa el triángulo de estacionariedad en el plano $(\\phi_1, \\phi_2)$, con sombreado en la región donde el modelo es estacionario. En este caso, el punto analizado está dentro de la región azul.\n",
    "\n",
    "\n",
    "\n",
    "**FAC teórica**\n",
    "\n",
    "La función de autocorrelación (FAC) muestra un comportamiento exponencial decreciente, con posible alternancia de signos. Esto es característico cuando:\n",
    "\n",
    "- $\\phi_1^2 + 4\\phi_2 \\geq 0$\n",
    "\n",
    "\n",
    "\n",
    "**Interpretación teórica**\n",
    "\n",
    "> Si $\\phi_1^2 + 4\\phi_2 \\geq 0$, entonces las raíces de la ecuación característica son reales y las autocorrelaciones decaen exponencialmente a cero.  \n",
    "> En este caso, todas las autocorrelaciones serán positivas si la primera lo es, y tendrán signos alternados si la primera autocorrelación es negativa.\n",
    "\n",
    "\n"
   ]
  },
  {
   "cell_type": "markdown",
   "id": "9664d763",
   "metadata": {},
   "source": [
    "\n",
    "**Ejemplo de FAC teórica del proceso AR(2):**\n",
    "\n",
    "Dado el proceso:\n",
    "\n",
    "$$\n",
    "(1 - 0.3B - 0.4B^2)X_t = Z_t, \\quad Z_t \\sim WN(0, \\sigma_Z^2)\n",
    "$$\n",
    "\n",
    "**Comprobación de raíces reales:**\n",
    "\n",
    "$$\n",
    "\\phi_1^2 + 4\\phi_2 = (0.3)^2 + 4(0.4) = 0.09 + 1.6 = 1.69 > 0\n",
    "$$\n",
    "\n",
    "**Cálculo de raíces:**\n",
    "\n",
    "1. Primera raíz:\n",
    "\n",
    "$$\n",
    "\\rho_1 = \\frac{\\phi_1}{1 - \\phi_2} = \\frac{0.3}{1 - 0.4} = \\frac{0.3}{0.6} = 0.5\n",
    "$$\n",
    "\n",
    "2. Segunda raíz:\n",
    "\n",
    "$$\n",
    "\\rho_2 = \\phi_2 + \\frac{\\phi_1^2}{1 - \\phi_2} = 0.4 + \\frac{(0.3)^2}{0.6} = 0.4 + \\frac{0.09}{0.6} = 0.4 + 0.15 = 0.55\n",
    "$$\n"
   ]
  },
  {
   "cell_type": "code",
   "execution_count": 99,
   "id": "1f71ab7c",
   "metadata": {},
   "outputs": [
    {
     "data": {
      "application/vnd.plotly.v1+json": {
       "config": {
        "plotlyServerURL": "https://plot.ly"
       },
       "data": [
        {
         "line": {
          "width": 2
         },
         "mode": "lines",
         "name": "líneas",
         "type": "scatter",
         "x": [
          0,
          0,
          null,
          1,
          1,
          null,
          2,
          2,
          null,
          3,
          3,
          null,
          4,
          4,
          null,
          5,
          5,
          null,
          6,
          6,
          null,
          7,
          7,
          null,
          8,
          8,
          null,
          9,
          9,
          null,
          10,
          10,
          null,
          11,
          11,
          null,
          12,
          12,
          null,
          13,
          13,
          null,
          14,
          14,
          null,
          15,
          15,
          null,
          16,
          16,
          null,
          17,
          17,
          null,
          18,
          18,
          null,
          19,
          19,
          null,
          20,
          20,
          null,
          21,
          21,
          null,
          22,
          22,
          null,
          23,
          23,
          null,
          24,
          24,
          null
         ],
         "y": [
          0,
          1,
          null,
          0,
          0.5000000000000001,
          null,
          0,
          0.55,
          null,
          0,
          0.36500000000000005,
          null,
          0,
          0.32949999999999996,
          null,
          0,
          0.24485000000000004,
          null,
          0,
          0.20525500000000002,
          null,
          0,
          0.15951650000000003,
          null,
          0,
          0.12995695000000004,
          null,
          0,
          0.10279368500000002,
          null,
          0,
          0.0828208855,
          null,
          0,
          0.06596373965,
          null,
          0,
          0.05291747609500001,
          null,
          0,
          0.0422607386885,
          null,
          0,
          0.03384521204455001,
          null,
          0,
          0.027057859088765002,
          null,
          0,
          0.021655442544449507,
          null,
          0,
          0.017319776398840855,
          null,
          0,
          0.01385810993743206,
          null,
          0,
          0.011085343540765959,
          null,
          0,
          0.008868847037202612,
          null,
          0,
          0.007094791527467167,
          null,
          0,
          0.005675976273121195,
          null,
          0,
          0.004540709492923226,
          null,
          0,
          0.003632603357125446,
          null
         ]
        },
        {
         "marker": {
          "size": 7
         },
         "mode": "markers",
         "name": "ρ_k",
         "type": "scatter",
         "x": {
          "bdata": "AAECAwQFBgcICQoLDA0ODxAREhMUFRYXGA==",
          "dtype": "i1"
         },
         "y": {
          "bdata": "AAAAAAAA8D8BAAAAAADgP5qZmZmZmeE/XY/C9Shc1z9JDAIrhxbVPxF6Nqs+V88/2pQrvMtFyj+vEFZjCWvEP/OmEeltosA/hHFP269Quj9o9KXivzO1P4fDhOj/4rA/pgVu2v8Xqz9Q0SQVM6OlP9sNt90oVKE/XUmLLw61mz9/Bwkm2CyWP/8F1IRGvJE/MqO5B6RhjD/Btcef6bOGP8730n/UKYI/fIxRmW0PfT9kcHRHsT93P7cmXWxHmXI/8T3IEx/CbT8=",
          "dtype": "f8"
         }
        }
       ],
       "layout": {
        "annotations": [
         {
          "showarrow": false,
          "text": "±0.080",
          "x": 0,
          "xanchor": "left",
          "xref": "x domain",
          "y": 0.08001666493091715,
          "yanchor": "top",
          "yref": "y"
         }
        ],
        "height": 380,
        "shapes": [
         {
          "line": {
           "color": "gray",
           "dash": "dot",
           "width": 1
          },
          "type": "line",
          "x0": 0,
          "x1": 1,
          "xref": "x domain",
          "y0": 0,
          "y1": 0,
          "yref": "y"
         },
         {
          "fillcolor": "lightgray",
          "line": {
           "width": 0
          },
          "opacity": 0.25,
          "type": "rect",
          "x0": 0,
          "x1": 1,
          "xref": "x domain",
          "y0": -0.08001666493091715,
          "y1": 0.08001666493091715,
          "yref": "y"
         }
        ],
        "template": {
         "data": {
          "bar": [
           {
            "error_x": {
             "color": "#2a3f5f"
            },
            "error_y": {
             "color": "#2a3f5f"
            },
            "marker": {
             "line": {
              "color": "white",
              "width": 0.5
             },
             "pattern": {
              "fillmode": "overlay",
              "size": 10,
              "solidity": 0.2
             }
            },
            "type": "bar"
           }
          ],
          "barpolar": [
           {
            "marker": {
             "line": {
              "color": "white",
              "width": 0.5
             },
             "pattern": {
              "fillmode": "overlay",
              "size": 10,
              "solidity": 0.2
             }
            },
            "type": "barpolar"
           }
          ],
          "carpet": [
           {
            "aaxis": {
             "endlinecolor": "#2a3f5f",
             "gridcolor": "#C8D4E3",
             "linecolor": "#C8D4E3",
             "minorgridcolor": "#C8D4E3",
             "startlinecolor": "#2a3f5f"
            },
            "baxis": {
             "endlinecolor": "#2a3f5f",
             "gridcolor": "#C8D4E3",
             "linecolor": "#C8D4E3",
             "minorgridcolor": "#C8D4E3",
             "startlinecolor": "#2a3f5f"
            },
            "type": "carpet"
           }
          ],
          "choropleth": [
           {
            "colorbar": {
             "outlinewidth": 0,
             "ticks": ""
            },
            "type": "choropleth"
           }
          ],
          "contour": [
           {
            "colorbar": {
             "outlinewidth": 0,
             "ticks": ""
            },
            "colorscale": [
             [
              0,
              "#0d0887"
             ],
             [
              0.1111111111111111,
              "#46039f"
             ],
             [
              0.2222222222222222,
              "#7201a8"
             ],
             [
              0.3333333333333333,
              "#9c179e"
             ],
             [
              0.4444444444444444,
              "#bd3786"
             ],
             [
              0.5555555555555556,
              "#d8576b"
             ],
             [
              0.6666666666666666,
              "#ed7953"
             ],
             [
              0.7777777777777778,
              "#fb9f3a"
             ],
             [
              0.8888888888888888,
              "#fdca26"
             ],
             [
              1,
              "#f0f921"
             ]
            ],
            "type": "contour"
           }
          ],
          "contourcarpet": [
           {
            "colorbar": {
             "outlinewidth": 0,
             "ticks": ""
            },
            "type": "contourcarpet"
           }
          ],
          "heatmap": [
           {
            "colorbar": {
             "outlinewidth": 0,
             "ticks": ""
            },
            "colorscale": [
             [
              0,
              "#0d0887"
             ],
             [
              0.1111111111111111,
              "#46039f"
             ],
             [
              0.2222222222222222,
              "#7201a8"
             ],
             [
              0.3333333333333333,
              "#9c179e"
             ],
             [
              0.4444444444444444,
              "#bd3786"
             ],
             [
              0.5555555555555556,
              "#d8576b"
             ],
             [
              0.6666666666666666,
              "#ed7953"
             ],
             [
              0.7777777777777778,
              "#fb9f3a"
             ],
             [
              0.8888888888888888,
              "#fdca26"
             ],
             [
              1,
              "#f0f921"
             ]
            ],
            "type": "heatmap"
           }
          ],
          "histogram": [
           {
            "marker": {
             "pattern": {
              "fillmode": "overlay",
              "size": 10,
              "solidity": 0.2
             }
            },
            "type": "histogram"
           }
          ],
          "histogram2d": [
           {
            "colorbar": {
             "outlinewidth": 0,
             "ticks": ""
            },
            "colorscale": [
             [
              0,
              "#0d0887"
             ],
             [
              0.1111111111111111,
              "#46039f"
             ],
             [
              0.2222222222222222,
              "#7201a8"
             ],
             [
              0.3333333333333333,
              "#9c179e"
             ],
             [
              0.4444444444444444,
              "#bd3786"
             ],
             [
              0.5555555555555556,
              "#d8576b"
             ],
             [
              0.6666666666666666,
              "#ed7953"
             ],
             [
              0.7777777777777778,
              "#fb9f3a"
             ],
             [
              0.8888888888888888,
              "#fdca26"
             ],
             [
              1,
              "#f0f921"
             ]
            ],
            "type": "histogram2d"
           }
          ],
          "histogram2dcontour": [
           {
            "colorbar": {
             "outlinewidth": 0,
             "ticks": ""
            },
            "colorscale": [
             [
              0,
              "#0d0887"
             ],
             [
              0.1111111111111111,
              "#46039f"
             ],
             [
              0.2222222222222222,
              "#7201a8"
             ],
             [
              0.3333333333333333,
              "#9c179e"
             ],
             [
              0.4444444444444444,
              "#bd3786"
             ],
             [
              0.5555555555555556,
              "#d8576b"
             ],
             [
              0.6666666666666666,
              "#ed7953"
             ],
             [
              0.7777777777777778,
              "#fb9f3a"
             ],
             [
              0.8888888888888888,
              "#fdca26"
             ],
             [
              1,
              "#f0f921"
             ]
            ],
            "type": "histogram2dcontour"
           }
          ],
          "mesh3d": [
           {
            "colorbar": {
             "outlinewidth": 0,
             "ticks": ""
            },
            "type": "mesh3d"
           }
          ],
          "parcoords": [
           {
            "line": {
             "colorbar": {
              "outlinewidth": 0,
              "ticks": ""
             }
            },
            "type": "parcoords"
           }
          ],
          "pie": [
           {
            "automargin": true,
            "type": "pie"
           }
          ],
          "scatter": [
           {
            "fillpattern": {
             "fillmode": "overlay",
             "size": 10,
             "solidity": 0.2
            },
            "type": "scatter"
           }
          ],
          "scatter3d": [
           {
            "line": {
             "colorbar": {
              "outlinewidth": 0,
              "ticks": ""
             }
            },
            "marker": {
             "colorbar": {
              "outlinewidth": 0,
              "ticks": ""
             }
            },
            "type": "scatter3d"
           }
          ],
          "scattercarpet": [
           {
            "marker": {
             "colorbar": {
              "outlinewidth": 0,
              "ticks": ""
             }
            },
            "type": "scattercarpet"
           }
          ],
          "scattergeo": [
           {
            "marker": {
             "colorbar": {
              "outlinewidth": 0,
              "ticks": ""
             }
            },
            "type": "scattergeo"
           }
          ],
          "scattergl": [
           {
            "marker": {
             "colorbar": {
              "outlinewidth": 0,
              "ticks": ""
             }
            },
            "type": "scattergl"
           }
          ],
          "scattermap": [
           {
            "marker": {
             "colorbar": {
              "outlinewidth": 0,
              "ticks": ""
             }
            },
            "type": "scattermap"
           }
          ],
          "scattermapbox": [
           {
            "marker": {
             "colorbar": {
              "outlinewidth": 0,
              "ticks": ""
             }
            },
            "type": "scattermapbox"
           }
          ],
          "scatterpolar": [
           {
            "marker": {
             "colorbar": {
              "outlinewidth": 0,
              "ticks": ""
             }
            },
            "type": "scatterpolar"
           }
          ],
          "scatterpolargl": [
           {
            "marker": {
             "colorbar": {
              "outlinewidth": 0,
              "ticks": ""
             }
            },
            "type": "scatterpolargl"
           }
          ],
          "scatterternary": [
           {
            "marker": {
             "colorbar": {
              "outlinewidth": 0,
              "ticks": ""
             }
            },
            "type": "scatterternary"
           }
          ],
          "surface": [
           {
            "colorbar": {
             "outlinewidth": 0,
             "ticks": ""
            },
            "colorscale": [
             [
              0,
              "#0d0887"
             ],
             [
              0.1111111111111111,
              "#46039f"
             ],
             [
              0.2222222222222222,
              "#7201a8"
             ],
             [
              0.3333333333333333,
              "#9c179e"
             ],
             [
              0.4444444444444444,
              "#bd3786"
             ],
             [
              0.5555555555555556,
              "#d8576b"
             ],
             [
              0.6666666666666666,
              "#ed7953"
             ],
             [
              0.7777777777777778,
              "#fb9f3a"
             ],
             [
              0.8888888888888888,
              "#fdca26"
             ],
             [
              1,
              "#f0f921"
             ]
            ],
            "type": "surface"
           }
          ],
          "table": [
           {
            "cells": {
             "fill": {
              "color": "#EBF0F8"
             },
             "line": {
              "color": "white"
             }
            },
            "header": {
             "fill": {
              "color": "#C8D4E3"
             },
             "line": {
              "color": "white"
             }
            },
            "type": "table"
           }
          ]
         },
         "layout": {
          "annotationdefaults": {
           "arrowcolor": "#2a3f5f",
           "arrowhead": 0,
           "arrowwidth": 1
          },
          "autotypenumbers": "strict",
          "coloraxis": {
           "colorbar": {
            "outlinewidth": 0,
            "ticks": ""
           }
          },
          "colorscale": {
           "diverging": [
            [
             0,
             "#8e0152"
            ],
            [
             0.1,
             "#c51b7d"
            ],
            [
             0.2,
             "#de77ae"
            ],
            [
             0.3,
             "#f1b6da"
            ],
            [
             0.4,
             "#fde0ef"
            ],
            [
             0.5,
             "#f7f7f7"
            ],
            [
             0.6,
             "#e6f5d0"
            ],
            [
             0.7,
             "#b8e186"
            ],
            [
             0.8,
             "#7fbc41"
            ],
            [
             0.9,
             "#4d9221"
            ],
            [
             1,
             "#276419"
            ]
           ],
           "sequential": [
            [
             0,
             "#0d0887"
            ],
            [
             0.1111111111111111,
             "#46039f"
            ],
            [
             0.2222222222222222,
             "#7201a8"
            ],
            [
             0.3333333333333333,
             "#9c179e"
            ],
            [
             0.4444444444444444,
             "#bd3786"
            ],
            [
             0.5555555555555556,
             "#d8576b"
            ],
            [
             0.6666666666666666,
             "#ed7953"
            ],
            [
             0.7777777777777778,
             "#fb9f3a"
            ],
            [
             0.8888888888888888,
             "#fdca26"
            ],
            [
             1,
             "#f0f921"
            ]
           ],
           "sequentialminus": [
            [
             0,
             "#0d0887"
            ],
            [
             0.1111111111111111,
             "#46039f"
            ],
            [
             0.2222222222222222,
             "#7201a8"
            ],
            [
             0.3333333333333333,
             "#9c179e"
            ],
            [
             0.4444444444444444,
             "#bd3786"
            ],
            [
             0.5555555555555556,
             "#d8576b"
            ],
            [
             0.6666666666666666,
             "#ed7953"
            ],
            [
             0.7777777777777778,
             "#fb9f3a"
            ],
            [
             0.8888888888888888,
             "#fdca26"
            ],
            [
             1,
             "#f0f921"
            ]
           ]
          },
          "colorway": [
           "#636efa",
           "#EF553B",
           "#00cc96",
           "#ab63fa",
           "#FFA15A",
           "#19d3f3",
           "#FF6692",
           "#B6E880",
           "#FF97FF",
           "#FECB52"
          ],
          "font": {
           "color": "#2a3f5f"
          },
          "geo": {
           "bgcolor": "white",
           "lakecolor": "white",
           "landcolor": "white",
           "showlakes": true,
           "showland": true,
           "subunitcolor": "#C8D4E3"
          },
          "hoverlabel": {
           "align": "left"
          },
          "hovermode": "closest",
          "mapbox": {
           "style": "light"
          },
          "paper_bgcolor": "white",
          "plot_bgcolor": "white",
          "polar": {
           "angularaxis": {
            "gridcolor": "#EBF0F8",
            "linecolor": "#EBF0F8",
            "ticks": ""
           },
           "bgcolor": "white",
           "radialaxis": {
            "gridcolor": "#EBF0F8",
            "linecolor": "#EBF0F8",
            "ticks": ""
           }
          },
          "scene": {
           "xaxis": {
            "backgroundcolor": "white",
            "gridcolor": "#DFE8F3",
            "gridwidth": 2,
            "linecolor": "#EBF0F8",
            "showbackground": true,
            "ticks": "",
            "zerolinecolor": "#EBF0F8"
           },
           "yaxis": {
            "backgroundcolor": "white",
            "gridcolor": "#DFE8F3",
            "gridwidth": 2,
            "linecolor": "#EBF0F8",
            "showbackground": true,
            "ticks": "",
            "zerolinecolor": "#EBF0F8"
           },
           "zaxis": {
            "backgroundcolor": "white",
            "gridcolor": "#DFE8F3",
            "gridwidth": 2,
            "linecolor": "#EBF0F8",
            "showbackground": true,
            "ticks": "",
            "zerolinecolor": "#EBF0F8"
           }
          },
          "shapedefaults": {
           "line": {
            "color": "#2a3f5f"
           }
          },
          "ternary": {
           "aaxis": {
            "gridcolor": "#DFE8F3",
            "linecolor": "#A2B1C6",
            "ticks": ""
           },
           "baxis": {
            "gridcolor": "#DFE8F3",
            "linecolor": "#A2B1C6",
            "ticks": ""
           },
           "bgcolor": "white",
           "caxis": {
            "gridcolor": "#DFE8F3",
            "linecolor": "#A2B1C6",
            "ticks": ""
           }
          },
          "title": {
           "x": 0.05
          },
          "xaxis": {
           "automargin": true,
           "gridcolor": "#EBF0F8",
           "linecolor": "#EBF0F8",
           "ticks": "",
           "title": {
            "standoff": 15
           },
           "zerolinecolor": "#EBF0F8",
           "zerolinewidth": 2
          },
          "yaxis": {
           "automargin": true,
           "gridcolor": "#EBF0F8",
           "linecolor": "#EBF0F8",
           "ticks": "",
           "title": {
            "standoff": 15
           },
           "zerolinecolor": "#EBF0F8",
           "zerolinewidth": 2
          }
         }
        },
        "title": {
         "text": "ACF teórica AR(2): (1 + 0.5B - 0.2B**2) X_t = Z_t "
        },
        "width": 800,
        "xaxis": {
         "title": {
          "text": "Rezago k"
         }
        },
        "yaxis": {
         "title": {
          "text": "ρ_k"
         }
        }
       }
      }
     },
     "metadata": {},
     "output_type": "display_data"
    }
   ],
   "source": [
    "phi = [0.3,0.4]\n",
    "lags, rho = acf_ar_negative(phi, m=24)\n",
    "fig = plot_acf_stem_plotly(lags, rho,\n",
    "       title=\"ACF teórica AR(2): (1 + 0.5B - 0.2B**2) X_t = Z_t \",\n",
    "       n_for_ci=600)  # banda opcional estilo ±1.96/√N\n",
    "fig.show()"
   ]
  },
  {
   "cell_type": "markdown",
   "id": "6475b83f",
   "metadata": {},
   "source": [
    "---\n"
   ]
  },
  {
   "cell_type": "markdown",
   "id": "3c5a67f0",
   "metadata": {},
   "source": [
    "\n",
    "**Región Admisible 3 para el procesp AR(2)**"
   ]
  },
  {
   "cell_type": "markdown",
   "id": "05bc8aa0",
   "metadata": {},
   "source": [
    "\n",
    "Para este caso se cumple que:\n",
    "\n",
    "- $\\phi_1^2 + 4\\phi_2 < 0$\n",
    "- $\\phi_1 < 0$\n"
   ]
  },
  {
   "cell_type": "code",
   "execution_count": 97,
   "id": "ea050f54",
   "metadata": {},
   "outputs": [
    {
     "data": {
      "application/vnd.plotly.v1+json": {
       "config": {
        "plotlyServerURL": "https://plot.ly"
       },
       "data": [
        {
         "fill": "toself",
         "fillcolor": "rgba(144, 238, 144, 0.4)",
         "line": {
          "color": "black",
          "width": 1
         },
         "mode": "lines",
         "name": "Región de Estacionariedad",
         "type": "scatter",
         "x": [
          -2,
          2,
          0,
          -2
         ],
         "y": [
          -1,
          -1,
          1,
          -1
         ]
        },
        {
         "line": {
          "color": "black",
          "dash": "dot",
          "width": 2
         },
         "mode": "lines",
         "name": "Δ=0  (φ₂ = −¼ φ₁²)",
         "type": "scatter",
         "x": {
          "bdata": "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",
          "dtype": "f8"
         },
         "y": {
          "bdata": "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",
          "dtype": "f8"
         }
        },
        {
         "marker": {
          "color": "black",
          "size": 6
         },
         "mode": "markers+text",
         "showlegend": false,
         "text": [
          "(-2,1)",
          "(2,1)",
          "(0,-1)"
         ],
         "textposition": "top center",
         "type": "scatter",
         "x": [
          -2,
          2,
          0
         ],
         "y": [
          1,
          1,
          -1
         ]
        },
        {
         "marker": {
          "color": "red",
          "size": 12,
          "symbol": "circle"
         },
         "mode": "markers+text",
         "name": "punto (φ₁, φ₂)",
         "text": [
          "(-0.50, -0.70)"
         ],
         "textposition": "bottom center",
         "type": "scatter",
         "x": [
          -0.5
         ],
         "y": [
          -0.7
         ]
        }
       ],
       "layout": {
        "annotations": [
         {
          "showarrow": false,
          "text": "Real\n(φ₁<0)",
          "x": -1,
          "y": 0.3
         },
         {
          "showarrow": false,
          "text": "Real\n(φ₁>0)",
          "x": 1,
          "y": 0.3
         },
         {
          "showarrow": false,
          "text": "Compleja\n(φ₁<0)",
          "x": -1,
          "y": -0.6
         },
         {
          "showarrow": false,
          "text": "Compleja\n(φ₁>0)",
          "x": 1,
          "y": -0.6
         }
        ],
        "height": 520,
        "showlegend": false,
        "template": {
         "data": {
          "bar": [
           {
            "error_x": {
             "color": "rgb(36,36,36)"
            },
            "error_y": {
             "color": "rgb(36,36,36)"
            },
            "marker": {
             "line": {
              "color": "white",
              "width": 0.5
             },
             "pattern": {
              "fillmode": "overlay",
              "size": 10,
              "solidity": 0.2
             }
            },
            "type": "bar"
           }
          ],
          "barpolar": [
           {
            "marker": {
             "line": {
              "color": "white",
              "width": 0.5
             },
             "pattern": {
              "fillmode": "overlay",
              "size": 10,
              "solidity": 0.2
             }
            },
            "type": "barpolar"
           }
          ],
          "carpet": [
           {
            "aaxis": {
             "endlinecolor": "rgb(36,36,36)",
             "gridcolor": "white",
             "linecolor": "white",
             "minorgridcolor": "white",
             "startlinecolor": "rgb(36,36,36)"
            },
            "baxis": {
             "endlinecolor": "rgb(36,36,36)",
             "gridcolor": "white",
             "linecolor": "white",
             "minorgridcolor": "white",
             "startlinecolor": "rgb(36,36,36)"
            },
            "type": "carpet"
           }
          ],
          "choropleth": [
           {
            "colorbar": {
             "outlinewidth": 1,
             "tickcolor": "rgb(36,36,36)",
             "ticks": "outside"
            },
            "type": "choropleth"
           }
          ],
          "contour": [
           {
            "colorbar": {
             "outlinewidth": 1,
             "tickcolor": "rgb(36,36,36)",
             "ticks": "outside"
            },
            "colorscale": [
             [
              0,
              "#440154"
             ],
             [
              0.1111111111111111,
              "#482878"
             ],
             [
              0.2222222222222222,
              "#3e4989"
             ],
             [
              0.3333333333333333,
              "#31688e"
             ],
             [
              0.4444444444444444,
              "#26828e"
             ],
             [
              0.5555555555555556,
              "#1f9e89"
             ],
             [
              0.6666666666666666,
              "#35b779"
             ],
             [
              0.7777777777777778,
              "#6ece58"
             ],
             [
              0.8888888888888888,
              "#b5de2b"
             ],
             [
              1,
              "#fde725"
             ]
            ],
            "type": "contour"
           }
          ],
          "contourcarpet": [
           {
            "colorbar": {
             "outlinewidth": 1,
             "tickcolor": "rgb(36,36,36)",
             "ticks": "outside"
            },
            "type": "contourcarpet"
           }
          ],
          "heatmap": [
           {
            "colorbar": {
             "outlinewidth": 1,
             "tickcolor": "rgb(36,36,36)",
             "ticks": "outside"
            },
            "colorscale": [
             [
              0,
              "#440154"
             ],
             [
              0.1111111111111111,
              "#482878"
             ],
             [
              0.2222222222222222,
              "#3e4989"
             ],
             [
              0.3333333333333333,
              "#31688e"
             ],
             [
              0.4444444444444444,
              "#26828e"
             ],
             [
              0.5555555555555556,
              "#1f9e89"
             ],
             [
              0.6666666666666666,
              "#35b779"
             ],
             [
              0.7777777777777778,
              "#6ece58"
             ],
             [
              0.8888888888888888,
              "#b5de2b"
             ],
             [
              1,
              "#fde725"
             ]
            ],
            "type": "heatmap"
           }
          ],
          "histogram": [
           {
            "marker": {
             "line": {
              "color": "white",
              "width": 0.6
             }
            },
            "type": "histogram"
           }
          ],
          "histogram2d": [
           {
            "colorbar": {
             "outlinewidth": 1,
             "tickcolor": "rgb(36,36,36)",
             "ticks": "outside"
            },
            "colorscale": [
             [
              0,
              "#440154"
             ],
             [
              0.1111111111111111,
              "#482878"
             ],
             [
              0.2222222222222222,
              "#3e4989"
             ],
             [
              0.3333333333333333,
              "#31688e"
             ],
             [
              0.4444444444444444,
              "#26828e"
             ],
             [
              0.5555555555555556,
              "#1f9e89"
             ],
             [
              0.6666666666666666,
              "#35b779"
             ],
             [
              0.7777777777777778,
              "#6ece58"
             ],
             [
              0.8888888888888888,
              "#b5de2b"
             ],
             [
              1,
              "#fde725"
             ]
            ],
            "type": "histogram2d"
           }
          ],
          "histogram2dcontour": [
           {
            "colorbar": {
             "outlinewidth": 1,
             "tickcolor": "rgb(36,36,36)",
             "ticks": "outside"
            },
            "colorscale": [
             [
              0,
              "#440154"
             ],
             [
              0.1111111111111111,
              "#482878"
             ],
             [
              0.2222222222222222,
              "#3e4989"
             ],
             [
              0.3333333333333333,
              "#31688e"
             ],
             [
              0.4444444444444444,
              "#26828e"
             ],
             [
              0.5555555555555556,
              "#1f9e89"
             ],
             [
              0.6666666666666666,
              "#35b779"
             ],
             [
              0.7777777777777778,
              "#6ece58"
             ],
             [
              0.8888888888888888,
              "#b5de2b"
             ],
             [
              1,
              "#fde725"
             ]
            ],
            "type": "histogram2dcontour"
           }
          ],
          "mesh3d": [
           {
            "colorbar": {
             "outlinewidth": 1,
             "tickcolor": "rgb(36,36,36)",
             "ticks": "outside"
            },
            "type": "mesh3d"
           }
          ],
          "parcoords": [
           {
            "line": {
             "colorbar": {
              "outlinewidth": 1,
              "tickcolor": "rgb(36,36,36)",
              "ticks": "outside"
             }
            },
            "type": "parcoords"
           }
          ],
          "pie": [
           {
            "automargin": true,
            "type": "pie"
           }
          ],
          "scatter": [
           {
            "fillpattern": {
             "fillmode": "overlay",
             "size": 10,
             "solidity": 0.2
            },
            "type": "scatter"
           }
          ],
          "scatter3d": [
           {
            "line": {
             "colorbar": {
              "outlinewidth": 1,
              "tickcolor": "rgb(36,36,36)",
              "ticks": "outside"
             }
            },
            "marker": {
             "colorbar": {
              "outlinewidth": 1,
              "tickcolor": "rgb(36,36,36)",
              "ticks": "outside"
             }
            },
            "type": "scatter3d"
           }
          ],
          "scattercarpet": [
           {
            "marker": {
             "colorbar": {
              "outlinewidth": 1,
              "tickcolor": "rgb(36,36,36)",
              "ticks": "outside"
             }
            },
            "type": "scattercarpet"
           }
          ],
          "scattergeo": [
           {
            "marker": {
             "colorbar": {
              "outlinewidth": 1,
              "tickcolor": "rgb(36,36,36)",
              "ticks": "outside"
             }
            },
            "type": "scattergeo"
           }
          ],
          "scattergl": [
           {
            "marker": {
             "colorbar": {
              "outlinewidth": 1,
              "tickcolor": "rgb(36,36,36)",
              "ticks": "outside"
             }
            },
            "type": "scattergl"
           }
          ],
          "scattermap": [
           {
            "marker": {
             "colorbar": {
              "outlinewidth": 1,
              "tickcolor": "rgb(36,36,36)",
              "ticks": "outside"
             }
            },
            "type": "scattermap"
           }
          ],
          "scattermapbox": [
           {
            "marker": {
             "colorbar": {
              "outlinewidth": 1,
              "tickcolor": "rgb(36,36,36)",
              "ticks": "outside"
             }
            },
            "type": "scattermapbox"
           }
          ],
          "scatterpolar": [
           {
            "marker": {
             "colorbar": {
              "outlinewidth": 1,
              "tickcolor": "rgb(36,36,36)",
              "ticks": "outside"
             }
            },
            "type": "scatterpolar"
           }
          ],
          "scatterpolargl": [
           {
            "marker": {
             "colorbar": {
              "outlinewidth": 1,
              "tickcolor": "rgb(36,36,36)",
              "ticks": "outside"
             }
            },
            "type": "scatterpolargl"
           }
          ],
          "scatterternary": [
           {
            "marker": {
             "colorbar": {
              "outlinewidth": 1,
              "tickcolor": "rgb(36,36,36)",
              "ticks": "outside"
             }
            },
            "type": "scatterternary"
           }
          ],
          "surface": [
           {
            "colorbar": {
             "outlinewidth": 1,
             "tickcolor": "rgb(36,36,36)",
             "ticks": "outside"
            },
            "colorscale": [
             [
              0,
              "#440154"
             ],
             [
              0.1111111111111111,
              "#482878"
             ],
             [
              0.2222222222222222,
              "#3e4989"
             ],
             [
              0.3333333333333333,
              "#31688e"
             ],
             [
              0.4444444444444444,
              "#26828e"
             ],
             [
              0.5555555555555556,
              "#1f9e89"
             ],
             [
              0.6666666666666666,
              "#35b779"
             ],
             [
              0.7777777777777778,
              "#6ece58"
             ],
             [
              0.8888888888888888,
              "#b5de2b"
             ],
             [
              1,
              "#fde725"
             ]
            ],
            "type": "surface"
           }
          ],
          "table": [
           {
            "cells": {
             "fill": {
              "color": "rgb(237,237,237)"
             },
             "line": {
              "color": "white"
             }
            },
            "header": {
             "fill": {
              "color": "rgb(217,217,217)"
             },
             "line": {
              "color": "white"
             }
            },
            "type": "table"
           }
          ]
         },
         "layout": {
          "annotationdefaults": {
           "arrowhead": 0,
           "arrowwidth": 1
          },
          "autotypenumbers": "strict",
          "coloraxis": {
           "colorbar": {
            "outlinewidth": 1,
            "tickcolor": "rgb(36,36,36)",
            "ticks": "outside"
           }
          },
          "colorscale": {
           "diverging": [
            [
             0,
             "rgb(103,0,31)"
            ],
            [
             0.1,
             "rgb(178,24,43)"
            ],
            [
             0.2,
             "rgb(214,96,77)"
            ],
            [
             0.3,
             "rgb(244,165,130)"
            ],
            [
             0.4,
             "rgb(253,219,199)"
            ],
            [
             0.5,
             "rgb(247,247,247)"
            ],
            [
             0.6,
             "rgb(209,229,240)"
            ],
            [
             0.7,
             "rgb(146,197,222)"
            ],
            [
             0.8,
             "rgb(67,147,195)"
            ],
            [
             0.9,
             "rgb(33,102,172)"
            ],
            [
             1,
             "rgb(5,48,97)"
            ]
           ],
           "sequential": [
            [
             0,
             "#440154"
            ],
            [
             0.1111111111111111,
             "#482878"
            ],
            [
             0.2222222222222222,
             "#3e4989"
            ],
            [
             0.3333333333333333,
             "#31688e"
            ],
            [
             0.4444444444444444,
             "#26828e"
            ],
            [
             0.5555555555555556,
             "#1f9e89"
            ],
            [
             0.6666666666666666,
             "#35b779"
            ],
            [
             0.7777777777777778,
             "#6ece58"
            ],
            [
             0.8888888888888888,
             "#b5de2b"
            ],
            [
             1,
             "#fde725"
            ]
           ],
           "sequentialminus": [
            [
             0,
             "#440154"
            ],
            [
             0.1111111111111111,
             "#482878"
            ],
            [
             0.2222222222222222,
             "#3e4989"
            ],
            [
             0.3333333333333333,
             "#31688e"
            ],
            [
             0.4444444444444444,
             "#26828e"
            ],
            [
             0.5555555555555556,
             "#1f9e89"
            ],
            [
             0.6666666666666666,
             "#35b779"
            ],
            [
             0.7777777777777778,
             "#6ece58"
            ],
            [
             0.8888888888888888,
             "#b5de2b"
            ],
            [
             1,
             "#fde725"
            ]
           ]
          },
          "colorway": [
           "#1F77B4",
           "#FF7F0E",
           "#2CA02C",
           "#D62728",
           "#9467BD",
           "#8C564B",
           "#E377C2",
           "#7F7F7F",
           "#BCBD22",
           "#17BECF"
          ],
          "font": {
           "color": "rgb(36,36,36)"
          },
          "geo": {
           "bgcolor": "white",
           "lakecolor": "white",
           "landcolor": "white",
           "showlakes": true,
           "showland": true,
           "subunitcolor": "white"
          },
          "hoverlabel": {
           "align": "left"
          },
          "hovermode": "closest",
          "mapbox": {
           "style": "light"
          },
          "paper_bgcolor": "white",
          "plot_bgcolor": "white",
          "polar": {
           "angularaxis": {
            "gridcolor": "rgb(232,232,232)",
            "linecolor": "rgb(36,36,36)",
            "showgrid": false,
            "showline": true,
            "ticks": "outside"
           },
           "bgcolor": "white",
           "radialaxis": {
            "gridcolor": "rgb(232,232,232)",
            "linecolor": "rgb(36,36,36)",
            "showgrid": false,
            "showline": true,
            "ticks": "outside"
           }
          },
          "scene": {
           "xaxis": {
            "backgroundcolor": "white",
            "gridcolor": "rgb(232,232,232)",
            "gridwidth": 2,
            "linecolor": "rgb(36,36,36)",
            "showbackground": true,
            "showgrid": false,
            "showline": true,
            "ticks": "outside",
            "zeroline": false,
            "zerolinecolor": "rgb(36,36,36)"
           },
           "yaxis": {
            "backgroundcolor": "white",
            "gridcolor": "rgb(232,232,232)",
            "gridwidth": 2,
            "linecolor": "rgb(36,36,36)",
            "showbackground": true,
            "showgrid": false,
            "showline": true,
            "ticks": "outside",
            "zeroline": false,
            "zerolinecolor": "rgb(36,36,36)"
           },
           "zaxis": {
            "backgroundcolor": "white",
            "gridcolor": "rgb(232,232,232)",
            "gridwidth": 2,
            "linecolor": "rgb(36,36,36)",
            "showbackground": true,
            "showgrid": false,
            "showline": true,
            "ticks": "outside",
            "zeroline": false,
            "zerolinecolor": "rgb(36,36,36)"
           }
          },
          "shapedefaults": {
           "fillcolor": "black",
           "line": {
            "width": 0
           },
           "opacity": 0.3
          },
          "ternary": {
           "aaxis": {
            "gridcolor": "rgb(232,232,232)",
            "linecolor": "rgb(36,36,36)",
            "showgrid": false,
            "showline": true,
            "ticks": "outside"
           },
           "baxis": {
            "gridcolor": "rgb(232,232,232)",
            "linecolor": "rgb(36,36,36)",
            "showgrid": false,
            "showline": true,
            "ticks": "outside"
           },
           "bgcolor": "white",
           "caxis": {
            "gridcolor": "rgb(232,232,232)",
            "linecolor": "rgb(36,36,36)",
            "showgrid": false,
            "showline": true,
            "ticks": "outside"
           }
          },
          "title": {
           "x": 0.05
          },
          "xaxis": {
           "automargin": true,
           "gridcolor": "rgb(232,232,232)",
           "linecolor": "rgb(36,36,36)",
           "showgrid": false,
           "showline": true,
           "ticks": "outside",
           "title": {
            "standoff": 15
           },
           "zeroline": false,
           "zerolinecolor": "rgb(36,36,36)"
          },
          "yaxis": {
           "automargin": true,
           "gridcolor": "rgb(232,232,232)",
           "linecolor": "rgb(36,36,36)",
           "showgrid": false,
           "showline": true,
           "ticks": "outside",
           "title": {
            "standoff": 15
           },
           "zeroline": false,
           "zerolinecolor": "rgb(36,36,36)"
          }
         }
        },
        "title": {
         "text": "AR(2)<br> Triángulo de estacionariedad + parábola del discriminante<br>Punto en Región 3"
        },
        "width": 700,
        "xaxis": {
         "range": [
          -2.2,
          2.2
         ],
         "title": {
          "text": "φ₁"
         },
         "zeroline": true
        },
        "yaxis": {
         "range": [
          -1.3,
          1.3
         ],
         "title": {
          "text": "φ₂"
         },
         "zeroline": false
        }
       }
      }
     },
     "metadata": {},
     "output_type": "display_data"
    },
    {
     "data": {
      "application/vnd.plotly.v1+json": {
       "config": {
        "plotlyServerURL": "https://plot.ly"
       },
       "data": [
        {
         "fill": "toself",
         "fillcolor": "lightgreen",
         "line": {
          "color": "lightgreen"
         },
         "mode": "lines",
         "opacity": 0.35,
         "showlegend": false,
         "type": "scatter",
         "x": {
          "bdata": "/gIA/g==",
          "dtype": "i1"
         },
         "xaxis": "x",
         "y": {
          "bdata": "//8B/w==",
          "dtype": "i1"
         },
         "yaxis": "y"
        },
        {
         "marker": {
          "size": 10
         },
         "mode": "markers",
         "name": "(-0.50,-0.70)",
         "type": "scatter",
         "x": [
          -0.5
         ],
         "xaxis": "x",
         "y": [
          -0.7
         ],
         "yaxis": "y"
        },
        {
         "line": {
          "width": 2
         },
         "mode": "lines",
         "showlegend": false,
         "type": "scatter",
         "x": [
          0,
          0,
          null,
          1,
          1,
          null,
          2,
          2,
          null,
          3,
          3,
          null,
          4,
          4,
          null,
          5,
          5,
          null,
          6,
          6,
          null,
          7,
          7,
          null,
          8,
          8,
          null,
          9,
          9,
          null,
          10,
          10,
          null,
          11,
          11,
          null,
          12,
          12,
          null,
          13,
          13,
          null,
          14,
          14,
          null,
          15,
          15,
          null,
          16,
          16,
          null,
          17,
          17,
          null,
          18,
          18,
          null,
          19,
          19,
          null,
          20,
          20,
          null
         ],
         "xaxis": "x2",
         "y": [
          0,
          1,
          null,
          0,
          -0.29411764705882365,
          null,
          0,
          -0.5529411764705883,
          null,
          0,
          0.4823529411764707,
          null,
          0,
          0.14588235294117646,
          null,
          0,
          -0.41058823529411764,
          null,
          0,
          0.10317647058823531,
          null,
          0,
          0.23582352941176468,
          null,
          0,
          -0.19013529411764707,
          null,
          0,
          -0.07000882352941172,
          null,
          0,
          0.16809911764705882,
          null,
          0,
          -0.035043382352941195,
          null,
          0,
          -0.10014769117647056,
          null,
          0,
          0.07460421323529413,
          null,
          0,
          0.032801277205882336,
          null,
          0,
          -0.06862358786764704,
          null,
          0,
          0.011350899889705895,
          null,
          0,
          0.042361061562499976,
          null,
          0,
          -0.02912616070404411,
          null,
          0,
          -0.015089662741727924,
          null,
          0,
          0.027933143863694842,
          null
         ],
         "yaxis": "y2"
        },
        {
         "marker": {
          "size": 7
         },
         "mode": "markers",
         "showlegend": false,
         "type": "scatter",
         "x": {
          "bdata": "AAECAwQFBgcICQoLDA0ODxAREhMU",
          "dtype": "i1"
         },
         "xaxis": "x2",
         "y": {
          "bdata": "AAAAAAAA8D/V0tLS0tLSv7KxsbGxseG/4d7e3t7e3j+sEnnfRazCP0d6reATR9q/OKfk7sVpuj+VtDkldy/OPzh7BnNaVsi/l4F9Jxnssb/a6WOaRYTFP3lRS8o08aG/BXNfckejub87Sf3/QhmzPwGLuzlUy6A/my+gwVCRsb+jn3P+Iz+HP7HOEVxZsKU/j0a6jj/Tnb8r/N0/VOeOv6PjeY2Bmpw/",
          "dtype": "f8"
         },
         "yaxis": "y2"
        },
        {
         "line": {
          "width": 2
         },
         "mode": "lines",
         "showlegend": false,
         "type": "scatter",
         "x": [
          0,
          0,
          null,
          1,
          1,
          null,
          2,
          2,
          null,
          3,
          3,
          null,
          4,
          4,
          null,
          5,
          5,
          null,
          6,
          6,
          null,
          7,
          7,
          null,
          8,
          8,
          null,
          9,
          9,
          null,
          10,
          10,
          null,
          11,
          11,
          null,
          12,
          12,
          null,
          13,
          13,
          null,
          14,
          14,
          null,
          15,
          15,
          null,
          16,
          16,
          null,
          17,
          17,
          null,
          18,
          18,
          null,
          19,
          19,
          null,
          20,
          20,
          null
         ],
         "xaxis": "x3",
         "y": [
          0,
          1,
          null,
          0,
          -0.29411764705882365,
          null,
          0,
          -0.7000000000000002,
          null,
          0,
          -3.574581708073422e-16,
          null,
          0,
          -1.787290854036711e-16,
          null,
          0,
          2.3830544720489483e-16,
          null,
          0,
          1.787290854036711e-16,
          null,
          0,
          2.3830544720489483e-16,
          null,
          0,
          1.1915272360244741e-16,
          null,
          0,
          1.4894090450305926e-16,
          null,
          0,
          1.1915272360244741e-16,
          null,
          0,
          7.447045225152963e-17,
          null,
          0,
          8.936454270183555e-17,
          null,
          0,
          8.936454270183555e-17,
          null,
          0,
          8.936454270183555e-17,
          null,
          0,
          5.957636180122371e-17,
          null,
          0,
          5.2129316576070745e-17,
          null,
          0,
          2.9788180900611854e-17,
          null,
          0,
          3.7235226125764815e-17,
          null,
          0,
          1.4894090450305927e-17,
          null,
          0,
          1.4894090450305927e-17,
          null
         ],
         "yaxis": "y3"
        },
        {
         "marker": {
          "size": 7
         },
         "mode": "markers",
         "showlegend": false,
         "type": "scatter",
         "x": {
          "bdata": "AAECAwQFBgcICQoLDA0ODxAREhMU",
          "dtype": "i1"
         },
         "xaxis": "x3",
         "y": {
          "bdata": "AAAAAAAA8D/V0tLS0tLSv2hmZmZmZua/xQcffPDBubzFBx988MGpvNmvFKj1K7E8xQcffPDBqTzZrxSo9SuxPNmvFKj1K6E8z9sZEvN2pTzZrxSo9SuhPM/bGRLzdpU8xQcffPDBmTzFBx988MGZPMUHH3zwwZk82a8UqPUrkTy8MyTm7QyOPNmvFKj1K4E8z9sZEvN2hTzZrxSo9StxPNmvFKj1K3E8",
          "dtype": "f8"
         },
         "yaxis": "y3"
        }
       ],
       "layout": {
        "annotations": [
         {
          "font": {
           "size": 16
          },
          "showarrow": false,
          "text": "Región admisible AR(2)",
          "x": 0.14444444444444446,
          "xanchor": "center",
          "xref": "paper",
          "y": 1,
          "yanchor": "bottom",
          "yref": "paper"
         },
         {
          "font": {
           "size": 16
          },
          "showarrow": false,
          "text": "FAC (ρₖ) teórica",
          "x": 0.5,
          "xanchor": "center",
          "xref": "paper",
          "y": 1,
          "yanchor": "bottom",
          "yref": "paper"
         },
         {
          "font": {
           "size": 16
          },
          "showarrow": false,
          "text": "FACP (φₖ) teórica",
          "x": 0.8555555555555556,
          "xanchor": "center",
          "xref": "paper",
          "y": 1,
          "yanchor": "bottom",
          "yref": "paper"
         }
        ],
        "height": 380,
        "shapes": [
         {
          "line": {
           "color": "gray"
          },
          "type": "line",
          "x0": 0,
          "x1": 1,
          "xref": "x domain",
          "y0": 0,
          "y1": 0,
          "yref": "y"
         },
         {
          "line": {
           "color": "gray"
          },
          "type": "line",
          "x0": 0,
          "x1": 0,
          "xref": "x",
          "y0": 0,
          "y1": 1,
          "yref": "y domain"
         },
         {
          "line": {
           "color": "gray",
           "dash": "dot"
          },
          "type": "line",
          "x0": 0,
          "x1": 1,
          "xref": "x2 domain",
          "y0": 0,
          "y1": 0,
          "yref": "y2"
         },
         {
          "line": {
           "color": "gray",
           "dash": "dot"
          },
          "type": "line",
          "x0": 0,
          "x1": 1,
          "xref": "x3 domain",
          "y0": 0,
          "y1": 0,
          "yref": "y3"
         }
        ],
        "template": {
         "data": {
          "bar": [
           {
            "error_x": {
             "color": "#2a3f5f"
            },
            "error_y": {
             "color": "#2a3f5f"
            },
            "marker": {
             "line": {
              "color": "white",
              "width": 0.5
             },
             "pattern": {
              "fillmode": "overlay",
              "size": 10,
              "solidity": 0.2
             }
            },
            "type": "bar"
           }
          ],
          "barpolar": [
           {
            "marker": {
             "line": {
              "color": "white",
              "width": 0.5
             },
             "pattern": {
              "fillmode": "overlay",
              "size": 10,
              "solidity": 0.2
             }
            },
            "type": "barpolar"
           }
          ],
          "carpet": [
           {
            "aaxis": {
             "endlinecolor": "#2a3f5f",
             "gridcolor": "#C8D4E3",
             "linecolor": "#C8D4E3",
             "minorgridcolor": "#C8D4E3",
             "startlinecolor": "#2a3f5f"
            },
            "baxis": {
             "endlinecolor": "#2a3f5f",
             "gridcolor": "#C8D4E3",
             "linecolor": "#C8D4E3",
             "minorgridcolor": "#C8D4E3",
             "startlinecolor": "#2a3f5f"
            },
            "type": "carpet"
           }
          ],
          "choropleth": [
           {
            "colorbar": {
             "outlinewidth": 0,
             "ticks": ""
            },
            "type": "choropleth"
           }
          ],
          "contour": [
           {
            "colorbar": {
             "outlinewidth": 0,
             "ticks": ""
            },
            "colorscale": [
             [
              0,
              "#0d0887"
             ],
             [
              0.1111111111111111,
              "#46039f"
             ],
             [
              0.2222222222222222,
              "#7201a8"
             ],
             [
              0.3333333333333333,
              "#9c179e"
             ],
             [
              0.4444444444444444,
              "#bd3786"
             ],
             [
              0.5555555555555556,
              "#d8576b"
             ],
             [
              0.6666666666666666,
              "#ed7953"
             ],
             [
              0.7777777777777778,
              "#fb9f3a"
             ],
             [
              0.8888888888888888,
              "#fdca26"
             ],
             [
              1,
              "#f0f921"
             ]
            ],
            "type": "contour"
           }
          ],
          "contourcarpet": [
           {
            "colorbar": {
             "outlinewidth": 0,
             "ticks": ""
            },
            "type": "contourcarpet"
           }
          ],
          "heatmap": [
           {
            "colorbar": {
             "outlinewidth": 0,
             "ticks": ""
            },
            "colorscale": [
             [
              0,
              "#0d0887"
             ],
             [
              0.1111111111111111,
              "#46039f"
             ],
             [
              0.2222222222222222,
              "#7201a8"
             ],
             [
              0.3333333333333333,
              "#9c179e"
             ],
             [
              0.4444444444444444,
              "#bd3786"
             ],
             [
              0.5555555555555556,
              "#d8576b"
             ],
             [
              0.6666666666666666,
              "#ed7953"
             ],
             [
              0.7777777777777778,
              "#fb9f3a"
             ],
             [
              0.8888888888888888,
              "#fdca26"
             ],
             [
              1,
              "#f0f921"
             ]
            ],
            "type": "heatmap"
           }
          ],
          "histogram": [
           {
            "marker": {
             "pattern": {
              "fillmode": "overlay",
              "size": 10,
              "solidity": 0.2
             }
            },
            "type": "histogram"
           }
          ],
          "histogram2d": [
           {
            "colorbar": {
             "outlinewidth": 0,
             "ticks": ""
            },
            "colorscale": [
             [
              0,
              "#0d0887"
             ],
             [
              0.1111111111111111,
              "#46039f"
             ],
             [
              0.2222222222222222,
              "#7201a8"
             ],
             [
              0.3333333333333333,
              "#9c179e"
             ],
             [
              0.4444444444444444,
              "#bd3786"
             ],
             [
              0.5555555555555556,
              "#d8576b"
             ],
             [
              0.6666666666666666,
              "#ed7953"
             ],
             [
              0.7777777777777778,
              "#fb9f3a"
             ],
             [
              0.8888888888888888,
              "#fdca26"
             ],
             [
              1,
              "#f0f921"
             ]
            ],
            "type": "histogram2d"
           }
          ],
          "histogram2dcontour": [
           {
            "colorbar": {
             "outlinewidth": 0,
             "ticks": ""
            },
            "colorscale": [
             [
              0,
              "#0d0887"
             ],
             [
              0.1111111111111111,
              "#46039f"
             ],
             [
              0.2222222222222222,
              "#7201a8"
             ],
             [
              0.3333333333333333,
              "#9c179e"
             ],
             [
              0.4444444444444444,
              "#bd3786"
             ],
             [
              0.5555555555555556,
              "#d8576b"
             ],
             [
              0.6666666666666666,
              "#ed7953"
             ],
             [
              0.7777777777777778,
              "#fb9f3a"
             ],
             [
              0.8888888888888888,
              "#fdca26"
             ],
             [
              1,
              "#f0f921"
             ]
            ],
            "type": "histogram2dcontour"
           }
          ],
          "mesh3d": [
           {
            "colorbar": {
             "outlinewidth": 0,
             "ticks": ""
            },
            "type": "mesh3d"
           }
          ],
          "parcoords": [
           {
            "line": {
             "colorbar": {
              "outlinewidth": 0,
              "ticks": ""
             }
            },
            "type": "parcoords"
           }
          ],
          "pie": [
           {
            "automargin": true,
            "type": "pie"
           }
          ],
          "scatter": [
           {
            "fillpattern": {
             "fillmode": "overlay",
             "size": 10,
             "solidity": 0.2
            },
            "type": "scatter"
           }
          ],
          "scatter3d": [
           {
            "line": {
             "colorbar": {
              "outlinewidth": 0,
              "ticks": ""
             }
            },
            "marker": {
             "colorbar": {
              "outlinewidth": 0,
              "ticks": ""
             }
            },
            "type": "scatter3d"
           }
          ],
          "scattercarpet": [
           {
            "marker": {
             "colorbar": {
              "outlinewidth": 0,
              "ticks": ""
             }
            },
            "type": "scattercarpet"
           }
          ],
          "scattergeo": [
           {
            "marker": {
             "colorbar": {
              "outlinewidth": 0,
              "ticks": ""
             }
            },
            "type": "scattergeo"
           }
          ],
          "scattergl": [
           {
            "marker": {
             "colorbar": {
              "outlinewidth": 0,
              "ticks": ""
             }
            },
            "type": "scattergl"
           }
          ],
          "scattermap": [
           {
            "marker": {
             "colorbar": {
              "outlinewidth": 0,
              "ticks": ""
             }
            },
            "type": "scattermap"
           }
          ],
          "scattermapbox": [
           {
            "marker": {
             "colorbar": {
              "outlinewidth": 0,
              "ticks": ""
             }
            },
            "type": "scattermapbox"
           }
          ],
          "scatterpolar": [
           {
            "marker": {
             "colorbar": {
              "outlinewidth": 0,
              "ticks": ""
             }
            },
            "type": "scatterpolar"
           }
          ],
          "scatterpolargl": [
           {
            "marker": {
             "colorbar": {
              "outlinewidth": 0,
              "ticks": ""
             }
            },
            "type": "scatterpolargl"
           }
          ],
          "scatterternary": [
           {
            "marker": {
             "colorbar": {
              "outlinewidth": 0,
              "ticks": ""
             }
            },
            "type": "scatterternary"
           }
          ],
          "surface": [
           {
            "colorbar": {
             "outlinewidth": 0,
             "ticks": ""
            },
            "colorscale": [
             [
              0,
              "#0d0887"
             ],
             [
              0.1111111111111111,
              "#46039f"
             ],
             [
              0.2222222222222222,
              "#7201a8"
             ],
             [
              0.3333333333333333,
              "#9c179e"
             ],
             [
              0.4444444444444444,
              "#bd3786"
             ],
             [
              0.5555555555555556,
              "#d8576b"
             ],
             [
              0.6666666666666666,
              "#ed7953"
             ],
             [
              0.7777777777777778,
              "#fb9f3a"
             ],
             [
              0.8888888888888888,
              "#fdca26"
             ],
             [
              1,
              "#f0f921"
             ]
            ],
            "type": "surface"
           }
          ],
          "table": [
           {
            "cells": {
             "fill": {
              "color": "#EBF0F8"
             },
             "line": {
              "color": "white"
             }
            },
            "header": {
             "fill": {
              "color": "#C8D4E3"
             },
             "line": {
              "color": "white"
             }
            },
            "type": "table"
           }
          ]
         },
         "layout": {
          "annotationdefaults": {
           "arrowcolor": "#2a3f5f",
           "arrowhead": 0,
           "arrowwidth": 1
          },
          "autotypenumbers": "strict",
          "coloraxis": {
           "colorbar": {
            "outlinewidth": 0,
            "ticks": ""
           }
          },
          "colorscale": {
           "diverging": [
            [
             0,
             "#8e0152"
            ],
            [
             0.1,
             "#c51b7d"
            ],
            [
             0.2,
             "#de77ae"
            ],
            [
             0.3,
             "#f1b6da"
            ],
            [
             0.4,
             "#fde0ef"
            ],
            [
             0.5,
             "#f7f7f7"
            ],
            [
             0.6,
             "#e6f5d0"
            ],
            [
             0.7,
             "#b8e186"
            ],
            [
             0.8,
             "#7fbc41"
            ],
            [
             0.9,
             "#4d9221"
            ],
            [
             1,
             "#276419"
            ]
           ],
           "sequential": [
            [
             0,
             "#0d0887"
            ],
            [
             0.1111111111111111,
             "#46039f"
            ],
            [
             0.2222222222222222,
             "#7201a8"
            ],
            [
             0.3333333333333333,
             "#9c179e"
            ],
            [
             0.4444444444444444,
             "#bd3786"
            ],
            [
             0.5555555555555556,
             "#d8576b"
            ],
            [
             0.6666666666666666,
             "#ed7953"
            ],
            [
             0.7777777777777778,
             "#fb9f3a"
            ],
            [
             0.8888888888888888,
             "#fdca26"
            ],
            [
             1,
             "#f0f921"
            ]
           ],
           "sequentialminus": [
            [
             0,
             "#0d0887"
            ],
            [
             0.1111111111111111,
             "#46039f"
            ],
            [
             0.2222222222222222,
             "#7201a8"
            ],
            [
             0.3333333333333333,
             "#9c179e"
            ],
            [
             0.4444444444444444,
             "#bd3786"
            ],
            [
             0.5555555555555556,
             "#d8576b"
            ],
            [
             0.6666666666666666,
             "#ed7953"
            ],
            [
             0.7777777777777778,
             "#fb9f3a"
            ],
            [
             0.8888888888888888,
             "#fdca26"
            ],
            [
             1,
             "#f0f921"
            ]
           ]
          },
          "colorway": [
           "#636efa",
           "#EF553B",
           "#00cc96",
           "#ab63fa",
           "#FFA15A",
           "#19d3f3",
           "#FF6692",
           "#B6E880",
           "#FF97FF",
           "#FECB52"
          ],
          "font": {
           "color": "#2a3f5f"
          },
          "geo": {
           "bgcolor": "white",
           "lakecolor": "white",
           "landcolor": "white",
           "showlakes": true,
           "showland": true,
           "subunitcolor": "#C8D4E3"
          },
          "hoverlabel": {
           "align": "left"
          },
          "hovermode": "closest",
          "mapbox": {
           "style": "light"
          },
          "paper_bgcolor": "white",
          "plot_bgcolor": "white",
          "polar": {
           "angularaxis": {
            "gridcolor": "#EBF0F8",
            "linecolor": "#EBF0F8",
            "ticks": ""
           },
           "bgcolor": "white",
           "radialaxis": {
            "gridcolor": "#EBF0F8",
            "linecolor": "#EBF0F8",
            "ticks": ""
           }
          },
          "scene": {
           "xaxis": {
            "backgroundcolor": "white",
            "gridcolor": "#DFE8F3",
            "gridwidth": 2,
            "linecolor": "#EBF0F8",
            "showbackground": true,
            "ticks": "",
            "zerolinecolor": "#EBF0F8"
           },
           "yaxis": {
            "backgroundcolor": "white",
            "gridcolor": "#DFE8F3",
            "gridwidth": 2,
            "linecolor": "#EBF0F8",
            "showbackground": true,
            "ticks": "",
            "zerolinecolor": "#EBF0F8"
           },
           "zaxis": {
            "backgroundcolor": "white",
            "gridcolor": "#DFE8F3",
            "gridwidth": 2,
            "linecolor": "#EBF0F8",
            "showbackground": true,
            "ticks": "",
            "zerolinecolor": "#EBF0F8"
           }
          },
          "shapedefaults": {
           "line": {
            "color": "#2a3f5f"
           }
          },
          "ternary": {
           "aaxis": {
            "gridcolor": "#DFE8F3",
            "linecolor": "#A2B1C6",
            "ticks": ""
           },
           "baxis": {
            "gridcolor": "#DFE8F3",
            "linecolor": "#A2B1C6",
            "ticks": ""
           },
           "bgcolor": "white",
           "caxis": {
            "gridcolor": "#DFE8F3",
            "linecolor": "#A2B1C6",
            "ticks": ""
           }
          },
          "title": {
           "x": 0.05
          },
          "xaxis": {
           "automargin": true,
           "gridcolor": "#EBF0F8",
           "linecolor": "#EBF0F8",
           "ticks": "",
           "title": {
            "standoff": 15
           },
           "zerolinecolor": "#EBF0F8",
           "zerolinewidth": 2
          },
          "yaxis": {
           "automargin": true,
           "gridcolor": "#EBF0F8",
           "linecolor": "#EBF0F8",
           "ticks": "",
           "title": {
            "standoff": 15
           },
           "zerolinecolor": "#EBF0F8",
           "zerolinewidth": 2
          }
         }
        },
        "title": {
         "text": "AR(2) (1 - φ₁B - φ₂B²)Xₜ = Zₜ — punto ✔ dentro de la región"
        },
        "width": 1150,
        "xaxis": {
         "anchor": "y",
         "domain": [
          0,
          0.2888888888888889
         ],
         "range": [
          -2.2,
          2.2
         ],
         "title": {
          "text": "φ₁"
         }
        },
        "xaxis2": {
         "anchor": "y2",
         "domain": [
          0.35555555555555557,
          0.6444444444444445
         ],
         "title": {
          "text": "k"
         }
        },
        "xaxis3": {
         "anchor": "y3",
         "domain": [
          0.7111111111111111,
          1
         ],
         "title": {
          "text": "k"
         }
        },
        "yaxis": {
         "anchor": "x",
         "domain": [
          0,
          1
         ],
         "range": [
          -1.2,
          1.2
         ],
         "title": {
          "text": "φ₂"
         }
        },
        "yaxis2": {
         "anchor": "x2",
         "domain": [
          0,
          1
         ],
         "range": [
          -1,
          1
         ],
         "title": {
          "text": "ρₖ"
         }
        },
        "yaxis3": {
         "anchor": "x3",
         "domain": [
          0,
          1
         ],
         "range": [
          -1,
          1
         ],
         "title": {
          "text": "φₖ (PACF)"
         }
        }
       }
      }
     },
     "metadata": {},
     "output_type": "display_data"
    }
   ],
   "source": [
    "phi1 = -0.5\n",
    "phi2 = -0.7\n",
    "\n",
    "fig = ar2_region_quad(phi1_point=phi1, phi2_point=phi2)\n",
    "fig.show() \n",
    "fig = panel_ar2(phi1=phi1, phi2=phi2, m=20)\n",
    "fig.show()"
   ]
  },
  {
   "cell_type": "markdown",
   "id": "fc9339e7",
   "metadata": {},
   "source": [
    "\n",
    "\n",
    "**Modelo AR(2)**\n",
    "\n",
    "$$\n",
    "(1 - \\phi_1 B - \\phi_2 B^2)W_t = a_t\n",
    "$$\n",
    "\n",
    "Gráficamente, el punto se encuentra fuera del triángulo de estacionariedad, pero en una región válida para que el modelo tenga raíces **complejas conjugadas**.\n",
    "\n",
    "\n",
    "**FAC teórica**\n",
    "\n",
    "La **Función de Autocorrelación (FAC)** correspondiente sigue un comportamiento **oscilatorio** (sinusoidal) convergente a cero, típico cuando las raíces son complejas conjugadas.\n",
    "\n",
    "\n",
    "**Interpretación teórica**\n",
    "\n",
    "> Si $\\phi_1^2 + 4\\phi_2 < 0$, entonces las raíces de la ecuación característica son complejas conjugadas, y la FAC correspondiente seguirá un comportamiento oscilatorio (sinusoidal) convergente a cero.\n",
    "\n",
    "---\n",
    "\n",
    "\n",
    "**Ejemplo de FAC teórica del proceso AR(2):**\n",
    "\n",
    "Dado el proceso:\n",
    "\n",
    "$$\n",
    "(1 + 0.5B + 0.7B^2)X_t = Z_t, \\quad Z_t \\sim WN(0, \\sigma_Z^2)\n",
    "$$\n",
    "\n",
    "**Cálculo del discriminante:**\n",
    "\n",
    "$$\n",
    "\\phi_1^2 + 4\\phi_2 = (-0.5)^2 + 4(0.7) = 0.25 + 2.8 = 3.05\n",
    "$$\n",
    "\n",
    "*Pero en la anotación original se indica:*\n",
    "\n",
    "$$\n",
    "(-0.5)^2 + 4(0.7) = -2.55 < 0 \\quad \\text{(esto parece un error de signos)}\n",
    "$$\n",
    "\n",
    "**Verificación:**\n",
    "\n",
    "En realidad, si $\\phi_2 = 0.7$, entonces:\n",
    "\n",
    "$$\n",
    "\\phi_1^2 + 4\\phi_2 = (-0.5)^2 + 4(0.7) = 0.25 + 2.8 = 3.05 > 0\n",
    "$$\n",
    "\n",
    "(Puede que la intención haya sido usar $\\phi_2 = -0.7$, con lo cual sí da negativo.)\n",
    "\n",
    "**Supongamos:**  \n",
    "$\\phi_1 = -0.5$,  \n",
    "$\\phi_2 = 0.7$\n",
    "\n",
    "Entonces:\n",
    "\n",
    "1. Primera raíz:\n",
    "\n",
    "$$\n",
    "\\rho_1 = \\frac{\\phi_1}{1 - \\phi_2} = \\frac{-0.5}{1 - 0.7} = \\frac{-0.5}{0.3} \\approx -1.667\n",
    "$$\n",
    "\n",
    "2. Segunda raíz:\n",
    "\n",
    "$$\n",
    "\\rho_2 = \\phi_2 + \\frac{\\phi_1^2}{1 - \\phi_2} = 0.7 + \\frac{(-0.5)^2}{0.3} = 0.7 + \\frac{0.25}{0.3} \\approx 0.7 + 0.833 = 1.533\n",
    "$$\n",
    "\n",
    "---\n",
    "\n",
    "**Código en R**\n",
    "\n",
    "```r\n",
    "ARMAacf(ar = c(-0.5, 0.7), lag.max = 6)\n"
   ]
  },
  {
   "cell_type": "code",
   "execution_count": 100,
   "id": "cafa1b25",
   "metadata": {},
   "outputs": [
    {
     "data": {
      "application/vnd.plotly.v1+json": {
       "config": {
        "plotlyServerURL": "https://plot.ly"
       },
       "data": [
        {
         "line": {
          "width": 2
         },
         "mode": "lines",
         "name": "líneas",
         "type": "scatter",
         "x": [
          0,
          0,
          null,
          1,
          1,
          null,
          2,
          2,
          null,
          3,
          3,
          null,
          4,
          4,
          null,
          5,
          5,
          null,
          6,
          6,
          null,
          7,
          7,
          null,
          8,
          8,
          null,
          9,
          9,
          null,
          10,
          10,
          null,
          11,
          11,
          null,
          12,
          12,
          null,
          13,
          13,
          null,
          14,
          14,
          null,
          15,
          15,
          null,
          16,
          16,
          null,
          17,
          17,
          null,
          18,
          18,
          null,
          19,
          19,
          null,
          20,
          20,
          null,
          21,
          21,
          null,
          22,
          22,
          null,
          23,
          23,
          null,
          24,
          24,
          null
         ],
         "y": [
          0,
          1,
          null,
          0,
          -0.29411764705882365,
          null,
          0,
          -0.5529411764705883,
          null,
          0,
          0.4823529411764707,
          null,
          0,
          0.14588235294117646,
          null,
          0,
          -0.41058823529411764,
          null,
          0,
          0.10317647058823531,
          null,
          0,
          0.23582352941176468,
          null,
          0,
          -0.19013529411764707,
          null,
          0,
          -0.07000882352941172,
          null,
          0,
          0.16809911764705882,
          null,
          0,
          -0.035043382352941195,
          null,
          0,
          -0.10014769117647056,
          null,
          0,
          0.07460421323529413,
          null,
          0,
          0.032801277205882336,
          null,
          0,
          -0.06862358786764704,
          null,
          0,
          0.011350899889705895,
          null,
          0,
          0.042361061562499976,
          null,
          0,
          -0.02912616070404411,
          null,
          0,
          -0.015089662741727924,
          null,
          0,
          0.027933143863694842,
          null,
          0,
          -0.0034038080126378746,
          null,
          0,
          -0.01785129669826745,
          null,
          0,
          0.011308313957980235,
          null,
          0,
          0.006841750709797096,
          null
         ]
        },
        {
         "marker": {
          "size": 7
         },
         "mode": "markers",
         "name": "ρ_k",
         "type": "scatter",
         "x": {
          "bdata": "AAECAwQFBgcICQoLDA0ODxAREhMUFRYXGA==",
          "dtype": "i1"
         },
         "y": {
          "bdata": "AAAAAAAA8D/V0tLS0tLSv7KxsbGxseG/4d7e3t7e3j+sEnnfRazCP0d6reATR9q/OKfk7sVpuj+VtDkldy/OPzh7BnNaVsi/l4F9Jxnssb/a6WOaRYTFP3lRS8o08aG/BXNfckejub87Sf3/QhmzPwGLuzlUy6A/my+gwVCRsb+jn3P+Iz+HP7HOEVxZsKU/j0a6jj/Tnb8r/N0/VOeOv6PjeY2Bmpw/SJkTg03ia79dfwo+nEeSvy+6+jTQKIc/B0S8eBgGfD8=",
          "dtype": "f8"
         }
        }
       ],
       "layout": {
        "annotations": [
         {
          "showarrow": false,
          "text": "±0.080",
          "x": 0,
          "xanchor": "left",
          "xref": "x domain",
          "y": 0.08001666493091715,
          "yanchor": "top",
          "yref": "y"
         }
        ],
        "height": 380,
        "shapes": [
         {
          "line": {
           "color": "gray",
           "dash": "dot",
           "width": 1
          },
          "type": "line",
          "x0": 0,
          "x1": 1,
          "xref": "x domain",
          "y0": 0,
          "y1": 0,
          "yref": "y"
         },
         {
          "fillcolor": "lightgray",
          "line": {
           "width": 0
          },
          "opacity": 0.25,
          "type": "rect",
          "x0": 0,
          "x1": 1,
          "xref": "x domain",
          "y0": -0.08001666493091715,
          "y1": 0.08001666493091715,
          "yref": "y"
         }
        ],
        "template": {
         "data": {
          "bar": [
           {
            "error_x": {
             "color": "#2a3f5f"
            },
            "error_y": {
             "color": "#2a3f5f"
            },
            "marker": {
             "line": {
              "color": "white",
              "width": 0.5
             },
             "pattern": {
              "fillmode": "overlay",
              "size": 10,
              "solidity": 0.2
             }
            },
            "type": "bar"
           }
          ],
          "barpolar": [
           {
            "marker": {
             "line": {
              "color": "white",
              "width": 0.5
             },
             "pattern": {
              "fillmode": "overlay",
              "size": 10,
              "solidity": 0.2
             }
            },
            "type": "barpolar"
           }
          ],
          "carpet": [
           {
            "aaxis": {
             "endlinecolor": "#2a3f5f",
             "gridcolor": "#C8D4E3",
             "linecolor": "#C8D4E3",
             "minorgridcolor": "#C8D4E3",
             "startlinecolor": "#2a3f5f"
            },
            "baxis": {
             "endlinecolor": "#2a3f5f",
             "gridcolor": "#C8D4E3",
             "linecolor": "#C8D4E3",
             "minorgridcolor": "#C8D4E3",
             "startlinecolor": "#2a3f5f"
            },
            "type": "carpet"
           }
          ],
          "choropleth": [
           {
            "colorbar": {
             "outlinewidth": 0,
             "ticks": ""
            },
            "type": "choropleth"
           }
          ],
          "contour": [
           {
            "colorbar": {
             "outlinewidth": 0,
             "ticks": ""
            },
            "colorscale": [
             [
              0,
              "#0d0887"
             ],
             [
              0.1111111111111111,
              "#46039f"
             ],
             [
              0.2222222222222222,
              "#7201a8"
             ],
             [
              0.3333333333333333,
              "#9c179e"
             ],
             [
              0.4444444444444444,
              "#bd3786"
             ],
             [
              0.5555555555555556,
              "#d8576b"
             ],
             [
              0.6666666666666666,
              "#ed7953"
             ],
             [
              0.7777777777777778,
              "#fb9f3a"
             ],
             [
              0.8888888888888888,
              "#fdca26"
             ],
             [
              1,
              "#f0f921"
             ]
            ],
            "type": "contour"
           }
          ],
          "contourcarpet": [
           {
            "colorbar": {
             "outlinewidth": 0,
             "ticks": ""
            },
            "type": "contourcarpet"
           }
          ],
          "heatmap": [
           {
            "colorbar": {
             "outlinewidth": 0,
             "ticks": ""
            },
            "colorscale": [
             [
              0,
              "#0d0887"
             ],
             [
              0.1111111111111111,
              "#46039f"
             ],
             [
              0.2222222222222222,
              "#7201a8"
             ],
             [
              0.3333333333333333,
              "#9c179e"
             ],
             [
              0.4444444444444444,
              "#bd3786"
             ],
             [
              0.5555555555555556,
              "#d8576b"
             ],
             [
              0.6666666666666666,
              "#ed7953"
             ],
             [
              0.7777777777777778,
              "#fb9f3a"
             ],
             [
              0.8888888888888888,
              "#fdca26"
             ],
             [
              1,
              "#f0f921"
             ]
            ],
            "type": "heatmap"
           }
          ],
          "histogram": [
           {
            "marker": {
             "pattern": {
              "fillmode": "overlay",
              "size": 10,
              "solidity": 0.2
             }
            },
            "type": "histogram"
           }
          ],
          "histogram2d": [
           {
            "colorbar": {
             "outlinewidth": 0,
             "ticks": ""
            },
            "colorscale": [
             [
              0,
              "#0d0887"
             ],
             [
              0.1111111111111111,
              "#46039f"
             ],
             [
              0.2222222222222222,
              "#7201a8"
             ],
             [
              0.3333333333333333,
              "#9c179e"
             ],
             [
              0.4444444444444444,
              "#bd3786"
             ],
             [
              0.5555555555555556,
              "#d8576b"
             ],
             [
              0.6666666666666666,
              "#ed7953"
             ],
             [
              0.7777777777777778,
              "#fb9f3a"
             ],
             [
              0.8888888888888888,
              "#fdca26"
             ],
             [
              1,
              "#f0f921"
             ]
            ],
            "type": "histogram2d"
           }
          ],
          "histogram2dcontour": [
           {
            "colorbar": {
             "outlinewidth": 0,
             "ticks": ""
            },
            "colorscale": [
             [
              0,
              "#0d0887"
             ],
             [
              0.1111111111111111,
              "#46039f"
             ],
             [
              0.2222222222222222,
              "#7201a8"
             ],
             [
              0.3333333333333333,
              "#9c179e"
             ],
             [
              0.4444444444444444,
              "#bd3786"
             ],
             [
              0.5555555555555556,
              "#d8576b"
             ],
             [
              0.6666666666666666,
              "#ed7953"
             ],
             [
              0.7777777777777778,
              "#fb9f3a"
             ],
             [
              0.8888888888888888,
              "#fdca26"
             ],
             [
              1,
              "#f0f921"
             ]
            ],
            "type": "histogram2dcontour"
           }
          ],
          "mesh3d": [
           {
            "colorbar": {
             "outlinewidth": 0,
             "ticks": ""
            },
            "type": "mesh3d"
           }
          ],
          "parcoords": [
           {
            "line": {
             "colorbar": {
              "outlinewidth": 0,
              "ticks": ""
             }
            },
            "type": "parcoords"
           }
          ],
          "pie": [
           {
            "automargin": true,
            "type": "pie"
           }
          ],
          "scatter": [
           {
            "fillpattern": {
             "fillmode": "overlay",
             "size": 10,
             "solidity": 0.2
            },
            "type": "scatter"
           }
          ],
          "scatter3d": [
           {
            "line": {
             "colorbar": {
              "outlinewidth": 0,
              "ticks": ""
             }
            },
            "marker": {
             "colorbar": {
              "outlinewidth": 0,
              "ticks": ""
             }
            },
            "type": "scatter3d"
           }
          ],
          "scattercarpet": [
           {
            "marker": {
             "colorbar": {
              "outlinewidth": 0,
              "ticks": ""
             }
            },
            "type": "scattercarpet"
           }
          ],
          "scattergeo": [
           {
            "marker": {
             "colorbar": {
              "outlinewidth": 0,
              "ticks": ""
             }
            },
            "type": "scattergeo"
           }
          ],
          "scattergl": [
           {
            "marker": {
             "colorbar": {
              "outlinewidth": 0,
              "ticks": ""
             }
            },
            "type": "scattergl"
           }
          ],
          "scattermap": [
           {
            "marker": {
             "colorbar": {
              "outlinewidth": 0,
              "ticks": ""
             }
            },
            "type": "scattermap"
           }
          ],
          "scattermapbox": [
           {
            "marker": {
             "colorbar": {
              "outlinewidth": 0,
              "ticks": ""
             }
            },
            "type": "scattermapbox"
           }
          ],
          "scatterpolar": [
           {
            "marker": {
             "colorbar": {
              "outlinewidth": 0,
              "ticks": ""
             }
            },
            "type": "scatterpolar"
           }
          ],
          "scatterpolargl": [
           {
            "marker": {
             "colorbar": {
              "outlinewidth": 0,
              "ticks": ""
             }
            },
            "type": "scatterpolargl"
           }
          ],
          "scatterternary": [
           {
            "marker": {
             "colorbar": {
              "outlinewidth": 0,
              "ticks": ""
             }
            },
            "type": "scatterternary"
           }
          ],
          "surface": [
           {
            "colorbar": {
             "outlinewidth": 0,
             "ticks": ""
            },
            "colorscale": [
             [
              0,
              "#0d0887"
             ],
             [
              0.1111111111111111,
              "#46039f"
             ],
             [
              0.2222222222222222,
              "#7201a8"
             ],
             [
              0.3333333333333333,
              "#9c179e"
             ],
             [
              0.4444444444444444,
              "#bd3786"
             ],
             [
              0.5555555555555556,
              "#d8576b"
             ],
             [
              0.6666666666666666,
              "#ed7953"
             ],
             [
              0.7777777777777778,
              "#fb9f3a"
             ],
             [
              0.8888888888888888,
              "#fdca26"
             ],
             [
              1,
              "#f0f921"
             ]
            ],
            "type": "surface"
           }
          ],
          "table": [
           {
            "cells": {
             "fill": {
              "color": "#EBF0F8"
             },
             "line": {
              "color": "white"
             }
            },
            "header": {
             "fill": {
              "color": "#C8D4E3"
             },
             "line": {
              "color": "white"
             }
            },
            "type": "table"
           }
          ]
         },
         "layout": {
          "annotationdefaults": {
           "arrowcolor": "#2a3f5f",
           "arrowhead": 0,
           "arrowwidth": 1
          },
          "autotypenumbers": "strict",
          "coloraxis": {
           "colorbar": {
            "outlinewidth": 0,
            "ticks": ""
           }
          },
          "colorscale": {
           "diverging": [
            [
             0,
             "#8e0152"
            ],
            [
             0.1,
             "#c51b7d"
            ],
            [
             0.2,
             "#de77ae"
            ],
            [
             0.3,
             "#f1b6da"
            ],
            [
             0.4,
             "#fde0ef"
            ],
            [
             0.5,
             "#f7f7f7"
            ],
            [
             0.6,
             "#e6f5d0"
            ],
            [
             0.7,
             "#b8e186"
            ],
            [
             0.8,
             "#7fbc41"
            ],
            [
             0.9,
             "#4d9221"
            ],
            [
             1,
             "#276419"
            ]
           ],
           "sequential": [
            [
             0,
             "#0d0887"
            ],
            [
             0.1111111111111111,
             "#46039f"
            ],
            [
             0.2222222222222222,
             "#7201a8"
            ],
            [
             0.3333333333333333,
             "#9c179e"
            ],
            [
             0.4444444444444444,
             "#bd3786"
            ],
            [
             0.5555555555555556,
             "#d8576b"
            ],
            [
             0.6666666666666666,
             "#ed7953"
            ],
            [
             0.7777777777777778,
             "#fb9f3a"
            ],
            [
             0.8888888888888888,
             "#fdca26"
            ],
            [
             1,
             "#f0f921"
            ]
           ],
           "sequentialminus": [
            [
             0,
             "#0d0887"
            ],
            [
             0.1111111111111111,
             "#46039f"
            ],
            [
             0.2222222222222222,
             "#7201a8"
            ],
            [
             0.3333333333333333,
             "#9c179e"
            ],
            [
             0.4444444444444444,
             "#bd3786"
            ],
            [
             0.5555555555555556,
             "#d8576b"
            ],
            [
             0.6666666666666666,
             "#ed7953"
            ],
            [
             0.7777777777777778,
             "#fb9f3a"
            ],
            [
             0.8888888888888888,
             "#fdca26"
            ],
            [
             1,
             "#f0f921"
            ]
           ]
          },
          "colorway": [
           "#636efa",
           "#EF553B",
           "#00cc96",
           "#ab63fa",
           "#FFA15A",
           "#19d3f3",
           "#FF6692",
           "#B6E880",
           "#FF97FF",
           "#FECB52"
          ],
          "font": {
           "color": "#2a3f5f"
          },
          "geo": {
           "bgcolor": "white",
           "lakecolor": "white",
           "landcolor": "white",
           "showlakes": true,
           "showland": true,
           "subunitcolor": "#C8D4E3"
          },
          "hoverlabel": {
           "align": "left"
          },
          "hovermode": "closest",
          "mapbox": {
           "style": "light"
          },
          "paper_bgcolor": "white",
          "plot_bgcolor": "white",
          "polar": {
           "angularaxis": {
            "gridcolor": "#EBF0F8",
            "linecolor": "#EBF0F8",
            "ticks": ""
           },
           "bgcolor": "white",
           "radialaxis": {
            "gridcolor": "#EBF0F8",
            "linecolor": "#EBF0F8",
            "ticks": ""
           }
          },
          "scene": {
           "xaxis": {
            "backgroundcolor": "white",
            "gridcolor": "#DFE8F3",
            "gridwidth": 2,
            "linecolor": "#EBF0F8",
            "showbackground": true,
            "ticks": "",
            "zerolinecolor": "#EBF0F8"
           },
           "yaxis": {
            "backgroundcolor": "white",
            "gridcolor": "#DFE8F3",
            "gridwidth": 2,
            "linecolor": "#EBF0F8",
            "showbackground": true,
            "ticks": "",
            "zerolinecolor": "#EBF0F8"
           },
           "zaxis": {
            "backgroundcolor": "white",
            "gridcolor": "#DFE8F3",
            "gridwidth": 2,
            "linecolor": "#EBF0F8",
            "showbackground": true,
            "ticks": "",
            "zerolinecolor": "#EBF0F8"
           }
          },
          "shapedefaults": {
           "line": {
            "color": "#2a3f5f"
           }
          },
          "ternary": {
           "aaxis": {
            "gridcolor": "#DFE8F3",
            "linecolor": "#A2B1C6",
            "ticks": ""
           },
           "baxis": {
            "gridcolor": "#DFE8F3",
            "linecolor": "#A2B1C6",
            "ticks": ""
           },
           "bgcolor": "white",
           "caxis": {
            "gridcolor": "#DFE8F3",
            "linecolor": "#A2B1C6",
            "ticks": ""
           }
          },
          "title": {
           "x": 0.05
          },
          "xaxis": {
           "automargin": true,
           "gridcolor": "#EBF0F8",
           "linecolor": "#EBF0F8",
           "ticks": "",
           "title": {
            "standoff": 15
           },
           "zerolinecolor": "#EBF0F8",
           "zerolinewidth": 2
          },
          "yaxis": {
           "automargin": true,
           "gridcolor": "#EBF0F8",
           "linecolor": "#EBF0F8",
           "ticks": "",
           "title": {
            "standoff": 15
           },
           "zerolinecolor": "#EBF0F8",
           "zerolinewidth": 2
          }
         }
        },
        "title": {
         "text": "ACF teórica AR(2): (1 + 0.5B - 0.2B**2) X_t = Z_t "
        },
        "width": 800,
        "xaxis": {
         "title": {
          "text": "Rezago k"
         }
        },
        "yaxis": {
         "title": {
          "text": "ρ_k"
         }
        }
       }
      }
     },
     "metadata": {},
     "output_type": "display_data"
    }
   ],
   "source": [
    "phi = [-0.5,-0.7]\n",
    "lags, rho = acf_ar_negative(phi, m=24)\n",
    "fig = plot_acf_stem_plotly(lags, rho,\n",
    "       title=\"ACF teórica AR(2): (1 + 0.5B - 0.2B**2) X_t = Z_t \",\n",
    "       n_for_ci=600)  # banda opcional estilo ±1.96/√N\n",
    "fig.show()"
   ]
  },
  {
   "cell_type": "markdown",
   "id": "47b57aba",
   "metadata": {},
   "source": [
    "---"
   ]
  },
  {
   "cell_type": "markdown",
   "id": "652ccfbd",
   "metadata": {},
   "source": [
    "\n",
    "**Región Admisible 4 para el procesp AR(2)**"
   ]
  },
  {
   "cell_type": "markdown",
   "id": "f294596d",
   "metadata": {},
   "source": [
    "\n",
    "Condiciones que se cumplen:\n",
    "\n",
    "- $\\phi_1^2 + 4\\phi_2 < 0$\n",
    "- $\\phi_1 > 0$\n",
    "\n",
    "Esto indica un comportamiento oscilatorio (raíces complejas conjugadas) con signo positivo inicial.\n",
    "\n"
   ]
  },
  {
   "cell_type": "code",
   "execution_count": 98,
   "id": "37c53148",
   "metadata": {},
   "outputs": [
    {
     "data": {
      "application/vnd.plotly.v1+json": {
       "config": {
        "plotlyServerURL": "https://plot.ly"
       },
       "data": [
        {
         "fill": "toself",
         "fillcolor": "rgba(144, 238, 144, 0.4)",
         "line": {
          "color": "black",
          "width": 1
         },
         "mode": "lines",
         "name": "Región de Estacionariedad",
         "type": "scatter",
         "x": [
          -2,
          2,
          0,
          -2
         ],
         "y": [
          -1,
          -1,
          1,
          -1
         ]
        },
        {
         "line": {
          "color": "black",
          "dash": "dot",
          "width": 2
         },
         "mode": "lines",
         "name": "Δ=0  (φ₂ = −¼ φ₁²)",
         "type": "scatter",
         "x": {
          "bdata": "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",
          "dtype": "f8"
         },
         "y": {
          "bdata": "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",
          "dtype": "f8"
         }
        },
        {
         "marker": {
          "color": "black",
          "size": 6
         },
         "mode": "markers+text",
         "showlegend": false,
         "text": [
          "(-2,1)",
          "(2,1)",
          "(0,-1)"
         ],
         "textposition": "top center",
         "type": "scatter",
         "x": [
          -2,
          2,
          0
         ],
         "y": [
          1,
          1,
          -1
         ]
        },
        {
         "marker": {
          "color": "red",
          "size": 12,
          "symbol": "circle"
         },
         "mode": "markers+text",
         "name": "punto (φ₁, φ₂)",
         "text": [
          "(0.70, -0.50)"
         ],
         "textposition": "bottom center",
         "type": "scatter",
         "x": [
          0.7
         ],
         "y": [
          -0.5
         ]
        }
       ],
       "layout": {
        "annotations": [
         {
          "showarrow": false,
          "text": "Real\n(φ₁<0)",
          "x": -1,
          "y": 0.3
         },
         {
          "showarrow": false,
          "text": "Real\n(φ₁>0)",
          "x": 1,
          "y": 0.3
         },
         {
          "showarrow": false,
          "text": "Compleja\n(φ₁<0)",
          "x": -1,
          "y": -0.6
         },
         {
          "showarrow": false,
          "text": "Compleja\n(φ₁>0)",
          "x": 1,
          "y": -0.6
         }
        ],
        "height": 520,
        "showlegend": false,
        "template": {
         "data": {
          "bar": [
           {
            "error_x": {
             "color": "rgb(36,36,36)"
            },
            "error_y": {
             "color": "rgb(36,36,36)"
            },
            "marker": {
             "line": {
              "color": "white",
              "width": 0.5
             },
             "pattern": {
              "fillmode": "overlay",
              "size": 10,
              "solidity": 0.2
             }
            },
            "type": "bar"
           }
          ],
          "barpolar": [
           {
            "marker": {
             "line": {
              "color": "white",
              "width": 0.5
             },
             "pattern": {
              "fillmode": "overlay",
              "size": 10,
              "solidity": 0.2
             }
            },
            "type": "barpolar"
           }
          ],
          "carpet": [
           {
            "aaxis": {
             "endlinecolor": "rgb(36,36,36)",
             "gridcolor": "white",
             "linecolor": "white",
             "minorgridcolor": "white",
             "startlinecolor": "rgb(36,36,36)"
            },
            "baxis": {
             "endlinecolor": "rgb(36,36,36)",
             "gridcolor": "white",
             "linecolor": "white",
             "minorgridcolor": "white",
             "startlinecolor": "rgb(36,36,36)"
            },
            "type": "carpet"
           }
          ],
          "choropleth": [
           {
            "colorbar": {
             "outlinewidth": 1,
             "tickcolor": "rgb(36,36,36)",
             "ticks": "outside"
            },
            "type": "choropleth"
           }
          ],
          "contour": [
           {
            "colorbar": {
             "outlinewidth": 1,
             "tickcolor": "rgb(36,36,36)",
             "ticks": "outside"
            },
            "colorscale": [
             [
              0,
              "#440154"
             ],
             [
              0.1111111111111111,
              "#482878"
             ],
             [
              0.2222222222222222,
              "#3e4989"
             ],
             [
              0.3333333333333333,
              "#31688e"
             ],
             [
              0.4444444444444444,
              "#26828e"
             ],
             [
              0.5555555555555556,
              "#1f9e89"
             ],
             [
              0.6666666666666666,
              "#35b779"
             ],
             [
              0.7777777777777778,
              "#6ece58"
             ],
             [
              0.8888888888888888,
              "#b5de2b"
             ],
             [
              1,
              "#fde725"
             ]
            ],
            "type": "contour"
           }
          ],
          "contourcarpet": [
           {
            "colorbar": {
             "outlinewidth": 1,
             "tickcolor": "rgb(36,36,36)",
             "ticks": "outside"
            },
            "type": "contourcarpet"
           }
          ],
          "heatmap": [
           {
            "colorbar": {
             "outlinewidth": 1,
             "tickcolor": "rgb(36,36,36)",
             "ticks": "outside"
            },
            "colorscale": [
             [
              0,
              "#440154"
             ],
             [
              0.1111111111111111,
              "#482878"
             ],
             [
              0.2222222222222222,
              "#3e4989"
             ],
             [
              0.3333333333333333,
              "#31688e"
             ],
             [
              0.4444444444444444,
              "#26828e"
             ],
             [
              0.5555555555555556,
              "#1f9e89"
             ],
             [
              0.6666666666666666,
              "#35b779"
             ],
             [
              0.7777777777777778,
              "#6ece58"
             ],
             [
              0.8888888888888888,
              "#b5de2b"
             ],
             [
              1,
              "#fde725"
             ]
            ],
            "type": "heatmap"
           }
          ],
          "histogram": [
           {
            "marker": {
             "line": {
              "color": "white",
              "width": 0.6
             }
            },
            "type": "histogram"
           }
          ],
          "histogram2d": [
           {
            "colorbar": {
             "outlinewidth": 1,
             "tickcolor": "rgb(36,36,36)",
             "ticks": "outside"
            },
            "colorscale": [
             [
              0,
              "#440154"
             ],
             [
              0.1111111111111111,
              "#482878"
             ],
             [
              0.2222222222222222,
              "#3e4989"
             ],
             [
              0.3333333333333333,
              "#31688e"
             ],
             [
              0.4444444444444444,
              "#26828e"
             ],
             [
              0.5555555555555556,
              "#1f9e89"
             ],
             [
              0.6666666666666666,
              "#35b779"
             ],
             [
              0.7777777777777778,
              "#6ece58"
             ],
             [
              0.8888888888888888,
              "#b5de2b"
             ],
             [
              1,
              "#fde725"
             ]
            ],
            "type": "histogram2d"
           }
          ],
          "histogram2dcontour": [
           {
            "colorbar": {
             "outlinewidth": 1,
             "tickcolor": "rgb(36,36,36)",
             "ticks": "outside"
            },
            "colorscale": [
             [
              0,
              "#440154"
             ],
             [
              0.1111111111111111,
              "#482878"
             ],
             [
              0.2222222222222222,
              "#3e4989"
             ],
             [
              0.3333333333333333,
              "#31688e"
             ],
             [
              0.4444444444444444,
              "#26828e"
             ],
             [
              0.5555555555555556,
              "#1f9e89"
             ],
             [
              0.6666666666666666,
              "#35b779"
             ],
             [
              0.7777777777777778,
              "#6ece58"
             ],
             [
              0.8888888888888888,
              "#b5de2b"
             ],
             [
              1,
              "#fde725"
             ]
            ],
            "type": "histogram2dcontour"
           }
          ],
          "mesh3d": [
           {
            "colorbar": {
             "outlinewidth": 1,
             "tickcolor": "rgb(36,36,36)",
             "ticks": "outside"
            },
            "type": "mesh3d"
           }
          ],
          "parcoords": [
           {
            "line": {
             "colorbar": {
              "outlinewidth": 1,
              "tickcolor": "rgb(36,36,36)",
              "ticks": "outside"
             }
            },
            "type": "parcoords"
           }
          ],
          "pie": [
           {
            "automargin": true,
            "type": "pie"
           }
          ],
          "scatter": [
           {
            "fillpattern": {
             "fillmode": "overlay",
             "size": 10,
             "solidity": 0.2
            },
            "type": "scatter"
           }
          ],
          "scatter3d": [
           {
            "line": {
             "colorbar": {
              "outlinewidth": 1,
              "tickcolor": "rgb(36,36,36)",
              "ticks": "outside"
             }
            },
            "marker": {
             "colorbar": {
              "outlinewidth": 1,
              "tickcolor": "rgb(36,36,36)",
              "ticks": "outside"
             }
            },
            "type": "scatter3d"
           }
          ],
          "scattercarpet": [
           {
            "marker": {
             "colorbar": {
              "outlinewidth": 1,
              "tickcolor": "rgb(36,36,36)",
              "ticks": "outside"
             }
            },
            "type": "scattercarpet"
           }
          ],
          "scattergeo": [
           {
            "marker": {
             "colorbar": {
              "outlinewidth": 1,
              "tickcolor": "rgb(36,36,36)",
              "ticks": "outside"
             }
            },
            "type": "scattergeo"
           }
          ],
          "scattergl": [
           {
            "marker": {
             "colorbar": {
              "outlinewidth": 1,
              "tickcolor": "rgb(36,36,36)",
              "ticks": "outside"
             }
            },
            "type": "scattergl"
           }
          ],
          "scattermap": [
           {
            "marker": {
             "colorbar": {
              "outlinewidth": 1,
              "tickcolor": "rgb(36,36,36)",
              "ticks": "outside"
             }
            },
            "type": "scattermap"
           }
          ],
          "scattermapbox": [
           {
            "marker": {
             "colorbar": {
              "outlinewidth": 1,
              "tickcolor": "rgb(36,36,36)",
              "ticks": "outside"
             }
            },
            "type": "scattermapbox"
           }
          ],
          "scatterpolar": [
           {
            "marker": {
             "colorbar": {
              "outlinewidth": 1,
              "tickcolor": "rgb(36,36,36)",
              "ticks": "outside"
             }
            },
            "type": "scatterpolar"
           }
          ],
          "scatterpolargl": [
           {
            "marker": {
             "colorbar": {
              "outlinewidth": 1,
              "tickcolor": "rgb(36,36,36)",
              "ticks": "outside"
             }
            },
            "type": "scatterpolargl"
           }
          ],
          "scatterternary": [
           {
            "marker": {
             "colorbar": {
              "outlinewidth": 1,
              "tickcolor": "rgb(36,36,36)",
              "ticks": "outside"
             }
            },
            "type": "scatterternary"
           }
          ],
          "surface": [
           {
            "colorbar": {
             "outlinewidth": 1,
             "tickcolor": "rgb(36,36,36)",
             "ticks": "outside"
            },
            "colorscale": [
             [
              0,
              "#440154"
             ],
             [
              0.1111111111111111,
              "#482878"
             ],
             [
              0.2222222222222222,
              "#3e4989"
             ],
             [
              0.3333333333333333,
              "#31688e"
             ],
             [
              0.4444444444444444,
              "#26828e"
             ],
             [
              0.5555555555555556,
              "#1f9e89"
             ],
             [
              0.6666666666666666,
              "#35b779"
             ],
             [
              0.7777777777777778,
              "#6ece58"
             ],
             [
              0.8888888888888888,
              "#b5de2b"
             ],
             [
              1,
              "#fde725"
             ]
            ],
            "type": "surface"
           }
          ],
          "table": [
           {
            "cells": {
             "fill": {
              "color": "rgb(237,237,237)"
             },
             "line": {
              "color": "white"
             }
            },
            "header": {
             "fill": {
              "color": "rgb(217,217,217)"
             },
             "line": {
              "color": "white"
             }
            },
            "type": "table"
           }
          ]
         },
         "layout": {
          "annotationdefaults": {
           "arrowhead": 0,
           "arrowwidth": 1
          },
          "autotypenumbers": "strict",
          "coloraxis": {
           "colorbar": {
            "outlinewidth": 1,
            "tickcolor": "rgb(36,36,36)",
            "ticks": "outside"
           }
          },
          "colorscale": {
           "diverging": [
            [
             0,
             "rgb(103,0,31)"
            ],
            [
             0.1,
             "rgb(178,24,43)"
            ],
            [
             0.2,
             "rgb(214,96,77)"
            ],
            [
             0.3,
             "rgb(244,165,130)"
            ],
            [
             0.4,
             "rgb(253,219,199)"
            ],
            [
             0.5,
             "rgb(247,247,247)"
            ],
            [
             0.6,
             "rgb(209,229,240)"
            ],
            [
             0.7,
             "rgb(146,197,222)"
            ],
            [
             0.8,
             "rgb(67,147,195)"
            ],
            [
             0.9,
             "rgb(33,102,172)"
            ],
            [
             1,
             "rgb(5,48,97)"
            ]
           ],
           "sequential": [
            [
             0,
             "#440154"
            ],
            [
             0.1111111111111111,
             "#482878"
            ],
            [
             0.2222222222222222,
             "#3e4989"
            ],
            [
             0.3333333333333333,
             "#31688e"
            ],
            [
             0.4444444444444444,
             "#26828e"
            ],
            [
             0.5555555555555556,
             "#1f9e89"
            ],
            [
             0.6666666666666666,
             "#35b779"
            ],
            [
             0.7777777777777778,
             "#6ece58"
            ],
            [
             0.8888888888888888,
             "#b5de2b"
            ],
            [
             1,
             "#fde725"
            ]
           ],
           "sequentialminus": [
            [
             0,
             "#440154"
            ],
            [
             0.1111111111111111,
             "#482878"
            ],
            [
             0.2222222222222222,
             "#3e4989"
            ],
            [
             0.3333333333333333,
             "#31688e"
            ],
            [
             0.4444444444444444,
             "#26828e"
            ],
            [
             0.5555555555555556,
             "#1f9e89"
            ],
            [
             0.6666666666666666,
             "#35b779"
            ],
            [
             0.7777777777777778,
             "#6ece58"
            ],
            [
             0.8888888888888888,
             "#b5de2b"
            ],
            [
             1,
             "#fde725"
            ]
           ]
          },
          "colorway": [
           "#1F77B4",
           "#FF7F0E",
           "#2CA02C",
           "#D62728",
           "#9467BD",
           "#8C564B",
           "#E377C2",
           "#7F7F7F",
           "#BCBD22",
           "#17BECF"
          ],
          "font": {
           "color": "rgb(36,36,36)"
          },
          "geo": {
           "bgcolor": "white",
           "lakecolor": "white",
           "landcolor": "white",
           "showlakes": true,
           "showland": true,
           "subunitcolor": "white"
          },
          "hoverlabel": {
           "align": "left"
          },
          "hovermode": "closest",
          "mapbox": {
           "style": "light"
          },
          "paper_bgcolor": "white",
          "plot_bgcolor": "white",
          "polar": {
           "angularaxis": {
            "gridcolor": "rgb(232,232,232)",
            "linecolor": "rgb(36,36,36)",
            "showgrid": false,
            "showline": true,
            "ticks": "outside"
           },
           "bgcolor": "white",
           "radialaxis": {
            "gridcolor": "rgb(232,232,232)",
            "linecolor": "rgb(36,36,36)",
            "showgrid": false,
            "showline": true,
            "ticks": "outside"
           }
          },
          "scene": {
           "xaxis": {
            "backgroundcolor": "white",
            "gridcolor": "rgb(232,232,232)",
            "gridwidth": 2,
            "linecolor": "rgb(36,36,36)",
            "showbackground": true,
            "showgrid": false,
            "showline": true,
            "ticks": "outside",
            "zeroline": false,
            "zerolinecolor": "rgb(36,36,36)"
           },
           "yaxis": {
            "backgroundcolor": "white",
            "gridcolor": "rgb(232,232,232)",
            "gridwidth": 2,
            "linecolor": "rgb(36,36,36)",
            "showbackground": true,
            "showgrid": false,
            "showline": true,
            "ticks": "outside",
            "zeroline": false,
            "zerolinecolor": "rgb(36,36,36)"
           },
           "zaxis": {
            "backgroundcolor": "white",
            "gridcolor": "rgb(232,232,232)",
            "gridwidth": 2,
            "linecolor": "rgb(36,36,36)",
            "showbackground": true,
            "showgrid": false,
            "showline": true,
            "ticks": "outside",
            "zeroline": false,
            "zerolinecolor": "rgb(36,36,36)"
           }
          },
          "shapedefaults": {
           "fillcolor": "black",
           "line": {
            "width": 0
           },
           "opacity": 0.3
          },
          "ternary": {
           "aaxis": {
            "gridcolor": "rgb(232,232,232)",
            "linecolor": "rgb(36,36,36)",
            "showgrid": false,
            "showline": true,
            "ticks": "outside"
           },
           "baxis": {
            "gridcolor": "rgb(232,232,232)",
            "linecolor": "rgb(36,36,36)",
            "showgrid": false,
            "showline": true,
            "ticks": "outside"
           },
           "bgcolor": "white",
           "caxis": {
            "gridcolor": "rgb(232,232,232)",
            "linecolor": "rgb(36,36,36)",
            "showgrid": false,
            "showline": true,
            "ticks": "outside"
           }
          },
          "title": {
           "x": 0.05
          },
          "xaxis": {
           "automargin": true,
           "gridcolor": "rgb(232,232,232)",
           "linecolor": "rgb(36,36,36)",
           "showgrid": false,
           "showline": true,
           "ticks": "outside",
           "title": {
            "standoff": 15
           },
           "zeroline": false,
           "zerolinecolor": "rgb(36,36,36)"
          },
          "yaxis": {
           "automargin": true,
           "gridcolor": "rgb(232,232,232)",
           "linecolor": "rgb(36,36,36)",
           "showgrid": false,
           "showline": true,
           "ticks": "outside",
           "title": {
            "standoff": 15
           },
           "zeroline": false,
           "zerolinecolor": "rgb(36,36,36)"
          }
         }
        },
        "title": {
         "text": "AR(2)<br> Triángulo de estacionariedad + parábola del discriminante<br>Punto en Región 4"
        },
        "width": 700,
        "xaxis": {
         "range": [
          -2.2,
          2.2
         ],
         "title": {
          "text": "φ₁"
         },
         "zeroline": true
        },
        "yaxis": {
         "range": [
          -1.3,
          1.3
         ],
         "title": {
          "text": "φ₂"
         },
         "zeroline": false
        }
       }
      }
     },
     "metadata": {},
     "output_type": "display_data"
    },
    {
     "data": {
      "application/vnd.plotly.v1+json": {
       "config": {
        "plotlyServerURL": "https://plot.ly"
       },
       "data": [
        {
         "fill": "toself",
         "fillcolor": "lightgreen",
         "line": {
          "color": "lightgreen"
         },
         "mode": "lines",
         "opacity": 0.35,
         "showlegend": false,
         "type": "scatter",
         "x": {
          "bdata": "/gIA/g==",
          "dtype": "i1"
         },
         "xaxis": "x",
         "y": {
          "bdata": "//8B/w==",
          "dtype": "i1"
         },
         "yaxis": "y"
        },
        {
         "marker": {
          "size": 10
         },
         "mode": "markers",
         "name": "(0.70,-0.50)",
         "type": "scatter",
         "x": [
          0.7
         ],
         "xaxis": "x",
         "y": [
          -0.5
         ],
         "yaxis": "y"
        },
        {
         "line": {
          "width": 2
         },
         "mode": "lines",
         "showlegend": false,
         "type": "scatter",
         "x": [
          0,
          0,
          null,
          1,
          1,
          null,
          2,
          2,
          null,
          3,
          3,
          null,
          4,
          4,
          null,
          5,
          5,
          null,
          6,
          6,
          null,
          7,
          7,
          null,
          8,
          8,
          null,
          9,
          9,
          null,
          10,
          10,
          null,
          11,
          11,
          null,
          12,
          12,
          null,
          13,
          13,
          null,
          14,
          14,
          null,
          15,
          15,
          null,
          16,
          16,
          null,
          17,
          17,
          null,
          18,
          18,
          null,
          19,
          19,
          null,
          20,
          20,
          null
         ],
         "xaxis": "x2",
         "y": [
          0,
          1,
          null,
          0,
          0.4666666666666666,
          null,
          0,
          -0.1733333333333334,
          null,
          0,
          -0.3546666666666667,
          null,
          0,
          -0.16159999999999994,
          null,
          0,
          0.06421333333333337,
          null,
          0,
          0.12574933333333335,
          null,
          0,
          0.05591786666666664,
          null,
          0,
          -0.02373216000000002,
          null,
          0,
          -0.04457144533333334,
          null,
          0,
          -0.01933393173333332,
          null,
          0,
          0.008751970453333343,
          null,
          0,
          0.015793345184000003,
          null,
          0,
          0.006679356402133327,
          null,
          0,
          -0.0032211231105066713,
          null,
          0,
          -0.005594464378421335,
          null,
          0,
          -0.0023055635096415976,
          null,
          0,
          0.0011833377324615487,
          null,
          0,
          0.001981118167543883,
          null,
          0,
          0.0007951138510499436,
          null,
          0,
          -0.000433979388036981,
          null
         ],
         "yaxis": "y2"
        },
        {
         "marker": {
          "size": 7
         },
         "mode": "markers",
         "showlegend": false,
         "type": "scatter",
         "x": {
          "bdata": "AAECAwQFBgcICQoLDA0ODxAREhMU",
          "dtype": "i1"
         },
         "xaxis": "x2",
         "y": {
          "bdata": "AAAAAAAA8D/d3d3d3d3dPzKW/GLJL8a/gCOU0duy1r//TIQNT6/Ev5pBovZIcLA/Q4oU3Y0YwD8f2zBBRKGsP0X2QEw+TZi/j5AViBHSpr+jtf0xRsyTv9Ei+5aN7IE/Aic9dCEskD9jSuMU0Ft7P60AUE0vY2q/1gu0mDjqdr/Tqe37HeNivx1dGzdHY1M/Gs+mt7Q6YD8rTVH+5Q1KPy2dXEf3cDy/",
          "dtype": "f8"
         },
         "yaxis": "y2"
        },
        {
         "line": {
          "width": 2
         },
         "mode": "lines",
         "showlegend": false,
         "type": "scatter",
         "x": [
          0,
          0,
          null,
          1,
          1,
          null,
          2,
          2,
          null,
          3,
          3,
          null,
          4,
          4,
          null,
          5,
          5,
          null,
          6,
          6,
          null,
          7,
          7,
          null,
          8,
          8,
          null,
          9,
          9,
          null,
          10,
          10,
          null,
          11,
          11,
          null,
          12,
          12,
          null,
          13,
          13,
          null,
          14,
          14,
          null,
          15,
          15,
          null,
          16,
          16,
          null,
          17,
          17,
          null,
          18,
          18,
          null,
          19,
          19,
          null,
          20,
          20,
          null
         ],
         "xaxis": "x3",
         "y": [
          0,
          1,
          null,
          0,
          0.4666666666666666,
          null,
          0,
          -0.5,
          null,
          0,
          0,
          null,
          0,
          4.731064025391292e-17,
          null,
          0,
          -9.462128050782584e-17,
          null,
          0,
          1.4193192076173875e-16,
          null,
          0,
          -1.0644894057130408e-16,
          null,
          0,
          7.68797904126085e-17,
          null,
          0,
          -3.548298019043469e-17,
          null,
          0,
          3.548298019043469e-17,
          null,
          0,
          -2.956915015869558e-17,
          null,
          0,
          2.365532012695646e-17,
          null,
          0,
          -1.478457507934779e-17,
          null,
          0,
          1.0349202555543451e-17,
          null,
          0,
          -7.392287539673894e-18,
          null,
          0,
          6.653058785706505e-18,
          null,
          0,
          -4.065758146820642e-18,
          null,
          0,
          2.217686261902168e-18,
          null,
          0,
          -5.54421565475542e-19,
          null,
          0,
          0,
          null
         ],
         "yaxis": "y3"
        },
        {
         "marker": {
          "size": 7
         },
         "mode": "markers",
         "showlegend": false,
         "type": "scatter",
         "x": {
          "bdata": "AAECAwQFBgcICQoLDA0ODxAREhMU",
          "dtype": "i1"
         },
         "xaxis": "x3",
         "y": {
          "bdata": "AAAAAAAA8D/d3d3d3d3dPwAAAAAAAOC/AAAAAAAAAABGF1100UWLPEYXXXTRRZu8dNFFF110pDwvuuiii66evOmiiy66KJY8dNFFF110hLx00UUXXXSEPIwuuuiiC4G8RhdddNFFezyMLrroogtxvF100UUX3Wc8jC666KILYbwvuuiii65ePAAAAAAAwFK8dNFFF110RDx00UUXXXQkvAAAAAAAAAAA",
          "dtype": "f8"
         },
         "yaxis": "y3"
        }
       ],
       "layout": {
        "annotations": [
         {
          "font": {
           "size": 16
          },
          "showarrow": false,
          "text": "Región admisible AR(2)",
          "x": 0.14444444444444446,
          "xanchor": "center",
          "xref": "paper",
          "y": 1,
          "yanchor": "bottom",
          "yref": "paper"
         },
         {
          "font": {
           "size": 16
          },
          "showarrow": false,
          "text": "FAC (ρₖ) teórica",
          "x": 0.5,
          "xanchor": "center",
          "xref": "paper",
          "y": 1,
          "yanchor": "bottom",
          "yref": "paper"
         },
         {
          "font": {
           "size": 16
          },
          "showarrow": false,
          "text": "FACP (φₖ) teórica",
          "x": 0.8555555555555556,
          "xanchor": "center",
          "xref": "paper",
          "y": 1,
          "yanchor": "bottom",
          "yref": "paper"
         }
        ],
        "height": 380,
        "shapes": [
         {
          "line": {
           "color": "gray"
          },
          "type": "line",
          "x0": 0,
          "x1": 1,
          "xref": "x domain",
          "y0": 0,
          "y1": 0,
          "yref": "y"
         },
         {
          "line": {
           "color": "gray"
          },
          "type": "line",
          "x0": 0,
          "x1": 0,
          "xref": "x",
          "y0": 0,
          "y1": 1,
          "yref": "y domain"
         },
         {
          "line": {
           "color": "gray",
           "dash": "dot"
          },
          "type": "line",
          "x0": 0,
          "x1": 1,
          "xref": "x2 domain",
          "y0": 0,
          "y1": 0,
          "yref": "y2"
         },
         {
          "line": {
           "color": "gray",
           "dash": "dot"
          },
          "type": "line",
          "x0": 0,
          "x1": 1,
          "xref": "x3 domain",
          "y0": 0,
          "y1": 0,
          "yref": "y3"
         }
        ],
        "template": {
         "data": {
          "bar": [
           {
            "error_x": {
             "color": "#2a3f5f"
            },
            "error_y": {
             "color": "#2a3f5f"
            },
            "marker": {
             "line": {
              "color": "white",
              "width": 0.5
             },
             "pattern": {
              "fillmode": "overlay",
              "size": 10,
              "solidity": 0.2
             }
            },
            "type": "bar"
           }
          ],
          "barpolar": [
           {
            "marker": {
             "line": {
              "color": "white",
              "width": 0.5
             },
             "pattern": {
              "fillmode": "overlay",
              "size": 10,
              "solidity": 0.2
             }
            },
            "type": "barpolar"
           }
          ],
          "carpet": [
           {
            "aaxis": {
             "endlinecolor": "#2a3f5f",
             "gridcolor": "#C8D4E3",
             "linecolor": "#C8D4E3",
             "minorgridcolor": "#C8D4E3",
             "startlinecolor": "#2a3f5f"
            },
            "baxis": {
             "endlinecolor": "#2a3f5f",
             "gridcolor": "#C8D4E3",
             "linecolor": "#C8D4E3",
             "minorgridcolor": "#C8D4E3",
             "startlinecolor": "#2a3f5f"
            },
            "type": "carpet"
           }
          ],
          "choropleth": [
           {
            "colorbar": {
             "outlinewidth": 0,
             "ticks": ""
            },
            "type": "choropleth"
           }
          ],
          "contour": [
           {
            "colorbar": {
             "outlinewidth": 0,
             "ticks": ""
            },
            "colorscale": [
             [
              0,
              "#0d0887"
             ],
             [
              0.1111111111111111,
              "#46039f"
             ],
             [
              0.2222222222222222,
              "#7201a8"
             ],
             [
              0.3333333333333333,
              "#9c179e"
             ],
             [
              0.4444444444444444,
              "#bd3786"
             ],
             [
              0.5555555555555556,
              "#d8576b"
             ],
             [
              0.6666666666666666,
              "#ed7953"
             ],
             [
              0.7777777777777778,
              "#fb9f3a"
             ],
             [
              0.8888888888888888,
              "#fdca26"
             ],
             [
              1,
              "#f0f921"
             ]
            ],
            "type": "contour"
           }
          ],
          "contourcarpet": [
           {
            "colorbar": {
             "outlinewidth": 0,
             "ticks": ""
            },
            "type": "contourcarpet"
           }
          ],
          "heatmap": [
           {
            "colorbar": {
             "outlinewidth": 0,
             "ticks": ""
            },
            "colorscale": [
             [
              0,
              "#0d0887"
             ],
             [
              0.1111111111111111,
              "#46039f"
             ],
             [
              0.2222222222222222,
              "#7201a8"
             ],
             [
              0.3333333333333333,
              "#9c179e"
             ],
             [
              0.4444444444444444,
              "#bd3786"
             ],
             [
              0.5555555555555556,
              "#d8576b"
             ],
             [
              0.6666666666666666,
              "#ed7953"
             ],
             [
              0.7777777777777778,
              "#fb9f3a"
             ],
             [
              0.8888888888888888,
              "#fdca26"
             ],
             [
              1,
              "#f0f921"
             ]
            ],
            "type": "heatmap"
           }
          ],
          "histogram": [
           {
            "marker": {
             "pattern": {
              "fillmode": "overlay",
              "size": 10,
              "solidity": 0.2
             }
            },
            "type": "histogram"
           }
          ],
          "histogram2d": [
           {
            "colorbar": {
             "outlinewidth": 0,
             "ticks": ""
            },
            "colorscale": [
             [
              0,
              "#0d0887"
             ],
             [
              0.1111111111111111,
              "#46039f"
             ],
             [
              0.2222222222222222,
              "#7201a8"
             ],
             [
              0.3333333333333333,
              "#9c179e"
             ],
             [
              0.4444444444444444,
              "#bd3786"
             ],
             [
              0.5555555555555556,
              "#d8576b"
             ],
             [
              0.6666666666666666,
              "#ed7953"
             ],
             [
              0.7777777777777778,
              "#fb9f3a"
             ],
             [
              0.8888888888888888,
              "#fdca26"
             ],
             [
              1,
              "#f0f921"
             ]
            ],
            "type": "histogram2d"
           }
          ],
          "histogram2dcontour": [
           {
            "colorbar": {
             "outlinewidth": 0,
             "ticks": ""
            },
            "colorscale": [
             [
              0,
              "#0d0887"
             ],
             [
              0.1111111111111111,
              "#46039f"
             ],
             [
              0.2222222222222222,
              "#7201a8"
             ],
             [
              0.3333333333333333,
              "#9c179e"
             ],
             [
              0.4444444444444444,
              "#bd3786"
             ],
             [
              0.5555555555555556,
              "#d8576b"
             ],
             [
              0.6666666666666666,
              "#ed7953"
             ],
             [
              0.7777777777777778,
              "#fb9f3a"
             ],
             [
              0.8888888888888888,
              "#fdca26"
             ],
             [
              1,
              "#f0f921"
             ]
            ],
            "type": "histogram2dcontour"
           }
          ],
          "mesh3d": [
           {
            "colorbar": {
             "outlinewidth": 0,
             "ticks": ""
            },
            "type": "mesh3d"
           }
          ],
          "parcoords": [
           {
            "line": {
             "colorbar": {
              "outlinewidth": 0,
              "ticks": ""
             }
            },
            "type": "parcoords"
           }
          ],
          "pie": [
           {
            "automargin": true,
            "type": "pie"
           }
          ],
          "scatter": [
           {
            "fillpattern": {
             "fillmode": "overlay",
             "size": 10,
             "solidity": 0.2
            },
            "type": "scatter"
           }
          ],
          "scatter3d": [
           {
            "line": {
             "colorbar": {
              "outlinewidth": 0,
              "ticks": ""
             }
            },
            "marker": {
             "colorbar": {
              "outlinewidth": 0,
              "ticks": ""
             }
            },
            "type": "scatter3d"
           }
          ],
          "scattercarpet": [
           {
            "marker": {
             "colorbar": {
              "outlinewidth": 0,
              "ticks": ""
             }
            },
            "type": "scattercarpet"
           }
          ],
          "scattergeo": [
           {
            "marker": {
             "colorbar": {
              "outlinewidth": 0,
              "ticks": ""
             }
            },
            "type": "scattergeo"
           }
          ],
          "scattergl": [
           {
            "marker": {
             "colorbar": {
              "outlinewidth": 0,
              "ticks": ""
             }
            },
            "type": "scattergl"
           }
          ],
          "scattermap": [
           {
            "marker": {
             "colorbar": {
              "outlinewidth": 0,
              "ticks": ""
             }
            },
            "type": "scattermap"
           }
          ],
          "scattermapbox": [
           {
            "marker": {
             "colorbar": {
              "outlinewidth": 0,
              "ticks": ""
             }
            },
            "type": "scattermapbox"
           }
          ],
          "scatterpolar": [
           {
            "marker": {
             "colorbar": {
              "outlinewidth": 0,
              "ticks": ""
             }
            },
            "type": "scatterpolar"
           }
          ],
          "scatterpolargl": [
           {
            "marker": {
             "colorbar": {
              "outlinewidth": 0,
              "ticks": ""
             }
            },
            "type": "scatterpolargl"
           }
          ],
          "scatterternary": [
           {
            "marker": {
             "colorbar": {
              "outlinewidth": 0,
              "ticks": ""
             }
            },
            "type": "scatterternary"
           }
          ],
          "surface": [
           {
            "colorbar": {
             "outlinewidth": 0,
             "ticks": ""
            },
            "colorscale": [
             [
              0,
              "#0d0887"
             ],
             [
              0.1111111111111111,
              "#46039f"
             ],
             [
              0.2222222222222222,
              "#7201a8"
             ],
             [
              0.3333333333333333,
              "#9c179e"
             ],
             [
              0.4444444444444444,
              "#bd3786"
             ],
             [
              0.5555555555555556,
              "#d8576b"
             ],
             [
              0.6666666666666666,
              "#ed7953"
             ],
             [
              0.7777777777777778,
              "#fb9f3a"
             ],
             [
              0.8888888888888888,
              "#fdca26"
             ],
             [
              1,
              "#f0f921"
             ]
            ],
            "type": "surface"
           }
          ],
          "table": [
           {
            "cells": {
             "fill": {
              "color": "#EBF0F8"
             },
             "line": {
              "color": "white"
             }
            },
            "header": {
             "fill": {
              "color": "#C8D4E3"
             },
             "line": {
              "color": "white"
             }
            },
            "type": "table"
           }
          ]
         },
         "layout": {
          "annotationdefaults": {
           "arrowcolor": "#2a3f5f",
           "arrowhead": 0,
           "arrowwidth": 1
          },
          "autotypenumbers": "strict",
          "coloraxis": {
           "colorbar": {
            "outlinewidth": 0,
            "ticks": ""
           }
          },
          "colorscale": {
           "diverging": [
            [
             0,
             "#8e0152"
            ],
            [
             0.1,
             "#c51b7d"
            ],
            [
             0.2,
             "#de77ae"
            ],
            [
             0.3,
             "#f1b6da"
            ],
            [
             0.4,
             "#fde0ef"
            ],
            [
             0.5,
             "#f7f7f7"
            ],
            [
             0.6,
             "#e6f5d0"
            ],
            [
             0.7,
             "#b8e186"
            ],
            [
             0.8,
             "#7fbc41"
            ],
            [
             0.9,
             "#4d9221"
            ],
            [
             1,
             "#276419"
            ]
           ],
           "sequential": [
            [
             0,
             "#0d0887"
            ],
            [
             0.1111111111111111,
             "#46039f"
            ],
            [
             0.2222222222222222,
             "#7201a8"
            ],
            [
             0.3333333333333333,
             "#9c179e"
            ],
            [
             0.4444444444444444,
             "#bd3786"
            ],
            [
             0.5555555555555556,
             "#d8576b"
            ],
            [
             0.6666666666666666,
             "#ed7953"
            ],
            [
             0.7777777777777778,
             "#fb9f3a"
            ],
            [
             0.8888888888888888,
             "#fdca26"
            ],
            [
             1,
             "#f0f921"
            ]
           ],
           "sequentialminus": [
            [
             0,
             "#0d0887"
            ],
            [
             0.1111111111111111,
             "#46039f"
            ],
            [
             0.2222222222222222,
             "#7201a8"
            ],
            [
             0.3333333333333333,
             "#9c179e"
            ],
            [
             0.4444444444444444,
             "#bd3786"
            ],
            [
             0.5555555555555556,
             "#d8576b"
            ],
            [
             0.6666666666666666,
             "#ed7953"
            ],
            [
             0.7777777777777778,
             "#fb9f3a"
            ],
            [
             0.8888888888888888,
             "#fdca26"
            ],
            [
             1,
             "#f0f921"
            ]
           ]
          },
          "colorway": [
           "#636efa",
           "#EF553B",
           "#00cc96",
           "#ab63fa",
           "#FFA15A",
           "#19d3f3",
           "#FF6692",
           "#B6E880",
           "#FF97FF",
           "#FECB52"
          ],
          "font": {
           "color": "#2a3f5f"
          },
          "geo": {
           "bgcolor": "white",
           "lakecolor": "white",
           "landcolor": "white",
           "showlakes": true,
           "showland": true,
           "subunitcolor": "#C8D4E3"
          },
          "hoverlabel": {
           "align": "left"
          },
          "hovermode": "closest",
          "mapbox": {
           "style": "light"
          },
          "paper_bgcolor": "white",
          "plot_bgcolor": "white",
          "polar": {
           "angularaxis": {
            "gridcolor": "#EBF0F8",
            "linecolor": "#EBF0F8",
            "ticks": ""
           },
           "bgcolor": "white",
           "radialaxis": {
            "gridcolor": "#EBF0F8",
            "linecolor": "#EBF0F8",
            "ticks": ""
           }
          },
          "scene": {
           "xaxis": {
            "backgroundcolor": "white",
            "gridcolor": "#DFE8F3",
            "gridwidth": 2,
            "linecolor": "#EBF0F8",
            "showbackground": true,
            "ticks": "",
            "zerolinecolor": "#EBF0F8"
           },
           "yaxis": {
            "backgroundcolor": "white",
            "gridcolor": "#DFE8F3",
            "gridwidth": 2,
            "linecolor": "#EBF0F8",
            "showbackground": true,
            "ticks": "",
            "zerolinecolor": "#EBF0F8"
           },
           "zaxis": {
            "backgroundcolor": "white",
            "gridcolor": "#DFE8F3",
            "gridwidth": 2,
            "linecolor": "#EBF0F8",
            "showbackground": true,
            "ticks": "",
            "zerolinecolor": "#EBF0F8"
           }
          },
          "shapedefaults": {
           "line": {
            "color": "#2a3f5f"
           }
          },
          "ternary": {
           "aaxis": {
            "gridcolor": "#DFE8F3",
            "linecolor": "#A2B1C6",
            "ticks": ""
           },
           "baxis": {
            "gridcolor": "#DFE8F3",
            "linecolor": "#A2B1C6",
            "ticks": ""
           },
           "bgcolor": "white",
           "caxis": {
            "gridcolor": "#DFE8F3",
            "linecolor": "#A2B1C6",
            "ticks": ""
           }
          },
          "title": {
           "x": 0.05
          },
          "xaxis": {
           "automargin": true,
           "gridcolor": "#EBF0F8",
           "linecolor": "#EBF0F8",
           "ticks": "",
           "title": {
            "standoff": 15
           },
           "zerolinecolor": "#EBF0F8",
           "zerolinewidth": 2
          },
          "yaxis": {
           "automargin": true,
           "gridcolor": "#EBF0F8",
           "linecolor": "#EBF0F8",
           "ticks": "",
           "title": {
            "standoff": 15
           },
           "zerolinecolor": "#EBF0F8",
           "zerolinewidth": 2
          }
         }
        },
        "title": {
         "text": "AR(2) (1 - φ₁B - φ₂B²)Xₜ = Zₜ — punto ✔ dentro de la región"
        },
        "width": 1150,
        "xaxis": {
         "anchor": "y",
         "domain": [
          0,
          0.2888888888888889
         ],
         "range": [
          -2.2,
          2.2
         ],
         "title": {
          "text": "φ₁"
         }
        },
        "xaxis2": {
         "anchor": "y2",
         "domain": [
          0.35555555555555557,
          0.6444444444444445
         ],
         "title": {
          "text": "k"
         }
        },
        "xaxis3": {
         "anchor": "y3",
         "domain": [
          0.7111111111111111,
          1
         ],
         "title": {
          "text": "k"
         }
        },
        "yaxis": {
         "anchor": "x",
         "domain": [
          0,
          1
         ],
         "range": [
          -1.2,
          1.2
         ],
         "title": {
          "text": "φ₂"
         }
        },
        "yaxis2": {
         "anchor": "x2",
         "domain": [
          0,
          1
         ],
         "range": [
          -1,
          1
         ],
         "title": {
          "text": "ρₖ"
         }
        },
        "yaxis3": {
         "anchor": "x3",
         "domain": [
          0,
          1
         ],
         "range": [
          -1,
          1
         ],
         "title": {
          "text": "φₖ (PACF)"
         }
        }
       }
      }
     },
     "metadata": {},
     "output_type": "display_data"
    }
   ],
   "source": [
    "phi1 = 0.7\n",
    "phi2 = -0.5\n",
    "\n",
    "fig = ar2_region_quad(phi1_point=phi1, phi2_point=phi2)\n",
    "fig.show() \n",
    "fig = panel_ar2(phi1=phi1, phi2=phi2, m=20)\n",
    "fig.show()"
   ]
  },
  {
   "cell_type": "markdown",
   "id": "8fe991e6",
   "metadata": {},
   "source": [
    "\n",
    "\n",
    "**Modelo AR(2)**\n",
    "\n",
    "$$\n",
    "(1 - \\phi_1 B - \\phi_2 B^2) W_t = a_t\n",
    "$$\n",
    "\n",
    "En el plano $(\\phi_1, \\phi_2)$, el punto $(0.7, -0.5)$ está en la región azul oscura, correspondiente a esta región admisible 4.\n",
    "\n",
    "\n",
    "\n",
    "**FAC teórica**\n",
    "\n",
    "La **Función de Autocorrelación (FAC)** presenta comportamiento oscilatorio decreciente, típico de raíces complejas conjugadas. En este caso, la autocorrelación inicial es positiva.\n",
    "\n",
    "---\n"
   ]
  },
  {
   "cell_type": "markdown",
   "id": "9e9ae1bb",
   "metadata": {},
   "source": [
    "\n",
    "**Ejemplo de FAC teórica del proceso AR(2):**\n",
    "\n",
    "\n",
    "Proceso considerado:\n",
    "\n",
    "$$\n",
    "(1 - 0.7B + 0.5B^2)X_t = Z_t, \\quad Z_t \\sim WN(0, \\sigma_Z^2)\n",
    "$$\n",
    "\n",
    "**Parámetros:**\n",
    "\n",
    "- $\\phi_1 = 0.7$\n",
    "- $\\phi_2 = -0.5$\n",
    "\n",
    "**Discriminante:**\n",
    "\n",
    "$$\n",
    "\\phi_1^2 + 4\\phi_2 = (0.7)^2 + 4(-0.5) = 0.49 - 2 = -1.51 < 0\n",
    "$$\n",
    "\n",
    "Se confirma que hay raíces complejas conjugadas.\n",
    "\n",
    "\n"
   ]
  },
  {
   "cell_type": "markdown",
   "id": "083dcc84",
   "metadata": {},
   "source": [
    "\n",
    "**FAC teórica del proceso**  \n",
    "$(1 - 0.7B + 0.5B^2)X_t = Z_t$\n",
    "\n",
    "*(Gráfico oscilante con primera autocorrelación positiva)*\n",
    "\n"
   ]
  },
  {
   "cell_type": "code",
   "execution_count": 101,
   "id": "0c44f3bd",
   "metadata": {},
   "outputs": [
    {
     "data": {
      "application/vnd.plotly.v1+json": {
       "config": {
        "plotlyServerURL": "https://plot.ly"
       },
       "data": [
        {
         "line": {
          "width": 2
         },
         "mode": "lines",
         "name": "líneas",
         "type": "scatter",
         "x": [
          0,
          0,
          null,
          1,
          1,
          null,
          2,
          2,
          null,
          3,
          3,
          null,
          4,
          4,
          null,
          5,
          5,
          null,
          6,
          6,
          null,
          7,
          7,
          null,
          8,
          8,
          null,
          9,
          9,
          null,
          10,
          10,
          null,
          11,
          11,
          null,
          12,
          12,
          null,
          13,
          13,
          null,
          14,
          14,
          null,
          15,
          15,
          null,
          16,
          16,
          null,
          17,
          17,
          null,
          18,
          18,
          null,
          19,
          19,
          null,
          20,
          20,
          null,
          21,
          21,
          null,
          22,
          22,
          null,
          23,
          23,
          null,
          24,
          24,
          null
         ],
         "y": [
          0,
          1,
          null,
          0,
          0.4666666666666666,
          null,
          0,
          -0.1733333333333334,
          null,
          0,
          -0.3546666666666667,
          null,
          0,
          -0.16159999999999994,
          null,
          0,
          0.06421333333333337,
          null,
          0,
          0.12574933333333335,
          null,
          0,
          0.05591786666666664,
          null,
          0,
          -0.02373216000000002,
          null,
          0,
          -0.04457144533333334,
          null,
          0,
          -0.01933393173333332,
          null,
          0,
          0.008751970453333343,
          null,
          0,
          0.015793345184000003,
          null,
          0,
          0.006679356402133327,
          null,
          0,
          -0.0032211231105066713,
          null,
          0,
          -0.005594464378421335,
          null,
          0,
          -0.0023055635096415976,
          null,
          0,
          0.0011833377324615487,
          null,
          0,
          0.001981118167543883,
          null,
          0,
          0.0007951138510499436,
          null,
          0,
          -0.000433979388036981,
          null,
          0,
          -0.0007013424971508584,
          null,
          0,
          -0.0002739500539871103,
          null,
          0,
          0.00015890621078445196,
          null,
          0,
          0.00024820937454267156,
          null
         ]
        },
        {
         "marker": {
          "size": 7
         },
         "mode": "markers",
         "name": "ρ_k",
         "type": "scatter",
         "x": {
          "bdata": "AAECAwQFBgcICQoLDA0ODxAREhMUFRYXGA==",
          "dtype": "i1"
         },
         "y": {
          "bdata": "AAAAAAAA8D/d3d3d3d3dPzKW/GLJL8a/gCOU0duy1r//TIQNT6/Ev5pBovZIcLA/Q4oU3Y0YwD8f2zBBRKGsP0X2QEw+TZi/j5AViBHSpr+jtf0xRsyTv9Ei+5aN7IE/Aic9dCEskD9jSuMU0Ft7P60AUE0vY2q/1gu0mDjqdr/Tqe37HeNivx1dGzdHY1M/Gs+mt7Q6YD8rTVH+5Q1KPy2dXEf3cDy/mN1Vi0n7Rr+j58mFHvQxv+R29/QB1CQ/1cNuJUNEMD8=",
          "dtype": "f8"
         }
        }
       ],
       "layout": {
        "annotations": [
         {
          "showarrow": false,
          "text": "±0.080",
          "x": 0,
          "xanchor": "left",
          "xref": "x domain",
          "y": 0.08001666493091715,
          "yanchor": "top",
          "yref": "y"
         }
        ],
        "height": 380,
        "shapes": [
         {
          "line": {
           "color": "gray",
           "dash": "dot",
           "width": 1
          },
          "type": "line",
          "x0": 0,
          "x1": 1,
          "xref": "x domain",
          "y0": 0,
          "y1": 0,
          "yref": "y"
         },
         {
          "fillcolor": "lightgray",
          "line": {
           "width": 0
          },
          "opacity": 0.25,
          "type": "rect",
          "x0": 0,
          "x1": 1,
          "xref": "x domain",
          "y0": -0.08001666493091715,
          "y1": 0.08001666493091715,
          "yref": "y"
         }
        ],
        "template": {
         "data": {
          "bar": [
           {
            "error_x": {
             "color": "#2a3f5f"
            },
            "error_y": {
             "color": "#2a3f5f"
            },
            "marker": {
             "line": {
              "color": "white",
              "width": 0.5
             },
             "pattern": {
              "fillmode": "overlay",
              "size": 10,
              "solidity": 0.2
             }
            },
            "type": "bar"
           }
          ],
          "barpolar": [
           {
            "marker": {
             "line": {
              "color": "white",
              "width": 0.5
             },
             "pattern": {
              "fillmode": "overlay",
              "size": 10,
              "solidity": 0.2
             }
            },
            "type": "barpolar"
           }
          ],
          "carpet": [
           {
            "aaxis": {
             "endlinecolor": "#2a3f5f",
             "gridcolor": "#C8D4E3",
             "linecolor": "#C8D4E3",
             "minorgridcolor": "#C8D4E3",
             "startlinecolor": "#2a3f5f"
            },
            "baxis": {
             "endlinecolor": "#2a3f5f",
             "gridcolor": "#C8D4E3",
             "linecolor": "#C8D4E3",
             "minorgridcolor": "#C8D4E3",
             "startlinecolor": "#2a3f5f"
            },
            "type": "carpet"
           }
          ],
          "choropleth": [
           {
            "colorbar": {
             "outlinewidth": 0,
             "ticks": ""
            },
            "type": "choropleth"
           }
          ],
          "contour": [
           {
            "colorbar": {
             "outlinewidth": 0,
             "ticks": ""
            },
            "colorscale": [
             [
              0,
              "#0d0887"
             ],
             [
              0.1111111111111111,
              "#46039f"
             ],
             [
              0.2222222222222222,
              "#7201a8"
             ],
             [
              0.3333333333333333,
              "#9c179e"
             ],
             [
              0.4444444444444444,
              "#bd3786"
             ],
             [
              0.5555555555555556,
              "#d8576b"
             ],
             [
              0.6666666666666666,
              "#ed7953"
             ],
             [
              0.7777777777777778,
              "#fb9f3a"
             ],
             [
              0.8888888888888888,
              "#fdca26"
             ],
             [
              1,
              "#f0f921"
             ]
            ],
            "type": "contour"
           }
          ],
          "contourcarpet": [
           {
            "colorbar": {
             "outlinewidth": 0,
             "ticks": ""
            },
            "type": "contourcarpet"
           }
          ],
          "heatmap": [
           {
            "colorbar": {
             "outlinewidth": 0,
             "ticks": ""
            },
            "colorscale": [
             [
              0,
              "#0d0887"
             ],
             [
              0.1111111111111111,
              "#46039f"
             ],
             [
              0.2222222222222222,
              "#7201a8"
             ],
             [
              0.3333333333333333,
              "#9c179e"
             ],
             [
              0.4444444444444444,
              "#bd3786"
             ],
             [
              0.5555555555555556,
              "#d8576b"
             ],
             [
              0.6666666666666666,
              "#ed7953"
             ],
             [
              0.7777777777777778,
              "#fb9f3a"
             ],
             [
              0.8888888888888888,
              "#fdca26"
             ],
             [
              1,
              "#f0f921"
             ]
            ],
            "type": "heatmap"
           }
          ],
          "histogram": [
           {
            "marker": {
             "pattern": {
              "fillmode": "overlay",
              "size": 10,
              "solidity": 0.2
             }
            },
            "type": "histogram"
           }
          ],
          "histogram2d": [
           {
            "colorbar": {
             "outlinewidth": 0,
             "ticks": ""
            },
            "colorscale": [
             [
              0,
              "#0d0887"
             ],
             [
              0.1111111111111111,
              "#46039f"
             ],
             [
              0.2222222222222222,
              "#7201a8"
             ],
             [
              0.3333333333333333,
              "#9c179e"
             ],
             [
              0.4444444444444444,
              "#bd3786"
             ],
             [
              0.5555555555555556,
              "#d8576b"
             ],
             [
              0.6666666666666666,
              "#ed7953"
             ],
             [
              0.7777777777777778,
              "#fb9f3a"
             ],
             [
              0.8888888888888888,
              "#fdca26"
             ],
             [
              1,
              "#f0f921"
             ]
            ],
            "type": "histogram2d"
           }
          ],
          "histogram2dcontour": [
           {
            "colorbar": {
             "outlinewidth": 0,
             "ticks": ""
            },
            "colorscale": [
             [
              0,
              "#0d0887"
             ],
             [
              0.1111111111111111,
              "#46039f"
             ],
             [
              0.2222222222222222,
              "#7201a8"
             ],
             [
              0.3333333333333333,
              "#9c179e"
             ],
             [
              0.4444444444444444,
              "#bd3786"
             ],
             [
              0.5555555555555556,
              "#d8576b"
             ],
             [
              0.6666666666666666,
              "#ed7953"
             ],
             [
              0.7777777777777778,
              "#fb9f3a"
             ],
             [
              0.8888888888888888,
              "#fdca26"
             ],
             [
              1,
              "#f0f921"
             ]
            ],
            "type": "histogram2dcontour"
           }
          ],
          "mesh3d": [
           {
            "colorbar": {
             "outlinewidth": 0,
             "ticks": ""
            },
            "type": "mesh3d"
           }
          ],
          "parcoords": [
           {
            "line": {
             "colorbar": {
              "outlinewidth": 0,
              "ticks": ""
             }
            },
            "type": "parcoords"
           }
          ],
          "pie": [
           {
            "automargin": true,
            "type": "pie"
           }
          ],
          "scatter": [
           {
            "fillpattern": {
             "fillmode": "overlay",
             "size": 10,
             "solidity": 0.2
            },
            "type": "scatter"
           }
          ],
          "scatter3d": [
           {
            "line": {
             "colorbar": {
              "outlinewidth": 0,
              "ticks": ""
             }
            },
            "marker": {
             "colorbar": {
              "outlinewidth": 0,
              "ticks": ""
             }
            },
            "type": "scatter3d"
           }
          ],
          "scattercarpet": [
           {
            "marker": {
             "colorbar": {
              "outlinewidth": 0,
              "ticks": ""
             }
            },
            "type": "scattercarpet"
           }
          ],
          "scattergeo": [
           {
            "marker": {
             "colorbar": {
              "outlinewidth": 0,
              "ticks": ""
             }
            },
            "type": "scattergeo"
           }
          ],
          "scattergl": [
           {
            "marker": {
             "colorbar": {
              "outlinewidth": 0,
              "ticks": ""
             }
            },
            "type": "scattergl"
           }
          ],
          "scattermap": [
           {
            "marker": {
             "colorbar": {
              "outlinewidth": 0,
              "ticks": ""
             }
            },
            "type": "scattermap"
           }
          ],
          "scattermapbox": [
           {
            "marker": {
             "colorbar": {
              "outlinewidth": 0,
              "ticks": ""
             }
            },
            "type": "scattermapbox"
           }
          ],
          "scatterpolar": [
           {
            "marker": {
             "colorbar": {
              "outlinewidth": 0,
              "ticks": ""
             }
            },
            "type": "scatterpolar"
           }
          ],
          "scatterpolargl": [
           {
            "marker": {
             "colorbar": {
              "outlinewidth": 0,
              "ticks": ""
             }
            },
            "type": "scatterpolargl"
           }
          ],
          "scatterternary": [
           {
            "marker": {
             "colorbar": {
              "outlinewidth": 0,
              "ticks": ""
             }
            },
            "type": "scatterternary"
           }
          ],
          "surface": [
           {
            "colorbar": {
             "outlinewidth": 0,
             "ticks": ""
            },
            "colorscale": [
             [
              0,
              "#0d0887"
             ],
             [
              0.1111111111111111,
              "#46039f"
             ],
             [
              0.2222222222222222,
              "#7201a8"
             ],
             [
              0.3333333333333333,
              "#9c179e"
             ],
             [
              0.4444444444444444,
              "#bd3786"
             ],
             [
              0.5555555555555556,
              "#d8576b"
             ],
             [
              0.6666666666666666,
              "#ed7953"
             ],
             [
              0.7777777777777778,
              "#fb9f3a"
             ],
             [
              0.8888888888888888,
              "#fdca26"
             ],
             [
              1,
              "#f0f921"
             ]
            ],
            "type": "surface"
           }
          ],
          "table": [
           {
            "cells": {
             "fill": {
              "color": "#EBF0F8"
             },
             "line": {
              "color": "white"
             }
            },
            "header": {
             "fill": {
              "color": "#C8D4E3"
             },
             "line": {
              "color": "white"
             }
            },
            "type": "table"
           }
          ]
         },
         "layout": {
          "annotationdefaults": {
           "arrowcolor": "#2a3f5f",
           "arrowhead": 0,
           "arrowwidth": 1
          },
          "autotypenumbers": "strict",
          "coloraxis": {
           "colorbar": {
            "outlinewidth": 0,
            "ticks": ""
           }
          },
          "colorscale": {
           "diverging": [
            [
             0,
             "#8e0152"
            ],
            [
             0.1,
             "#c51b7d"
            ],
            [
             0.2,
             "#de77ae"
            ],
            [
             0.3,
             "#f1b6da"
            ],
            [
             0.4,
             "#fde0ef"
            ],
            [
             0.5,
             "#f7f7f7"
            ],
            [
             0.6,
             "#e6f5d0"
            ],
            [
             0.7,
             "#b8e186"
            ],
            [
             0.8,
             "#7fbc41"
            ],
            [
             0.9,
             "#4d9221"
            ],
            [
             1,
             "#276419"
            ]
           ],
           "sequential": [
            [
             0,
             "#0d0887"
            ],
            [
             0.1111111111111111,
             "#46039f"
            ],
            [
             0.2222222222222222,
             "#7201a8"
            ],
            [
             0.3333333333333333,
             "#9c179e"
            ],
            [
             0.4444444444444444,
             "#bd3786"
            ],
            [
             0.5555555555555556,
             "#d8576b"
            ],
            [
             0.6666666666666666,
             "#ed7953"
            ],
            [
             0.7777777777777778,
             "#fb9f3a"
            ],
            [
             0.8888888888888888,
             "#fdca26"
            ],
            [
             1,
             "#f0f921"
            ]
           ],
           "sequentialminus": [
            [
             0,
             "#0d0887"
            ],
            [
             0.1111111111111111,
             "#46039f"
            ],
            [
             0.2222222222222222,
             "#7201a8"
            ],
            [
             0.3333333333333333,
             "#9c179e"
            ],
            [
             0.4444444444444444,
             "#bd3786"
            ],
            [
             0.5555555555555556,
             "#d8576b"
            ],
            [
             0.6666666666666666,
             "#ed7953"
            ],
            [
             0.7777777777777778,
             "#fb9f3a"
            ],
            [
             0.8888888888888888,
             "#fdca26"
            ],
            [
             1,
             "#f0f921"
            ]
           ]
          },
          "colorway": [
           "#636efa",
           "#EF553B",
           "#00cc96",
           "#ab63fa",
           "#FFA15A",
           "#19d3f3",
           "#FF6692",
           "#B6E880",
           "#FF97FF",
           "#FECB52"
          ],
          "font": {
           "color": "#2a3f5f"
          },
          "geo": {
           "bgcolor": "white",
           "lakecolor": "white",
           "landcolor": "white",
           "showlakes": true,
           "showland": true,
           "subunitcolor": "#C8D4E3"
          },
          "hoverlabel": {
           "align": "left"
          },
          "hovermode": "closest",
          "mapbox": {
           "style": "light"
          },
          "paper_bgcolor": "white",
          "plot_bgcolor": "white",
          "polar": {
           "angularaxis": {
            "gridcolor": "#EBF0F8",
            "linecolor": "#EBF0F8",
            "ticks": ""
           },
           "bgcolor": "white",
           "radialaxis": {
            "gridcolor": "#EBF0F8",
            "linecolor": "#EBF0F8",
            "ticks": ""
           }
          },
          "scene": {
           "xaxis": {
            "backgroundcolor": "white",
            "gridcolor": "#DFE8F3",
            "gridwidth": 2,
            "linecolor": "#EBF0F8",
            "showbackground": true,
            "ticks": "",
            "zerolinecolor": "#EBF0F8"
           },
           "yaxis": {
            "backgroundcolor": "white",
            "gridcolor": "#DFE8F3",
            "gridwidth": 2,
            "linecolor": "#EBF0F8",
            "showbackground": true,
            "ticks": "",
            "zerolinecolor": "#EBF0F8"
           },
           "zaxis": {
            "backgroundcolor": "white",
            "gridcolor": "#DFE8F3",
            "gridwidth": 2,
            "linecolor": "#EBF0F8",
            "showbackground": true,
            "ticks": "",
            "zerolinecolor": "#EBF0F8"
           }
          },
          "shapedefaults": {
           "line": {
            "color": "#2a3f5f"
           }
          },
          "ternary": {
           "aaxis": {
            "gridcolor": "#DFE8F3",
            "linecolor": "#A2B1C6",
            "ticks": ""
           },
           "baxis": {
            "gridcolor": "#DFE8F3",
            "linecolor": "#A2B1C6",
            "ticks": ""
           },
           "bgcolor": "white",
           "caxis": {
            "gridcolor": "#DFE8F3",
            "linecolor": "#A2B1C6",
            "ticks": ""
           }
          },
          "title": {
           "x": 0.05
          },
          "xaxis": {
           "automargin": true,
           "gridcolor": "#EBF0F8",
           "linecolor": "#EBF0F8",
           "ticks": "",
           "title": {
            "standoff": 15
           },
           "zerolinecolor": "#EBF0F8",
           "zerolinewidth": 2
          },
          "yaxis": {
           "automargin": true,
           "gridcolor": "#EBF0F8",
           "linecolor": "#EBF0F8",
           "ticks": "",
           "title": {
            "standoff": 15
           },
           "zerolinecolor": "#EBF0F8",
           "zerolinewidth": 2
          }
         }
        },
        "title": {
         "text": "ACF teórica AR(2): (1 + 0.5B - 0.2B**2) X_t = Z_t "
        },
        "width": 800,
        "xaxis": {
         "title": {
          "text": "Rezago k"
         }
        },
        "yaxis": {
         "title": {
          "text": "ρ_k"
         }
        }
       }
      }
     },
     "metadata": {},
     "output_type": "display_data"
    }
   ],
   "source": [
    "phi = [0.7,-0.5]\n",
    "lags, rho = acf_ar_negative(phi, m=24)\n",
    "fig = plot_acf_stem_plotly(lags, rho,\n",
    "       title=\"ACF teórica AR(2): (1 + 0.5B - 0.2B**2) X_t = Z_t \",\n",
    "       n_for_ci=600)  # banda opcional estilo ±1.96/√N\n",
    "fig.show()"
   ]
  }
 ],
 "metadata": {
  "kernelspec": {
   "display_name": "Python 3",
   "language": "python",
   "name": "python3"
  },
  "language_info": {
   "codemirror_mode": {
    "name": "ipython",
    "version": 3
   },
   "file_extension": ".py",
   "mimetype": "text/x-python",
   "name": "python",
   "nbconvert_exporter": "python",
   "pygments_lexer": "ipython3",
   "version": "3.13.3"
  }
 },
 "nbformat": 4,
 "nbformat_minor": 5
}
