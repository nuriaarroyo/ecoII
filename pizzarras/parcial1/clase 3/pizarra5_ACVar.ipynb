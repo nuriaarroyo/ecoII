{
 "cells": [
  {
   "cell_type": "markdown",
   "id": "ae1efeb5",
   "metadata": {},
   "source": [
    "# ***Función de autocovarianza y autocorrelación del proceso AR(2)***"
   ]
  },
  {
   "cell_type": "markdown",
   "id": "b3f2a1d1",
   "metadata": {},
   "source": [
    "**Calculemos la función de autocovarianza y autocorrelación del proceso AR(2)**\n",
    "$$\n",
    "\\gamma_X(h) = \\text{Cov}(\\tilde{X}_t, \\tilde{X}_{t+h}) = \\mathbb{E}(\\tilde{X}_t \\tilde{X}_{t+h}) - \\mathbb{E}(\\tilde{X}_t) \\, \\mathbb{E}(\\tilde{X}_{t+h})\n",
    "$$\n"
   ]
  },
  {
   "cell_type": "markdown",
   "id": "9fa011bf",
   "metadata": {},
   "source": [
    "Además, sabemos que:\n",
    "\n",
    "$$\n",
    "\\mathbb{E}(\\tilde{X}_t) = \\mathbb{E}(X_t - \\mu) = \\mathbb{E}(X_t) - \\mu = 0\n",
    "$$\n",
    "\n",
    "Por lo tanto,\n",
    "\n",
    "$$\n",
    "\\gamma_X(h) = \\mathbb{E}(\\tilde{X}_t \\tilde{X}_{t+h})\n",
    "$$\n",
    "\n"
   ]
  },
  {
   "cell_type": "markdown",
   "id": "467111d5",
   "metadata": {},
   "source": [
    "\n",
    "\n",
    "$$\n",
    "\\tilde{X}_{t+h} = \\phi_1 \\tilde{X}_{t+h-1} + \\phi_2 \\tilde{X}_{t+h-2} + Z_{t+h}\n",
    "$$\n",
    "\n",
    "Entonces:\n",
    "\n",
    "$$\n",
    "\\tilde{X}_t \\tilde{X}_{t+h} = \\phi_1 \\tilde{X}_t \\tilde{X}_{t+h-1}\n",
    "+ \\phi_2 \\tilde{X}_t \\tilde{X}_{t+h-2}\n",
    "+ \\tilde{X}_t Z_{t+h}\n",
    "$$\n",
    "\n"
   ]
  },
  {
   "cell_type": "markdown",
   "id": "f0a45db7",
   "metadata": {},
   "source": [
    "\n",
    "\n",
    "> **Recordemos** que el proceso AR(2) considerado es:\n",
    ">\n",
    ">$$\n",
    ">(1 - \\phi_1 B - \\phi_2 B^2)\\tilde{X}_t = Z_t\n",
    ">$$\n",
    ">\n",
    ">$$\n",
    ">\\tilde{X}_t = X_t - \\mu\n",
    ">$$\n",
    ">\n",
    ">$$\n",
    ">\\tilde{X}_t - \\phi_1 \\tilde{X}_{t-1} - \\phi_2 \\tilde{X}_{t-2} = Z_t\n",
    ">$$\n",
    ">\n"
   ]
  },
  {
   "cell_type": "markdown",
   "id": "53f704da",
   "metadata": {},
   "source": [
    "\n",
    "\n",
    "### Ahora evaluamos:\n",
    "\n",
    "$$\n",
    "\\mathbb{E}(\\tilde{X}_t \\tilde{X}_{t+h}) =\n",
    "\\phi_1 \\mathbb{E}(\\tilde{X}_t \\tilde{X}_{t+h-1}) +\n",
    "\\phi_2 \\mathbb{E}(\\tilde{X}_t \\tilde{X}_{t+h-2}) +\n",
    "\\mathbb{E}(\\tilde{X}_t Z_{t+h})\n",
    "$$\n"
   ]
  },
  {
   "cell_type": "markdown",
   "id": "3e627fde",
   "metadata": {},
   "source": [
    "\n",
    "Si $h = 0$:\n",
    "\n",
    "$$\n",
    "\\gamma_X(0) =\n",
    "\\phi_1 \\mathbb{E}(\\tilde{X}_t \\tilde{X}_{t-1}) +\n",
    "\\phi_2 \\mathbb{E}(\\tilde{X}_t \\tilde{X}_{t-2}) +\n",
    "\\mathbb{E}(\\tilde{X}_t Z_t)\n",
    "$$\n",
    "\n",
    "\n",
    "$$\n",
    "\\mathbb{E}(\\tilde{X}_t Z_t) =\n",
    "\\phi_1 \\mathbb{E}(\\tilde{X}_{t-1} Z_t) +\n",
    "\\phi_2 \\mathbb{E}(\\tilde{X}_{t-2} Z_t) +\n",
    "\\mathbb{E}(Z_t^2)\n",
    "$$\n",
    "\n",
    "Como $Z_t$ es ruido blanco e independiente de $\\tilde{X}_{t-1}$ y $\\tilde{X}_{t-2}$:\n",
    "\n",
    "$$\n",
    "\\mathbb{E}(\\tilde{X}_{t-1} Z_t) = 0,\\quad\n",
    "\\mathbb{E}(\\tilde{X}_{t-2} Z_t) = 0,\\quad\n",
    "\\mathbb{E}(Z_t^2) = \\sigma_Z^2\n",
    "$$\n",
    "\n"
   ]
  },
  {
   "cell_type": "markdown",
   "id": "9f4ab134",
   "metadata": {},
   "source": [
    "\n",
    "\n",
    "Entonces:\n",
    "\n",
    "$$\n",
    "\\text{Var}(Z_t) = \\sigma_Z^2 = \\mathbb{E}(Z_t^2) - \\mathbb{E}(Z_t)^2\n",
    "$$\n",
    "\n"
   ]
  },
  {
   "cell_type": "markdown",
   "id": "c98f343b",
   "metadata": {},
   "source": [
    "\n",
    "\n",
    "Por lo tanto:\n",
    "\n",
    "$$\n",
    "\\gamma_X(0) = \\phi_1 \\gamma_X(1) + \\phi_2 \\gamma_X(2) + \\sigma_Z^2\n",
    "$$\n",
    "\n"
   ]
  },
  {
   "cell_type": "markdown",
   "id": "aa16d595",
   "metadata": {},
   "source": [
    "Si $|h| > 0$:\n",
    "\n",
    "$$\n",
    "\\gamma_X(h) = \\phi_1 \\gamma_X(h-1) + \\phi_2 \\gamma_X(h-2)\n",
    "$$\n",
    "\n",
    "\n",
    "Por lo tanto:\n",
    "\n",
    "$$\n",
    "\\gamma_X(h) =\n",
    "\\begin{cases}\n",
    "\\phi_1 \\gamma_X(1) + \\phi_2 \\gamma_X(2) + \\sigma_Z^2 & \\text{si } h = 0 \\\\\n",
    "\\phi_1 \\gamma_X(h-1) + \\phi_2 \\gamma_X(h-2) & \\text{si } |h| > 0\n",
    "\\end{cases}\n",
    "$$"
   ]
  },
  {
   "cell_type": "markdown",
   "metadata": {},
   "source": [
    "---\n",
    "**Ahora calculemos la FAC teórica del proceso AR(2)**\n",
    "\n",
    "$$\n",
    "\\rho_X(h) = \\frac{\\gamma_X(h)}{\\gamma_X(0)}\n",
    "$$\n"
   ]
  },
  {
   "cell_type": "markdown",
   "id": "1e4f0d8a",
   "metadata": {},
   "source": [
    "\n",
    "$$\n",
    "\\rho_X(1) = \\rho_1 = \\frac{\\gamma_X(1)}{\\gamma_X(0)} =\n",
    "\\frac{\\phi_1 \\gamma_X(0) + \\phi_2 \\gamma_X(1)}{\\gamma_X(0)} =\n",
    "\\phi_1 + \\phi_2 \\frac{\\gamma_X(1)}{\\gamma_X(0)} =\n",
    "\\phi_1 + \\phi_2 \\rho_1\n",
    "$$\n",
    "\n",
    "Entonces:\n",
    "\n",
    "$$\n",
    "\\rho_1 = \\phi_1 + \\phi_2 \\rho_1\n",
    "\\Rightarrow\n",
    "\\rho_1 = \\frac{\\phi_1}{1 - \\phi_2}\n",
    "\n",
    "$$\n",
    "\n"
   ]
  },
  {
   "cell_type": "markdown",
   "id": "5c9012dc",
   "metadata": {},
   "source": [
    "\n",
    "Por otra parte,\n",
    "\n",
    "$$\n",
    "\\rho_X(2) = \\rho_2 = \\frac{\\gamma_X(2)}{\\gamma_X(0)} =\n",
    "\\phi_1 \\frac{\\gamma_X(1)}{\\gamma_X(0)} + \\phi_2 =\n",
    "\\phi_1 \\rho_1 + \\phi_2\n",
    "$$\n",
    "\n",
    "Es decir:\n",
    "\n",
    "$$\n",
    "\\rho_2 = \\phi_1 \\rho_1 + \\phi_2\n",
    "\n",
    "$$"
   ]
  },
  {
   "cell_type": "markdown",
   "id": "1c989869",
   "metadata": {},
   "source": [
    "\n",
    "\n",
    "**En general:**\n",
    "\n",
    "$$\n",
    "\\rho_k = \\phi_1 \\rho_{k-1} + \\phi_2 \\rho_{k-2}, \\quad \\text{para } k \\geq 3\n",
    "$$\n"
   ]
  },
  {
   "cell_type": "markdown",
   "metadata": {},
   "source": [
    "---\n",
    "\n",
    "**Considere el proceso AR(2) del ejemplo anterior, es decir:**\n",
    "\n",
    "$$\n",
    "(1 - 0.9B + 0.2B^2) X_t = Z_t \\quad ; \\quad \\{Z_t\\} \\sim \\text{wn}(0, \\sigma_Z^2)\n",
    "$$\n",
    "\n",
    "Donde:\n",
    "\n",
    "$$\n",
    "\\phi_1 = 0.9 \\quad ; \\quad \\phi_2 = -0.2\n",
    "$$\n",
    "\n"
   ]
  },
  {
   "cell_type": "markdown",
   "id": "eecca35e",
   "metadata": {},
   "source": [
    "\n",
    "\n",
    "Calculemos las 3 primeras autocorrelaciones para este proceso: ($\\rho_1, \\rho_2, \\rho_3$)\n",
    "\n",
    "$$\n",
    "\\rho_1 = \\frac{\\phi_1}{1 - \\phi_2} = \\frac{0.9}{1 + 0.2} = 0.75\n",
    "$$\n",
    "\n",
    "$$\n",
    "\\rho_2 = (0.9)\\rho_1 + (-0.2) = 0.675 - 0.2 = 0.475\n",
    "$$\n",
    "\n",
    "$$\n",
    "\\rho_3 = 0.9 \\rho_2 + (-0.2)\\rho_1 = 0.9(0.475) - 0.2(0.75) = 0.2775\n",
    "$$\n",
    "\n"
   ]
  },
  {
   "cell_type": "markdown",
   "id": "73fa1673",
   "metadata": {},
   "source": [
    "\n",
    "**Gráfica de la FAC teórica del proceso AR(2)**\n",
    "_(1 - 0.9B + 0.2B²)Xₜ = Zₜ_\n",
    "\n"
   ]
  },
  {
   "cell_type": "code",
   "execution_count": 1,
   "id": "8a25e3ed",
   "metadata": {},
   "outputs": [],
   "source": [
    "import numpy as np\n",
    "import plotly.graph_objects as go\n",
    "\n",
    "# ---------- ACF teórica AR(p) con convención X_t - sum(phi_j X_{t-j}) = Z_t ----------\n",
    "def acf_ar_negative(phi, m=24, M=1000):\n",
    "    \"\"\"\n",
    "    phi: iterable (phi1,...,phi_p) con TU convención (el modelo lleva '−' delante).\n",
    "    m  : rezago máximo a devolver (inclusive).\n",
    "    M  : truncación para los pesos MA(∞) (entre 500-2000 suele bastar si el AR es estable).\n",
    "    return: lags (0..m), rho\n",
    "    \"\"\"\n",
    "    phi = np.asarray(phi, dtype=float)\n",
    "    p = len(phi)\n",
    "\n",
    "    # psi-weights del AR como MA(∞)\n",
    "    psi = np.zeros(M+1)\n",
    "    psi[0] = 1.0\n",
    "    for k in range(1, M+1):\n",
    "        # psi_k = sum_{j=1}^p phi_j * psi_{k-j}\n",
    "        acc = 0.0\n",
    "        for j in range(1, p+1):\n",
    "            if k-j >= 0:\n",
    "                acc += phi[j-1] * psi[k-j]\n",
    "        psi[k] = acc\n",
    "\n",
    "    # autocovarianzas (sigma^2 factor se cancela al normalizar)\n",
    "    gamma = np.zeros(m+1)\n",
    "    for k in range(m+1):\n",
    "        # sum_{i=0}^{M-k} psi_i * psi_{i+k}\n",
    "        gamma[k] = np.dot(psi[:M-k+1], psi[k:M+1])\n",
    "\n",
    "    rho = gamma / gamma[0]\n",
    "    lags = np.arange(m+1)\n",
    "    return lags, rho\n",
    "\n",
    "# ---------- Stem-plot en Plotly (líneas, no barras) ----------\n",
    "def plot_acf_stem_plotly(lags, rho, title=\"ACF teórica (AR)\", n_for_ci=None):\n",
    "    xs, ys = [], []\n",
    "    for k, r in zip(lags, rho):\n",
    "        xs += [k, k, None]\n",
    "        ys += [0, r, None]\n",
    "    fig = go.Figure()\n",
    "    fig.add_trace(go.Scatter(x=xs, y=ys, mode=\"lines\", line=dict(width=2), name=\"líneas\"))\n",
    "    fig.add_trace(go.Scatter(x=lags, y=rho, mode=\"markers\", marker=dict(size=7), name=\"ρ_k\"))\n",
    "    fig.add_hline(y=0, line_width=1, line_dash=\"dot\", line_color=\"gray\")\n",
    "    if n_for_ci is not None and n_for_ci > 0:\n",
    "        ci = 1.96/np.sqrt(n_for_ci)\n",
    "        fig.add_hrect(y0=-ci, y1=ci, line_width=0, fillcolor=\"lightgray\",\n",
    "                      opacity=0.25, annotation_text=f\"±{ci:.3f}\",\n",
    "                      annotation_position=\"top left\")\n",
    "    fig.update_layout(template=\"plotly_white\", width=800, height=380,\n",
    "                      title=title, xaxis_title=\"Rezago k\", yaxis_title=\"ρ_k\")\n",
    "    return fig"
   ]
  },
  {
   "cell_type": "code",
   "execution_count": 2,
   "id": "7b8dad9f",
   "metadata": {},
   "outputs": [
    {
     "data": {
      "application/vnd.plotly.v1+json": {
       "config": {
        "plotlyServerURL": "https://plot.ly"
       },
       "data": [
        {
         "line": {
          "width": 2
         },
         "mode": "lines",
         "name": "líneas",
         "type": "scatter",
         "x": [
          0,
          0,
          null,
          1,
          1,
          null,
          2,
          2,
          null,
          3,
          3,
          null,
          4,
          4,
          null,
          5,
          5,
          null,
          6,
          6,
          null,
          7,
          7,
          null,
          8,
          8,
          null,
          9,
          9,
          null,
          10,
          10,
          null,
          11,
          11,
          null,
          12,
          12,
          null,
          13,
          13,
          null,
          14,
          14,
          null,
          15,
          15,
          null,
          16,
          16,
          null,
          17,
          17,
          null,
          18,
          18,
          null,
          19,
          19,
          null,
          20,
          20,
          null,
          21,
          21,
          null,
          22,
          22,
          null,
          23,
          23,
          null,
          24,
          24,
          null
         ],
         "y": [
          0,
          1,
          null,
          0,
          0.75,
          null,
          0,
          0.4750000000000001,
          null,
          0,
          0.2775000000000001,
          null,
          0,
          0.15475000000000005,
          null,
          0,
          0.08377500000000004,
          null,
          0,
          0.04444750000000003,
          null,
          0,
          0.02324775000000001,
          null,
          0,
          0.012033475000000005,
          null,
          0,
          0.006180577500000002,
          null,
          0,
          0.0031558247500000003,
          null,
          0,
          0.0016041267750000001,
          null,
          0,
          0.0008125491475,
          null,
          0,
          0.0004104688777500002,
          null,
          0,
          0.0002069121604750002,
          null,
          0,
          0.0001041271688775001,
          null,
          0,
          0.00005233201989475007,
          null,
          0,
          0.000026273384129775037,
          null,
          0,
          0.00001317964173784752,
          null,
          0,
          0.000006607000738107761,
          null,
          0,
          0.0000033103723167274807,
          null,
          0,
          0.0000016579349374331805,
          null,
          0,
          8.300669803443663e-7,
          null,
          0,
          4.1547329482329346e-7,
          null,
          0,
          2.0791256927209093e-7,
          null
         ]
        },
        {
         "marker": {
          "size": 7
         },
         "mode": "markers",
         "name": "ρ_k",
         "type": "scatter",
         "x": {
          "bdata": "AAECAwQFBgcICQoLDA0ODxAREhMUFRYXGA==",
          "dtype": "i1"
         },
         "y": {
          "bdata": "AAAAAAAA8D8AAAAAAADoP2hmZmZmZt4/xPUoXI/C0T8EK4cW2c7DPzjvOEVHcrU/yCXHndLBpj+ghNIXQs6XPxpqqKwBpYg/e+65I85QeT8uJfuCPtppPyWEYgIySFo/t2noASigSj9jIe1nhuY6P1O0vezRHis/q/bKI9tLGz9axQiD4m8LP+SdoDW1jPs+ueTmKsSj6z7+triINrbbPmiSYG34xMs+itvmvcbQuz7Y4uuXONqrPq7o79/G4Zs+XO2/TNLniz4=",
          "dtype": "f8"
         }
        }
       ],
       "layout": {
        "annotations": [
         {
          "showarrow": false,
          "text": "±0.080",
          "x": 0,
          "xanchor": "left",
          "xref": "x domain",
          "y": 0.08001666493091715,
          "yanchor": "top",
          "yref": "y"
         }
        ],
        "height": 380,
        "shapes": [
         {
          "line": {
           "color": "gray",
           "dash": "dot",
           "width": 1
          },
          "type": "line",
          "x0": 0,
          "x1": 1,
          "xref": "x domain",
          "y0": 0,
          "y1": 0,
          "yref": "y"
         },
         {
          "fillcolor": "lightgray",
          "line": {
           "width": 0
          },
          "opacity": 0.25,
          "type": "rect",
          "x0": 0,
          "x1": 1,
          "xref": "x domain",
          "y0": -0.08001666493091715,
          "y1": 0.08001666493091715,
          "yref": "y"
         }
        ],
        "template": {
         "data": {
          "bar": [
           {
            "error_x": {
             "color": "#2a3f5f"
            },
            "error_y": {
             "color": "#2a3f5f"
            },
            "marker": {
             "line": {
              "color": "white",
              "width": 0.5
             },
             "pattern": {
              "fillmode": "overlay",
              "size": 10,
              "solidity": 0.2
             }
            },
            "type": "bar"
           }
          ],
          "barpolar": [
           {
            "marker": {
             "line": {
              "color": "white",
              "width": 0.5
             },
             "pattern": {
              "fillmode": "overlay",
              "size": 10,
              "solidity": 0.2
             }
            },
            "type": "barpolar"
           }
          ],
          "carpet": [
           {
            "aaxis": {
             "endlinecolor": "#2a3f5f",
             "gridcolor": "#C8D4E3",
             "linecolor": "#C8D4E3",
             "minorgridcolor": "#C8D4E3",
             "startlinecolor": "#2a3f5f"
            },
            "baxis": {
             "endlinecolor": "#2a3f5f",
             "gridcolor": "#C8D4E3",
             "linecolor": "#C8D4E3",
             "minorgridcolor": "#C8D4E3",
             "startlinecolor": "#2a3f5f"
            },
            "type": "carpet"
           }
          ],
          "choropleth": [
           {
            "colorbar": {
             "outlinewidth": 0,
             "ticks": ""
            },
            "type": "choropleth"
           }
          ],
          "contour": [
           {
            "colorbar": {
             "outlinewidth": 0,
             "ticks": ""
            },
            "colorscale": [
             [
              0,
              "#0d0887"
             ],
             [
              0.1111111111111111,
              "#46039f"
             ],
             [
              0.2222222222222222,
              "#7201a8"
             ],
             [
              0.3333333333333333,
              "#9c179e"
             ],
             [
              0.4444444444444444,
              "#bd3786"
             ],
             [
              0.5555555555555556,
              "#d8576b"
             ],
             [
              0.6666666666666666,
              "#ed7953"
             ],
             [
              0.7777777777777778,
              "#fb9f3a"
             ],
             [
              0.8888888888888888,
              "#fdca26"
             ],
             [
              1,
              "#f0f921"
             ]
            ],
            "type": "contour"
           }
          ],
          "contourcarpet": [
           {
            "colorbar": {
             "outlinewidth": 0,
             "ticks": ""
            },
            "type": "contourcarpet"
           }
          ],
          "heatmap": [
           {
            "colorbar": {
             "outlinewidth": 0,
             "ticks": ""
            },
            "colorscale": [
             [
              0,
              "#0d0887"
             ],
             [
              0.1111111111111111,
              "#46039f"
             ],
             [
              0.2222222222222222,
              "#7201a8"
             ],
             [
              0.3333333333333333,
              "#9c179e"
             ],
             [
              0.4444444444444444,
              "#bd3786"
             ],
             [
              0.5555555555555556,
              "#d8576b"
             ],
             [
              0.6666666666666666,
              "#ed7953"
             ],
             [
              0.7777777777777778,
              "#fb9f3a"
             ],
             [
              0.8888888888888888,
              "#fdca26"
             ],
             [
              1,
              "#f0f921"
             ]
            ],
            "type": "heatmap"
           }
          ],
          "histogram": [
           {
            "marker": {
             "pattern": {
              "fillmode": "overlay",
              "size": 10,
              "solidity": 0.2
             }
            },
            "type": "histogram"
           }
          ],
          "histogram2d": [
           {
            "colorbar": {
             "outlinewidth": 0,
             "ticks": ""
            },
            "colorscale": [
             [
              0,
              "#0d0887"
             ],
             [
              0.1111111111111111,
              "#46039f"
             ],
             [
              0.2222222222222222,
              "#7201a8"
             ],
             [
              0.3333333333333333,
              "#9c179e"
             ],
             [
              0.4444444444444444,
              "#bd3786"
             ],
             [
              0.5555555555555556,
              "#d8576b"
             ],
             [
              0.6666666666666666,
              "#ed7953"
             ],
             [
              0.7777777777777778,
              "#fb9f3a"
             ],
             [
              0.8888888888888888,
              "#fdca26"
             ],
             [
              1,
              "#f0f921"
             ]
            ],
            "type": "histogram2d"
           }
          ],
          "histogram2dcontour": [
           {
            "colorbar": {
             "outlinewidth": 0,
             "ticks": ""
            },
            "colorscale": [
             [
              0,
              "#0d0887"
             ],
             [
              0.1111111111111111,
              "#46039f"
             ],
             [
              0.2222222222222222,
              "#7201a8"
             ],
             [
              0.3333333333333333,
              "#9c179e"
             ],
             [
              0.4444444444444444,
              "#bd3786"
             ],
             [
              0.5555555555555556,
              "#d8576b"
             ],
             [
              0.6666666666666666,
              "#ed7953"
             ],
             [
              0.7777777777777778,
              "#fb9f3a"
             ],
             [
              0.8888888888888888,
              "#fdca26"
             ],
             [
              1,
              "#f0f921"
             ]
            ],
            "type": "histogram2dcontour"
           }
          ],
          "mesh3d": [
           {
            "colorbar": {
             "outlinewidth": 0,
             "ticks": ""
            },
            "type": "mesh3d"
           }
          ],
          "parcoords": [
           {
            "line": {
             "colorbar": {
              "outlinewidth": 0,
              "ticks": ""
             }
            },
            "type": "parcoords"
           }
          ],
          "pie": [
           {
            "automargin": true,
            "type": "pie"
           }
          ],
          "scatter": [
           {
            "fillpattern": {
             "fillmode": "overlay",
             "size": 10,
             "solidity": 0.2
            },
            "type": "scatter"
           }
          ],
          "scatter3d": [
           {
            "line": {
             "colorbar": {
              "outlinewidth": 0,
              "ticks": ""
             }
            },
            "marker": {
             "colorbar": {
              "outlinewidth": 0,
              "ticks": ""
             }
            },
            "type": "scatter3d"
           }
          ],
          "scattercarpet": [
           {
            "marker": {
             "colorbar": {
              "outlinewidth": 0,
              "ticks": ""
             }
            },
            "type": "scattercarpet"
           }
          ],
          "scattergeo": [
           {
            "marker": {
             "colorbar": {
              "outlinewidth": 0,
              "ticks": ""
             }
            },
            "type": "scattergeo"
           }
          ],
          "scattergl": [
           {
            "marker": {
             "colorbar": {
              "outlinewidth": 0,
              "ticks": ""
             }
            },
            "type": "scattergl"
           }
          ],
          "scattermap": [
           {
            "marker": {
             "colorbar": {
              "outlinewidth": 0,
              "ticks": ""
             }
            },
            "type": "scattermap"
           }
          ],
          "scattermapbox": [
           {
            "marker": {
             "colorbar": {
              "outlinewidth": 0,
              "ticks": ""
             }
            },
            "type": "scattermapbox"
           }
          ],
          "scatterpolar": [
           {
            "marker": {
             "colorbar": {
              "outlinewidth": 0,
              "ticks": ""
             }
            },
            "type": "scatterpolar"
           }
          ],
          "scatterpolargl": [
           {
            "marker": {
             "colorbar": {
              "outlinewidth": 0,
              "ticks": ""
             }
            },
            "type": "scatterpolargl"
           }
          ],
          "scatterternary": [
           {
            "marker": {
             "colorbar": {
              "outlinewidth": 0,
              "ticks": ""
             }
            },
            "type": "scatterternary"
           }
          ],
          "surface": [
           {
            "colorbar": {
             "outlinewidth": 0,
             "ticks": ""
            },
            "colorscale": [
             [
              0,
              "#0d0887"
             ],
             [
              0.1111111111111111,
              "#46039f"
             ],
             [
              0.2222222222222222,
              "#7201a8"
             ],
             [
              0.3333333333333333,
              "#9c179e"
             ],
             [
              0.4444444444444444,
              "#bd3786"
             ],
             [
              0.5555555555555556,
              "#d8576b"
             ],
             [
              0.6666666666666666,
              "#ed7953"
             ],
             [
              0.7777777777777778,
              "#fb9f3a"
             ],
             [
              0.8888888888888888,
              "#fdca26"
             ],
             [
              1,
              "#f0f921"
             ]
            ],
            "type": "surface"
           }
          ],
          "table": [
           {
            "cells": {
             "fill": {
              "color": "#EBF0F8"
             },
             "line": {
              "color": "white"
             }
            },
            "header": {
             "fill": {
              "color": "#C8D4E3"
             },
             "line": {
              "color": "white"
             }
            },
            "type": "table"
           }
          ]
         },
         "layout": {
          "annotationdefaults": {
           "arrowcolor": "#2a3f5f",
           "arrowhead": 0,
           "arrowwidth": 1
          },
          "autotypenumbers": "strict",
          "coloraxis": {
           "colorbar": {
            "outlinewidth": 0,
            "ticks": ""
           }
          },
          "colorscale": {
           "diverging": [
            [
             0,
             "#8e0152"
            ],
            [
             0.1,
             "#c51b7d"
            ],
            [
             0.2,
             "#de77ae"
            ],
            [
             0.3,
             "#f1b6da"
            ],
            [
             0.4,
             "#fde0ef"
            ],
            [
             0.5,
             "#f7f7f7"
            ],
            [
             0.6,
             "#e6f5d0"
            ],
            [
             0.7,
             "#b8e186"
            ],
            [
             0.8,
             "#7fbc41"
            ],
            [
             0.9,
             "#4d9221"
            ],
            [
             1,
             "#276419"
            ]
           ],
           "sequential": [
            [
             0,
             "#0d0887"
            ],
            [
             0.1111111111111111,
             "#46039f"
            ],
            [
             0.2222222222222222,
             "#7201a8"
            ],
            [
             0.3333333333333333,
             "#9c179e"
            ],
            [
             0.4444444444444444,
             "#bd3786"
            ],
            [
             0.5555555555555556,
             "#d8576b"
            ],
            [
             0.6666666666666666,
             "#ed7953"
            ],
            [
             0.7777777777777778,
             "#fb9f3a"
            ],
            [
             0.8888888888888888,
             "#fdca26"
            ],
            [
             1,
             "#f0f921"
            ]
           ],
           "sequentialminus": [
            [
             0,
             "#0d0887"
            ],
            [
             0.1111111111111111,
             "#46039f"
            ],
            [
             0.2222222222222222,
             "#7201a8"
            ],
            [
             0.3333333333333333,
             "#9c179e"
            ],
            [
             0.4444444444444444,
             "#bd3786"
            ],
            [
             0.5555555555555556,
             "#d8576b"
            ],
            [
             0.6666666666666666,
             "#ed7953"
            ],
            [
             0.7777777777777778,
             "#fb9f3a"
            ],
            [
             0.8888888888888888,
             "#fdca26"
            ],
            [
             1,
             "#f0f921"
            ]
           ]
          },
          "colorway": [
           "#636efa",
           "#EF553B",
           "#00cc96",
           "#ab63fa",
           "#FFA15A",
           "#19d3f3",
           "#FF6692",
           "#B6E880",
           "#FF97FF",
           "#FECB52"
          ],
          "font": {
           "color": "#2a3f5f"
          },
          "geo": {
           "bgcolor": "white",
           "lakecolor": "white",
           "landcolor": "white",
           "showlakes": true,
           "showland": true,
           "subunitcolor": "#C8D4E3"
          },
          "hoverlabel": {
           "align": "left"
          },
          "hovermode": "closest",
          "mapbox": {
           "style": "light"
          },
          "paper_bgcolor": "white",
          "plot_bgcolor": "white",
          "polar": {
           "angularaxis": {
            "gridcolor": "#EBF0F8",
            "linecolor": "#EBF0F8",
            "ticks": ""
           },
           "bgcolor": "white",
           "radialaxis": {
            "gridcolor": "#EBF0F8",
            "linecolor": "#EBF0F8",
            "ticks": ""
           }
          },
          "scene": {
           "xaxis": {
            "backgroundcolor": "white",
            "gridcolor": "#DFE8F3",
            "gridwidth": 2,
            "linecolor": "#EBF0F8",
            "showbackground": true,
            "ticks": "",
            "zerolinecolor": "#EBF0F8"
           },
           "yaxis": {
            "backgroundcolor": "white",
            "gridcolor": "#DFE8F3",
            "gridwidth": 2,
            "linecolor": "#EBF0F8",
            "showbackground": true,
            "ticks": "",
            "zerolinecolor": "#EBF0F8"
           },
           "zaxis": {
            "backgroundcolor": "white",
            "gridcolor": "#DFE8F3",
            "gridwidth": 2,
            "linecolor": "#EBF0F8",
            "showbackground": true,
            "ticks": "",
            "zerolinecolor": "#EBF0F8"
           }
          },
          "shapedefaults": {
           "line": {
            "color": "#2a3f5f"
           }
          },
          "ternary": {
           "aaxis": {
            "gridcolor": "#DFE8F3",
            "linecolor": "#A2B1C6",
            "ticks": ""
           },
           "baxis": {
            "gridcolor": "#DFE8F3",
            "linecolor": "#A2B1C6",
            "ticks": ""
           },
           "bgcolor": "white",
           "caxis": {
            "gridcolor": "#DFE8F3",
            "linecolor": "#A2B1C6",
            "ticks": ""
           }
          },
          "title": {
           "x": 0.05
          },
          "xaxis": {
           "automargin": true,
           "gridcolor": "#EBF0F8",
           "linecolor": "#EBF0F8",
           "ticks": "",
           "title": {
            "standoff": 15
           },
           "zerolinecolor": "#EBF0F8",
           "zerolinewidth": 2
          },
          "yaxis": {
           "automargin": true,
           "gridcolor": "#EBF0F8",
           "linecolor": "#EBF0F8",
           "ticks": "",
           "title": {
            "standoff": 15
           },
           "zerolinecolor": "#EBF0F8",
           "zerolinewidth": 2
          }
         }
        },
        "title": {
         "text": "ACF teórica AR(1): (1 - 0.4B) X_t = Z_t  (φ=0.4)"
        },
        "width": 800,
        "xaxis": {
         "title": {
          "text": "Rezago k"
         }
        },
        "yaxis": {
         "title": {
          "text": "ρ_k"
         }
        }
       }
      }
     },
     "metadata": {},
     "output_type": "display_data"
    }
   ],
   "source": [
    "\n",
    "# Ejemplo\n",
    "# AR(1) con tu notación:  X_t - φ X_{t-1} = Z_t, φ = 0.4\n",
    "phis = [0.9,-0.2]\n",
    "lags, rho = acf_ar_negative(phis, m=24)\n",
    "fig = plot_acf_stem_plotly(lags, rho,\n",
    "       title=\"ACF teórica AR(1): (1 - 0.4B) X_t = Z_t  (φ=0.4)\",\n",
    "       n_for_ci=600)  # banda opcional estilo ±1.96/√N\n",
    "fig.show()\n"
   ]
  }
 ],
 "metadata": {
  "kernelspec": {
   "display_name": "Python 3",
   "language": "python",
   "name": "python3"
  },
  "language_info": {
   "codemirror_mode": {
    "name": "ipython",
    "version": 3
   },
   "file_extension": ".py",
   "mimetype": "text/x-python",
   "name": "python",
   "nbconvert_exporter": "python",
   "pygments_lexer": "ipython3",
   "version": "3.13.3"
  }
 },
 "nbformat": 4,
 "nbformat_minor": 5
}
