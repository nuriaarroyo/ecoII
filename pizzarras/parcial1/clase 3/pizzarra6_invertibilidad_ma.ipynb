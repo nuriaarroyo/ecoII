{
 "cells": [
  {
   "cell_type": "markdown",
   "id": "ae1efeb5",
   "metadata": {},
   "source": [
    "# ***Función de autocovarianza y autocorrelación del proceso AR(2)***"
   ]
  },
  {
   "cell_type": "markdown",
   "id": "b3f2a1d1",
   "metadata": {},
   "source": [
    "### Calculemos la función de autocovarianza y autocorrelación del proceso AR(2)\n",
    "\n",
    "$$\n",
    "\\gamma_X(h) = \\text{Cov}(\\tilde{X}_t, \\tilde{X}_{t+h}) = \\mathbb{E}(\\tilde{X}_t \\tilde{X}_{t+h}) - \\mathbb{E}(\\tilde{X}_t) \\, \\mathbb{E}(\\tilde{X}_{t+h})\n",
    "$$\n"
   ]
  },
  {
   "cell_type": "markdown",
   "id": "9fa011bf",
   "metadata": {},
   "source": [
    "Además, sabemos que:\n",
    "\n",
    "$$\n",
    "\\mathbb{E}(\\tilde{X}_t) = \\mathbb{E}(X_t - \\mu) = \\mathbb{E}(X_t) - \\mu = 0\n",
    "$$\n",
    "\n",
    "Por lo tanto,\n",
    "\n",
    "$$\n",
    "\\gamma_X(h) = \\mathbb{E}(\\tilde{X}_t \\tilde{X}_{t+h})\n",
    "$$\n",
    "\n"
   ]
  },
  {
   "cell_type": "markdown",
   "id": "467111d5",
   "metadata": {},
   "source": [
    "\n",
    "\n",
    "$$\n",
    "\\tilde{X}_{t+h} = \\phi_1 \\tilde{X}_{t+h-1} + \\phi_2 \\tilde{X}_{t+h-2} + Z_{t+h}\n",
    "$$\n",
    "\n",
    "Entonces:\n",
    "\n",
    "$$\n",
    "\\tilde{X}_t \\tilde{X}_{t+h} = \\phi_1 \\tilde{X}_t \\tilde{X}_{t+h-1}\n",
    "+ \\phi_2 \\tilde{X}_t \\tilde{X}_{t+h-2}\n",
    "+ \\tilde{X}_t Z_{t+h}\n",
    "$$\n",
    "\n"
   ]
  },
  {
   "cell_type": "markdown",
   "id": "f0a45db7",
   "metadata": {},
   "source": [
    "\n",
    "\n",
    "> **Recordemos** que el proceso AR(2) considerado es:\n",
    ">\n",
    ">$$\n",
    ">(1 - \\phi_1 B - \\phi_2 B^2)\\tilde{X}_t = Z_t\n",
    ">$$\n",
    ">\n",
    ">$$\n",
    ">\\tilde{X}_t = X_t - \\mu\n",
    ">$$\n",
    ">\n",
    ">$$\n",
    ">\\tilde{X}_t - \\phi_1 \\tilde{X}_{t-1} - \\phi_2 \\tilde{X}_{t-2} = Z_t\n",
    ">$$\n",
    ">\n"
   ]
  },
  {
   "cell_type": "markdown",
   "id": "53f704da",
   "metadata": {},
   "source": [
    "\n",
    "\n",
    "### Ahora evaluamos:\n",
    "\n",
    "$$\n",
    "\\mathbb{E}(\\tilde{X}_t \\tilde{X}_{t+h}) =\n",
    "\\phi_1 \\mathbb{E}(\\tilde{X}_t \\tilde{X}_{t+h-1}) +\n",
    "\\phi_2 \\mathbb{E}(\\tilde{X}_t \\tilde{X}_{t+h-2}) +\n",
    "\\mathbb{E}(\\tilde{X}_t Z_{t+h})\n",
    "$$\n"
   ]
  },
  {
   "cell_type": "markdown",
   "id": "3e627fde",
   "metadata": {},
   "source": [
    "\n",
    "Si $h = 0$:\n",
    "\n",
    "$$\n",
    "\\gamma_X(0) =\n",
    "\\phi_1 \\mathbb{E}(\\tilde{X}_t \\tilde{X}_{t-1}) +\n",
    "\\phi_2 \\mathbb{E}(\\tilde{X}_t \\tilde{X}_{t-2}) +\n",
    "\\mathbb{E}(\\tilde{X}_t Z_t)\n",
    "$$\n",
    "\n",
    "\n",
    "$$\n",
    "\\mathbb{E}(\\tilde{X}_t Z_t) =\n",
    "\\phi_1 \\mathbb{E}(\\tilde{X}_{t-1} Z_t) +\n",
    "\\phi_2 \\mathbb{E}(\\tilde{X}_{t-2} Z_t) +\n",
    "\\mathbb{E}(Z_t^2)\n",
    "$$\n",
    "\n",
    "Como $Z_t$ es ruido blanco e independiente de $\\tilde{X}_{t-1}$ y $\\tilde{X}_{t-2}$:\n",
    "\n",
    "$$\n",
    "\\mathbb{E}(\\tilde{X}_{t-1} Z_t) = 0,\\quad\n",
    "\\mathbb{E}(\\tilde{X}_{t-2} Z_t) = 0,\\quad\n",
    "\\mathbb{E}(Z_t^2) = \\sigma_Z^2\n",
    "$$\n",
    "\n"
   ]
  },
  {
   "cell_type": "markdown",
   "id": "9f4ab134",
   "metadata": {},
   "source": [
    "\n",
    "\n",
    "Entonces:\n",
    "\n",
    "$$\n",
    "\\text{Var}(Z_t) = \\sigma_Z^2 = \\mathbb{E}(Z_t^2) - \\mathbb{E}(Z_t)^2\n",
    "$$\n",
    "\n"
   ]
  },
  {
   "cell_type": "markdown",
   "id": "c98f343b",
   "metadata": {},
   "source": [
    "\n",
    "\n",
    "Por lo tanto:\n",
    "\n",
    "$$\n",
    "\\gamma_X(0) = \\phi_1 \\gamma_X(1) + \\phi_2 \\gamma_X(2) + \\sigma_Z^2\n",
    "$$\n",
    "\n"
   ]
  },
  {
   "cell_type": "markdown",
   "id": "aa16d595",
   "metadata": {},
   "source": [
    "Si $|h| > 0$:\n",
    "\n",
    "$$\n",
    "\\gamma_X(h) = \\phi_1 \\gamma_X(h-1) + \\phi_2 \\gamma_X(h-2)\n",
    "$$\n",
    "\n",
    "\n",
    "Por lo tanto:\n",
    "\n",
    "$$\n",
    "\\gamma_X(h) =\n",
    "\\begin{cases}\n",
    "\\phi_1 \\gamma_X(1) + \\phi_2 \\gamma_X(2) + \\sigma_Z^2 & \\text{si } h = 0 \\\\\n",
    "\\phi_1 \\gamma_X(h-1) + \\phi_2 \\gamma_X(h-2) & \\text{si } |h| > 0\n",
    "\\end{cases}\n",
    "$$"
   ]
  },
  {
   "cell_type": "markdown",
   "metadata": {},
   "source": [
    "### Ahora calculemos la FAC teórica del proceso AR(2)\n",
    "\n",
    "$$\n",
    "\\rho_X(h) = \\frac{\\gamma_X(h)}{\\gamma_X(0)}\n",
    "$$\n"
   ]
  },
  {
   "cell_type": "markdown",
   "id": "1e4f0d8a",
   "metadata": {},
   "source": [
    "\n",
    "$$\n",
    "\\rho_X(1) = \\rho_1 = \\frac{\\gamma_X(1)}{\\gamma_X(0)} =\n",
    "\\frac{\\phi_1 \\gamma_X(0) + \\phi_2 \\gamma_X(1)}{\\gamma_X(0)} =\n",
    "\\phi_1 + \\phi_2 \\frac{\\gamma_X(1)}{\\gamma_X(0)} =\n",
    "\\phi_1 + \\phi_2 \\rho_1\n",
    "$$\n",
    "\n",
    "Entonces:\n",
    "\n",
    "$$\n",
    "\\rho_1 = \\phi_1 + \\phi_2 \\rho_1\n",
    "\\Rightarrow\n",
    "\\rho_1 = \\frac{\\phi_1}{1 - \\phi_2}\n",
    "\\tag*{\\color{red}\\{ \\}}\n",
    "$$\n",
    "\n"
   ]
  },
  {
   "cell_type": "markdown",
   "id": "5c9012dc",
   "metadata": {},
   "source": [
    "\n",
    "Por otra parte,\n",
    "\n",
    "$$\n",
    "\\rho_X(2) = \\rho_2 = \\frac{\\gamma_X(2)}{\\gamma_X(0)} =\n",
    "\\phi_1 \\frac{\\gamma_X(1)}{\\gamma_X(0)} + \\phi_2 =\n",
    "\\phi_1 \\rho_1 + \\phi_2\n",
    "$$\n",
    "\n",
    "Es decir:\n",
    "\n",
    "$$\n",
    "\\rho_2 = \\phi_1 \\rho_1 + \\phi_2\n",
    "\\tag*{\\color{red}\\{ \\}}\n",
    "$$"
   ]
  },
  {
   "cell_type": "markdown",
   "id": "1c989869",
   "metadata": {},
   "source": [
    "\n",
    "\n",
    "###  En general:\n",
    "\n",
    "$$\n",
    "\\rho_k = \\phi_1 \\rho_{k-1} + \\phi_2 \\rho_{k-2}, \\quad \\text{para } k \\geq 3\n",
    "$$\n"
   ]
  },
  {
   "cell_type": "markdown",
   "metadata": {},
   "source": [
    "### Considere el proceso AR(2) del ejemplo anterior, es decir:\n",
    "\n",
    "$$\n",
    "(1 - 0.9B + 0.2B^2) X_t = Z_t \\quad ; \\quad \\{Z_t\\} \\sim \\text{wn}(0, \\sigma_Z^2)\n",
    "$$\n",
    "\n",
    "Donde:\n",
    "\n",
    "$$\n",
    "\\phi_1 = 0.9 \\quad ; \\quad \\phi_2 = -0.2\n",
    "$$\n",
    "\n"
   ]
  },
  {
   "cell_type": "markdown",
   "id": "eecca35e",
   "metadata": {},
   "source": [
    "\n",
    "\n",
    "### Calculemos las 3 primeras autocorrelaciones para este proceso: ($\\rho_1, \\rho_2, \\rho_3$)\n",
    "\n",
    "$$\n",
    "\\rho_1 = \\frac{\\phi_1}{1 - \\phi_2} = \\frac{0.9}{1 + 0.2} = 0.75\n",
    "$$\n",
    "\n",
    "$$\n",
    "\\rho_2 = (0.9)\\rho_1 + (-0.2) = 0.675 - 0.2 = 0.475\n",
    "$$\n",
    "\n",
    "$$\n",
    "\\rho_3 = 0.9 \\rho_2 + (-0.2)\\rho_1 = 0.9(0.475) - 0.2(0.75) = 0.2775\n",
    "$$\n",
    "\n"
   ]
  },
  {
   "cell_type": "markdown",
   "id": "73fa1673",
   "metadata": {},
   "source": [
    "\n",
    "\n",
    "###  Gráfica de la FAC teórica del proceso AR(2)  \n",
    "_(1 - 0.9B + 0.2B²)Xₜ = Zₜ_\n",
    "\n"
   ]
  },
  {
   "attachments": {
    "image.png": {
     "image/png": "[encoded data removed]"
    }
   },
   "cell_type": "markdown",
   "id": "1a65e95d",
   "metadata": {},
   "source": [
    "\n",
    "![image.png](attachment:image.png)"
   ]
  }
 ],
 "metadata": {
  "language_info": {
   "name": "python"
  }
 },
 "nbformat": 4,
 "nbformat_minor": 5
}
