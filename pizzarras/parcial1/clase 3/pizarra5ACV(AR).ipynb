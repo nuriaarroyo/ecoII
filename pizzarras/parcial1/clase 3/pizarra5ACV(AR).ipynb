{
 "cells": [
  {
   "cell_type": "markdown",
   "id": "a5aee8a3",
   "metadata": {},
   "source": [
    "# ***Invertibilidad en los procesos MA***"
   ]
  },
  {
   "cell_type": "markdown",
   "id": "d69064f2",
   "metadata": {},
   "source": [
    "### Considere los siguientes procesos MA(1):\n",
    "\n",
    "$$\n",
    "X_t = (1 - 5B)Z_t \\quad \\text{con } \\sigma_Z^2 = 1 \\quad ; \\quad Z_t \\sim \\text{wn}(0, \\sigma_Z^2)\n",
    "$$\n",
    "\n",
    "$$\n",
    "Y_t = (1 - \\frac{1}{5}B)W_t \\quad \\text{con } \\sigma_W^2 = 25 \\quad ; \\quad W_t \\sim \\text{wn}(0, \\sigma_W^2)\n",
    "$$\n"
   ]
  },
  {
   "cell_type": "markdown",
   "id": "fd396c48",
   "metadata": {},
   "source": [
    "\n",
    "\n",
    "### Calculemos las funciones de autocovarianza para $X_t$ y $Y_t$:\n",
    "\n",
    "$$\n",
    "\\gamma_X(h) =\n",
    "\\begin{cases}\n",
    "-5 & \\text{si } h = \\pm 1 \\\\\n",
    "0 & \\text{si } |h| \\geq 2\n",
    "\\end{cases}\n",
    "$$\n",
    "\n",
    "$$\n",
    "\\gamma_Y(h) =\n",
    "\\begin{cases}\n",
    "-5 & \\text{si } h = \\pm 1 \\\\\n",
    "0 & \\text{si } |h| \\geq 2\n",
    "\\end{cases}\n",
    "$$\n"
   ]
  },
  {
   "cell_type": "markdown",
   "id": "ddab1e8c",
   "metadata": {},
   "source": [
    "\n",
    "\n",
    "Por lo tanto, $X_t$ y $Y_t$ tienen la misma función de autocovarianza,  \n",
    "y esto implica que **tienen la misma distribución**.\n",
    "\n",
    "---\n",
    "\n",
    "**Sin embargo, sólo $Y_t$ será invertible.**\n"
   ]
  },
  {
   "cell_type": "markdown",
   "id": "bbb1d746",
   "metadata": {},
   "source": [
    "### Desarrollo de invertibilidad para el proceso MA(1)\n",
    "\n",
    "$$\n",
    "Y_t = (1 - \\tfrac{1}{5}B)W_t\n",
    "$$\n",
    "\n",
    "Desarrollamos:\n",
    "\n",
    "$$\n",
    "Y_t = W_t - \\tfrac{1}{5}W_{t-1} \\\\\n",
    "W_t = Y_t + \\tfrac{1}{5}W_{t-1}\n",
    "$$\n",
    "\n",
    "Sustituimos recursivamente:\n",
    "\n",
    "$$\n",
    "W_t = Y_t + \\tfrac{1}{5}(Y_{t-1} + \\tfrac{1}{5}W_{t-2}) \\\\\n",
    "W_t = Y_t + \\tfrac{1}{5}Y_{t-1} + \\left(\\tfrac{1}{5}\\right)^2 W_{t-2} \\\\\n",
    "W_t = Y_t + \\tfrac{1}{5}Y_{t-1} + \\left(\\tfrac{1}{5}\\right)^2(Y_{t-2} + \\tfrac{1}{5}W_{t-3})\n",
    "$$\n",
    "\n",
    "Supongamos que:\n",
    "\n",
    "$$\n",
    "\\tfrac{1}{5} = \\theta\n",
    "$$\n",
    "\n",
    "Entonces:\n",
    "\n",
    "$$\n",
    "W_t = Y_t + \\theta Y_{t-1} + \\theta^2 Y_{t-2} + \\cdots = \\sum_{j=0}^\\infty \\theta^j Y_{t-j}\n",
    "$$\n",
    "\n"
   ]
  },
  {
   "cell_type": "markdown",
   "id": "25bb3ba7",
   "metadata": {},
   "source": [
    "\n",
    "\n",
    "Con $\\theta = \\tfrac{1}{5}$ y $|\\theta| < 1$, el límite existe:\n",
    "\n",
    "$$\n",
    "W_t = \\sum_{j=0}^{\\infty} \\theta^j Y_{t-j} \\quad \\text{(AR($\\infty$))}\n",
    "$$\n",
    "\n"
   ]
  },
  {
   "cell_type": "markdown",
   "id": "85d57701",
   "metadata": {},
   "source": [
    "\n",
    "Esto es:\n",
    "\n",
    "$$\n",
    "W_t = \\eta(B) Y_t \\quad \\text{donde } \\eta(B) = \\sum_{j=0}^{\\infty} \\eta_j B^j\n",
    "$$\n",
    "\n",
    "con:\n",
    "\n",
    "$$\n",
    "\\eta_j = \\theta^j\n",
    "$$\n"
   ]
  },
  {
   "cell_type": "markdown",
   "id": "e3141940",
   "metadata": {},
   "source": [
    "\n",
    "Suponga que existe $\\eta^{-1}(B)$, entonces\n",
    "\n",
    "$$\n",
    "\\theta^{-1}(B) Y_t = W_t\n",
    "$$\n",
    "\n",
    "Entonces:\n",
    "\n",
    "$$\n",
    "\\sum_{j=0}^{\\infty} \\theta^j Y_{t-j} = \\eta(B) Y_t = \\theta^{-1}(B) Y_t\n",
    "$$\n",
    "\n",
    "Entonces:\n",
    "\n",
    "$$\n",
    "\\eta(B) = \\theta^{-1}(B)\n",
    "$$\n",
    "\n",
    "\n",
    "Por lo tanto:\n",
    "\n",
    "$$\n",
    "\\theta^{-1}(B) = \\sum_{j=0}^{\\infty} \\theta^j B^j = 1 + \\theta B + \\theta^2 B^2 + \\theta^3 B^3 + \\cdots\n",
    "$$\n",
    "\n"
   ]
  }
 ],
 "metadata": {
  "language_info": {
   "name": "python"
  }
 },
 "nbformat": 4,
 "nbformat_minor": 5
}
