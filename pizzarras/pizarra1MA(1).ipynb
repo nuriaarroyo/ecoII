{
 "cells": [
  {
   "cell_type": "markdown",
   "id": "69b0570c",
   "metadata": {},
   "source": [
    "# ***Proceso media móvil de orden 1 (MA(1))***\n",
    "\n",
    "Considere un proceso MA(1):\n",
    "\n",
    "$$\n",
    "\\tilde{X}_t = (1 - \\Theta B)\\Z_t \\quad ; \\quad \\{\\Z_t\\} \\sim \\text{N}(0, \\sigma^2)\n",
    "$$\n",
    "\n",
    "$$\n",
    "\\tilde{X}_t = X_t - \\mu\n",
    "$$\n",
    "\n",
    "Sin pérdida de generalidad, suponga que $\\mu = 0$:\n",
    "\n",
    "$$\n",
    "X_t = (1 - \\Theta B)\\Z_t\n",
    "$$\n",
    "\n",
    "$$\n",
    "X_t = \\Z_t - \\Theta \\Z_{t-1}\n",
    "$$\n",
    "---\n",
    "**Recuerde**:\n",
    "\n",
    "$$\n",
    "\\mathrm{Var}(X) = \\mathrm{Var}(-X)\n",
    "$$\n"
   ]
  },
  {
   "cell_type": "markdown",
   "id": "3e899140",
   "metadata": {},
   "source": [
    "i) \n",
    "$$\n",
    "\\mu_X(t) = \\mathbb{E}(X_t) = \\mathbb{E}(\\varepsilon_t - \\Theta \\varepsilon_{t-1}) = 0\n",
    "$$\n",
    "\n",
    "ii) \n",
    "$$\n",
    "\\mathrm{Var}(X_t) = \\mathrm{Var}(\\varepsilon_t - \\Theta \\varepsilon_{t-1}) = \\mathrm{Var}(\\varepsilon_t) + \\Theta^2 \\, \\mathrm{Var}(\\varepsilon_{t-1})\n",
    "$$\n",
    "$$\n",
    "= \\sigma_{\\varepsilon}^2 + \\Theta^2 \\sigma_{\\varepsilon}^2 = (1 + \\Theta^2)\\sigma_{\\varepsilon}^2\n",
    "$$\n",
    "iii) \n",
    "$$\n",
    "\\gamma_X(t+h, t) = \\mathrm{Cov}(X_{t+h}, X_t)\n",
    "$$\n",
    "---"
   ]
  },
  {
   "cell_type": "markdown",
   "id": "a2932d32",
   "metadata": {},
   "source": [
    "### Calculemos la función de autocovarianza del proceso MA(1)."
   ]
  },
  {
   "cell_type": "markdown",
   "id": "2ba94a10",
   "metadata": {},
   "source": [
    "**Caso 1: $h = 1$ o $h = -1$**\n",
    "\n",
    "$$\n",
    "\\gamma_X(t+1, t) = \\mathrm{Cov}(X_{t+1}, X_t) = \\mathrm{Cov}(Z_{t+1} - \\Theta Z_t,\\; Z_t - \\Theta Z_{t-1})\n",
    "$$\n",
    "\n",
    "$$\n",
    "= \\mathrm{Cov}(Z_{t+1}, Z_t - \\Theta Z_{t-1}) - \\Theta\\, \\mathrm{Cov}(Z_t, Z_t - \\Theta Z_{t-1})\n",
    "$$\n",
    "\n",
    "$$\n",
    "= \\mathrm{Cov}(Z_{t+1}, Z_t) - \\Theta\\, \\mathrm{Cov}(Z_{t+1}, Z_{t-1}) - \\Theta \\left[ \\mathrm{Cov}(Z_t, Z_t) - \\Theta\\, \\mathrm{Cov}(Z_t, Z_{t-1}) \\right]\n",
    "$$\n",
    "\n",
    "Como las variables de ruido blanco son no correlacionadas salvo cuando los tiempos coinciden:\n",
    "\n",
    "- $\\mathrm{Cov}(Z_{t+1}, Z_t) = 0$\n",
    "- $\\mathrm{Cov}(Z_{t+1}, Z_{t-1}) = 0$\n",
    "- $\\mathrm{Cov}(Z_t, Z_t) = \\mathrm{Var}(Z_t) = \\sigma_{Z}^2$\n",
    "- $\\mathrm{Cov}(Z_t, Z_{t-1}) = 0$\n",
    "\n",
    "Entonces:\n",
    "\n",
    "$$\n",
    "\\gamma_X(t+1, t) = -\\Theta \\sigma_{Z}^2\n",
    "$$\n"
   ]
  },
  {
   "cell_type": "markdown",
   "id": "883107bc",
   "metadata": {},
   "source": [
    "**Caso 2: $|h| > 1$**\n",
    "\n",
    "\n",
    "\n",
    "$$\n",
    "\\gamma_X(t+h, t) = \\mathrm{Cov}(X_{t+h}, X_t)\n",
    "$$\n",
    "\n",
    "Las variables de ruido blanco $\\{Z_t\\}$ son no correlacionadas salvo cuando los tiempos coinciden, por lo tanto, todos los términos de covarianza serán cero:\n",
    "\n",
    "$$\n",
    "\\gamma_X(t+h, t) = 0 \\quad \\text{para} \\quad |h| > 1\n",
    "$$"
   ]
  },
  {
   "cell_type": "markdown",
   "id": "b6b54381",
   "metadata": {},
   "source": [
    "Por lo tanto,\n",
    "\n",
    "$$\n",
    "\\gamma_X(t+h, t) =\n",
    "\\begin{cases}\n",
    "(1 + \\Theta^2)\\, \\sigma_{\\varepsilon}^2 & \\text{si } h = 0 \\\\\n",
    "-\\Theta\\, \\sigma_{\\varepsilon}^2 & \\text{si } h = 1 \\text{ o } h = -1 \\\\\n",
    "0 & \\text{si } |h| > 1\n",
    "\\end{cases}\n",
    "$$\n",
    "\n",
    "Por lo tanto, $\\{\\tilde{X}_t\\}$ —el proceso MA(1)— es estacionario.\n",
    "\n",
    "---\n"
   ]
  },
  {
   "cell_type": "markdown",
   "id": "710bab46",
   "metadata": {},
   "source": [
    "### Calculemos la función de autocorrelación del proceso MA(1)."
   ]
  },
  {
   "cell_type": "markdown",
   "id": "a798a6e5",
   "metadata": {},
   "source": [
    "*Definición*\n",
    "\n",
    "*La función de autocorrelación (ACF) de $\\{X_t\\}$ en el desplazamiento $h$ es:*\n",
    "\n",
    "$$\n",
    "\\rho_X(h) \\equiv \\frac{\\gamma_X(h)}{\\gamma_X(0)} = \\mathrm{Cor}(X_{t+h}, X_t)\n",
    "\\tag{9}\n",
    "$$\n"
   ]
  },
  {
   "cell_type": "markdown",
   "id": "12ba570b",
   "metadata": {},
   "source": [
    "Para el proceso MA(1), ya sabemos que:\n",
    "\n",
    "- $\\gamma_X(0) = (1 + \\Theta^2)\\sigma_Z^2$\n",
    "- $\\gamma_X(1) = \\gamma_X(-1) = -\\Theta \\sigma_Z^2$\n",
    "- $\\gamma_X(h) = 0$ si $|h| > 1$\n",
    "\n",
    "Entonces:\n",
    "\n",
    "$$\n",
    "\\rho_X(h) = \n",
    "\\begin{cases}\n",
    "1 & \\text{si } h = 0 \\\\\n",
    "\\frac{-\\Theta}{1 + \\Theta^2} & \\text{si } |h| = 1 \\\\\n",
    "0 & \\text{si } |h| > 1\n",
    "\\end{cases}\n",
    "$$"
   ]
  }
 ],
 "metadata": {
  "language_info": {
   "name": "python"
  }
 },
 "nbformat": 4,
 "nbformat_minor": 5
}
