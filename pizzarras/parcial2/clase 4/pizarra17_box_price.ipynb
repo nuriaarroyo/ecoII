{
 "cells": [
  {
   "cell_type": "markdown",
   "id": "02ab0be3",
   "metadata": {},
   "source": [
    "# ***Pruebas de independencia (Box-Pierce y Ljung-Box)***"
   ]
  },
  {
   "cell_type": "markdown",
   "id": "0443627d",
   "metadata": {},
   "source": [
    "**Teorema de Bartlett (1946):**\n",
    "\n",
    "Si $\\{\\alpha_t\\}$ es un **ruido blanco**, entonces las autocorrelaciones muestrales $\\hat{\\rho}_k$, para $k = 1, 2, \\dots$ cumplen:\n",
    "\n",
    "1. $\\hat{\\rho}_k$ son **independientes**\n",
    "\n",
    "2. $\\hat{\\rho}_k \\sim \\mathcal{N}(0, 1/T)$ para $T$ suficientemente grande  \n",
    "   ($T$ es el tamaño de la serie)\n",
    "\n",
    "\n",
    "\n",
    ">**Nota:**  \n",
    ">$$\n",
    ">\\hat{\\rho}_k = \\hat{Corr}(\\alpha_t, \\alpha_{t-k}) \\quad \\text{para } k = 1, 2, \\dots\n",
    ">$$\n",
    "\n",
    "---\n"
   ]
  },
  {
   "cell_type": "markdown",
   "id": "2c6712ac",
   "metadata": {},
   "source": [
    "\n",
    "**Prueba de Box–Pierce**\n",
    "\n",
    "Bajo $H_0$, si $\\{\\alpha_t\\} \\sim \\text{WN}(0, \\sigma_\\alpha^2)$:\n",
    "\n",
    "$$\n",
    "\\hat{\\rho}_k \\sim \\mathcal{N}(0, 1/T)\n",
    "$$\n",
    "\n",
    "Entonces:\n",
    "\n",
    "$$\n",
    "\\sqrt{T} \\, \\hat{\\rho}_k \\sim \\mathcal{N}(0,1)\n",
    "\\quad \\Rightarrow \\quad\n",
    "(\\sqrt{T} \\, \\hat{\\rho}_k)^2 \\sim \\chi^2_1\n",
    "$$\n"
   ]
  },
  {
   "cell_type": "markdown",
   "id": "13ad0931",
   "metadata": {},
   "source": [
    "\n",
    "\n",
    "Por lo tanto, el **estadístico de Box–Pierce** es:\n",
    "\n",
    "$$\n",
    "Q = T \\sum_{k=1}^{m} \\hat{\\rho}_k^2 \\sim \\chi^2_m\n",
    "$$\n",
    "\n",
    "donde $m$ es el número de retrasos que se desea evaluar.\n"
   ]
  },
  {
   "cell_type": "markdown",
   "id": "2dd90498",
   "metadata": {},
   "source": [
    "\n",
    "\n",
    "**Planteamiento de hipótesis:**\n",
    "\n",
    "- $H_0$: $\\{\\alpha_t\\} \\sim \\text{WN}(0, \\sigma_\\alpha^2)$  \n",
    "  ⇔ $\\hat{\\rho}_k = 0$ ∀ $k$\n",
    "\n",
    "- $H_1$: $\\exists \\, k$ tal que $\\hat{\\rho}_k \\ne 0$\n"
   ]
  },
  {
   "cell_type": "markdown",
   "id": "fe5427a5",
   "metadata": {},
   "source": [
    "**Estadístico de Ljung–Box**\n",
    "\n",
    "**Ljung–Box modifican el estadístico** $Q$ para mejorar la aproximación en muestras pequeñas.\n",
    "\n",
    "El estadístico de Ljung–Box es:\n",
    "\n",
    "$$\n",
    "Q' = T(T + 2) \\sum_{k=1}^m \\frac{\\hat{\\rho}_k^2}{T - k}\n",
    "\\sim \\chi^2_m\n",
    "$$\n",
    "\n",
    "---\n",
    "\n",
    "**Cuando se tiene un proceso ARIMA(p, d, q)**\n",
    "\n",
    "Se tiene:\n",
    "\n",
    "$$\n",
    "Q = (N - d - p) \\sum_{k=1}^K \\hat{\\rho}_k^2(\\hat{\\alpha}) \\sim \\chi^2_{K - p - q}\n",
    "$$\n",
    "\n",
    "Donde $K$ es el número de retardos considerados, y se recomienda que sea grande ($K \\geq 20$).\n",
    "\n",
    "\n",
    "\n",
    "Además:\n",
    "\n",
    "$$\n",
    "Q' = (N - d - p)(N - d - p + 2) \\sum_{k=1}^K \\hat{\\rho}_k^2(\\hat{\\alpha}) \\big/ (N - d - p - k)\n",
    "$$\n",
    "\n",
    "---\n",
    "\n",
    "- $Q$ : Estadístico de **Box–Pierce**  \n",
    "- $Q'$ : Estadístico de **Ljung–Box**\n"
   ]
  }
 ],
 "metadata": {
  "language_info": {
   "name": "python"
  }
 },
 "nbformat": 4,
 "nbformat_minor": 5
}
