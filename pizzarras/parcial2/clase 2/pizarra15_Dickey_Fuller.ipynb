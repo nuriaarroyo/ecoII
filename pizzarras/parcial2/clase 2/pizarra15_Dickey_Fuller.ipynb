{
 "cells": [
  {
   "cell_type": "markdown",
   "id": "3ad82882",
   "metadata": {},
   "source": [
    "# ***Proceso integrados y prueba de Dickey-Fuller***"
   ]
  },
  {
   "cell_type": "markdown",
   "id": "912d5057",
   "metadata": {},
   "source": [
    "**Considere una caminata aleatoria sin deriva:**\n",
    "\n",
    "$$\n",
    "S_t = S_{t-1} + \\alpha_t \\quad ; \\quad \\{\\alpha_t\\} \\sim \\text{WN}(0, \\sigma_{\\alpha}^2)\n",
    "$$\n",
    "\n",
    "Entonces se sabe que $S_t$ es un proceso **no estacionario**, sin embargo:\n",
    "\n",
    "$$\n",
    "W_t = S_t - S_{t-1} = \\alpha_t\n",
    "$$\n",
    "\n",
    "Entonces $W_t$ es un proceso **estacionario**.\n",
    "\n",
    "**Nota que:**  \n",
    "$$\n",
    "S_t - S_{t-1} = \\alpha_t = (1 - B) S_t\n",
    "$$\n",
    "\n"
   ]
  },
  {
   "cell_type": "markdown",
   "id": "f18da07d",
   "metadata": {},
   "source": [
    "\n",
    "\n",
    "**Un proceso $X_t$ que originalmente no es estacionario**  \n",
    "puede volverse estacionario mediante la aplicación del operador de diferencia de orden $d$, es decir:\n",
    "\n",
    "$$\n",
    "\\phi(B) X_t = \\theta(B) Z_t \\quad ; \\quad \\{Z_t\\} \\sim \\text{WN}(0, \\sigma_Z^2)\n",
    "$$\n",
    "\n",
    "Si definimos:\n",
    "\n",
    "$$\n",
    "W_t = \\nabla^d X_t\n",
    "$$\n",
    "\n",
    "Entonces:\n",
    "\n",
    "$$\n",
    "\\phi(B) W_t = \\theta(B) Z_t\n",
    "$$\n",
    "\n",
    "será **estacionario**.\n",
    "\n",
    "\n",
    "\n",
    "**Veremos una prueba de hipótesis para evaluar si la serie proviene de un proceso estacionario:**\n",
    "\n",
    "- **Prueba de raíz unitaria:** Dickey–Fuller  \n",
    "- **Dickey–Fuller aumentada**\n"
   ]
  },
  {
   "cell_type": "markdown",
   "id": "2b59e948",
   "metadata": {},
   "source": [
    "**Raecuerde**\n",
    "\n",
    "Supongamos un modelo:\n",
    "\n",
    "$$\n",
    "Y_t = \\rho Y_{t-1} + \\mu_t \\quad ; \\quad \\mu_t \\sim \\text{WN}(0, \\sigma_\\mu^2), \\quad -1 < \\rho < 1\n",
    "$$\n",
    "\n"
   ]
  },
  {
   "cell_type": "markdown",
   "id": "2694eddf",
   "metadata": {},
   "source": [
    "\n",
    "Si $\\rho = 1$, este proceso es de **raíz unitaria** y **no será estacionario**,  \n",
    "luego:\n",
    "\n",
    "$$\n",
    "Y_t - Y_{t-1} = \\rho Y_{t-1} - Y_{t-1} + \\mu_t\n",
    "$$\n",
    "\n",
    "$$\n",
    "\\nabla Y_t = (\\rho - 1) Y_{t-1} + \\mu_t\n",
    "$$\n"
   ]
  },
  {
   "cell_type": "markdown",
   "id": "0b5513af",
   "metadata": {},
   "source": [
    "\n",
    "\n",
    "$$\n",
    "\\nabla Y_t = d Y_{t-1} + \\mu_t \\quad ; \\quad d = \\rho - 1\n",
    "$$\n"
   ]
  },
  {
   "cell_type": "markdown",
   "id": "6877023c",
   "metadata": {},
   "source": [
    "\n",
    "\n",
    "**La prueba de raíz unitaria** evalúa la hipótesis:\n",
    "\n",
    "$$\n",
    "H_0: d = 0\n",
    "$$\n",
    "\n",
    "Es decir, la **hipótesis nula** plantea que el proceso **no es estacionario**.\n",
    "\n",
    "\n",
    "\n",
    "**a)** Dickey–Fuller proponen un estadístico de prueba con la **distribución tau ($\\tau$)**\n",
    "\n",
    "**b)** Dickey–Fuller Aumentada **no supone errores no correlacionados**\n"
   ]
  }
 ],
 "metadata": {
  "language_info": {
   "name": "python"
  }
 },
 "nbformat": 4,
 "nbformat_minor": 5
}
